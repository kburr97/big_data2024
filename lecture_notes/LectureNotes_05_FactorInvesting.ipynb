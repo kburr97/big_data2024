{
 "cells": [
  {
   "cell_type": "markdown",
   "metadata": {
    "slideshow": {
     "slide_type": "skip"
    },
    "toc": true
   },
   "source": [
    "<h1>Table of Contents<span class=\"tocSkip\"></span></h1>\n",
    "<div class=\"toc\"><ul class=\"toc-item\"><li><span><a href=\"#Objective\" data-toc-modified-id=\"Objective-1\"><span class=\"toc-item-num\">1&nbsp;&nbsp;</span>Objective</a></span></li><li><span><a href=\"#...-and-the-Cross-Section-of-Expected-Returns\" data-toc-modified-id=\"...-and-the-Cross-Section-of-Expected-Returns-2\"><span class=\"toc-item-num\">2&nbsp;&nbsp;</span>... and the Cross-Section of Expected Returns</a></span></li><li><span><a href=\"#Set-Up\" data-toc-modified-id=\"Set-Up-3\"><span class=\"toc-item-num\">3&nbsp;&nbsp;</span>Set Up</a></span></li><li><span><a href=\"#Download-Data\" data-toc-modified-id=\"Download-Data-4\"><span class=\"toc-item-num\">4&nbsp;&nbsp;</span>Download Data</a></span></li><li><span><a href=\"#Clean-Data\" data-toc-modified-id=\"Clean-Data-5\"><span class=\"toc-item-num\">5&nbsp;&nbsp;</span>Clean Data</a></span><ul class=\"toc-item\"><li><span><a href=\"#Share-type---select-only-common-stocks\" data-toc-modified-id=\"Share-type---select-only-common-stocks-5.1\"><span class=\"toc-item-num\">5.1&nbsp;&nbsp;</span>Share type - select only common stocks</a></span></li><li><span><a href=\"#Select-stocks-traded-on-the-major-stock-exchanges\" data-toc-modified-id=\"Select-stocks-traded-on-the-major-stock-exchanges-5.2\"><span class=\"toc-item-num\">5.2&nbsp;&nbsp;</span>Select stocks traded on the major stock exchanges</a></span></li><li><span><a href=\"#Delete-missing-returns\" data-toc-modified-id=\"Delete-missing-returns-5.3\"><span class=\"toc-item-num\">5.3&nbsp;&nbsp;</span>Delete missing returns</a></span></li><li><span><a href=\"#Merge-data\" data-toc-modified-id=\"Merge-data-5.4\"><span class=\"toc-item-num\">5.4&nbsp;&nbsp;</span>Merge data</a></span></li></ul></li><li><span><a href=\"#Data-Summary\" data-toc-modified-id=\"Data-Summary-6\"><span class=\"toc-item-num\">6&nbsp;&nbsp;</span>Data Summary</a></span></li><li><span><a href=\"#Forcasting-Future-Excess-Returns\" data-toc-modified-id=\"Forcasting-Future-Excess-Returns-7\"><span class=\"toc-item-num\">7&nbsp;&nbsp;</span>Forcasting Future Excess Returns</a></span><ul class=\"toc-item\"><li><span><a href=\"#Does-BEME-forcast-future-returns?\" data-toc-modified-id=\"Does-BEME-forcast-future-returns?-7.1\"><span class=\"toc-item-num\">7.1&nbsp;&nbsp;</span>Does BEME forcast future returns?</a></span><ul class=\"toc-item\"><li><span><a href=\"#What-is-the-problem?\" data-toc-modified-id=\"What-is-the-problem?-7.1.1\"><span class=\"toc-item-num\">7.1.1&nbsp;&nbsp;</span>What is the problem?</a></span></li><li><span><a href=\"#Try-to-run-the-FM-regression-again!\" data-toc-modified-id=\"Try-to-run-the-FM-regression-again!-7.1.2\"><span class=\"toc-item-num\">7.1.2&nbsp;&nbsp;</span>Try to run the FM regression again!</a></span></li></ul></li><li><span><a href=\"#Does-size-forcast-future-returns?\" data-toc-modified-id=\"Does-size-forcast-future-returns?-7.2\"><span class=\"toc-item-num\">7.2&nbsp;&nbsp;</span>Does size forcast future returns?</a></span></li><li><span><a href=\"#What-about-Fama-and-French-2015?\" data-toc-modified-id=\"What-about-Fama-and-French-2015?-7.3\"><span class=\"toc-item-num\">7.3&nbsp;&nbsp;</span>What about Fama and French 2015?</a></span></li></ul></li><li><span><a href=\"#Long-short-portfolio\" data-toc-modified-id=\"Long-short-portfolio-8\"><span class=\"toc-item-num\">8&nbsp;&nbsp;</span>Long-short portfolio</a></span><ul class=\"toc-item\"><li><span><a href=\"#Sort-Portfolio\" data-toc-modified-id=\"Sort-Portfolio-8.1\"><span class=\"toc-item-num\">8.1&nbsp;&nbsp;</span>Sort Portfolio</a></span></li><li><span><a href=\"#Portfolio-returns\" data-toc-modified-id=\"Portfolio-returns-8.2\"><span class=\"toc-item-num\">8.2&nbsp;&nbsp;</span>Portfolio returns</a></span><ul class=\"toc-item\"><li><span><a href=\"#Merge-data\" data-toc-modified-id=\"Merge-data-8.2.1\"><span class=\"toc-item-num\">8.2.1&nbsp;&nbsp;</span>Merge data</a></span></li><li><span><a href=\"#Calculate-returns\" data-toc-modified-id=\"Calculate-returns-8.2.2\"><span class=\"toc-item-num\">8.2.2&nbsp;&nbsp;</span>Calculate returns</a></span></li></ul></li><li><span><a href=\"#Average-Returns\" data-toc-modified-id=\"Average-Returns-8.3\"><span class=\"toc-item-num\">8.3&nbsp;&nbsp;</span>Average Returns</a></span></li><li><span><a href=\"#Compare-Sharpe-ratio\" data-toc-modified-id=\"Compare-Sharpe-ratio-8.4\"><span class=\"toc-item-num\">8.4&nbsp;&nbsp;</span>Compare Sharpe-ratio</a></span></li></ul></li></ul></div>"
   ]
  },
  {
   "cell_type": "markdown",
   "metadata": {
    "slideshow": {
     "slide_type": "slide"
    }
   },
   "source": [
    "# Big Data in Finance: Part IV <BR><BR> Lecture Notes 5: Factor Investing \n",
    "    \n",
    "**Instructor** <BR>\n",
    "Kirsten Burr, kburr26@gsb.columbia.edu\n",
    "    \n",
    "**TA's:** <BR>\n",
    "Meha Sadasivam, MSadasivam21@gsb.columbia.edu <BR>\n",
    "Daheng Yang, dyang22@gsb.columbia.edu\n",
    "    \n",
    "<sub> Credit: lecture notes originally developed by Lira Mota"
   ]
  },
  {
   "cell_type": "markdown",
   "metadata": {
    "slideshow": {
     "slide_type": "slide"
    }
   },
   "source": [
    "## Objective\n",
    "\n",
    "Construct FF5 characteristic-sorted portfolios"
   ]
  },
  {
   "cell_type": "markdown",
   "metadata": {
    "slideshow": {
     "slide_type": "slide"
    }
   },
   "source": [
    "## ... and the Cross-Section of Expected Returns\n",
    "\n",
    "1. [Harvey, Liu and Zhu (RFS, 2016)](https://academic.oup.com/rfs/article/29/1/5/1843824)\n",
    "    1. \"Hundreds of papers and factors attempt to explain the cross-section of expected returns.\"\n",
    "    2. They [list 313 papers](http://faculty.fuqua.duke.edu/~charvey/Factor-List.xlsx) published in a selection of journals that study cross-sectional return patterns. "
   ]
  },
  {
   "cell_type": "markdown",
   "metadata": {
    "slideshow": {
     "slide_type": "subslide"
    }
   },
   "source": [
    "2. The majority of those papers goes: \n",
    "    1. We show that stocks with high value of x on average outperform stocks with low value of x.\n",
    "    2. Is it robust? Run a Fama-MacBeth regression;\n",
    "    3. Is it explained by risk? Form a long-short portfolio based on the new characteristic sort. Test if this portfolio earns an \"alpha\" with respect the benchmark model."
   ]
  },
  {
   "cell_type": "markdown",
   "metadata": {
    "slideshow": {
     "slide_type": "slide"
    }
   },
   "source": [
    "## Set Up"
   ]
  },
  {
   "cell_type": "code",
   "execution_count": 1,
   "metadata": {
    "slideshow": {
     "slide_type": "fragment"
    }
   },
   "outputs": [],
   "source": [
    "#%% Packages \n",
    "import sys\n",
    "import pandas as pd\n",
    "import numpy as np\n",
    "import datetime\n",
    "\n",
    "import statsmodels.api as sm\n",
    "import statsmodels.formula.api as smf\n",
    "\n",
    "import matplotlib.pyplot as plt\n",
    "\n",
    "import time\n",
    "from time import strptime, strftime\n",
    "\n",
    "# Setups\n",
    "pd.set_option(\"display.max_rows\", 100) # max number or rows to be displayed \n",
    "%matplotlib inline \n",
    "plt.rcParams['figure.figsize'] = [10, 6]\n",
    "idx = pd.IndexSlice"
   ]
  },
  {
   "cell_type": "markdown",
   "metadata": {
    "slideshow": {
     "slide_type": "slide"
    }
   },
   "source": [
    "**(FI)nance (RE)search Python Tools: fire_pytools**\n",
    "\n",
    "* To make our lives easier, we will use a fire_pytools package.\n",
    "\n",
    "* Written by our alumni, Lira Mota\n",
    "    - Download the package [here](https://bitbucket.org/liramota/fire_pytools/src)\n",
    "\n",
    "* This is a collection of useful functions in finance research.\n",
    "    - Direct download of CRSP and Compustat from WRDS server\n",
    "    - Direct download of Ken French data library\n",
    "    - Portfolio sorts tools\n",
    "    - Replicate Fama and French factors"
   ]
  },
  {
   "cell_type": "code",
   "execution_count": 2,
   "metadata": {
    "slideshow": {
     "slide_type": "subslide"
    }
   },
   "outputs": [],
   "source": [
    "# Packages from fire_pytools\n",
    "sys.path.append(\"../fire_pytools\") \n",
    "\n",
    "# Data Import\n",
    "from data_setup import stock_monthly\n",
    "from data_setup import stock_annual\n",
    "\n",
    "# Functions \n",
    "from utils.monthly_date import *\n",
    "from portools.find_breakpoints import find_breakpoints\n",
    "from portools.sort_portfolios import sort_portfolios\n",
    "from import_kf.kf_factors import *"
   ]
  },
  {
   "cell_type": "markdown",
   "metadata": {
    "slideshow": {
     "slide_type": "slide"
    }
   },
   "source": [
    "## Download Data"
   ]
  },
  {
   "cell_type": "code",
   "execution_count": 3,
   "metadata": {
    "slideshow": {
     "slide_type": "fragment"
    }
   },
   "outputs": [
    {
     "data": {
      "text/plain": [
       "Index(['permno', 'date', 'dlret', 'dlretx', 'exchcd', 'naics', 'permco', 'prc',\n",
       "       'ret', 'shrcd', 'shrout', 'siccd', 'ticker', 'rankyear', 'retadj', 'me',\n",
       "       'lag_me', 'lag_dlret', 'melag_weights', 'mdate', 'rf'],\n",
       "      dtype='object')"
      ]
     },
     "execution_count": 3,
     "metadata": {},
     "output_type": "execute_result"
    }
   ],
   "source": [
    "# mdata = stock_monthly.main()\n",
    "# mdata.to_pickle(path = './stock_monthly.pkl')\n",
    "mdata = pd.read_pickle('./stock_monthly.pkl')\n",
    "mdata.columns"
   ]
  },
  {
   "cell_type": "code",
   "execution_count": 4,
   "metadata": {
    "slideshow": {
     "slide_type": "fragment"
    }
   },
   "outputs": [
    {
     "data": {
      "text/plain": [
       "Index(['gvkey', 'datadate', 'cusip', 'tic', 'cik', 'conm', 'fyear', 'fyr',\n",
       "       'aqc', 'at', 'capx', 'ceq', 'ch', 'che', 'cogs', 'csho', 'dlc', 'dlcch',\n",
       "       'dltis', 'dltt', 'dltr', 'dp', 'dv', 'dvc', 'dvp', 'ebit', 'ebitda',\n",
       "       'ib', 'icapt', 'itcb', 'ivao', 'lt', 'mib', 'naicsh', 'ni', 'oibdp',\n",
       "       'ppegt', 'prstkc', 'prstkcc', 'pstk', 'pstkl', 'pstkrv', 're', 'rstche',\n",
       "       'rstchelt', 'sale', 'seq', 'sppe', 'sich', 'sstk', 'txdb', 'txdi',\n",
       "       'txditc', 'wcapch', 'xint', 'xrd', 'xsga', 'prba', 'be', 'op', 'opbe',\n",
       "       'inv_gvkey', 'rankyear', 'ner', 'nert', 'ndi', 'fdat', 'fdat_net',\n",
       "       'ltat', 'fdbe', 'fdbe_net', 'permno', 'permco', 'linkdt', 'linkenddt',\n",
       "       'inv_permco', 'mejune', 'exchcd', 'shrcd', 'ticker', 'siccd',\n",
       "       'mesum_june', 'medec', 'mesum_dec', 'beme', 'sich_filled'],\n",
       "      dtype='object')"
      ]
     },
     "execution_count": 4,
     "metadata": {},
     "output_type": "execute_result"
    }
   ],
   "source": [
    "# adata = stock_annual.main()\n",
    "# adata.to_pickle('./stock_annual.pkl')\n",
    "adata = pd.read_pickle('./stock_annual.pkl')\n",
    "adata.columns"
   ]
  },
  {
   "cell_type": "code",
   "execution_count": 5,
   "metadata": {
    "slideshow": {
     "slide_type": "subslide"
    }
   },
   "outputs": [],
   "source": [
    "# Create excess returns\n",
    "mdata['exret'] = mdata['retadj'] - mdata['rf']"
   ]
  },
  {
   "cell_type": "markdown",
   "metadata": {
    "slideshow": {
     "slide_type": "slide"
    }
   },
   "source": [
    "## Clean Data"
   ]
  },
  {
   "cell_type": "markdown",
   "metadata": {
    "slideshow": {
     "slide_type": "subslide"
    }
   },
   "source": [
    "### Share type - select only common stocks \n",
    "\n",
    "**First Digit - Security Type** <BR>\n",
    "1\tOrdinary Common Shares <BR>\n",
    "2\tCertificates <BR>\n",
    "3\tADRs (American Depository Receipts) <BR>\n",
    "4\tSBIs (Shares of Beneficial Interest) <BR>\n",
    "7\tUnits (Depository Units, Units of Benefic ial Interest, Units of Limited Partnership Interest, Depository Receipts, etc.) <BR> <BR>\n",
    "\n",
    "**Second Digit - Share Code - Security Type** <BR>\n",
    "0\tSecurities which have not been further defined. <BR>\n",
    "1\tSecurities which need not be further defined. <BR>\n",
    "2\tCompanies incorporated outside the US <BR>\n",
    "3\tAmericus Trust Components (Primes and Scores). <BR>\n",
    "4\tClosed-end funds. <BR>\n",
    "5\tClosed-end fund companies incorporated outside the US <BR>\n",
    "8\tREIT's (Real Estate Investment Trusts). <BR>"
   ]
  },
  {
   "cell_type": "code",
   "execution_count": 6,
   "metadata": {
    "slideshow": {
     "slide_type": "subslide"
    }
   },
   "outputs": [
    {
     "data": {
      "text/plain": [
       "76.96451256146982"
      ]
     },
     "execution_count": 6,
     "metadata": {},
     "output_type": "execute_result"
    }
   ],
   "source": [
    "mdata.shrcd.isin([10, 11]).mean() * 100 "
   ]
  },
  {
   "cell_type": "code",
   "execution_count": 7,
   "metadata": {
    "slideshow": {
     "slide_type": "fragment"
    }
   },
   "outputs": [],
   "source": [
    "mdata = mdata[mdata.shrcd.isin([10, 11])]"
   ]
  },
  {
   "cell_type": "markdown",
   "metadata": {
    "slideshow": {
     "slide_type": "subslide"
    }
   },
   "source": [
    "### Select stocks traded on the major stock exchanges\n",
    "\n",
    "-2\tHalted by the NYSE or AMEX <BR>\n",
    "-1\tSuspended by the NYSE, AMEX, or NASDAQ <BR>\n",
    "0\tNot Trading on NYSE, AMEX, or NASDAQ <BR>\n",
    "1\tNew York Stock Exchange <BR>\n",
    "2\tAmerican Stock Exchange <BR>\n",
    "3\tThe Nasdaq Stock Market(SM) <BR>\n",
    "4\tThe Arca Stock Market(SM) <BR>\n",
    "5\tMutual Funds (As Quoted by NASDAQ) <BR>\n",
    "10\tBoston Stock Exchange <BR>\n",
    "13\tChicago Stock Exchange <BR>\n",
    "16\tPacific Stock Exchange <BR>\n",
    "17\tPhiladelphia Stock Exchange <BR>\n",
    "19\tToronto Stock Exchange <BR>\n",
    "20\tOver-The-Counter (Non-NASDAQ Dealer Quotations) <BR>\n",
    "31\tWhen-issued trading on the NYSE <BR>\n",
    "32\tWhen-issued trading on the AMEX <BR>\n",
    "33\tWhen-issued trading on The NASDAQ <BR>"
   ]
  },
  {
   "cell_type": "code",
   "execution_count": 8,
   "metadata": {
    "slideshow": {
     "slide_type": "subslide"
    }
   },
   "outputs": [
    {
     "data": {
      "text/plain": [
       "0.9838048021518704"
      ]
     },
     "execution_count": 8,
     "metadata": {},
     "output_type": "execute_result"
    }
   ],
   "source": [
    "mdata.exchcd.isin([1, 2, 3]).mean()"
   ]
  },
  {
   "cell_type": "code",
   "execution_count": 9,
   "metadata": {
    "slideshow": {
     "slide_type": "fragment"
    }
   },
   "outputs": [],
   "source": [
    "mdata = mdata[mdata.exchcd.isin([1, 2, 3])]"
   ]
  },
  {
   "cell_type": "markdown",
   "metadata": {
    "slideshow": {
     "slide_type": "subslide"
    }
   },
   "source": [
    "### Delete missing returns"
   ]
  },
  {
   "cell_type": "code",
   "execution_count": 10,
   "metadata": {
    "slideshow": {
     "slide_type": "fragment"
    }
   },
   "outputs": [],
   "source": [
    "mdata = mdata[mdata['exret'].notnull()]\n",
    "mdata = mdata[mdata['lag_me'].notnull()]"
   ]
  },
  {
   "cell_type": "markdown",
   "metadata": {
    "slideshow": {
     "slide_type": "slide"
    }
   },
   "source": [
    "### Merge data"
   ]
  },
  {
   "cell_type": "code",
   "execution_count": 11,
   "metadata": {
    "scrolled": true,
    "slideshow": {
     "slide_type": "subslide"
    }
   },
   "outputs": [
    {
     "data": {
      "text/html": [
       "<div>\n",
       "<style scoped>\n",
       "    .dataframe tbody tr th:only-of-type {\n",
       "        vertical-align: middle;\n",
       "    }\n",
       "\n",
       "    .dataframe tbody tr th {\n",
       "        vertical-align: top;\n",
       "    }\n",
       "\n",
       "    .dataframe thead th {\n",
       "        text-align: right;\n",
       "    }\n",
       "</style>\n",
       "<table border=\"1\" class=\"dataframe\">\n",
       "  <thead>\n",
       "    <tr style=\"text-align: right;\">\n",
       "      <th></th>\n",
       "      <th>permno</th>\n",
       "      <th>gvkey</th>\n",
       "      <th>tic</th>\n",
       "      <th>fyear</th>\n",
       "      <th>datadate</th>\n",
       "      <th>rankyear</th>\n",
       "      <th>beme</th>\n",
       "    </tr>\n",
       "  </thead>\n",
       "  <tbody>\n",
       "    <tr>\n",
       "      <th>54210</th>\n",
       "      <td>14593</td>\n",
       "      <td>NaN</td>\n",
       "      <td>NaN</td>\n",
       "      <td>NaN</td>\n",
       "      <td>NaT</td>\n",
       "      <td>1981.0</td>\n",
       "      <td>NaN</td>\n",
       "    </tr>\n",
       "    <tr>\n",
       "      <th>54211</th>\n",
       "      <td>14593</td>\n",
       "      <td>001690</td>\n",
       "      <td>AAPL</td>\n",
       "      <td>1981.0</td>\n",
       "      <td>1981-09-30</td>\n",
       "      <td>1982.0</td>\n",
       "      <td>0.148537</td>\n",
       "    </tr>\n",
       "    <tr>\n",
       "      <th>54212</th>\n",
       "      <td>14593</td>\n",
       "      <td>001690</td>\n",
       "      <td>AAPL</td>\n",
       "      <td>1982.0</td>\n",
       "      <td>1982-09-30</td>\n",
       "      <td>1983.0</td>\n",
       "      <td>0.156761</td>\n",
       "    </tr>\n",
       "    <tr>\n",
       "      <th>54213</th>\n",
       "      <td>14593</td>\n",
       "      <td>001690</td>\n",
       "      <td>AAPL</td>\n",
       "      <td>1983.0</td>\n",
       "      <td>1983-09-30</td>\n",
       "      <td>1984.0</td>\n",
       "      <td>0.294510</td>\n",
       "    </tr>\n",
       "    <tr>\n",
       "      <th>54214</th>\n",
       "      <td>14593</td>\n",
       "      <td>001690</td>\n",
       "      <td>AAPL</td>\n",
       "      <td>1984.0</td>\n",
       "      <td>1984-09-30</td>\n",
       "      <td>1985.0</td>\n",
       "      <td>0.301711</td>\n",
       "    </tr>\n",
       "    <tr>\n",
       "      <th>54215</th>\n",
       "      <td>14593</td>\n",
       "      <td>001690</td>\n",
       "      <td>AAPL</td>\n",
       "      <td>1985.0</td>\n",
       "      <td>1985-09-30</td>\n",
       "      <td>1986.0</td>\n",
       "      <td>0.467580</td>\n",
       "    </tr>\n",
       "    <tr>\n",
       "      <th>54216</th>\n",
       "      <td>14593</td>\n",
       "      <td>001690</td>\n",
       "      <td>AAPL</td>\n",
       "      <td>1986.0</td>\n",
       "      <td>1986-09-30</td>\n",
       "      <td>1987.0</td>\n",
       "      <td>0.327216</td>\n",
       "    </tr>\n",
       "    <tr>\n",
       "      <th>54217</th>\n",
       "      <td>14593</td>\n",
       "      <td>001690</td>\n",
       "      <td>AAPL</td>\n",
       "      <td>1987.0</td>\n",
       "      <td>1987-09-30</td>\n",
       "      <td>1988.0</td>\n",
       "      <td>0.191594</td>\n",
       "    </tr>\n",
       "    <tr>\n",
       "      <th>54218</th>\n",
       "      <td>14593</td>\n",
       "      <td>001690</td>\n",
       "      <td>AAPL</td>\n",
       "      <td>1988.0</td>\n",
       "      <td>1988-09-30</td>\n",
       "      <td>1989.0</td>\n",
       "      <td>0.253107</td>\n",
       "    </tr>\n",
       "    <tr>\n",
       "      <th>54219</th>\n",
       "      <td>14593</td>\n",
       "      <td>001690</td>\n",
       "      <td>AAPL</td>\n",
       "      <td>1989.0</td>\n",
       "      <td>1989-09-30</td>\n",
       "      <td>1990.0</td>\n",
       "      <td>0.418876</td>\n",
       "    </tr>\n",
       "    <tr>\n",
       "      <th>54220</th>\n",
       "      <td>14593</td>\n",
       "      <td>001690</td>\n",
       "      <td>AAPL</td>\n",
       "      <td>1990.0</td>\n",
       "      <td>1990-09-30</td>\n",
       "      <td>1991.0</td>\n",
       "      <td>0.396430</td>\n",
       "    </tr>\n",
       "    <tr>\n",
       "      <th>54221</th>\n",
       "      <td>14593</td>\n",
       "      <td>001690</td>\n",
       "      <td>AAPL</td>\n",
       "      <td>1991.0</td>\n",
       "      <td>1991-09-30</td>\n",
       "      <td>1992.0</td>\n",
       "      <td>0.340807</td>\n",
       "    </tr>\n",
       "    <tr>\n",
       "      <th>54222</th>\n",
       "      <td>14593</td>\n",
       "      <td>001690</td>\n",
       "      <td>AAPL</td>\n",
       "      <td>1992.0</td>\n",
       "      <td>1992-09-30</td>\n",
       "      <td>1993.0</td>\n",
       "      <td>0.397411</td>\n",
       "    </tr>\n",
       "    <tr>\n",
       "      <th>54223</th>\n",
       "      <td>14593</td>\n",
       "      <td>001690</td>\n",
       "      <td>AAPL</td>\n",
       "      <td>1993.0</td>\n",
       "      <td>1993-09-30</td>\n",
       "      <td>1994.0</td>\n",
       "      <td>0.594685</td>\n",
       "    </tr>\n",
       "    <tr>\n",
       "      <th>54224</th>\n",
       "      <td>14593</td>\n",
       "      <td>001690</td>\n",
       "      <td>AAPL</td>\n",
       "      <td>1994.0</td>\n",
       "      <td>1994-09-30</td>\n",
       "      <td>1995.0</td>\n",
       "      <td>0.509720</td>\n",
       "    </tr>\n",
       "    <tr>\n",
       "      <th>54225</th>\n",
       "      <td>14593</td>\n",
       "      <td>001690</td>\n",
       "      <td>AAPL</td>\n",
       "      <td>1995.0</td>\n",
       "      <td>1995-09-30</td>\n",
       "      <td>1996.0</td>\n",
       "      <td>0.739224</td>\n",
       "    </tr>\n",
       "    <tr>\n",
       "      <th>54226</th>\n",
       "      <td>14593</td>\n",
       "      <td>001690</td>\n",
       "      <td>AAPL</td>\n",
       "      <td>1996.0</td>\n",
       "      <td>1996-09-30</td>\n",
       "      <td>1997.0</td>\n",
       "      <td>0.791322</td>\n",
       "    </tr>\n",
       "    <tr>\n",
       "      <th>54227</th>\n",
       "      <td>14593</td>\n",
       "      <td>001690</td>\n",
       "      <td>AAPL</td>\n",
       "      <td>1997.0</td>\n",
       "      <td>1997-09-30</td>\n",
       "      <td>1998.0</td>\n",
       "      <td>0.624907</td>\n",
       "    </tr>\n",
       "    <tr>\n",
       "      <th>54228</th>\n",
       "      <td>14593</td>\n",
       "      <td>001690</td>\n",
       "      <td>AAPL</td>\n",
       "      <td>1998.0</td>\n",
       "      <td>1998-09-30</td>\n",
       "      <td>1999.0</td>\n",
       "      <td>0.267165</td>\n",
       "    </tr>\n",
       "    <tr>\n",
       "      <th>54229</th>\n",
       "      <td>14593</td>\n",
       "      <td>001690</td>\n",
       "      <td>AAPL</td>\n",
       "      <td>1999.0</td>\n",
       "      <td>1999-09-30</td>\n",
       "      <td>2000.0</td>\n",
       "      <td>0.178283</td>\n",
       "    </tr>\n",
       "    <tr>\n",
       "      <th>54230</th>\n",
       "      <td>14593</td>\n",
       "      <td>001690</td>\n",
       "      <td>AAPL</td>\n",
       "      <td>2000.0</td>\n",
       "      <td>2000-09-30</td>\n",
       "      <td>2001.0</td>\n",
       "      <td>0.784785</td>\n",
       "    </tr>\n",
       "    <tr>\n",
       "      <th>54231</th>\n",
       "      <td>14593</td>\n",
       "      <td>001690</td>\n",
       "      <td>AAPL</td>\n",
       "      <td>2001.0</td>\n",
       "      <td>2001-09-30</td>\n",
       "      <td>2002.0</td>\n",
       "      <td>0.507848</td>\n",
       "    </tr>\n",
       "    <tr>\n",
       "      <th>54232</th>\n",
       "      <td>14593</td>\n",
       "      <td>001690</td>\n",
       "      <td>AAPL</td>\n",
       "      <td>2002.0</td>\n",
       "      <td>2002-09-30</td>\n",
       "      <td>2003.0</td>\n",
       "      <td>0.793223</td>\n",
       "    </tr>\n",
       "    <tr>\n",
       "      <th>54233</th>\n",
       "      <td>14593</td>\n",
       "      <td>001690</td>\n",
       "      <td>AAPL</td>\n",
       "      <td>2003.0</td>\n",
       "      <td>2003-09-30</td>\n",
       "      <td>2004.0</td>\n",
       "      <td>0.535885</td>\n",
       "    </tr>\n",
       "    <tr>\n",
       "      <th>54234</th>\n",
       "      <td>14593</td>\n",
       "      <td>001690</td>\n",
       "      <td>AAPL</td>\n",
       "      <td>2004.0</td>\n",
       "      <td>2004-09-30</td>\n",
       "      <td>2005.0</td>\n",
       "      <td>0.194834</td>\n",
       "    </tr>\n",
       "    <tr>\n",
       "      <th>54235</th>\n",
       "      <td>14593</td>\n",
       "      <td>001690</td>\n",
       "      <td>AAPL</td>\n",
       "      <td>2005.0</td>\n",
       "      <td>2005-09-30</td>\n",
       "      <td>2006.0</td>\n",
       "      <td>0.122813</td>\n",
       "    </tr>\n",
       "    <tr>\n",
       "      <th>54236</th>\n",
       "      <td>14593</td>\n",
       "      <td>001690</td>\n",
       "      <td>AAPL</td>\n",
       "      <td>2006.0</td>\n",
       "      <td>2006-09-30</td>\n",
       "      <td>2007.0</td>\n",
       "      <td>0.136803</td>\n",
       "    </tr>\n",
       "    <tr>\n",
       "      <th>54237</th>\n",
       "      <td>14593</td>\n",
       "      <td>001690</td>\n",
       "      <td>AAPL</td>\n",
       "      <td>2007.0</td>\n",
       "      <td>2007-09-30</td>\n",
       "      <td>2008.0</td>\n",
       "      <td>0.083499</td>\n",
       "    </tr>\n",
       "    <tr>\n",
       "      <th>54238</th>\n",
       "      <td>14593</td>\n",
       "      <td>001690</td>\n",
       "      <td>AAPL</td>\n",
       "      <td>2008.0</td>\n",
       "      <td>2008-09-30</td>\n",
       "      <td>2009.0</td>\n",
       "      <td>0.276722</td>\n",
       "    </tr>\n",
       "    <tr>\n",
       "      <th>54239</th>\n",
       "      <td>14593</td>\n",
       "      <td>001690</td>\n",
       "      <td>AAPL</td>\n",
       "      <td>2009.0</td>\n",
       "      <td>2009-09-30</td>\n",
       "      <td>2010.0</td>\n",
       "      <td>0.165670</td>\n",
       "    </tr>\n",
       "    <tr>\n",
       "      <th>54240</th>\n",
       "      <td>14593</td>\n",
       "      <td>001690</td>\n",
       "      <td>AAPL</td>\n",
       "      <td>2010.0</td>\n",
       "      <td>2010-09-30</td>\n",
       "      <td>2011.0</td>\n",
       "      <td>0.160864</td>\n",
       "    </tr>\n",
       "    <tr>\n",
       "      <th>54241</th>\n",
       "      <td>14593</td>\n",
       "      <td>001690</td>\n",
       "      <td>AAPL</td>\n",
       "      <td>2011.0</td>\n",
       "      <td>2011-09-30</td>\n",
       "      <td>2012.0</td>\n",
       "      <td>0.202929</td>\n",
       "    </tr>\n",
       "    <tr>\n",
       "      <th>54242</th>\n",
       "      <td>14593</td>\n",
       "      <td>001690</td>\n",
       "      <td>AAPL</td>\n",
       "      <td>2012.0</td>\n",
       "      <td>2012-09-30</td>\n",
       "      <td>2013.0</td>\n",
       "      <td>0.236564</td>\n",
       "    </tr>\n",
       "    <tr>\n",
       "      <th>54243</th>\n",
       "      <td>14593</td>\n",
       "      <td>001690</td>\n",
       "      <td>AAPL</td>\n",
       "      <td>2013.0</td>\n",
       "      <td>2013-09-30</td>\n",
       "      <td>2014.0</td>\n",
       "      <td>0.246762</td>\n",
       "    </tr>\n",
       "    <tr>\n",
       "      <th>54244</th>\n",
       "      <td>14593</td>\n",
       "      <td>001690</td>\n",
       "      <td>AAPL</td>\n",
       "      <td>2014.0</td>\n",
       "      <td>2014-09-30</td>\n",
       "      <td>2015.0</td>\n",
       "      <td>0.173447</td>\n",
       "    </tr>\n",
       "    <tr>\n",
       "      <th>54245</th>\n",
       "      <td>14593</td>\n",
       "      <td>001690</td>\n",
       "      <td>AAPL</td>\n",
       "      <td>2015.0</td>\n",
       "      <td>2015-09-30</td>\n",
       "      <td>2016.0</td>\n",
       "      <td>0.204511</td>\n",
       "    </tr>\n",
       "    <tr>\n",
       "      <th>54246</th>\n",
       "      <td>14593</td>\n",
       "      <td>001690</td>\n",
       "      <td>AAPL</td>\n",
       "      <td>2016.0</td>\n",
       "      <td>2016-09-30</td>\n",
       "      <td>2017.0</td>\n",
       "      <td>0.210603</td>\n",
       "    </tr>\n",
       "    <tr>\n",
       "      <th>54247</th>\n",
       "      <td>14593</td>\n",
       "      <td>001690</td>\n",
       "      <td>AAPL</td>\n",
       "      <td>2017.0</td>\n",
       "      <td>2017-09-30</td>\n",
       "      <td>2018.0</td>\n",
       "      <td>0.155709</td>\n",
       "    </tr>\n",
       "    <tr>\n",
       "      <th>54248</th>\n",
       "      <td>14593</td>\n",
       "      <td>001690</td>\n",
       "      <td>AAPL</td>\n",
       "      <td>2018.0</td>\n",
       "      <td>2018-09-30</td>\n",
       "      <td>2019.0</td>\n",
       "      <td>0.143613</td>\n",
       "    </tr>\n",
       "    <tr>\n",
       "      <th>54249</th>\n",
       "      <td>14593</td>\n",
       "      <td>001690</td>\n",
       "      <td>AAPL</td>\n",
       "      <td>2019.0</td>\n",
       "      <td>2019-09-30</td>\n",
       "      <td>2020.0</td>\n",
       "      <td>0.070274</td>\n",
       "    </tr>\n",
       "    <tr>\n",
       "      <th>54250</th>\n",
       "      <td>14593</td>\n",
       "      <td>001690</td>\n",
       "      <td>AAPL</td>\n",
       "      <td>2020.0</td>\n",
       "      <td>2020-09-30</td>\n",
       "      <td>2021.0</td>\n",
       "      <td>0.029270</td>\n",
       "    </tr>\n",
       "    <tr>\n",
       "      <th>54251</th>\n",
       "      <td>14593</td>\n",
       "      <td>001690</td>\n",
       "      <td>AAPL</td>\n",
       "      <td>2021.0</td>\n",
       "      <td>2021-09-30</td>\n",
       "      <td>2022.0</td>\n",
       "      <td>0.021737</td>\n",
       "    </tr>\n",
       "    <tr>\n",
       "      <th>54252</th>\n",
       "      <td>14593</td>\n",
       "      <td>001690</td>\n",
       "      <td>AAPL</td>\n",
       "      <td>2022.0</td>\n",
       "      <td>2022-09-30</td>\n",
       "      <td>2023.0</td>\n",
       "      <td>0.024515</td>\n",
       "    </tr>\n",
       "  </tbody>\n",
       "</table>\n",
       "</div>"
      ],
      "text/plain": [
       "       permno   gvkey   tic   fyear   datadate  rankyear      beme\n",
       "54210   14593     NaN   NaN     NaN        NaT    1981.0       NaN\n",
       "54211   14593  001690  AAPL  1981.0 1981-09-30    1982.0  0.148537\n",
       "54212   14593  001690  AAPL  1982.0 1982-09-30    1983.0  0.156761\n",
       "54213   14593  001690  AAPL  1983.0 1983-09-30    1984.0  0.294510\n",
       "54214   14593  001690  AAPL  1984.0 1984-09-30    1985.0  0.301711\n",
       "54215   14593  001690  AAPL  1985.0 1985-09-30    1986.0  0.467580\n",
       "54216   14593  001690  AAPL  1986.0 1986-09-30    1987.0  0.327216\n",
       "54217   14593  001690  AAPL  1987.0 1987-09-30    1988.0  0.191594\n",
       "54218   14593  001690  AAPL  1988.0 1988-09-30    1989.0  0.253107\n",
       "54219   14593  001690  AAPL  1989.0 1989-09-30    1990.0  0.418876\n",
       "54220   14593  001690  AAPL  1990.0 1990-09-30    1991.0  0.396430\n",
       "54221   14593  001690  AAPL  1991.0 1991-09-30    1992.0  0.340807\n",
       "54222   14593  001690  AAPL  1992.0 1992-09-30    1993.0  0.397411\n",
       "54223   14593  001690  AAPL  1993.0 1993-09-30    1994.0  0.594685\n",
       "54224   14593  001690  AAPL  1994.0 1994-09-30    1995.0  0.509720\n",
       "54225   14593  001690  AAPL  1995.0 1995-09-30    1996.0  0.739224\n",
       "54226   14593  001690  AAPL  1996.0 1996-09-30    1997.0  0.791322\n",
       "54227   14593  001690  AAPL  1997.0 1997-09-30    1998.0  0.624907\n",
       "54228   14593  001690  AAPL  1998.0 1998-09-30    1999.0  0.267165\n",
       "54229   14593  001690  AAPL  1999.0 1999-09-30    2000.0  0.178283\n",
       "54230   14593  001690  AAPL  2000.0 2000-09-30    2001.0  0.784785\n",
       "54231   14593  001690  AAPL  2001.0 2001-09-30    2002.0  0.507848\n",
       "54232   14593  001690  AAPL  2002.0 2002-09-30    2003.0  0.793223\n",
       "54233   14593  001690  AAPL  2003.0 2003-09-30    2004.0  0.535885\n",
       "54234   14593  001690  AAPL  2004.0 2004-09-30    2005.0  0.194834\n",
       "54235   14593  001690  AAPL  2005.0 2005-09-30    2006.0  0.122813\n",
       "54236   14593  001690  AAPL  2006.0 2006-09-30    2007.0  0.136803\n",
       "54237   14593  001690  AAPL  2007.0 2007-09-30    2008.0  0.083499\n",
       "54238   14593  001690  AAPL  2008.0 2008-09-30    2009.0  0.276722\n",
       "54239   14593  001690  AAPL  2009.0 2009-09-30    2010.0  0.165670\n",
       "54240   14593  001690  AAPL  2010.0 2010-09-30    2011.0  0.160864\n",
       "54241   14593  001690  AAPL  2011.0 2011-09-30    2012.0  0.202929\n",
       "54242   14593  001690  AAPL  2012.0 2012-09-30    2013.0  0.236564\n",
       "54243   14593  001690  AAPL  2013.0 2013-09-30    2014.0  0.246762\n",
       "54244   14593  001690  AAPL  2014.0 2014-09-30    2015.0  0.173447\n",
       "54245   14593  001690  AAPL  2015.0 2015-09-30    2016.0  0.204511\n",
       "54246   14593  001690  AAPL  2016.0 2016-09-30    2017.0  0.210603\n",
       "54247   14593  001690  AAPL  2017.0 2017-09-30    2018.0  0.155709\n",
       "54248   14593  001690  AAPL  2018.0 2018-09-30    2019.0  0.143613\n",
       "54249   14593  001690  AAPL  2019.0 2019-09-30    2020.0  0.070274\n",
       "54250   14593  001690  AAPL  2020.0 2020-09-30    2021.0  0.029270\n",
       "54251   14593  001690  AAPL  2021.0 2021-09-30    2022.0  0.021737\n",
       "54252   14593  001690  AAPL  2022.0 2022-09-30    2023.0  0.024515"
      ]
     },
     "execution_count": 11,
     "metadata": {},
     "output_type": "execute_result"
    }
   ],
   "source": [
    "# Example: APPLE\n",
    "adata['beme'] *= 1000\n",
    "adata[['permno', 'gvkey', 'tic', 'fyear', 'datadate', 'rankyear', 'beme']][adata.permno==14593]"
   ]
  },
  {
   "cell_type": "code",
   "execution_count": 12,
   "metadata": {
    "scrolled": false
   },
   "outputs": [
    {
     "data": {
      "text/html": [
       "<div>\n",
       "<style scoped>\n",
       "    .dataframe tbody tr th:only-of-type {\n",
       "        vertical-align: middle;\n",
       "    }\n",
       "\n",
       "    .dataframe tbody tr th {\n",
       "        vertical-align: top;\n",
       "    }\n",
       "\n",
       "    .dataframe thead th {\n",
       "        text-align: right;\n",
       "    }\n",
       "</style>\n",
       "<table border=\"1\" class=\"dataframe\">\n",
       "  <thead>\n",
       "    <tr style=\"text-align: right;\">\n",
       "      <th></th>\n",
       "      <th>permno</th>\n",
       "      <th>date</th>\n",
       "      <th>exret</th>\n",
       "    </tr>\n",
       "  </thead>\n",
       "  <tbody>\n",
       "    <tr>\n",
       "      <th>629244</th>\n",
       "      <td>14593</td>\n",
       "      <td>1981-01-30</td>\n",
       "      <td>-0.179975</td>\n",
       "    </tr>\n",
       "    <tr>\n",
       "      <th>629245</th>\n",
       "      <td>14593</td>\n",
       "      <td>1981-02-27</td>\n",
       "      <td>-0.072359</td>\n",
       "    </tr>\n",
       "    <tr>\n",
       "      <th>629246</th>\n",
       "      <td>14593</td>\n",
       "      <td>1981-03-31</td>\n",
       "      <td>-0.088274</td>\n",
       "    </tr>\n",
       "    <tr>\n",
       "      <th>629247</th>\n",
       "      <td>14593</td>\n",
       "      <td>1981-04-30</td>\n",
       "      <td>0.146604</td>\n",
       "    </tr>\n",
       "    <tr>\n",
       "      <th>629248</th>\n",
       "      <td>14593</td>\n",
       "      <td>1981-05-29</td>\n",
       "      <td>0.153828</td>\n",
       "    </tr>\n",
       "    <tr>\n",
       "      <th>...</th>\n",
       "      <td>...</td>\n",
       "      <td>...</td>\n",
       "      <td>...</td>\n",
       "    </tr>\n",
       "    <tr>\n",
       "      <th>629743</th>\n",
       "      <td>14593</td>\n",
       "      <td>2022-08-31</td>\n",
       "      <td>-0.033038</td>\n",
       "    </tr>\n",
       "    <tr>\n",
       "      <th>629744</th>\n",
       "      <td>14593</td>\n",
       "      <td>2022-09-30</td>\n",
       "      <td>-0.122906</td>\n",
       "    </tr>\n",
       "    <tr>\n",
       "      <th>629745</th>\n",
       "      <td>14593</td>\n",
       "      <td>2022-10-31</td>\n",
       "      <td>0.107224</td>\n",
       "    </tr>\n",
       "    <tr>\n",
       "      <th>629746</th>\n",
       "      <td>14593</td>\n",
       "      <td>2022-11-30</td>\n",
       "      <td>-0.035985</td>\n",
       "    </tr>\n",
       "    <tr>\n",
       "      <th>629747</th>\n",
       "      <td>14593</td>\n",
       "      <td>2022-12-30</td>\n",
       "      <td>-0.125652</td>\n",
       "    </tr>\n",
       "  </tbody>\n",
       "</table>\n",
       "<p>504 rows × 3 columns</p>\n",
       "</div>"
      ],
      "text/plain": [
       "        permno       date     exret\n",
       "629244   14593 1981-01-30 -0.179975\n",
       "629245   14593 1981-02-27 -0.072359\n",
       "629246   14593 1981-03-31 -0.088274\n",
       "629247   14593 1981-04-30  0.146604\n",
       "629248   14593 1981-05-29  0.153828\n",
       "...        ...        ...       ...\n",
       "629743   14593 2022-08-31 -0.033038\n",
       "629744   14593 2022-09-30 -0.122906\n",
       "629745   14593 2022-10-31  0.107224\n",
       "629746   14593 2022-11-30 -0.035985\n",
       "629747   14593 2022-12-30 -0.125652\n",
       "\n",
       "[504 rows x 3 columns]"
      ]
     },
     "execution_count": 12,
     "metadata": {},
     "output_type": "execute_result"
    }
   ],
   "source": [
    "mdata[mdata.permno==14593][['permno', 'date', 'exret']]"
   ]
  },
  {
   "cell_type": "markdown",
   "metadata": {
    "slideshow": {
     "slide_type": "slide"
    }
   },
   "source": [
    "Our objective: find stock characteristics that forecast **FUTURE** returns. <BR><BR>\n",
    "$$r_{i,t+1} = \\alpha + \\beta c_{i,t} + \\varepsilon_{i,t+1} $$\n"
   ]
  },
  {
   "cell_type": "code",
   "execution_count": 13,
   "metadata": {
    "slideshow": {
     "slide_type": "fragment"
    }
   },
   "outputs": [],
   "source": [
    "# Portfolios are rebalanced in the end of june\n",
    "mdata['rankyear'] = mdata.date.dt.year\n",
    "mdata.loc[mdata.date.dt.month <= 6, 'rankyear'] = mdata.loc[mdata.date.dt.month <= 6, 'rankyear'] - 1"
   ]
  },
  {
   "cell_type": "code",
   "execution_count": 14,
   "metadata": {
    "slideshow": {
     "slide_type": "fragment"
    }
   },
   "outputs": [
    {
     "data": {
      "text/html": [
       "<div>\n",
       "<style scoped>\n",
       "    .dataframe tbody tr th:only-of-type {\n",
       "        vertical-align: middle;\n",
       "    }\n",
       "\n",
       "    .dataframe tbody tr th {\n",
       "        vertical-align: top;\n",
       "    }\n",
       "\n",
       "    .dataframe thead th {\n",
       "        text-align: right;\n",
       "    }\n",
       "</style>\n",
       "<table border=\"1\" class=\"dataframe\">\n",
       "  <thead>\n",
       "    <tr style=\"text-align: right;\">\n",
       "      <th></th>\n",
       "      <th>permno</th>\n",
       "      <th>date</th>\n",
       "      <th>rankyear</th>\n",
       "      <th>exchcd</th>\n",
       "      <th>exret</th>\n",
       "      <th>lag_me</th>\n",
       "    </tr>\n",
       "  </thead>\n",
       "  <tbody>\n",
       "    <tr>\n",
       "      <th>629244</th>\n",
       "      <td>14593</td>\n",
       "      <td>1981-01-30</td>\n",
       "      <td>1980</td>\n",
       "      <td>3.0</td>\n",
       "      <td>-0.179975</td>\n",
       "      <td>1.884962e+03</td>\n",
       "    </tr>\n",
       "    <tr>\n",
       "      <th>629245</th>\n",
       "      <td>14593</td>\n",
       "      <td>1981-02-27</td>\n",
       "      <td>1980</td>\n",
       "      <td>3.0</td>\n",
       "      <td>-0.072359</td>\n",
       "      <td>1.564484e+03</td>\n",
       "    </tr>\n",
       "    <tr>\n",
       "      <th>629246</th>\n",
       "      <td>14593</td>\n",
       "      <td>1981-03-31</td>\n",
       "      <td>1980</td>\n",
       "      <td>3.0</td>\n",
       "      <td>-0.088274</td>\n",
       "      <td>1.467996e+03</td>\n",
       "    </tr>\n",
       "    <tr>\n",
       "      <th>629247</th>\n",
       "      <td>14593</td>\n",
       "      <td>1981-04-30</td>\n",
       "      <td>1980</td>\n",
       "      <td>3.0</td>\n",
       "      <td>0.146604</td>\n",
       "      <td>1.357724e+03</td>\n",
       "    </tr>\n",
       "    <tr>\n",
       "      <th>629248</th>\n",
       "      <td>14593</td>\n",
       "      <td>1981-05-29</td>\n",
       "      <td>1980</td>\n",
       "      <td>3.0</td>\n",
       "      <td>0.153828</td>\n",
       "      <td>1.571376e+03</td>\n",
       "    </tr>\n",
       "    <tr>\n",
       "      <th>...</th>\n",
       "      <td>...</td>\n",
       "      <td>...</td>\n",
       "      <td>...</td>\n",
       "      <td>...</td>\n",
       "      <td>...</td>\n",
       "      <td>...</td>\n",
       "    </tr>\n",
       "    <tr>\n",
       "      <th>629743</th>\n",
       "      <td>14593</td>\n",
       "      <td>2022-08-31</td>\n",
       "      <td>2022</td>\n",
       "      <td>3.0</td>\n",
       "      <td>-0.033038</td>\n",
       "      <td>2.611658e+06</td>\n",
       "    </tr>\n",
       "    <tr>\n",
       "      <th>629744</th>\n",
       "      <td>14593</td>\n",
       "      <td>2022-09-30</td>\n",
       "      <td>2022</td>\n",
       "      <td>3.0</td>\n",
       "      <td>-0.122906</td>\n",
       "      <td>2.526644e+06</td>\n",
       "    </tr>\n",
       "    <tr>\n",
       "      <th>629745</th>\n",
       "      <td>14593</td>\n",
       "      <td>2022-10-31</td>\n",
       "      <td>2022</td>\n",
       "      <td>3.0</td>\n",
       "      <td>0.107224</td>\n",
       "      <td>2.203381e+06</td>\n",
       "    </tr>\n",
       "    <tr>\n",
       "      <th>629746</th>\n",
       "      <td>14593</td>\n",
       "      <td>2022-11-30</td>\n",
       "      <td>2022</td>\n",
       "      <td>3.0</td>\n",
       "      <td>-0.035985</td>\n",
       "      <td>2.439351e+06</td>\n",
       "    </tr>\n",
       "    <tr>\n",
       "      <th>629747</th>\n",
       "      <td>14593</td>\n",
       "      <td>2022-12-30</td>\n",
       "      <td>2022</td>\n",
       "      <td>3.0</td>\n",
       "      <td>-0.125652</td>\n",
       "      <td>2.354879e+06</td>\n",
       "    </tr>\n",
       "  </tbody>\n",
       "</table>\n",
       "<p>504 rows × 6 columns</p>\n",
       "</div>"
      ],
      "text/plain": [
       "        permno       date  rankyear  exchcd     exret        lag_me\n",
       "629244   14593 1981-01-30      1980     3.0 -0.179975  1.884962e+03\n",
       "629245   14593 1981-02-27      1980     3.0 -0.072359  1.564484e+03\n",
       "629246   14593 1981-03-31      1980     3.0 -0.088274  1.467996e+03\n",
       "629247   14593 1981-04-30      1980     3.0  0.146604  1.357724e+03\n",
       "629248   14593 1981-05-29      1980     3.0  0.153828  1.571376e+03\n",
       "...        ...        ...       ...     ...       ...           ...\n",
       "629743   14593 2022-08-31      2022     3.0 -0.033038  2.611658e+06\n",
       "629744   14593 2022-09-30      2022     3.0 -0.122906  2.526644e+06\n",
       "629745   14593 2022-10-31      2022     3.0  0.107224  2.203381e+06\n",
       "629746   14593 2022-11-30      2022     3.0 -0.035985  2.439351e+06\n",
       "629747   14593 2022-12-30      2022     3.0 -0.125652  2.354879e+06\n",
       "\n",
       "[504 rows x 6 columns]"
      ]
     },
     "execution_count": 14,
     "metadata": {},
     "output_type": "execute_result"
    }
   ],
   "source": [
    "mdata[['permno', 'date', 'rankyear', 'exchcd', 'exret', 'lag_me']][mdata.permno==14593]"
   ]
  },
  {
   "cell_type": "code",
   "execution_count": 15,
   "metadata": {
    "slideshow": {
     "slide_type": "subslide"
    }
   },
   "outputs": [],
   "source": [
    "fdata = pd.merge(mdata[['permno', 'date', 'ticker', 'rankyear', 'exchcd', 'exret', 'retadj', 'lag_me', 'rf']],\n",
    "                 adata[['permno', 'gvkey', 'conm', 'fyear', 'datadate', 'rankyear', 'mesum_dec', 'beme', 'opbe', 'inv_gvkey']],\n",
    "                 on = ['permno','rankyear' ])"
   ]
  },
  {
   "cell_type": "code",
   "execution_count": 16,
   "metadata": {
    "slideshow": {
     "slide_type": "fragment"
    }
   },
   "outputs": [],
   "source": [
    "fdata.rename(columns = {'inv_gvkey': 'inv'}, inplace = True)\n",
    "fdata.rename(columns = {'mesum_dec': 'mesum'}, inplace = True)"
   ]
  },
  {
   "cell_type": "markdown",
   "metadata": {
    "slideshow": {
     "slide_type": "slide"
    }
   },
   "source": [
    "## Data Summary"
   ]
  },
  {
   "cell_type": "code",
   "execution_count": 17,
   "metadata": {
    "slideshow": {
     "slide_type": "fragment"
    }
   },
   "outputs": [
    {
     "data": {
      "text/html": [
       "<div>\n",
       "<style scoped>\n",
       "    .dataframe tbody tr th:only-of-type {\n",
       "        vertical-align: middle;\n",
       "    }\n",
       "\n",
       "    .dataframe tbody tr th {\n",
       "        vertical-align: top;\n",
       "    }\n",
       "\n",
       "    .dataframe thead th {\n",
       "        text-align: right;\n",
       "    }\n",
       "</style>\n",
       "<table border=\"1\" class=\"dataframe\">\n",
       "  <thead>\n",
       "    <tr style=\"text-align: right;\">\n",
       "      <th></th>\n",
       "      <th>permno</th>\n",
       "      <th>rankyear</th>\n",
       "      <th>exchcd</th>\n",
       "      <th>exret</th>\n",
       "      <th>retadj</th>\n",
       "      <th>lag_me</th>\n",
       "      <th>rf</th>\n",
       "      <th>fyear</th>\n",
       "      <th>mesum</th>\n",
       "      <th>beme</th>\n",
       "      <th>opbe</th>\n",
       "      <th>inv</th>\n",
       "    </tr>\n",
       "  </thead>\n",
       "  <tbody>\n",
       "    <tr>\n",
       "      <th>count</th>\n",
       "      <td>3.562917e+06</td>\n",
       "      <td>3.562917e+06</td>\n",
       "      <td>3.562917e+06</td>\n",
       "      <td>3.562917e+06</td>\n",
       "      <td>3.562917e+06</td>\n",
       "      <td>3.562917e+06</td>\n",
       "      <td>3.562917e+06</td>\n",
       "      <td>3.199809e+06</td>\n",
       "      <td>3.177910e+06</td>\n",
       "      <td>3.048183e+06</td>\n",
       "      <td>2.758718e+06</td>\n",
       "      <td>2.800712e+06</td>\n",
       "    </tr>\n",
       "    <tr>\n",
       "      <th>mean</th>\n",
       "      <td>4.969405e+04</td>\n",
       "      <td>1.988590e+03</td>\n",
       "      <td>2.113757e+00</td>\n",
       "      <td>7.911785e-03</td>\n",
       "      <td>1.144213e-02</td>\n",
       "      <td>1.865446e+03</td>\n",
       "      <td>3.530343e-03</td>\n",
       "      <td>1.988374e+03</td>\n",
       "      <td>1.989897e+06</td>\n",
       "      <td>1.025750e+00</td>\n",
       "      <td>8.195369e-03</td>\n",
       "      <td>2.792931e+00</td>\n",
       "    </tr>\n",
       "    <tr>\n",
       "      <th>std</th>\n",
       "      <td>2.830880e+04</td>\n",
       "      <td>2.058745e+01</td>\n",
       "      <td>9.309373e-01</td>\n",
       "      <td>1.805498e-01</td>\n",
       "      <td>1.804818e-01</td>\n",
       "      <td>1.699896e+04</td>\n",
       "      <td>2.688758e-03</td>\n",
       "      <td>2.070458e+01</td>\n",
       "      <td>1.755587e+07</td>\n",
       "      <td>4.162261e+00</td>\n",
       "      <td>4.831336e+01</td>\n",
       "      <td>5.151292e+02</td>\n",
       "    </tr>\n",
       "    <tr>\n",
       "      <th>min</th>\n",
       "      <td>1.000000e+04</td>\n",
       "      <td>1.926000e+03</td>\n",
       "      <td>1.000000e+00</td>\n",
       "      <td>-1.014149e+00</td>\n",
       "      <td>-1.000000e+00</td>\n",
       "      <td>0.000000e+00</td>\n",
       "      <td>-2.650000e-04</td>\n",
       "      <td>1.925000e+03</td>\n",
       "      <td>2.475000e+01</td>\n",
       "      <td>1.227392e-05</td>\n",
       "      <td>-2.261400e+04</td>\n",
       "      <td>-9.998177e-01</td>\n",
       "    </tr>\n",
       "    <tr>\n",
       "      <th>25%</th>\n",
       "      <td>2.113500e+04</td>\n",
       "      <td>1.977000e+03</td>\n",
       "      <td>1.000000e+00</td>\n",
       "      <td>-6.761671e-02</td>\n",
       "      <td>-6.398104e-02</td>\n",
       "      <td>1.728675e+01</td>\n",
       "      <td>1.208000e-03</td>\n",
       "      <td>1.977000e+03</td>\n",
       "      <td>1.952875e+04</td>\n",
       "      <td>3.718898e-01</td>\n",
       "      <td>7.893242e-02</td>\n",
       "      <td>-8.202707e-03</td>\n",
       "    </tr>\n",
       "    <tr>\n",
       "      <th>50%</th>\n",
       "      <td>4.827400e+04</td>\n",
       "      <td>1.991000e+03</td>\n",
       "      <td>2.000000e+00</td>\n",
       "      <td>-3.201000e-03</td>\n",
       "      <td>0.000000e+00</td>\n",
       "      <td>7.501000e+01</td>\n",
       "      <td>3.672000e-03</td>\n",
       "      <td>1.992000e+03</td>\n",
       "      <td>8.643600e+04</td>\n",
       "      <td>6.736575e-01</td>\n",
       "      <td>2.110166e-01</td>\n",
       "      <td>8.073031e-02</td>\n",
       "    </tr>\n",
       "    <tr>\n",
       "      <th>75%</th>\n",
       "      <td>7.821600e+04</td>\n",
       "      <td>2.003000e+03</td>\n",
       "      <td>3.000000e+00</td>\n",
       "      <td>6.665600e-02</td>\n",
       "      <td>6.995885e-02</td>\n",
       "      <td>4.168807e+02</td>\n",
       "      <td>4.943000e-03</td>\n",
       "      <td>2.003000e+03</td>\n",
       "      <td>4.770682e+05</td>\n",
       "      <td>1.140293e+00</td>\n",
       "      <td>3.213584e-01</td>\n",
       "      <td>2.209056e-01</td>\n",
       "    </tr>\n",
       "    <tr>\n",
       "      <th>max</th>\n",
       "      <td>9.343600e+04</td>\n",
       "      <td>2.022000e+03</td>\n",
       "      <td>3.000000e+00</td>\n",
       "      <td>2.399694e+01</td>\n",
       "      <td>2.400000e+01</td>\n",
       "      <td>2.902368e+06</td>\n",
       "      <td>1.515800e-02</td>\n",
       "      <td>2.021000e+03</td>\n",
       "      <td>2.902368e+09</td>\n",
       "      <td>1.250093e+03</td>\n",
       "      <td>3.141250e+03</td>\n",
       "      <td>4.091835e+05</td>\n",
       "    </tr>\n",
       "  </tbody>\n",
       "</table>\n",
       "</div>"
      ],
      "text/plain": [
       "             permno      rankyear        exchcd         exret        retadj  \\\n",
       "count  3.562917e+06  3.562917e+06  3.562917e+06  3.562917e+06  3.562917e+06   \n",
       "mean   4.969405e+04  1.988590e+03  2.113757e+00  7.911785e-03  1.144213e-02   \n",
       "std    2.830880e+04  2.058745e+01  9.309373e-01  1.805498e-01  1.804818e-01   \n",
       "min    1.000000e+04  1.926000e+03  1.000000e+00 -1.014149e+00 -1.000000e+00   \n",
       "25%    2.113500e+04  1.977000e+03  1.000000e+00 -6.761671e-02 -6.398104e-02   \n",
       "50%    4.827400e+04  1.991000e+03  2.000000e+00 -3.201000e-03  0.000000e+00   \n",
       "75%    7.821600e+04  2.003000e+03  3.000000e+00  6.665600e-02  6.995885e-02   \n",
       "max    9.343600e+04  2.022000e+03  3.000000e+00  2.399694e+01  2.400000e+01   \n",
       "\n",
       "             lag_me            rf         fyear         mesum          beme  \\\n",
       "count  3.562917e+06  3.562917e+06  3.199809e+06  3.177910e+06  3.048183e+06   \n",
       "mean   1.865446e+03  3.530343e-03  1.988374e+03  1.989897e+06  1.025750e+00   \n",
       "std    1.699896e+04  2.688758e-03  2.070458e+01  1.755587e+07  4.162261e+00   \n",
       "min    0.000000e+00 -2.650000e-04  1.925000e+03  2.475000e+01  1.227392e-05   \n",
       "25%    1.728675e+01  1.208000e-03  1.977000e+03  1.952875e+04  3.718898e-01   \n",
       "50%    7.501000e+01  3.672000e-03  1.992000e+03  8.643600e+04  6.736575e-01   \n",
       "75%    4.168807e+02  4.943000e-03  2.003000e+03  4.770682e+05  1.140293e+00   \n",
       "max    2.902368e+06  1.515800e-02  2.021000e+03  2.902368e+09  1.250093e+03   \n",
       "\n",
       "               opbe           inv  \n",
       "count  2.758718e+06  2.800712e+06  \n",
       "mean   8.195369e-03  2.792931e+00  \n",
       "std    4.831336e+01  5.151292e+02  \n",
       "min   -2.261400e+04 -9.998177e-01  \n",
       "25%    7.893242e-02 -8.202707e-03  \n",
       "50%    2.110166e-01  8.073031e-02  \n",
       "75%    3.213584e-01  2.209056e-01  \n",
       "max    3.141250e+03  4.091835e+05  "
      ]
     },
     "execution_count": 17,
     "metadata": {},
     "output_type": "execute_result"
    }
   ],
   "source": [
    "fdata.describe()"
   ]
  },
  {
   "cell_type": "markdown",
   "metadata": {
    "slideshow": {
     "slide_type": "slide"
    }
   },
   "source": [
    "## Forcasting Future Excess Returns"
   ]
  },
  {
   "cell_type": "code",
   "execution_count": 18,
   "metadata": {
    "slideshow": {
     "slide_type": "fragment"
    }
   },
   "outputs": [],
   "source": [
    "# FamaMacBeth regression\n",
    "def ols_coef(x,formula):\n",
    "    return smf.ols(formula,data=x).fit().params\n",
    "\n",
    "def fm_summary(p):\n",
    "    s = p.describe().T\n",
    "    s['std_error'] = s['std']/np.sqrt(s['count'])\n",
    "    s['tstat'] = s['mean']/s['std_error']\n",
    "    return s[['mean','std_error','tstat']]"
   ]
  },
  {
   "cell_type": "markdown",
   "metadata": {
    "slideshow": {
     "slide_type": "slide"
    }
   },
   "source": [
    "### Does BEME forcast future returns?"
   ]
  },
  {
   "cell_type": "code",
   "execution_count": 19,
   "metadata": {
    "slideshow": {
     "slide_type": "fragment"
    }
   },
   "outputs": [
    {
     "data": {
      "text/html": [
       "<div>\n",
       "<style scoped>\n",
       "    .dataframe tbody tr th:only-of-type {\n",
       "        vertical-align: middle;\n",
       "    }\n",
       "\n",
       "    .dataframe tbody tr th {\n",
       "        vertical-align: top;\n",
       "    }\n",
       "\n",
       "    .dataframe thead th {\n",
       "        text-align: right;\n",
       "    }\n",
       "</style>\n",
       "<table border=\"1\" class=\"dataframe\">\n",
       "  <thead>\n",
       "    <tr style=\"text-align: right;\">\n",
       "      <th></th>\n",
       "      <th>Intercept</th>\n",
       "      <th>beme</th>\n",
       "    </tr>\n",
       "    <tr>\n",
       "      <th>date</th>\n",
       "      <th></th>\n",
       "      <th></th>\n",
       "    </tr>\n",
       "  </thead>\n",
       "  <tbody>\n",
       "    <tr>\n",
       "      <th>1926-07-31</th>\n",
       "      <td>0.012579</td>\n",
       "      <td>0.005882</td>\n",
       "    </tr>\n",
       "    <tr>\n",
       "      <th>1926-08-31</th>\n",
       "      <td>0.009899</td>\n",
       "      <td>0.002373</td>\n",
       "    </tr>\n",
       "    <tr>\n",
       "      <th>1926-09-30</th>\n",
       "      <td>-0.013706</td>\n",
       "      <td>0.006393</td>\n",
       "    </tr>\n",
       "    <tr>\n",
       "      <th>1926-10-30</th>\n",
       "      <td>-0.037200</td>\n",
       "      <td>-0.000149</td>\n",
       "    </tr>\n",
       "    <tr>\n",
       "      <th>1926-11-30</th>\n",
       "      <td>0.017929</td>\n",
       "      <td>0.008330</td>\n",
       "    </tr>\n",
       "  </tbody>\n",
       "</table>\n",
       "</div>"
      ],
      "text/plain": [
       "            Intercept      beme\n",
       "date                           \n",
       "1926-07-31   0.012579  0.005882\n",
       "1926-08-31   0.009899  0.002373\n",
       "1926-09-30  -0.013706  0.006393\n",
       "1926-10-30  -0.037200 -0.000149\n",
       "1926-11-30   0.017929  0.008330"
      ]
     },
     "execution_count": 19,
     "metadata": {},
     "output_type": "execute_result"
    }
   ],
   "source": [
    "gamma_beme = (fdata.groupby('date')\n",
    "                .apply(ols_coef,'exret ~ 1 + beme'))\n",
    "gamma_beme.head()"
   ]
  },
  {
   "cell_type": "code",
   "execution_count": 20,
   "metadata": {
    "slideshow": {
     "slide_type": "subslide"
    }
   },
   "outputs": [
    {
     "data": {
      "text/plain": [
       "<AxesSubplot:xlabel='date'>"
      ]
     },
     "execution_count": 20,
     "metadata": {},
     "output_type": "execute_result"
    },
    {
     "data": {
      "image/png": "[encoded data removed]",
      "text/plain": [
       "<Figure size 720x432 with 1 Axes>"
      ]
     },
     "metadata": {
      "needs_background": "light"
     },
     "output_type": "display_data"
    }
   ],
   "source": [
    "gamma_beme.beme.plot()"
   ]
  },
  {
   "cell_type": "markdown",
   "metadata": {
    "slideshow": {
     "slide_type": "subslide"
    }
   },
   "source": [
    "#### What is the problem? "
   ]
  },
  {
   "cell_type": "code",
   "execution_count": 19,
   "metadata": {
    "slideshow": {
     "slide_type": "fragment"
    }
   },
   "outputs": [],
   "source": [
    "fdata.dropna(subset=['mesum', 'beme', 'opbe', 'inv'], inplace = True)"
   ]
  },
  {
   "cell_type": "code",
   "execution_count": 21,
   "metadata": {
    "slideshow": {
     "slide_type": "fragment"
    }
   },
   "outputs": [
    {
     "data": {
      "text/plain": [
       "<AxesSubplot:xlabel='date'>"
      ]
     },
     "execution_count": 21,
     "metadata": {},
     "output_type": "execute_result"
    },
    {
     "data": {
      "image/png": "[encoded data removed]",
      "text/plain": [
       "<Figure size 720x432 with 1 Axes>"
      ]
     },
     "metadata": {
      "needs_background": "light"
     },
     "output_type": "display_data"
    }
   ],
   "source": [
    "fdata.groupby('date').count().rankyear.plot()"
   ]
  },
  {
   "cell_type": "code",
   "execution_count": 22,
   "metadata": {
    "slideshow": {
     "slide_type": "fragment"
    }
   },
   "outputs": [],
   "source": [
    "fdata = fdata[fdata.rankyear>=1963]"
   ]
  },
  {
   "cell_type": "markdown",
   "metadata": {
    "slideshow": {
     "slide_type": "subslide"
    }
   },
   "source": [
    "#### Try to run the FM regression again!"
   ]
  },
  {
   "cell_type": "code",
   "execution_count": 23,
   "metadata": {
    "slideshow": {
     "slide_type": "fragment"
    }
   },
   "outputs": [
    {
     "data": {
      "text/html": [
       "<div>\n",
       "<style scoped>\n",
       "    .dataframe tbody tr th:only-of-type {\n",
       "        vertical-align: middle;\n",
       "    }\n",
       "\n",
       "    .dataframe tbody tr th {\n",
       "        vertical-align: top;\n",
       "    }\n",
       "\n",
       "    .dataframe thead th {\n",
       "        text-align: right;\n",
       "    }\n",
       "</style>\n",
       "<table border=\"1\" class=\"dataframe\">\n",
       "  <thead>\n",
       "    <tr style=\"text-align: right;\">\n",
       "      <th></th>\n",
       "      <th>Intercept</th>\n",
       "      <th>beme</th>\n",
       "    </tr>\n",
       "    <tr>\n",
       "      <th>date</th>\n",
       "      <th></th>\n",
       "      <th></th>\n",
       "    </tr>\n",
       "  </thead>\n",
       "  <tbody>\n",
       "    <tr>\n",
       "      <th>1963-07-31</th>\n",
       "      <td>-0.006559</td>\n",
       "      <td>-0.004590</td>\n",
       "    </tr>\n",
       "    <tr>\n",
       "      <th>1963-08-30</th>\n",
       "      <td>0.050975</td>\n",
       "      <td>-0.005010</td>\n",
       "    </tr>\n",
       "    <tr>\n",
       "      <th>1963-09-30</th>\n",
       "      <td>-0.029356</td>\n",
       "      <td>0.009147</td>\n",
       "    </tr>\n",
       "    <tr>\n",
       "      <th>1963-10-31</th>\n",
       "      <td>0.009544</td>\n",
       "      <td>0.005235</td>\n",
       "    </tr>\n",
       "    <tr>\n",
       "      <th>1963-11-29</th>\n",
       "      <td>-0.011189</td>\n",
       "      <td>-0.000489</td>\n",
       "    </tr>\n",
       "  </tbody>\n",
       "</table>\n",
       "</div>"
      ],
      "text/plain": [
       "            Intercept      beme\n",
       "date                           \n",
       "1963-07-31  -0.006559 -0.004590\n",
       "1963-08-30   0.050975 -0.005010\n",
       "1963-09-30  -0.029356  0.009147\n",
       "1963-10-31   0.009544  0.005235\n",
       "1963-11-29  -0.011189 -0.000489"
      ]
     },
     "execution_count": 23,
     "metadata": {},
     "output_type": "execute_result"
    }
   ],
   "source": [
    "gamma_beme = (fdata.groupby('date')\n",
    "                .apply(ols_coef,'exret ~ 1 + beme'))\n",
    "gamma_beme.head()"
   ]
  },
  {
   "cell_type": "code",
   "execution_count": 24,
   "metadata": {
    "slideshow": {
     "slide_type": "subslide"
    }
   },
   "outputs": [
    {
     "data": {
      "text/plain": [
       "<AxesSubplot:xlabel='date'>"
      ]
     },
     "execution_count": 24,
     "metadata": {},
     "output_type": "execute_result"
    },
    {
     "data": {
      "image/png": "[encoded data removed]",
      "text/plain": [
       "<Figure size 720x432 with 1 Axes>"
      ]
     },
     "metadata": {
      "needs_background": "light"
     },
     "output_type": "display_data"
    }
   ],
   "source": [
    "gamma_beme.beme.plot()"
   ]
  },
  {
   "cell_type": "code",
   "execution_count": 25,
   "metadata": {
    "scrolled": true,
    "slideshow": {
     "slide_type": "fragment"
    }
   },
   "outputs": [
    {
     "data": {
      "text/html": [
       "<div>\n",
       "<style scoped>\n",
       "    .dataframe tbody tr th:only-of-type {\n",
       "        vertical-align: middle;\n",
       "    }\n",
       "\n",
       "    .dataframe tbody tr th {\n",
       "        vertical-align: top;\n",
       "    }\n",
       "\n",
       "    .dataframe thead th {\n",
       "        text-align: right;\n",
       "    }\n",
       "</style>\n",
       "<table border=\"1\" class=\"dataframe\">\n",
       "  <thead>\n",
       "    <tr style=\"text-align: right;\">\n",
       "      <th></th>\n",
       "      <th>mean</th>\n",
       "      <th>std_error</th>\n",
       "      <th>tstat</th>\n",
       "    </tr>\n",
       "  </thead>\n",
       "  <tbody>\n",
       "    <tr>\n",
       "      <th>Intercept</th>\n",
       "      <td>0.005364</td>\n",
       "      <td>0.002264</td>\n",
       "      <td>2.369582</td>\n",
       "    </tr>\n",
       "    <tr>\n",
       "      <th>beme</th>\n",
       "      <td>0.003220</td>\n",
       "      <td>0.000568</td>\n",
       "      <td>5.668748</td>\n",
       "    </tr>\n",
       "  </tbody>\n",
       "</table>\n",
       "</div>"
      ],
      "text/plain": [
       "               mean  std_error     tstat\n",
       "Intercept  0.005364   0.002264  2.369582\n",
       "beme       0.003220   0.000568  5.668748"
      ]
     },
     "execution_count": 25,
     "metadata": {},
     "output_type": "execute_result"
    }
   ],
   "source": [
    "# Fama-Macbeth regressions results\n",
    "fm_summary(gamma_beme)"
   ]
  },
  {
   "cell_type": "markdown",
   "metadata": {
    "slideshow": {
     "slide_type": "subslide"
    }
   },
   "source": [
    "**What's the problem (again)?**"
   ]
  },
  {
   "cell_type": "code",
   "execution_count": 27,
   "metadata": {
    "slideshow": {
     "slide_type": "fragment"
    }
   },
   "outputs": [
    {
     "data": {
      "text/plain": [
       "<AxesSubplot:>"
      ]
     },
     "execution_count": 27,
     "metadata": {},
     "output_type": "execute_result"
    },
    {
     "data": {
      "image/png": "[encoded data removed]",
      "text/plain": [
       "<Figure size 720x432 with 1 Axes>"
      ]
     },
     "metadata": {
      "needs_background": "light"
     },
     "output_type": "display_data"
    }
   ],
   "source": [
    "fdata.beme.hist()"
   ]
  },
  {
   "cell_type": "code",
   "execution_count": 26,
   "metadata": {
    "code_folding": [],
    "slideshow": {
     "slide_type": "subslide"
    }
   },
   "outputs": [
    {
     "data": {
      "text/plain": [
       "<AxesSubplot:xlabel='date'>"
      ]
     },
     "execution_count": 26,
     "metadata": {},
     "output_type": "execute_result"
    },
    {
     "data": {
      "image/png": "[encoded data removed]",
      "text/plain": [
       "<Figure size 720x432 with 1 Axes>"
      ]
     },
     "metadata": {
      "needs_background": "light"
     },
     "output_type": "display_data"
    }
   ],
   "source": [
    "# Try log \n",
    "gamma_beme = (fdata.groupby('date')\n",
    "                .apply(ols_coef,'exret ~ 1 + np.log(beme)'))\n",
    "gamma_beme['np.log(beme)'].plot()"
   ]
  },
  {
   "cell_type": "code",
   "execution_count": 27,
   "metadata": {
    "scrolled": true,
    "slideshow": {
     "slide_type": "fragment"
    }
   },
   "outputs": [
    {
     "data": {
      "text/html": [
       "<div>\n",
       "<style scoped>\n",
       "    .dataframe tbody tr th:only-of-type {\n",
       "        vertical-align: middle;\n",
       "    }\n",
       "\n",
       "    .dataframe tbody tr th {\n",
       "        vertical-align: top;\n",
       "    }\n",
       "\n",
       "    .dataframe thead th {\n",
       "        text-align: right;\n",
       "    }\n",
       "</style>\n",
       "<table border=\"1\" class=\"dataframe\">\n",
       "  <thead>\n",
       "    <tr style=\"text-align: right;\">\n",
       "      <th></th>\n",
       "      <th>mean</th>\n",
       "      <th>std_error</th>\n",
       "      <th>tstat</th>\n",
       "    </tr>\n",
       "  </thead>\n",
       "  <tbody>\n",
       "    <tr>\n",
       "      <th>Intercept</th>\n",
       "      <td>0.009790</td>\n",
       "      <td>0.002113</td>\n",
       "      <td>4.632453</td>\n",
       "    </tr>\n",
       "    <tr>\n",
       "      <th>np.log(beme)</th>\n",
       "      <td>0.003767</td>\n",
       "      <td>0.000549</td>\n",
       "      <td>6.866888</td>\n",
       "    </tr>\n",
       "  </tbody>\n",
       "</table>\n",
       "</div>"
      ],
      "text/plain": [
       "                  mean  std_error     tstat\n",
       "Intercept     0.009790   0.002113  4.632453\n",
       "np.log(beme)  0.003767   0.000549  6.866888"
      ]
     },
     "execution_count": 27,
     "metadata": {},
     "output_type": "execute_result"
    }
   ],
   "source": [
    "# Fama-Macbeth regressions results\n",
    "fm_summary(gamma_beme)"
   ]
  },
  {
   "cell_type": "markdown",
   "metadata": {
    "slideshow": {
     "slide_type": "subslide"
    }
   },
   "source": [
    "#### Is Value dead?"
   ]
  },
  {
   "cell_type": "code",
   "execution_count": 28,
   "metadata": {
    "slideshow": {
     "slide_type": "fragment"
    }
   },
   "outputs": [
    {
     "data": {
      "text/html": [
       "<div>\n",
       "<style scoped>\n",
       "    .dataframe tbody tr th:only-of-type {\n",
       "        vertical-align: middle;\n",
       "    }\n",
       "\n",
       "    .dataframe tbody tr th {\n",
       "        vertical-align: top;\n",
       "    }\n",
       "\n",
       "    .dataframe thead th {\n",
       "        text-align: right;\n",
       "    }\n",
       "</style>\n",
       "<table border=\"1\" class=\"dataframe\">\n",
       "  <thead>\n",
       "    <tr style=\"text-align: right;\">\n",
       "      <th></th>\n",
       "      <th>mean</th>\n",
       "      <th>std_error</th>\n",
       "      <th>tstat</th>\n",
       "    </tr>\n",
       "  </thead>\n",
       "  <tbody>\n",
       "    <tr>\n",
       "      <th>Intercept</th>\n",
       "      <td>0.010254</td>\n",
       "      <td>0.004656</td>\n",
       "      <td>2.202629</td>\n",
       "    </tr>\n",
       "    <tr>\n",
       "      <th>np.log(beme)</th>\n",
       "      <td>0.001140</td>\n",
       "      <td>0.000981</td>\n",
       "      <td>1.162178</td>\n",
       "    </tr>\n",
       "  </tbody>\n",
       "</table>\n",
       "</div>"
      ],
      "text/plain": [
       "                  mean  std_error     tstat\n",
       "Intercept     0.010254   0.004656  2.202629\n",
       "np.log(beme)  0.001140   0.000981  1.162178"
      ]
     },
     "execution_count": 28,
     "metadata": {},
     "output_type": "execute_result"
    }
   ],
   "source": [
    "fm_summary(gamma_beme.loc['2010-01-01':])"
   ]
  },
  {
   "cell_type": "code",
   "execution_count": 29,
   "metadata": {
    "slideshow": {
     "slide_type": "fragment"
    }
   },
   "outputs": [
    {
     "data": {
      "text/html": [
       "<div>\n",
       "<style scoped>\n",
       "    .dataframe tbody tr th:only-of-type {\n",
       "        vertical-align: middle;\n",
       "    }\n",
       "\n",
       "    .dataframe tbody tr th {\n",
       "        vertical-align: top;\n",
       "    }\n",
       "\n",
       "    .dataframe thead th {\n",
       "        text-align: right;\n",
       "    }\n",
       "</style>\n",
       "<table border=\"1\" class=\"dataframe\">\n",
       "  <thead>\n",
       "    <tr style=\"text-align: right;\">\n",
       "      <th></th>\n",
       "      <th>mean</th>\n",
       "      <th>std_error</th>\n",
       "      <th>tstat</th>\n",
       "    </tr>\n",
       "  </thead>\n",
       "  <tbody>\n",
       "    <tr>\n",
       "      <th>Intercept</th>\n",
       "      <td>0.010684</td>\n",
       "      <td>0.002359</td>\n",
       "      <td>4.529734</td>\n",
       "    </tr>\n",
       "    <tr>\n",
       "      <th>np.log(beme)</th>\n",
       "      <td>0.004903</td>\n",
       "      <td>0.000667</td>\n",
       "      <td>7.349767</td>\n",
       "    </tr>\n",
       "  </tbody>\n",
       "</table>\n",
       "</div>"
      ],
      "text/plain": [
       "                  mean  std_error     tstat\n",
       "Intercept     0.010684   0.002359  4.529734\n",
       "np.log(beme)  0.004903   0.000667  7.349767"
      ]
     },
     "execution_count": 29,
     "metadata": {},
     "output_type": "execute_result"
    }
   ],
   "source": [
    "fm_summary(gamma_beme.loc[:'2006-12-31'])"
   ]
  },
  {
   "cell_type": "markdown",
   "metadata": {
    "slideshow": {
     "slide_type": "slide"
    }
   },
   "source": [
    "### Does size forcast future returns?"
   ]
  },
  {
   "cell_type": "code",
   "execution_count": 30,
   "metadata": {
    "slideshow": {
     "slide_type": "fragment"
    }
   },
   "outputs": [
    {
     "data": {
      "text/plain": [
       "<AxesSubplot:xlabel='date'>"
      ]
     },
     "execution_count": 30,
     "metadata": {},
     "output_type": "execute_result"
    },
    {
     "data": {
      "image/png": "[encoded data removed]",
      "text/plain": [
       "<Figure size 720x432 with 1 Axes>"
      ]
     },
     "metadata": {
      "needs_background": "light"
     },
     "output_type": "display_data"
    }
   ],
   "source": [
    "gamma_me = (fdata.groupby('date')\n",
    "                .apply(ols_coef,'exret ~ 1 + np.log(mesum)'))\n",
    "gamma_me['np.log(mesum)'].plot()"
   ]
  },
  {
   "cell_type": "code",
   "execution_count": 31,
   "metadata": {
    "scrolled": true,
    "slideshow": {
     "slide_type": "subslide"
    }
   },
   "outputs": [
    {
     "data": {
      "text/html": [
       "<div>\n",
       "<style scoped>\n",
       "    .dataframe tbody tr th:only-of-type {\n",
       "        vertical-align: middle;\n",
       "    }\n",
       "\n",
       "    .dataframe tbody tr th {\n",
       "        vertical-align: top;\n",
       "    }\n",
       "\n",
       "    .dataframe thead th {\n",
       "        text-align: right;\n",
       "    }\n",
       "</style>\n",
       "<table border=\"1\" class=\"dataframe\">\n",
       "  <thead>\n",
       "    <tr style=\"text-align: right;\">\n",
       "      <th></th>\n",
       "      <th>mean</th>\n",
       "      <th>std_error</th>\n",
       "      <th>tstat</th>\n",
       "    </tr>\n",
       "  </thead>\n",
       "  <tbody>\n",
       "    <tr>\n",
       "      <th>Intercept</th>\n",
       "      <td>0.019529</td>\n",
       "      <td>0.005255</td>\n",
       "      <td>3.716007</td>\n",
       "    </tr>\n",
       "    <tr>\n",
       "      <th>np.log(mesum)</th>\n",
       "      <td>-0.001056</td>\n",
       "      <td>0.000347</td>\n",
       "      <td>-3.042086</td>\n",
       "    </tr>\n",
       "  </tbody>\n",
       "</table>\n",
       "</div>"
      ],
      "text/plain": [
       "                   mean  std_error     tstat\n",
       "Intercept      0.019529   0.005255  3.716007\n",
       "np.log(mesum) -0.001056   0.000347 -3.042086"
      ]
     },
     "execution_count": 31,
     "metadata": {},
     "output_type": "execute_result"
    }
   ],
   "source": [
    "# Fama-Macbeth regressions results\n",
    "fm_summary(gamma_me) "
   ]
  },
  {
   "cell_type": "markdown",
   "metadata": {
    "slideshow": {
     "slide_type": "subslide"
    }
   },
   "source": [
    "#### What happened to Size factor?"
   ]
  },
  {
   "cell_type": "code",
   "execution_count": 32,
   "metadata": {
    "slideshow": {
     "slide_type": "fragment"
    }
   },
   "outputs": [
    {
     "data": {
      "text/html": [
       "<div>\n",
       "<style scoped>\n",
       "    .dataframe tbody tr th:only-of-type {\n",
       "        vertical-align: middle;\n",
       "    }\n",
       "\n",
       "    .dataframe tbody tr th {\n",
       "        vertical-align: top;\n",
       "    }\n",
       "\n",
       "    .dataframe thead th {\n",
       "        text-align: right;\n",
       "    }\n",
       "</style>\n",
       "<table border=\"1\" class=\"dataframe\">\n",
       "  <thead>\n",
       "    <tr style=\"text-align: right;\">\n",
       "      <th></th>\n",
       "      <th>mean</th>\n",
       "      <th>std_error</th>\n",
       "      <th>tstat</th>\n",
       "    </tr>\n",
       "  </thead>\n",
       "  <tbody>\n",
       "    <tr>\n",
       "      <th>Intercept</th>\n",
       "      <td>0.005439</td>\n",
       "      <td>0.010398</td>\n",
       "      <td>0.523034</td>\n",
       "    </tr>\n",
       "    <tr>\n",
       "      <th>np.log(mesum)</th>\n",
       "      <td>0.000271</td>\n",
       "      <td>0.000601</td>\n",
       "      <td>0.450320</td>\n",
       "    </tr>\n",
       "  </tbody>\n",
       "</table>\n",
       "</div>"
      ],
      "text/plain": [
       "                   mean  std_error     tstat\n",
       "Intercept      0.005439   0.010398  0.523034\n",
       "np.log(mesum)  0.000271   0.000601  0.450320"
      ]
     },
     "execution_count": 32,
     "metadata": {},
     "output_type": "execute_result"
    }
   ],
   "source": [
    "fm_summary(gamma_me['2010-01-01':]) "
   ]
  },
  {
   "cell_type": "code",
   "execution_count": 33,
   "metadata": {
    "scrolled": true,
    "slideshow": {
     "slide_type": "fragment"
    }
   },
   "outputs": [
    {
     "data": {
      "text/html": [
       "<div>\n",
       "<style scoped>\n",
       "    .dataframe tbody tr th:only-of-type {\n",
       "        vertical-align: middle;\n",
       "    }\n",
       "\n",
       "    .dataframe tbody tr th {\n",
       "        vertical-align: top;\n",
       "    }\n",
       "\n",
       "    .dataframe thead th {\n",
       "        text-align: right;\n",
       "    }\n",
       "</style>\n",
       "<table border=\"1\" class=\"dataframe\">\n",
       "  <thead>\n",
       "    <tr style=\"text-align: right;\">\n",
       "      <th></th>\n",
       "      <th>mean</th>\n",
       "      <th>std_error</th>\n",
       "      <th>tstat</th>\n",
       "    </tr>\n",
       "  </thead>\n",
       "  <tbody>\n",
       "    <tr>\n",
       "      <th>Intercept</th>\n",
       "      <td>0.025870</td>\n",
       "      <td>0.006292</td>\n",
       "      <td>4.111606</td>\n",
       "    </tr>\n",
       "    <tr>\n",
       "      <th>np.log(mesum)</th>\n",
       "      <td>-0.001569</td>\n",
       "      <td>0.000428</td>\n",
       "      <td>-3.663258</td>\n",
       "    </tr>\n",
       "  </tbody>\n",
       "</table>\n",
       "</div>"
      ],
      "text/plain": [
       "                   mean  std_error     tstat\n",
       "Intercept      0.025870   0.006292  4.111606\n",
       "np.log(mesum) -0.001569   0.000428 -3.663258"
      ]
     },
     "execution_count": 33,
     "metadata": {},
     "output_type": "execute_result"
    }
   ],
   "source": [
    "fm_summary(gamma_me[:'2006-12-31'])"
   ]
  },
  {
   "cell_type": "markdown",
   "metadata": {
    "slideshow": {
     "slide_type": "slide"
    }
   },
   "source": [
    "### What about Fama and French 2015?"
   ]
  },
  {
   "cell_type": "code",
   "execution_count": 34,
   "metadata": {
    "slideshow": {
     "slide_type": "fragment"
    }
   },
   "outputs": [
    {
     "data": {
      "text/html": [
       "<div>\n",
       "<style scoped>\n",
       "    .dataframe tbody tr th:only-of-type {\n",
       "        vertical-align: middle;\n",
       "    }\n",
       "\n",
       "    .dataframe tbody tr th {\n",
       "        vertical-align: top;\n",
       "    }\n",
       "\n",
       "    .dataframe thead th {\n",
       "        text-align: right;\n",
       "    }\n",
       "</style>\n",
       "<table border=\"1\" class=\"dataframe\">\n",
       "  <thead>\n",
       "    <tr style=\"text-align: right;\">\n",
       "      <th></th>\n",
       "      <th>Intercept</th>\n",
       "      <th>np.log(mesum)</th>\n",
       "      <th>np.log(beme)</th>\n",
       "      <th>opbe</th>\n",
       "      <th>inv</th>\n",
       "    </tr>\n",
       "    <tr>\n",
       "      <th>date</th>\n",
       "      <th></th>\n",
       "      <th></th>\n",
       "      <th></th>\n",
       "      <th></th>\n",
       "      <th></th>\n",
       "    </tr>\n",
       "  </thead>\n",
       "  <tbody>\n",
       "    <tr>\n",
       "      <th>1963-07-31</th>\n",
       "      <td>-0.014215</td>\n",
       "      <td>0.000114</td>\n",
       "      <td>-0.007562</td>\n",
       "      <td>0.000666</td>\n",
       "      <td>-0.003754</td>\n",
       "    </tr>\n",
       "    <tr>\n",
       "      <th>1963-08-30</th>\n",
       "      <td>-0.006858</td>\n",
       "      <td>0.004742</td>\n",
       "      <td>-0.000159</td>\n",
       "      <td>0.002730</td>\n",
       "      <td>-0.004594</td>\n",
       "    </tr>\n",
       "    <tr>\n",
       "      <th>1963-09-30</th>\n",
       "      <td>-0.036090</td>\n",
       "      <td>0.001683</td>\n",
       "      <td>0.011904</td>\n",
       "      <td>0.003427</td>\n",
       "      <td>-0.010557</td>\n",
       "    </tr>\n",
       "    <tr>\n",
       "      <th>1963-10-31</th>\n",
       "      <td>-0.008050</td>\n",
       "      <td>0.001757</td>\n",
       "      <td>0.007862</td>\n",
       "      <td>0.018836</td>\n",
       "      <td>0.001823</td>\n",
       "    </tr>\n",
       "    <tr>\n",
       "      <th>1963-11-29</th>\n",
       "      <td>-0.036509</td>\n",
       "      <td>0.002485</td>\n",
       "      <td>0.004464</td>\n",
       "      <td>0.002897</td>\n",
       "      <td>-0.027017</td>\n",
       "    </tr>\n",
       "  </tbody>\n",
       "</table>\n",
       "</div>"
      ],
      "text/plain": [
       "            Intercept  np.log(mesum)  np.log(beme)      opbe       inv\n",
       "date                                                                  \n",
       "1963-07-31  -0.014215       0.000114     -0.007562  0.000666 -0.003754\n",
       "1963-08-30  -0.006858       0.004742     -0.000159  0.002730 -0.004594\n",
       "1963-09-30  -0.036090       0.001683      0.011904  0.003427 -0.010557\n",
       "1963-10-31  -0.008050       0.001757      0.007862  0.018836  0.001823\n",
       "1963-11-29  -0.036509       0.002485      0.004464  0.002897 -0.027017"
      ]
     },
     "execution_count": 34,
     "metadata": {},
     "output_type": "execute_result"
    }
   ],
   "source": [
    "gamma_f5 = (fdata.groupby('date')\n",
    "                .apply(ols_coef,'exret ~ 1 + np.log(mesum)+ np.log(beme) + opbe + inv'))\n",
    "gamma_f5.head()"
   ]
  },
  {
   "cell_type": "code",
   "execution_count": 37,
   "metadata": {
    "slideshow": {
     "slide_type": "subslide"
    }
   },
   "outputs": [
    {
     "data": {
      "text/plain": [
       "<AxesSubplot:xlabel='date'>"
      ]
     },
     "execution_count": 37,
     "metadata": {},
     "output_type": "execute_result"
    },
    {
     "data": {
      "image/png": "[encoded data removed]",
      "text/plain": [
       "<Figure size 720x432 with 1 Axes>"
      ]
     },
     "metadata": {
      "needs_background": "light"
     },
     "output_type": "display_data"
    }
   ],
   "source": [
    "gamma_f5.plot()"
   ]
  },
  {
   "cell_type": "code",
   "execution_count": 38,
   "metadata": {
    "slideshow": {
     "slide_type": "subslide"
    }
   },
   "outputs": [
    {
     "data": {
      "text/html": [
       "<div>\n",
       "<style scoped>\n",
       "    .dataframe tbody tr th:only-of-type {\n",
       "        vertical-align: middle;\n",
       "    }\n",
       "\n",
       "    .dataframe tbody tr th {\n",
       "        vertical-align: top;\n",
       "    }\n",
       "\n",
       "    .dataframe thead th {\n",
       "        text-align: right;\n",
       "    }\n",
       "</style>\n",
       "<table border=\"1\" class=\"dataframe\">\n",
       "  <thead>\n",
       "    <tr style=\"text-align: right;\">\n",
       "      <th></th>\n",
       "      <th>mean</th>\n",
       "      <th>std_error</th>\n",
       "      <th>tstat</th>\n",
       "    </tr>\n",
       "  </thead>\n",
       "  <tbody>\n",
       "    <tr>\n",
       "      <th>Intercept</th>\n",
       "      <td>0.017341</td>\n",
       "      <td>0.005457</td>\n",
       "      <td>3.177833</td>\n",
       "    </tr>\n",
       "    <tr>\n",
       "      <th>np.log(mesum)</th>\n",
       "      <td>-0.000728</td>\n",
       "      <td>0.000375</td>\n",
       "      <td>-1.942154</td>\n",
       "    </tr>\n",
       "    <tr>\n",
       "      <th>np.log(beme)</th>\n",
       "      <td>0.002837</td>\n",
       "      <td>0.000607</td>\n",
       "      <td>4.673214</td>\n",
       "    </tr>\n",
       "    <tr>\n",
       "      <th>opbe</th>\n",
       "      <td>0.000494</td>\n",
       "      <td>0.000281</td>\n",
       "      <td>1.757635</td>\n",
       "    </tr>\n",
       "    <tr>\n",
       "      <th>inv</th>\n",
       "      <td>-0.001840</td>\n",
       "      <td>0.000322</td>\n",
       "      <td>-5.716845</td>\n",
       "    </tr>\n",
       "  </tbody>\n",
       "</table>\n",
       "</div>"
      ],
      "text/plain": [
       "                   mean  std_error     tstat\n",
       "Intercept      0.017341   0.005457  3.177833\n",
       "np.log(mesum) -0.000728   0.000375 -1.942154\n",
       "np.log(beme)   0.002837   0.000607  4.673214\n",
       "opbe           0.000494   0.000281  1.757635\n",
       "inv           -0.001840   0.000322 -5.716845"
      ]
     },
     "execution_count": 38,
     "metadata": {},
     "output_type": "execute_result"
    }
   ],
   "source": [
    "fm_summary(gamma_f5)"
   ]
  },
  {
   "cell_type": "code",
   "execution_count": 35,
   "metadata": {
    "slideshow": {
     "slide_type": "fragment"
    }
   },
   "outputs": [
    {
     "data": {
      "text/html": [
       "<div>\n",
       "<style scoped>\n",
       "    .dataframe tbody tr th:only-of-type {\n",
       "        vertical-align: middle;\n",
       "    }\n",
       "\n",
       "    .dataframe tbody tr th {\n",
       "        vertical-align: top;\n",
       "    }\n",
       "\n",
       "    .dataframe thead th {\n",
       "        text-align: right;\n",
       "    }\n",
       "</style>\n",
       "<table border=\"1\" class=\"dataframe\">\n",
       "  <thead>\n",
       "    <tr style=\"text-align: right;\">\n",
       "      <th></th>\n",
       "      <th>mean</th>\n",
       "      <th>std_error</th>\n",
       "      <th>tstat</th>\n",
       "    </tr>\n",
       "  </thead>\n",
       "  <tbody>\n",
       "    <tr>\n",
       "      <th>Intercept</th>\n",
       "      <td>0.023823</td>\n",
       "      <td>0.006591</td>\n",
       "      <td>3.614767</td>\n",
       "    </tr>\n",
       "    <tr>\n",
       "      <th>np.log(mesum)</th>\n",
       "      <td>-0.001217</td>\n",
       "      <td>0.000465</td>\n",
       "      <td>-2.617053</td>\n",
       "    </tr>\n",
       "    <tr>\n",
       "      <th>np.log(beme)</th>\n",
       "      <td>0.003428</td>\n",
       "      <td>0.000745</td>\n",
       "      <td>4.604515</td>\n",
       "    </tr>\n",
       "    <tr>\n",
       "      <th>opbe</th>\n",
       "      <td>0.000623</td>\n",
       "      <td>0.000380</td>\n",
       "      <td>1.636797</td>\n",
       "    </tr>\n",
       "    <tr>\n",
       "      <th>inv</th>\n",
       "      <td>-0.002412</td>\n",
       "      <td>0.000435</td>\n",
       "      <td>-5.541248</td>\n",
       "    </tr>\n",
       "  </tbody>\n",
       "</table>\n",
       "</div>"
      ],
      "text/plain": [
       "                   mean  std_error     tstat\n",
       "Intercept      0.023823   0.006591  3.614767\n",
       "np.log(mesum) -0.001217   0.000465 -2.617053\n",
       "np.log(beme)   0.003428   0.000745  4.604515\n",
       "opbe           0.000623   0.000380  1.636797\n",
       "inv           -0.002412   0.000435 -5.541248"
      ]
     },
     "execution_count": 35,
     "metadata": {},
     "output_type": "execute_result"
    }
   ],
   "source": [
    "fm_summary(gamma_f5[:'2006-12-31']) "
   ]
  },
  {
   "cell_type": "markdown",
   "metadata": {
    "slideshow": {
     "slide_type": "slide"
    }
   },
   "source": [
    "## Long-short portfolio"
   ]
  },
  {
   "cell_type": "markdown",
   "metadata": {
    "slideshow": {
     "slide_type": "subslide"
    }
   },
   "source": [
    "### How to Construct a ``Factor\"?\n",
    "<img src=\"ff6.png\" width=\"800\" height=\"400\">"
   ]
  },
  {
   "cell_type": "markdown",
   "metadata": {
    "slideshow": {
     "slide_type": "subslide"
    }
   },
   "source": [
    "### Sort Portfolio"
   ]
  },
  {
   "cell_type": "code",
   "execution_count": 36,
   "metadata": {
    "slideshow": {
     "slide_type": "fragment"
    }
   },
   "outputs": [
    {
     "name": "stdout",
     "output_type": "stream",
     "text": [
      "NYSE breakpoints were calculated for mesum.\n",
      "Stocks were sorted according to breakpoints, starting in 1963\n",
      "NYSE breakpoints were calculated for beme.\n",
      "Stocks were sorted according to breakpoints, starting in 1963\n",
      "NYSE breakpoints were calculated for opbe.\n",
      "Stocks were sorted according to breakpoints, starting in 1963\n",
      "NYSE breakpoints were calculated for inv.\n",
      "Stocks were sorted according to breakpoints, starting in 1963\n"
     ]
    }
   ],
   "source": [
    "port = sort_portfolios(data = fdata,\n",
    "                       quantiles={'mesum': [0.5],\n",
    "                                  'beme': [0.3, 0.7],\n",
    "                                  'opbe': [0.3, 0.7],\n",
    "                                  'inv': [0.3, 0.7]},\n",
    "                       id_variables=['rankyear', 'permno', 'exchcd'],\n",
    "                       exch_cd=[1])  "
   ]
  },
  {
   "cell_type": "markdown",
   "metadata": {
    "slideshow": {
     "slide_type": "subslide"
    }
   },
   "source": [
    "Look at the data."
   ]
  },
  {
   "cell_type": "code",
   "execution_count": 37,
   "metadata": {
    "slideshow": {
     "slide_type": "fragment"
    }
   },
   "outputs": [
    {
     "data": {
      "text/html": [
       "<div>\n",
       "<style scoped>\n",
       "    .dataframe tbody tr th:only-of-type {\n",
       "        vertical-align: middle;\n",
       "    }\n",
       "\n",
       "    .dataframe tbody tr th {\n",
       "        vertical-align: top;\n",
       "    }\n",
       "\n",
       "    .dataframe thead th {\n",
       "        text-align: right;\n",
       "    }\n",
       "</style>\n",
       "<table border=\"1\" class=\"dataframe\">\n",
       "  <thead>\n",
       "    <tr style=\"text-align: right;\">\n",
       "      <th></th>\n",
       "      <th>rankyear</th>\n",
       "      <th>permno</th>\n",
       "      <th>invportfolio</th>\n",
       "      <th>opbeportfolio</th>\n",
       "      <th>bemeportfolio</th>\n",
       "      <th>mesumportfolio</th>\n",
       "    </tr>\n",
       "  </thead>\n",
       "  <tbody>\n",
       "    <tr>\n",
       "      <th>0</th>\n",
       "      <td>1963</td>\n",
       "      <td>10006.0</td>\n",
       "      <td>inv1</td>\n",
       "      <td>opbe1</td>\n",
       "      <td>beme3</td>\n",
       "      <td>mesum2</td>\n",
       "    </tr>\n",
       "    <tr>\n",
       "      <th>1</th>\n",
       "      <td>1963</td>\n",
       "      <td>10014.0</td>\n",
       "      <td>inv2</td>\n",
       "      <td>opbe1</td>\n",
       "      <td>beme3</td>\n",
       "      <td>mesum1</td>\n",
       "    </tr>\n",
       "    <tr>\n",
       "      <th>2</th>\n",
       "      <td>1963</td>\n",
       "      <td>10102.0</td>\n",
       "      <td>inv3</td>\n",
       "      <td>opbe2</td>\n",
       "      <td>beme2</td>\n",
       "      <td>mesum2</td>\n",
       "    </tr>\n",
       "    <tr>\n",
       "      <th>3</th>\n",
       "      <td>1963</td>\n",
       "      <td>10137.0</td>\n",
       "      <td>inv2</td>\n",
       "      <td>opbe3</td>\n",
       "      <td>beme1</td>\n",
       "      <td>mesum2</td>\n",
       "    </tr>\n",
       "    <tr>\n",
       "      <th>4</th>\n",
       "      <td>1963</td>\n",
       "      <td>10145.0</td>\n",
       "      <td>inv3</td>\n",
       "      <td>opbe2</td>\n",
       "      <td>beme2</td>\n",
       "      <td>mesum2</td>\n",
       "    </tr>\n",
       "  </tbody>\n",
       "</table>\n",
       "</div>"
      ],
      "text/plain": [
       "   rankyear   permno invportfolio opbeportfolio bemeportfolio mesumportfolio\n",
       "0      1963  10006.0         inv1         opbe1         beme3         mesum2\n",
       "1      1963  10014.0         inv2         opbe1         beme3         mesum1\n",
       "2      1963  10102.0         inv3         opbe2         beme2         mesum2\n",
       "3      1963  10137.0         inv2         opbe3         beme1         mesum2\n",
       "4      1963  10145.0         inv3         opbe2         beme2         mesum2"
      ]
     },
     "execution_count": 37,
     "metadata": {},
     "output_type": "execute_result"
    }
   ],
   "source": [
    "port.head()"
   ]
  },
  {
   "cell_type": "code",
   "execution_count": 38,
   "metadata": {},
   "outputs": [
    {
     "data": {
      "text/plain": [
       "rankyear  mesumportfolio\n",
       "1963      mesum1             524\n",
       "          mesum2             382\n",
       "1964      mesum1             595\n",
       "          mesum2             391\n",
       "1965      mesum1             669\n",
       "                            ... \n",
       "2020      mesum2             879\n",
       "2021      mesum1            2386\n",
       "          mesum2             928\n",
       "2022      mesum1            2655\n",
       "          mesum2             960\n",
       "Name: mesumportfolio, Length: 120, dtype: int64"
      ]
     },
     "execution_count": 38,
     "metadata": {},
     "output_type": "execute_result"
    }
   ],
   "source": [
    "port.groupby(['rankyear','mesumportfolio']).mesumportfolio.count()"
   ]
  },
  {
   "cell_type": "markdown",
   "metadata": {
    "slideshow": {
     "slide_type": "slide"
    }
   },
   "source": [
    "### Portfolio returns"
   ]
  },
  {
   "cell_type": "markdown",
   "metadata": {
    "slideshow": {
     "slide_type": "subslide"
    }
   },
   "source": [
    "#### Merge data"
   ]
  },
  {
   "cell_type": "code",
   "execution_count": 39,
   "metadata": {
    "slideshow": {
     "slide_type": "fragment"
    }
   },
   "outputs": [],
   "source": [
    "port_ret = pd.merge(fdata[['permno', 'date', 'rankyear', 'exret', 'retadj', 'lag_me', 'ticker', 'conm', 'rf']], \n",
    "                port,\n",
    "                on = ['permno', 'rankyear']) "
   ]
  },
  {
   "cell_type": "markdown",
   "metadata": {
    "slideshow": {
     "slide_type": "subslide"
    }
   },
   "source": [
    "Have a look at Apple in 2019. Which portfolio did Apple belong to?"
   ]
  },
  {
   "cell_type": "code",
   "execution_count": 40,
   "metadata": {
    "slideshow": {
     "slide_type": "fragment"
    }
   },
   "outputs": [
    {
     "data": {
      "text/html": [
       "<div>\n",
       "<style scoped>\n",
       "    .dataframe tbody tr th:only-of-type {\n",
       "        vertical-align: middle;\n",
       "    }\n",
       "\n",
       "    .dataframe tbody tr th {\n",
       "        vertical-align: top;\n",
       "    }\n",
       "\n",
       "    .dataframe thead th {\n",
       "        text-align: right;\n",
       "    }\n",
       "</style>\n",
       "<table border=\"1\" class=\"dataframe\">\n",
       "  <thead>\n",
       "    <tr style=\"text-align: right;\">\n",
       "      <th></th>\n",
       "      <th>permno</th>\n",
       "      <th>date</th>\n",
       "      <th>rankyear</th>\n",
       "      <th>exret</th>\n",
       "      <th>retadj</th>\n",
       "      <th>lag_me</th>\n",
       "      <th>ticker</th>\n",
       "      <th>conm</th>\n",
       "      <th>rf</th>\n",
       "      <th>invportfolio</th>\n",
       "      <th>opbeportfolio</th>\n",
       "      <th>bemeportfolio</th>\n",
       "      <th>mesumportfolio</th>\n",
       "    </tr>\n",
       "  </thead>\n",
       "  <tbody>\n",
       "    <tr>\n",
       "      <th>283059</th>\n",
       "      <td>14593</td>\n",
       "      <td>2019-01-31</td>\n",
       "      <td>2018</td>\n",
       "      <td>0.053234</td>\n",
       "      <td>0.055154</td>\n",
       "      <td>746079.151202</td>\n",
       "      <td>AAPL</td>\n",
       "      <td>APPLE INC</td>\n",
       "      <td>0.00192</td>\n",
       "      <td>inv3</td>\n",
       "      <td>opbe3</td>\n",
       "      <td>beme1</td>\n",
       "      <td>mesum2</td>\n",
       "    </tr>\n",
       "  </tbody>\n",
       "</table>\n",
       "</div>"
      ],
      "text/plain": [
       "        permno       date  rankyear     exret    retadj         lag_me ticker  \\\n",
       "283059   14593 2019-01-31      2018  0.053234  0.055154  746079.151202   AAPL   \n",
       "\n",
       "             conm       rf invportfolio opbeportfolio bemeportfolio  \\\n",
       "283059  APPLE INC  0.00192         inv3         opbe3         beme1   \n",
       "\n",
       "       mesumportfolio  \n",
       "283059         mesum2  "
      ]
     },
     "execution_count": 40,
     "metadata": {},
     "output_type": "execute_result"
    }
   ],
   "source": [
    "port_ret[(port_ret.ticker=='AAPL') & (port_ret.date=='2019-01-31')]"
   ]
  },
  {
   "cell_type": "code",
   "execution_count": 42,
   "metadata": {
    "slideshow": {
     "slide_type": "fragment"
    }
   },
   "outputs": [
    {
     "data": {
      "text/html": [
       "<div>\n",
       "<style scoped>\n",
       "    .dataframe tbody tr th:only-of-type {\n",
       "        vertical-align: middle;\n",
       "    }\n",
       "\n",
       "    .dataframe tbody tr th {\n",
       "        vertical-align: top;\n",
       "    }\n",
       "\n",
       "    .dataframe thead th {\n",
       "        text-align: right;\n",
       "    }\n",
       "</style>\n",
       "<table border=\"1\" class=\"dataframe\">\n",
       "  <thead>\n",
       "    <tr style=\"text-align: right;\">\n",
       "      <th></th>\n",
       "      <th>permno</th>\n",
       "      <th>date</th>\n",
       "      <th>rankyear</th>\n",
       "      <th>exret</th>\n",
       "      <th>retadj</th>\n",
       "      <th>lag_me</th>\n",
       "      <th>ticker</th>\n",
       "      <th>conm</th>\n",
       "      <th>rf</th>\n",
       "      <th>invportfolio</th>\n",
       "      <th>opbeportfolio</th>\n",
       "      <th>bemeportfolio</th>\n",
       "      <th>mesumportfolio</th>\n",
       "    </tr>\n",
       "  </thead>\n",
       "  <tbody>\n",
       "    <tr>\n",
       "      <th>283071</th>\n",
       "      <td>14593</td>\n",
       "      <td>2020-01-31</td>\n",
       "      <td>2019</td>\n",
       "      <td>0.052846</td>\n",
       "      <td>0.05401</td>\n",
       "      <td>1.287643e+06</td>\n",
       "      <td>AAPL</td>\n",
       "      <td>APPLE INC</td>\n",
       "      <td>0.001164</td>\n",
       "      <td>inv1</td>\n",
       "      <td>opbe3</td>\n",
       "      <td>beme1</td>\n",
       "      <td>mesum2</td>\n",
       "    </tr>\n",
       "  </tbody>\n",
       "</table>\n",
       "</div>"
      ],
      "text/plain": [
       "        permno       date  rankyear     exret   retadj        lag_me ticker  \\\n",
       "283071   14593 2020-01-31      2019  0.052846  0.05401  1.287643e+06   AAPL   \n",
       "\n",
       "             conm        rf invportfolio opbeportfolio bemeportfolio  \\\n",
       "283071  APPLE INC  0.001164         inv1         opbe3         beme1   \n",
       "\n",
       "       mesumportfolio  \n",
       "283071         mesum2  "
      ]
     },
     "execution_count": 42,
     "metadata": {},
     "output_type": "execute_result"
    }
   ],
   "source": [
    "port_ret[(port_ret.ticker=='AAPL') & (port_ret.date=='2020-01-31')]"
   ]
  },
  {
   "cell_type": "markdown",
   "metadata": {
    "slideshow": {
     "slide_type": "slide"
    }
   },
   "source": [
    "#### Calculate returns"
   ]
  },
  {
   "cell_type": "code",
   "execution_count": 43,
   "metadata": {
    "slideshow": {
     "slide_type": "fragment"
    }
   },
   "outputs": [],
   "source": [
    "beme_ret = port_ret.groupby(['date', 'mesumportfolio', 'bemeportfolio']).apply(\n",
    "    lambda x: np.average(x.retadj, weights=x.lag_me))"
   ]
  },
  {
   "cell_type": "code",
   "execution_count": 44,
   "metadata": {
    "slideshow": {
     "slide_type": "fragment"
    }
   },
   "outputs": [
    {
     "data": {
      "text/plain": [
       "date        mesumportfolio  bemeportfolio\n",
       "1963-07-31  mesum1          beme1           -0.008538\n",
       "                            beme2           -0.009547\n",
       "                            beme3           -0.016721\n",
       "            mesum2          beme1            0.001260\n",
       "                            beme2            0.004718\n",
       "                                               ...   \n",
       "2022-12-30  mesum1          beme2           -0.065943\n",
       "                            beme3           -0.052649\n",
       "            mesum2          beme1           -0.071824\n",
       "                            beme2           -0.041714\n",
       "                            beme3           -0.052176\n",
       "Length: 4284, dtype: float64"
      ]
     },
     "execution_count": 44,
     "metadata": {},
     "output_type": "execute_result"
    }
   ],
   "source": [
    "beme_ret"
   ]
  },
  {
   "cell_type": "code",
   "execution_count": 45,
   "metadata": {
    "slideshow": {
     "slide_type": "subslide"
    }
   },
   "outputs": [
    {
     "data": {
      "text/html": [
       "<div>\n",
       "<style scoped>\n",
       "    .dataframe tbody tr th:only-of-type {\n",
       "        vertical-align: middle;\n",
       "    }\n",
       "\n",
       "    .dataframe tbody tr th {\n",
       "        vertical-align: top;\n",
       "    }\n",
       "\n",
       "    .dataframe thead tr th {\n",
       "        text-align: left;\n",
       "    }\n",
       "\n",
       "    .dataframe thead tr:last-of-type th {\n",
       "        text-align: right;\n",
       "    }\n",
       "</style>\n",
       "<table border=\"1\" class=\"dataframe\">\n",
       "  <thead>\n",
       "    <tr>\n",
       "      <th>mesumportfolio</th>\n",
       "      <th colspan=\"3\" halign=\"left\">mesum1</th>\n",
       "      <th colspan=\"3\" halign=\"left\">mesum2</th>\n",
       "    </tr>\n",
       "    <tr>\n",
       "      <th>bemeportfolio</th>\n",
       "      <th>beme1</th>\n",
       "      <th>beme2</th>\n",
       "      <th>beme3</th>\n",
       "      <th>beme1</th>\n",
       "      <th>beme2</th>\n",
       "      <th>beme3</th>\n",
       "    </tr>\n",
       "    <tr>\n",
       "      <th>date</th>\n",
       "      <th></th>\n",
       "      <th></th>\n",
       "      <th></th>\n",
       "      <th></th>\n",
       "      <th></th>\n",
       "      <th></th>\n",
       "    </tr>\n",
       "  </thead>\n",
       "  <tbody>\n",
       "    <tr>\n",
       "      <th>1963-07-31</th>\n",
       "      <td>-0.008538</td>\n",
       "      <td>-0.009547</td>\n",
       "      <td>-0.016721</td>\n",
       "      <td>0.001260</td>\n",
       "      <td>0.004718</td>\n",
       "      <td>-0.012421</td>\n",
       "    </tr>\n",
       "    <tr>\n",
       "      <th>1963-08-30</th>\n",
       "      <td>0.058752</td>\n",
       "      <td>0.049112</td>\n",
       "      <td>0.054417</td>\n",
       "      <td>0.054961</td>\n",
       "      <td>0.046401</td>\n",
       "      <td>0.076299</td>\n",
       "    </tr>\n",
       "    <tr>\n",
       "      <th>1963-09-30</th>\n",
       "      <td>-0.037228</td>\n",
       "      <td>-0.012831</td>\n",
       "      <td>-0.017964</td>\n",
       "      <td>-0.015183</td>\n",
       "      <td>-0.006918</td>\n",
       "      <td>-0.004640</td>\n",
       "    </tr>\n",
       "    <tr>\n",
       "      <th>1963-10-31</th>\n",
       "      <td>0.009548</td>\n",
       "      <td>0.015880</td>\n",
       "      <td>0.034698</td>\n",
       "      <td>0.045328</td>\n",
       "      <td>0.016143</td>\n",
       "      <td>0.028258</td>\n",
       "    </tr>\n",
       "    <tr>\n",
       "      <th>1963-11-29</th>\n",
       "      <td>-0.023892</td>\n",
       "      <td>-0.014601</td>\n",
       "      <td>-0.002550</td>\n",
       "      <td>-0.011891</td>\n",
       "      <td>0.004552</td>\n",
       "      <td>-0.011355</td>\n",
       "    </tr>\n",
       "    <tr>\n",
       "      <th>...</th>\n",
       "      <td>...</td>\n",
       "      <td>...</td>\n",
       "      <td>...</td>\n",
       "      <td>...</td>\n",
       "      <td>...</td>\n",
       "      <td>...</td>\n",
       "    </tr>\n",
       "    <tr>\n",
       "      <th>2022-08-31</th>\n",
       "      <td>0.013394</td>\n",
       "      <td>-0.017093</td>\n",
       "      <td>-0.019949</td>\n",
       "      <td>-0.046434</td>\n",
       "      <td>-0.024458</td>\n",
       "      <td>-0.016840</td>\n",
       "    </tr>\n",
       "    <tr>\n",
       "      <th>2022-09-30</th>\n",
       "      <td>-0.088188</td>\n",
       "      <td>-0.097253</td>\n",
       "      <td>-0.092963</td>\n",
       "      <td>-0.092160</td>\n",
       "      <td>-0.090886</td>\n",
       "      <td>-0.086312</td>\n",
       "    </tr>\n",
       "    <tr>\n",
       "      <th>2022-10-31</th>\n",
       "      <td>0.074884</td>\n",
       "      <td>0.106470</td>\n",
       "      <td>0.135648</td>\n",
       "      <td>0.052339</td>\n",
       "      <td>0.106247</td>\n",
       "      <td>0.153846</td>\n",
       "    </tr>\n",
       "    <tr>\n",
       "      <th>2022-11-30</th>\n",
       "      <td>-0.003806</td>\n",
       "      <td>0.016751</td>\n",
       "      <td>0.016750</td>\n",
       "      <td>0.049810</td>\n",
       "      <td>0.053791</td>\n",
       "      <td>0.048907</td>\n",
       "    </tr>\n",
       "    <tr>\n",
       "      <th>2022-12-30</th>\n",
       "      <td>-0.054545</td>\n",
       "      <td>-0.065943</td>\n",
       "      <td>-0.052649</td>\n",
       "      <td>-0.071824</td>\n",
       "      <td>-0.041714</td>\n",
       "      <td>-0.052176</td>\n",
       "    </tr>\n",
       "  </tbody>\n",
       "</table>\n",
       "<p>714 rows × 6 columns</p>\n",
       "</div>"
      ],
      "text/plain": [
       "mesumportfolio    mesum1                        mesum2                    \n",
       "bemeportfolio      beme1     beme2     beme3     beme1     beme2     beme3\n",
       "date                                                                      \n",
       "1963-07-31     -0.008538 -0.009547 -0.016721  0.001260  0.004718 -0.012421\n",
       "1963-08-30      0.058752  0.049112  0.054417  0.054961  0.046401  0.076299\n",
       "1963-09-30     -0.037228 -0.012831 -0.017964 -0.015183 -0.006918 -0.004640\n",
       "1963-10-31      0.009548  0.015880  0.034698  0.045328  0.016143  0.028258\n",
       "1963-11-29     -0.023892 -0.014601 -0.002550 -0.011891  0.004552 -0.011355\n",
       "...                  ...       ...       ...       ...       ...       ...\n",
       "2022-08-31      0.013394 -0.017093 -0.019949 -0.046434 -0.024458 -0.016840\n",
       "2022-09-30     -0.088188 -0.097253 -0.092963 -0.092160 -0.090886 -0.086312\n",
       "2022-10-31      0.074884  0.106470  0.135648  0.052339  0.106247  0.153846\n",
       "2022-11-30     -0.003806  0.016751  0.016750  0.049810  0.053791  0.048907\n",
       "2022-12-30     -0.054545 -0.065943 -0.052649 -0.071824 -0.041714 -0.052176\n",
       "\n",
       "[714 rows x 6 columns]"
      ]
     },
     "execution_count": 45,
     "metadata": {},
     "output_type": "execute_result"
    }
   ],
   "source": [
    "beme_ret = beme_ret.unstack(level=[1, 2])\n",
    "beme_ret"
   ]
  },
  {
   "cell_type": "code",
   "execution_count": 49,
   "metadata": {
    "slideshow": {
     "slide_type": "subslide"
    }
   },
   "outputs": [
    {
     "data": {
      "text/plain": [
       "<AxesSubplot:xlabel='date'>"
      ]
     },
     "execution_count": 49,
     "metadata": {},
     "output_type": "execute_result"
    },
    {
     "data": {
      "image/png": "[encoded data removed]",
      "text/plain": [
       "<Figure size 720x432 with 1 Axes>"
      ]
     },
     "metadata": {
      "needs_background": "light"
     },
     "output_type": "display_data"
    }
   ],
   "source": [
    "(1+beme_ret).cumprod().plot(grid=True, logy=True)"
   ]
  },
  {
   "cell_type": "code",
   "execution_count": 46,
   "metadata": {
    "slideshow": {
     "slide_type": "subslide"
    }
   },
   "outputs": [],
   "source": [
    "# HML returns\n",
    "beme_ret['hml'] = beme_ret.loc[:, idx[:, 'beme3']].mean(axis=1) - beme_ret.loc[:, idx[:, 'beme1']].mean(axis=1)"
   ]
  },
  {
   "cell_type": "code",
   "execution_count": 47,
   "metadata": {
    "slideshow": {
     "slide_type": "fragment"
    }
   },
   "outputs": [],
   "source": [
    "rf_data = mdata.loc[(mdata.date >= '1963-07-01') , ['date','rf']].drop_duplicates()\n",
    "rf_data.set_index('date', inplace = True)"
   ]
  },
  {
   "cell_type": "code",
   "execution_count": 48,
   "metadata": {
    "slideshow": {
     "slide_type": "fragment"
    }
   },
   "outputs": [
    {
     "data": {
      "text/plain": [
       "<AxesSubplot:xlabel='date'>"
      ]
     },
     "execution_count": 48,
     "metadata": {},
     "output_type": "execute_result"
    },
    {
     "data": {
      "image/png": "[encoded data removed]",
      "text/plain": [
       "<Figure size 720x432 with 1 Axes>"
      ]
     },
     "metadata": {
      "needs_background": "light"
     },
     "output_type": "display_data"
    }
   ],
   "source": [
    "(1+beme_ret['hml'].add(rf_data['rf'], axis = 'index')).cumprod().plot(grid=True, logy = True)"
   ]
  },
  {
   "cell_type": "code",
   "execution_count": 49,
   "metadata": {
    "slideshow": {
     "slide_type": "subslide"
    }
   },
   "outputs": [],
   "source": [
    "# Characteristic: beme\n",
    "# --------------------\n",
    "charvars = ['mesum', 'beme']\n",
    "beme_ret = port_ret.groupby(['date']+[charvar+\"portfolio\" for charvar in charvars]).apply(\n",
    "    lambda x: np.average(x.retadj, weights=x.lag_me))\n",
    "beme_ret = beme_ret.unstack(level=[1, 2])\n",
    "beme_ret['hml'] = beme_ret.loc[:, idx[:, 'beme3']].mean(axis=1) - beme_ret.loc[:, idx[:, 'beme1']].mean(axis=1)"
   ]
  },
  {
   "cell_type": "code",
   "execution_count": 51,
   "metadata": {
    "slideshow": {
     "slide_type": "subslide"
    }
   },
   "outputs": [],
   "source": [
    "# Characteristic: op\n",
    "# -------------------\n",
    "charvars = ['mesum', 'opbe']\n",
    "op_ret = port_ret.groupby(['date']+[charvar+\"portfolio\" for charvar in charvars]).apply(\n",
    "    lambda x: np.average(x.retadj, weights=x.lag_me))\n",
    "op_ret = op_ret.unstack(level=[1, 2])\n",
    "op_ret['rmw'] = op_ret.loc[:, idx[:, 'opbe3']].mean(axis=1) - op_ret.loc[:, idx[:, 'opbe1']].mean(axis=1)\n",
    "del charvars"
   ]
  },
  {
   "cell_type": "code",
   "execution_count": 52,
   "metadata": {
    "slideshow": {
     "slide_type": "subslide"
    }
   },
   "outputs": [],
   "source": [
    "# Characteristic: inv\n",
    "# -------------------\n",
    "charvars = ['mesum', 'inv']\n",
    "inv_ret = port_ret.groupby(['date']+[charvar+\"portfolio\" for charvar in charvars]).apply(\n",
    "    lambda x: np.average(x.retadj, weights=x.lag_me))\n",
    "inv_ret = inv_ret.unstack(level=[1, 2])\n",
    "inv_ret['cma'] = inv_ret.loc[:, idx[:, 'inv1']].mean(axis=1) - inv_ret.loc[:, idx[:, 'inv3']].mean(axis=1)\n",
    "del charvars"
   ]
  },
  {
   "cell_type": "code",
   "execution_count": 53,
   "metadata": {
    "slideshow": {
     "slide_type": "fragment"
    }
   },
   "outputs": [
    {
     "data": {
      "text/html": [
       "<div>\n",
       "<style scoped>\n",
       "    .dataframe tbody tr th:only-of-type {\n",
       "        vertical-align: middle;\n",
       "    }\n",
       "\n",
       "    .dataframe tbody tr th {\n",
       "        vertical-align: top;\n",
       "    }\n",
       "\n",
       "    .dataframe thead tr th {\n",
       "        text-align: left;\n",
       "    }\n",
       "\n",
       "    .dataframe thead tr:last-of-type th {\n",
       "        text-align: right;\n",
       "    }\n",
       "</style>\n",
       "<table border=\"1\" class=\"dataframe\">\n",
       "  <thead>\n",
       "    <tr>\n",
       "      <th>mesumportfolio</th>\n",
       "      <th colspan=\"3\" halign=\"left\">mesum1</th>\n",
       "      <th colspan=\"3\" halign=\"left\">mesum2</th>\n",
       "      <th>cma</th>\n",
       "    </tr>\n",
       "    <tr>\n",
       "      <th>invportfolio</th>\n",
       "      <th>inv1</th>\n",
       "      <th>inv2</th>\n",
       "      <th>inv3</th>\n",
       "      <th>inv1</th>\n",
       "      <th>inv2</th>\n",
       "      <th>inv3</th>\n",
       "      <th></th>\n",
       "    </tr>\n",
       "    <tr>\n",
       "      <th>date</th>\n",
       "      <th></th>\n",
       "      <th></th>\n",
       "      <th></th>\n",
       "      <th></th>\n",
       "      <th></th>\n",
       "      <th></th>\n",
       "      <th></th>\n",
       "    </tr>\n",
       "  </thead>\n",
       "  <tbody>\n",
       "    <tr>\n",
       "      <th>1963-07-31</th>\n",
       "      <td>-0.018541</td>\n",
       "      <td>-0.013862</td>\n",
       "      <td>-0.003078</td>\n",
       "      <td>-0.012528</td>\n",
       "      <td>0.004541</td>\n",
       "      <td>0.004152</td>\n",
       "      <td>-0.016071</td>\n",
       "    </tr>\n",
       "    <tr>\n",
       "      <th>1963-08-30</th>\n",
       "      <td>0.048955</td>\n",
       "      <td>0.046819</td>\n",
       "      <td>0.063307</td>\n",
       "      <td>0.061669</td>\n",
       "      <td>0.049925</td>\n",
       "      <td>0.053848</td>\n",
       "      <td>-0.003265</td>\n",
       "    </tr>\n",
       "    <tr>\n",
       "      <th>1963-09-30</th>\n",
       "      <td>-0.011989</td>\n",
       "      <td>-0.020595</td>\n",
       "      <td>-0.027963</td>\n",
       "      <td>-0.016715</td>\n",
       "      <td>-0.009981</td>\n",
       "      <td>-0.010115</td>\n",
       "      <td>0.004687</td>\n",
       "    </tr>\n",
       "    <tr>\n",
       "      <th>1963-10-31</th>\n",
       "      <td>0.017921</td>\n",
       "      <td>0.017541</td>\n",
       "      <td>0.028830</td>\n",
       "      <td>0.023777</td>\n",
       "      <td>0.015821</td>\n",
       "      <td>0.063848</td>\n",
       "      <td>-0.025490</td>\n",
       "    </tr>\n",
       "    <tr>\n",
       "      <th>1963-11-29</th>\n",
       "      <td>-0.007312</td>\n",
       "      <td>-0.012075</td>\n",
       "      <td>-0.017028</td>\n",
       "      <td>0.003895</td>\n",
       "      <td>0.001684</td>\n",
       "      <td>-0.020873</td>\n",
       "      <td>0.017243</td>\n",
       "    </tr>\n",
       "    <tr>\n",
       "      <th>...</th>\n",
       "      <td>...</td>\n",
       "      <td>...</td>\n",
       "      <td>...</td>\n",
       "      <td>...</td>\n",
       "      <td>...</td>\n",
       "      <td>...</td>\n",
       "      <td>...</td>\n",
       "    </tr>\n",
       "    <tr>\n",
       "      <th>2022-08-31</th>\n",
       "      <td>-0.013465</td>\n",
       "      <td>-0.016748</td>\n",
       "      <td>-0.002606</td>\n",
       "      <td>-0.018945</td>\n",
       "      <td>-0.038952</td>\n",
       "      <td>-0.053261</td>\n",
       "      <td>0.011728</td>\n",
       "    </tr>\n",
       "    <tr>\n",
       "      <th>2022-09-30</th>\n",
       "      <td>-0.104851</td>\n",
       "      <td>-0.083646</td>\n",
       "      <td>-0.095871</td>\n",
       "      <td>-0.083992</td>\n",
       "      <td>-0.092469</td>\n",
       "      <td>-0.094549</td>\n",
       "      <td>0.000788</td>\n",
       "    </tr>\n",
       "    <tr>\n",
       "      <th>2022-10-31</th>\n",
       "      <td>0.124267</td>\n",
       "      <td>0.127092</td>\n",
       "      <td>0.076254</td>\n",
       "      <td>0.121901</td>\n",
       "      <td>0.079178</td>\n",
       "      <td>0.027864</td>\n",
       "      <td>0.071025</td>\n",
       "    </tr>\n",
       "    <tr>\n",
       "      <th>2022-11-30</th>\n",
       "      <td>0.024176</td>\n",
       "      <td>0.027564</td>\n",
       "      <td>-0.014058</td>\n",
       "      <td>0.060244</td>\n",
       "      <td>0.057867</td>\n",
       "      <td>0.021925</td>\n",
       "      <td>0.038277</td>\n",
       "    </tr>\n",
       "    <tr>\n",
       "      <th>2022-12-30</th>\n",
       "      <td>-0.046074</td>\n",
       "      <td>-0.056644</td>\n",
       "      <td>-0.071462</td>\n",
       "      <td>-0.036404</td>\n",
       "      <td>-0.056186</td>\n",
       "      <td>-0.107020</td>\n",
       "      <td>0.048002</td>\n",
       "    </tr>\n",
       "  </tbody>\n",
       "</table>\n",
       "<p>714 rows × 7 columns</p>\n",
       "</div>"
      ],
      "text/plain": [
       "mesumportfolio    mesum1                        mesum2                      \\\n",
       "invportfolio        inv1      inv2      inv3      inv1      inv2      inv3   \n",
       "date                                                                         \n",
       "1963-07-31     -0.018541 -0.013862 -0.003078 -0.012528  0.004541  0.004152   \n",
       "1963-08-30      0.048955  0.046819  0.063307  0.061669  0.049925  0.053848   \n",
       "1963-09-30     -0.011989 -0.020595 -0.027963 -0.016715 -0.009981 -0.010115   \n",
       "1963-10-31      0.017921  0.017541  0.028830  0.023777  0.015821  0.063848   \n",
       "1963-11-29     -0.007312 -0.012075 -0.017028  0.003895  0.001684 -0.020873   \n",
       "...                  ...       ...       ...       ...       ...       ...   \n",
       "2022-08-31     -0.013465 -0.016748 -0.002606 -0.018945 -0.038952 -0.053261   \n",
       "2022-09-30     -0.104851 -0.083646 -0.095871 -0.083992 -0.092469 -0.094549   \n",
       "2022-10-31      0.124267  0.127092  0.076254  0.121901  0.079178  0.027864   \n",
       "2022-11-30      0.024176  0.027564 -0.014058  0.060244  0.057867  0.021925   \n",
       "2022-12-30     -0.046074 -0.056644 -0.071462 -0.036404 -0.056186 -0.107020   \n",
       "\n",
       "mesumportfolio       cma  \n",
       "invportfolio              \n",
       "date                      \n",
       "1963-07-31     -0.016071  \n",
       "1963-08-30     -0.003265  \n",
       "1963-09-30      0.004687  \n",
       "1963-10-31     -0.025490  \n",
       "1963-11-29      0.017243  \n",
       "...                  ...  \n",
       "2022-08-31      0.011728  \n",
       "2022-09-30      0.000788  \n",
       "2022-10-31      0.071025  \n",
       "2022-11-30      0.038277  \n",
       "2022-12-30      0.048002  \n",
       "\n",
       "[714 rows x 7 columns]"
      ]
     },
     "execution_count": 53,
     "metadata": {},
     "output_type": "execute_result"
    }
   ],
   "source": [
    "inv_ret"
   ]
  },
  {
   "cell_type": "code",
   "execution_count": 54,
   "metadata": {
    "slideshow": {
     "slide_type": "subslide"
    }
   },
   "outputs": [],
   "source": [
    "# Characteristic: size\n",
    "# --------------------\n",
    "fret = pd.DataFrame()\n",
    "fret['smb'] = (beme_ret.loc[:, 'mesum1'].mean(axis=1) - beme_ret.loc[:,'mesum2'].mean(axis=1) +\n",
    "               op_ret.loc[:, 'mesum1'].mean(axis=1) - op_ret.loc[:,'mesum2'].mean(axis=1) +\n",
    "               inv_ret.loc[:, 'mesum1'].mean(axis=1) - inv_ret.loc[:,'mesum2'].mean(axis=1))*(1/3)"
   ]
  },
  {
   "cell_type": "code",
   "execution_count": 55,
   "metadata": {
    "slideshow": {
     "slide_type": "subslide"
    }
   },
   "outputs": [],
   "source": [
    "# %% Aggregate all\n",
    "beme_ret.columns = [''.join(col).strip() for col in beme_ret.columns.values]\n",
    "op_ret.columns = [''.join(col).strip() for col in op_ret.columns.values]\n",
    "inv_ret.columns = [''.join(col).strip() for col in inv_ret.columns.values]"
   ]
  },
  {
   "cell_type": "code",
   "execution_count": 56,
   "metadata": {
    "slideshow": {
     "slide_type": "fragment"
    }
   },
   "outputs": [],
   "source": [
    "fret = fret.join(beme_ret[['hml']]).join(op_ret[['rmw']]).join(inv_ret[['cma']])"
   ]
  },
  {
   "cell_type": "code",
   "execution_count": 57,
   "metadata": {
    "slideshow": {
     "slide_type": "fragment"
    }
   },
   "outputs": [
    {
     "data": {
      "text/html": [
       "<div>\n",
       "<style scoped>\n",
       "    .dataframe tbody tr th:only-of-type {\n",
       "        vertical-align: middle;\n",
       "    }\n",
       "\n",
       "    .dataframe tbody tr th {\n",
       "        vertical-align: top;\n",
       "    }\n",
       "\n",
       "    .dataframe thead th {\n",
       "        text-align: right;\n",
       "    }\n",
       "</style>\n",
       "<table border=\"1\" class=\"dataframe\">\n",
       "  <thead>\n",
       "    <tr style=\"text-align: right;\">\n",
       "      <th></th>\n",
       "      <th>smb</th>\n",
       "      <th>hml</th>\n",
       "      <th>rmw</th>\n",
       "      <th>cma</th>\n",
       "    </tr>\n",
       "    <tr>\n",
       "      <th>date</th>\n",
       "      <th></th>\n",
       "      <th></th>\n",
       "      <th></th>\n",
       "      <th></th>\n",
       "    </tr>\n",
       "  </thead>\n",
       "  <tbody>\n",
       "    <tr>\n",
       "      <th>1963-07-31</th>\n",
       "      <td>-0.010490</td>\n",
       "      <td>-0.010932</td>\n",
       "      <td>0.007197</td>\n",
       "      <td>-0.016071</td>\n",
       "    </tr>\n",
       "    <tr>\n",
       "      <th>1963-08-30</th>\n",
       "      <td>-0.002377</td>\n",
       "      <td>0.008502</td>\n",
       "      <td>0.003703</td>\n",
       "      <td>-0.003265</td>\n",
       "    </tr>\n",
       "    <tr>\n",
       "      <th>1963-09-30</th>\n",
       "      <td>-0.010100</td>\n",
       "      <td>0.014904</td>\n",
       "      <td>-0.007293</td>\n",
       "      <td>0.004687</td>\n",
       "    </tr>\n",
       "    <tr>\n",
       "      <th>1963-10-31</th>\n",
       "      <td>-0.009475</td>\n",
       "      <td>0.004040</td>\n",
       "      <td>0.029230</td>\n",
       "      <td>-0.025490</td>\n",
       "    </tr>\n",
       "    <tr>\n",
       "      <th>1963-11-29</th>\n",
       "      <td>-0.006030</td>\n",
       "      <td>0.010939</td>\n",
       "      <td>0.000516</td>\n",
       "      <td>0.017243</td>\n",
       "    </tr>\n",
       "    <tr>\n",
       "      <th>...</th>\n",
       "      <td>...</td>\n",
       "      <td>...</td>\n",
       "      <td>...</td>\n",
       "      <td>...</td>\n",
       "    </tr>\n",
       "    <tr>\n",
       "      <th>2022-08-31</th>\n",
       "      <td>0.021225</td>\n",
       "      <td>-0.001874</td>\n",
       "      <td>-0.042064</td>\n",
       "      <td>0.011728</td>\n",
       "    </tr>\n",
       "    <tr>\n",
       "      <th>2022-09-30</th>\n",
       "      <td>-0.004545</td>\n",
       "      <td>0.000536</td>\n",
       "      <td>-0.011295</td>\n",
       "      <td>0.000788</td>\n",
       "    </tr>\n",
       "    <tr>\n",
       "      <th>2022-10-31</th>\n",
       "      <td>0.023541</td>\n",
       "      <td>0.081136</td>\n",
       "      <td>0.033210</td>\n",
       "      <td>0.071025</td>\n",
       "    </tr>\n",
       "    <tr>\n",
       "      <th>2022-11-30</th>\n",
       "      <td>-0.032343</td>\n",
       "      <td>0.009827</td>\n",
       "      <td>0.059586</td>\n",
       "      <td>0.038277</td>\n",
       "    </tr>\n",
       "    <tr>\n",
       "      <th>2022-12-30</th>\n",
       "      <td>0.003103</td>\n",
       "      <td>0.010772</td>\n",
       "      <td>-0.005184</td>\n",
       "      <td>0.048002</td>\n",
       "    </tr>\n",
       "  </tbody>\n",
       "</table>\n",
       "<p>714 rows × 4 columns</p>\n",
       "</div>"
      ],
      "text/plain": [
       "                 smb       hml       rmw       cma\n",
       "date                                              \n",
       "1963-07-31 -0.010490 -0.010932  0.007197 -0.016071\n",
       "1963-08-30 -0.002377  0.008502  0.003703 -0.003265\n",
       "1963-09-30 -0.010100  0.014904 -0.007293  0.004687\n",
       "1963-10-31 -0.009475  0.004040  0.029230 -0.025490\n",
       "1963-11-29 -0.006030  0.010939  0.000516  0.017243\n",
       "...              ...       ...       ...       ...\n",
       "2022-08-31  0.021225 -0.001874 -0.042064  0.011728\n",
       "2022-09-30 -0.004545  0.000536 -0.011295  0.000788\n",
       "2022-10-31  0.023541  0.081136  0.033210  0.071025\n",
       "2022-11-30 -0.032343  0.009827  0.059586  0.038277\n",
       "2022-12-30  0.003103  0.010772 -0.005184  0.048002\n",
       "\n",
       "[714 rows x 4 columns]"
      ]
     },
     "execution_count": 57,
     "metadata": {},
     "output_type": "execute_result"
    }
   ],
   "source": [
    "fret  "
   ]
  },
  {
   "cell_type": "code",
   "execution_count": 58,
   "metadata": {
    "slideshow": {
     "slide_type": "subslide"
    }
   },
   "outputs": [
    {
     "data": {
      "text/plain": [
       "<AxesSubplot:xlabel='date'>"
      ]
     },
     "execution_count": 58,
     "metadata": {},
     "output_type": "execute_result"
    },
    {
     "data": {
      "image/png": "[encoded data removed]",
      "text/plain": [
       "<Figure size 720x432 with 1 Axes>"
      ]
     },
     "metadata": {
      "needs_background": "light"
     },
     "output_type": "display_data"
    }
   ],
   "source": [
    "(1+fret.add(rf_data['rf'], axis = 'index')).cumprod().plot(grid=True, logy = True)"
   ]
  },
  {
   "cell_type": "markdown",
   "metadata": {
    "slideshow": {
     "slide_type": "slide"
    }
   },
   "source": [
    "### Average Returns"
   ]
  },
  {
   "cell_type": "code",
   "execution_count": 59,
   "metadata": {
    "slideshow": {
     "slide_type": "fragment"
    }
   },
   "outputs": [
    {
     "data": {
      "text/plain": [
       "smb    2.821362\n",
       "hml    3.093978\n",
       "rmw    3.346857\n",
       "cma    2.593968\n",
       "dtype: float64"
      ]
     },
     "execution_count": 59,
     "metadata": {},
     "output_type": "execute_result"
    }
   ],
   "source": [
    "fret.mean()*100*12"
   ]
  },
  {
   "cell_type": "markdown",
   "metadata": {
    "slideshow": {
     "slide_type": "slide"
    }
   },
   "source": [
    "### Compare Sharpe-ratio"
   ]
  },
  {
   "cell_type": "code",
   "execution_count": 60,
   "metadata": {
    "slideshow": {
     "slide_type": "fragment"
    }
   },
   "outputs": [
    {
     "data": {
      "text/plain": [
       "smb    0.274682\n",
       "hml    0.289917\n",
       "rmw    0.423209\n",
       "cma    0.341010\n",
       "dtype: float64"
      ]
     },
     "execution_count": 60,
     "metadata": {},
     "output_type": "execute_result"
    }
   ],
   "source": [
    "(fret.mean()/fret.std())*np.sqrt(12)"
   ]
  }
 ],
 "metadata": {
  "celltoolbar": "Slideshow",
  "kernelspec": {
   "display_name": "Python 3 (ipykernel)",
   "language": "python",
   "name": "python3"
  },
  "language_info": {
   "codemirror_mode": {
    "name": "ipython",
    "version": 3
   },
   "file_extension": ".py",
   "mimetype": "text/x-python",
   "name": "python",
   "nbconvert_exporter": "python",
   "pygments_lexer": "ipython3",
   "version": "3.9.13"
  },
  "toc": {
   "base_numbering": 1,
   "nav_menu": {},
   "number_sections": true,
   "sideBar": true,
   "skip_h1_title": true,
   "title_cell": "Table of Contents",
   "title_sidebar": "Contents",
   "toc_cell": true,
   "toc_position": {},
   "toc_section_display": true,
   "toc_window_display": false
  }
 },
 "nbformat": 4,
 "nbformat_minor": 4
}
