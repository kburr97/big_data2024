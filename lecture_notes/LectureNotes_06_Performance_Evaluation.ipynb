{
 "cells": [
  {
   "cell_type": "markdown",
   "metadata": {
    "slideshow": {
     "slide_type": "slide"
    }
   },
   "source": [
    "# Big Data in Finance: Part II <BR><BR> Lecture Notes 6: Performance Evaluation\n",
    "    \n",
    "**Instructor** <BR>\n",
    "Kirsten Burr, kburr26@gsb.columbia.edu\n",
    "    \n",
    "**TA's:** <BR>\n",
    "Meha Sadasivam, MSadasivam21@gsb.columbia.edu <BR>\n",
    "Daheng Yang, dyang22@gsb.columbia.edu\n",
    "    \n",
    "<sub> Credit: lecture notes originally developed by Lira Mota"
   ]
  },
  {
   "cell_type": "markdown",
   "metadata": {
    "slideshow": {
     "slide_type": "slide"
    }
   },
   "source": [
    "## Up Next\n",
    "1. Study the mom vs. short-term reversal strategies\n",
    "2. Fama-MacBeth regressions\n",
    "3. Alpha evaluation\n",
    "4. Homework: Momentum "
   ]
  },
  {
   "cell_type": "markdown",
   "metadata": {
    "slideshow": {
     "slide_type": "slide"
    }
   },
   "source": [
    "## Momentum and Reversal\n",
    "\n",
    "Return autocorrelations appear to be... \n",
    "1. initially negative at horizons up to a month or two (**short term reversal**),\n",
    "2. then positive for horizons from 3 to 12 months (**momentum**),\n",
    "3. then possibly negative again at horizons of several years (**long term reversal**).\n",
    "<img src=\"momentum.png\" width=\"800\" height=\"400\">"
   ]
  },
  {
   "cell_type": "markdown",
   "metadata": {
    "slideshow": {
     "slide_type": "slide"
    }
   },
   "source": [
    "## Set Up"
   ]
  },
  {
   "cell_type": "code",
   "execution_count": 1,
   "metadata": {
    "slideshow": {
     "slide_type": "fragment"
    }
   },
   "outputs": [],
   "source": [
    "#%% Packages \n",
    "import sys\n",
    "import pandas as pd\n",
    "from pandas.tseries.offsets import MonthEnd\n",
    "\n",
    "import numpy as np\n",
    "import datetime\n",
    "\n",
    "import statsmodels.api as sm\n",
    "import statsmodels.formula.api as smf\n",
    "\n",
    "import matplotlib.pyplot as plt\n",
    "\n",
    "import time\n",
    "from time import strptime, strftime\n",
    "\n",
    "# Setups\n",
    "pd.set_option(\"display.max_rows\", 100) # max number or rows to be displayed \n",
    "%matplotlib inline \n",
    "plt.rcParams['figure.figsize'] = [10, 6]\n",
    "idx = pd.IndexSlice"
   ]
  },
  {
   "cell_type": "code",
   "execution_count": 2,
   "metadata": {
    "slideshow": {
     "slide_type": "subslide"
    }
   },
   "outputs": [],
   "source": [
    "# Packages from fire_pytools\n",
    "sys.path.append(\"../fire_pytools\") \n",
    "\n",
    "\n",
    "from utils.monthly_date import *\n",
    "from portools.find_breakpoints import find_breakpoints\n",
    "from portools.sort_portfolios import sort_portfolios\n",
    "from import_kf.kf_factors import *\n",
    "from utils.post_event_nan import * "
   ]
  },
  {
   "cell_type": "markdown",
   "metadata": {
    "slideshow": {
     "slide_type": "slide"
    }
   },
   "source": [
    "## Download Data"
   ]
  },
  {
   "cell_type": "code",
   "execution_count": 3,
   "metadata": {
    "slideshow": {
     "slide_type": "subslide"
    }
   },
   "outputs": [
    {
     "data": {
      "text/plain": [
       "Index(['permno', 'date', 'dlret', 'dlretx', 'exchcd', 'naics', 'permco', 'prc',\n",
       "       'ret', 'shrcd', 'shrout', 'siccd', 'ticker', 'rankyear', 'retadj', 'me',\n",
       "       'lag_me', 'lag_dlret', 'melag_weights', 'mdate', 'rf'],\n",
       "      dtype='object')"
      ]
     },
     "execution_count": 3,
     "metadata": {},
     "output_type": "execute_result"
    }
   ],
   "source": [
    "mdata = pd.read_pickle('../stock_monthly.pkl')\n",
    "mdata.columns"
   ]
  },
  {
   "cell_type": "code",
   "execution_count": 4,
   "metadata": {
    "slideshow": {
     "slide_type": "subslide"
    }
   },
   "outputs": [],
   "source": [
    "# Clean Data\n",
    "## Data start in 2010\n",
    "mdata = mdata[mdata.date>='1970-01-01']\n",
    "## Share type - select only common stocks \n",
    "mdata = mdata[mdata.shrcd.isin([10, 11])]\n",
    "## Select stocks traded on the major stock exchanges\n",
    "mdata = mdata[mdata.exchcd.isin([1, 2, 3])]\n",
    "## Order\n",
    "mdata = mdata.sort_values(['permno','date'])"
   ]
  },
  {
   "cell_type": "code",
   "execution_count": 5,
   "metadata": {
    "slideshow": {
     "slide_type": "fragment"
    }
   },
   "outputs": [],
   "source": [
    "# Work with excess returns\n",
    "mdata['exret'] = mdata['retadj'] - mdata['rf']"
   ]
  },
  {
   "cell_type": "code",
   "execution_count": 6,
   "metadata": {
    "slideshow": {
     "slide_type": "subslide"
    }
   },
   "outputs": [
    {
     "data": {
      "text/plain": [
       "Index(['permno', 'date', 'dlret', 'dlretx', 'exchcd', 'naics', 'permco', 'prc',\n",
       "       'ret', 'shrcd', 'shrout', 'siccd', 'ticker', 'rankyear', 'retadj', 'me',\n",
       "       'lag_me', 'lag_dlret', 'melag_weights', 'mdate', 'rf', 'exret'],\n",
       "      dtype='object')"
      ]
     },
     "execution_count": 6,
     "metadata": {},
     "output_type": "execute_result"
    }
   ],
   "source": [
    "mdata.columns"
   ]
  },
  {
   "cell_type": "code",
   "execution_count": 7,
   "metadata": {
    "slideshow": {
     "slide_type": "fragment"
    }
   },
   "outputs": [],
   "source": [
    "mdata = mdata[['permno', 'date', 'exret', 'permco','me', 'melag_weights', 'siccd', 'exchcd']].copy()"
   ]
  },
  {
   "cell_type": "code",
   "execution_count": 8,
   "metadata": {
    "slideshow": {
     "slide_type": "fragment"
    }
   },
   "outputs": [
    {
     "data": {
      "text/html": [
       "<div>\n",
       "<style scoped>\n",
       "    .dataframe tbody tr th:only-of-type {\n",
       "        vertical-align: middle;\n",
       "    }\n",
       "\n",
       "    .dataframe tbody tr th {\n",
       "        vertical-align: top;\n",
       "    }\n",
       "\n",
       "    .dataframe thead th {\n",
       "        text-align: right;\n",
       "    }\n",
       "</style>\n",
       "<table border=\"1\" class=\"dataframe\">\n",
       "  <thead>\n",
       "    <tr style=\"text-align: right;\">\n",
       "      <th></th>\n",
       "      <th>permno</th>\n",
       "      <th>date</th>\n",
       "      <th>exret</th>\n",
       "      <th>permco</th>\n",
       "      <th>me</th>\n",
       "      <th>melag_weights</th>\n",
       "      <th>siccd</th>\n",
       "      <th>exchcd</th>\n",
       "    </tr>\n",
       "  </thead>\n",
       "  <tbody>\n",
       "    <tr>\n",
       "      <th>1</th>\n",
       "      <td>10000</td>\n",
       "      <td>1986-01-31</td>\n",
       "      <td>NaN</td>\n",
       "      <td>7952.0</td>\n",
       "      <td>16.100000</td>\n",
       "      <td>NaN</td>\n",
       "      <td>3990.0</td>\n",
       "      <td>3.0</td>\n",
       "    </tr>\n",
       "    <tr>\n",
       "      <th>2</th>\n",
       "      <td>10000</td>\n",
       "      <td>1986-02-28</td>\n",
       "      <td>-0.262439</td>\n",
       "      <td>7952.0</td>\n",
       "      <td>11.960000</td>\n",
       "      <td>16.10000</td>\n",
       "      <td>3990.0</td>\n",
       "      <td>3.0</td>\n",
       "    </tr>\n",
       "    <tr>\n",
       "      <th>3</th>\n",
       "      <td>10000</td>\n",
       "      <td>1986-03-31</td>\n",
       "      <td>0.359422</td>\n",
       "      <td>7952.0</td>\n",
       "      <td>16.330000</td>\n",
       "      <td>11.96000</td>\n",
       "      <td>3990.0</td>\n",
       "      <td>3.0</td>\n",
       "    </tr>\n",
       "    <tr>\n",
       "      <th>4</th>\n",
       "      <td>10000</td>\n",
       "      <td>1986-04-30</td>\n",
       "      <td>-0.103933</td>\n",
       "      <td>7952.0</td>\n",
       "      <td>15.172000</td>\n",
       "      <td>16.33000</td>\n",
       "      <td>3990.0</td>\n",
       "      <td>3.0</td>\n",
       "    </tr>\n",
       "    <tr>\n",
       "      <th>5</th>\n",
       "      <td>10000</td>\n",
       "      <td>1986-05-30</td>\n",
       "      <td>-0.227590</td>\n",
       "      <td>7952.0</td>\n",
       "      <td>11.793878</td>\n",
       "      <td>15.17200</td>\n",
       "      <td>3990.0</td>\n",
       "      <td>3.0</td>\n",
       "    </tr>\n",
       "    <tr>\n",
       "      <th>...</th>\n",
       "      <td>...</td>\n",
       "      <td>...</td>\n",
       "      <td>...</td>\n",
       "      <td>...</td>\n",
       "      <td>...</td>\n",
       "      <td>...</td>\n",
       "      <td>...</td>\n",
       "      <td>...</td>\n",
       "    </tr>\n",
       "    <tr>\n",
       "      <th>5041556</th>\n",
       "      <td>93436</td>\n",
       "      <td>2023-08-31</td>\n",
       "      <td>-0.039499</td>\n",
       "      <td>53453.0</td>\n",
       "      <td>819144.339780</td>\n",
       "      <td>848821.18368</td>\n",
       "      <td>9999.0</td>\n",
       "      <td>3.0</td>\n",
       "    </tr>\n",
       "    <tr>\n",
       "      <th>5041557</th>\n",
       "      <td>93436</td>\n",
       "      <td>2023-09-29</td>\n",
       "      <td>-0.034723</td>\n",
       "      <td>53453.0</td>\n",
       "      <td>795449.380000</td>\n",
       "      <td>819144.33978</td>\n",
       "      <td>9999.0</td>\n",
       "      <td>3.0</td>\n",
       "    </tr>\n",
       "    <tr>\n",
       "      <th>5041558</th>\n",
       "      <td>93436</td>\n",
       "      <td>2023-10-31</td>\n",
       "      <td>-0.202061</td>\n",
       "      <td>53453.0</td>\n",
       "      <td>638454.493640</td>\n",
       "      <td>795449.38000</td>\n",
       "      <td>9999.0</td>\n",
       "      <td>3.0</td>\n",
       "    </tr>\n",
       "    <tr>\n",
       "      <th>5041559</th>\n",
       "      <td>93436</td>\n",
       "      <td>2023-11-30</td>\n",
       "      <td>0.190955</td>\n",
       "      <td>53453.0</td>\n",
       "      <td>763195.353680</td>\n",
       "      <td>638454.49364</td>\n",
       "      <td>9999.0</td>\n",
       "      <td>3.0</td>\n",
       "    </tr>\n",
       "    <tr>\n",
       "      <th>5041560</th>\n",
       "      <td>93436</td>\n",
       "      <td>2023-12-29</td>\n",
       "      <td>0.030722</td>\n",
       "      <td>53453.0</td>\n",
       "      <td>789898.290080</td>\n",
       "      <td>763195.35368</td>\n",
       "      <td>9999.0</td>\n",
       "      <td>3.0</td>\n",
       "    </tr>\n",
       "  </tbody>\n",
       "</table>\n",
       "<p>3222868 rows × 8 columns</p>\n",
       "</div>"
      ],
      "text/plain": [
       "         permno       date     exret   permco             me  melag_weights  \\\n",
       "1         10000 1986-01-31       NaN   7952.0      16.100000            NaN   \n",
       "2         10000 1986-02-28 -0.262439   7952.0      11.960000       16.10000   \n",
       "3         10000 1986-03-31  0.359422   7952.0      16.330000       11.96000   \n",
       "4         10000 1986-04-30 -0.103933   7952.0      15.172000       16.33000   \n",
       "5         10000 1986-05-30 -0.227590   7952.0      11.793878       15.17200   \n",
       "...         ...        ...       ...      ...            ...            ...   \n",
       "5041556   93436 2023-08-31 -0.039499  53453.0  819144.339780   848821.18368   \n",
       "5041557   93436 2023-09-29 -0.034723  53453.0  795449.380000   819144.33978   \n",
       "5041558   93436 2023-10-31 -0.202061  53453.0  638454.493640   795449.38000   \n",
       "5041559   93436 2023-11-30  0.190955  53453.0  763195.353680   638454.49364   \n",
       "5041560   93436 2023-12-29  0.030722  53453.0  789898.290080   763195.35368   \n",
       "\n",
       "          siccd  exchcd  \n",
       "1        3990.0     3.0  \n",
       "2        3990.0     3.0  \n",
       "3        3990.0     3.0  \n",
       "4        3990.0     3.0  \n",
       "5        3990.0     3.0  \n",
       "...         ...     ...  \n",
       "5041556  9999.0     3.0  \n",
       "5041557  9999.0     3.0  \n",
       "5041558  9999.0     3.0  \n",
       "5041559  9999.0     3.0  \n",
       "5041560  9999.0     3.0  \n",
       "\n",
       "[3222868 rows x 8 columns]"
      ]
     },
     "execution_count": 8,
     "metadata": {},
     "output_type": "execute_result"
    }
   ],
   "source": [
    "mdata"
   ]
  },
  {
   "cell_type": "code",
   "execution_count": 9,
   "metadata": {
    "slideshow": {
     "slide_type": "subslide"
    }
   },
   "outputs": [],
   "source": [
    "# Create past returns\n",
    "mdata['ret1'] = mdata.groupby('permno').exret.shift(1)"
   ]
  },
  {
   "cell_type": "code",
   "execution_count": 10,
   "metadata": {
    "slideshow": {
     "slide_type": "fragment"
    }
   },
   "outputs": [
    {
     "data": {
      "text/html": [
       "<div>\n",
       "<style scoped>\n",
       "    .dataframe tbody tr th:only-of-type {\n",
       "        vertical-align: middle;\n",
       "    }\n",
       "\n",
       "    .dataframe tbody tr th {\n",
       "        vertical-align: top;\n",
       "    }\n",
       "\n",
       "    .dataframe thead th {\n",
       "        text-align: right;\n",
       "    }\n",
       "</style>\n",
       "<table border=\"1\" class=\"dataframe\">\n",
       "  <thead>\n",
       "    <tr style=\"text-align: right;\">\n",
       "      <th></th>\n",
       "      <th>permno</th>\n",
       "      <th>date</th>\n",
       "      <th>exret</th>\n",
       "      <th>ret1</th>\n",
       "    </tr>\n",
       "  </thead>\n",
       "  <tbody>\n",
       "    <tr>\n",
       "      <th>1</th>\n",
       "      <td>10000</td>\n",
       "      <td>1986-01-31</td>\n",
       "      <td>NaN</td>\n",
       "      <td>NaN</td>\n",
       "    </tr>\n",
       "    <tr>\n",
       "      <th>2</th>\n",
       "      <td>10000</td>\n",
       "      <td>1986-02-28</td>\n",
       "      <td>-0.262439</td>\n",
       "      <td>NaN</td>\n",
       "    </tr>\n",
       "    <tr>\n",
       "      <th>3</th>\n",
       "      <td>10000</td>\n",
       "      <td>1986-03-31</td>\n",
       "      <td>0.359422</td>\n",
       "      <td>-0.262439</td>\n",
       "    </tr>\n",
       "    <tr>\n",
       "      <th>4</th>\n",
       "      <td>10000</td>\n",
       "      <td>1986-04-30</td>\n",
       "      <td>-0.103933</td>\n",
       "      <td>0.359422</td>\n",
       "    </tr>\n",
       "    <tr>\n",
       "      <th>5</th>\n",
       "      <td>10000</td>\n",
       "      <td>1986-05-30</td>\n",
       "      <td>-0.227590</td>\n",
       "      <td>-0.103933</td>\n",
       "    </tr>\n",
       "  </tbody>\n",
       "</table>\n",
       "</div>"
      ],
      "text/plain": [
       "   permno       date     exret      ret1\n",
       "1   10000 1986-01-31       NaN       NaN\n",
       "2   10000 1986-02-28 -0.262439       NaN\n",
       "3   10000 1986-03-31  0.359422 -0.262439\n",
       "4   10000 1986-04-30 -0.103933  0.359422\n",
       "5   10000 1986-05-30 -0.227590 -0.103933"
      ]
     },
     "execution_count": 10,
     "metadata": {},
     "output_type": "execute_result"
    }
   ],
   "source": [
    "mdata[['permno','date','exret','ret1']].head()"
   ]
  },
  {
   "cell_type": "code",
   "execution_count": 11,
   "metadata": {
    "slideshow": {
     "slide_type": "fragment"
    }
   },
   "outputs": [
    {
     "data": {
      "text/html": [
       "<div>\n",
       "<style scoped>\n",
       "    .dataframe tbody tr th:only-of-type {\n",
       "        vertical-align: middle;\n",
       "    }\n",
       "\n",
       "    .dataframe tbody tr th {\n",
       "        vertical-align: top;\n",
       "    }\n",
       "\n",
       "    .dataframe thead th {\n",
       "        text-align: right;\n",
       "    }\n",
       "</style>\n",
       "<table border=\"1\" class=\"dataframe\">\n",
       "  <thead>\n",
       "    <tr style=\"text-align: right;\">\n",
       "      <th></th>\n",
       "      <th>permno</th>\n",
       "      <th>date</th>\n",
       "      <th>exret</th>\n",
       "      <th>permco</th>\n",
       "      <th>me</th>\n",
       "      <th>melag_weights</th>\n",
       "      <th>siccd</th>\n",
       "      <th>exchcd</th>\n",
       "      <th>ret1</th>\n",
       "    </tr>\n",
       "  </thead>\n",
       "  <tbody>\n",
       "    <tr>\n",
       "      <th>14</th>\n",
       "      <td>10000</td>\n",
       "      <td>1987-02-27</td>\n",
       "      <td>-0.004309</td>\n",
       "      <td>7952.0</td>\n",
       "      <td>1.581531</td>\n",
       "      <td>1.581531</td>\n",
       "      <td>3990.0</td>\n",
       "      <td>3.0</td>\n",
       "      <td>-0.216272</td>\n",
       "    </tr>\n",
       "    <tr>\n",
       "      <th>15</th>\n",
       "      <td>10000</td>\n",
       "      <td>1987-03-31</td>\n",
       "      <td>-0.389627</td>\n",
       "      <td>7952.0</td>\n",
       "      <td>0.973250</td>\n",
       "      <td>1.581531</td>\n",
       "      <td>3990.0</td>\n",
       "      <td>3.0</td>\n",
       "      <td>-0.004309</td>\n",
       "    </tr>\n",
       "    <tr>\n",
       "      <th>16</th>\n",
       "      <td>10000</td>\n",
       "      <td>1987-04-30</td>\n",
       "      <td>-0.066785</td>\n",
       "      <td>7952.0</td>\n",
       "      <td>0.912441</td>\n",
       "      <td>0.973250</td>\n",
       "      <td>3990.0</td>\n",
       "      <td>3.0</td>\n",
       "      <td>-0.389627</td>\n",
       "    </tr>\n",
       "    <tr>\n",
       "      <th>17</th>\n",
       "      <td>10000</td>\n",
       "      <td>1987-05-29</td>\n",
       "      <td>-0.070427</td>\n",
       "      <td>7952.0</td>\n",
       "      <td>0.851594</td>\n",
       "      <td>0.912441</td>\n",
       "      <td>3990.0</td>\n",
       "      <td>3.0</td>\n",
       "      <td>-0.066785</td>\n",
       "    </tr>\n",
       "    <tr>\n",
       "      <th>18</th>\n",
       "      <td>10000</td>\n",
       "      <td>1987-06-30</td>\n",
       "      <td>-0.005031</td>\n",
       "      <td>7952.0</td>\n",
       "      <td>NaN</td>\n",
       "      <td>0.851594</td>\n",
       "      <td>3990.0</td>\n",
       "      <td>3.0</td>\n",
       "      <td>-0.070427</td>\n",
       "    </tr>\n",
       "  </tbody>\n",
       "</table>\n",
       "</div>"
      ],
      "text/plain": [
       "    permno       date     exret  permco        me  melag_weights   siccd  \\\n",
       "14   10000 1987-02-27 -0.004309  7952.0  1.581531       1.581531  3990.0   \n",
       "15   10000 1987-03-31 -0.389627  7952.0  0.973250       1.581531  3990.0   \n",
       "16   10000 1987-04-30 -0.066785  7952.0  0.912441       0.973250  3990.0   \n",
       "17   10000 1987-05-29 -0.070427  7952.0  0.851594       0.912441  3990.0   \n",
       "18   10000 1987-06-30 -0.005031  7952.0       NaN       0.851594  3990.0   \n",
       "\n",
       "    exchcd      ret1  \n",
       "14     3.0 -0.216272  \n",
       "15     3.0 -0.004309  \n",
       "16     3.0 -0.389627  \n",
       "17     3.0 -0.066785  \n",
       "18     3.0 -0.070427  "
      ]
     },
     "execution_count": 11,
     "metadata": {},
     "output_type": "execute_result"
    }
   ],
   "source": [
    "mdata[mdata.permno==10000].tail()"
   ]
  },
  {
   "cell_type": "code",
   "execution_count": 12,
   "metadata": {
    "slideshow": {
     "slide_type": "subslide"
    }
   },
   "outputs": [],
   "source": [
    "mdata['date_diff'] = mdata.groupby('permno').date.diff()"
   ]
  },
  {
   "cell_type": "code",
   "execution_count": 13,
   "metadata": {
    "slideshow": {
     "slide_type": "fragment"
    }
   },
   "outputs": [
    {
     "data": {
      "text/plain": [
       "count                       3197487\n",
       "mean     31 days 02:30:50.217248734\n",
       "std      46 days 11:00:16.865384318\n",
       "min                28 days 00:00:00\n",
       "25%                29 days 00:00:00\n",
       "50%                31 days 00:00:00\n",
       "75%                31 days 00:00:00\n",
       "max             14641 days 00:00:00\n",
       "Name: date_diff, dtype: object"
      ]
     },
     "execution_count": 13,
     "metadata": {},
     "output_type": "execute_result"
    }
   ],
   "source": [
    "mdata.date_diff.describe()"
   ]
  },
  {
   "cell_type": "code",
   "execution_count": 14,
   "metadata": {
    "slideshow": {
     "slide_type": "subslide"
    }
   },
   "outputs": [
    {
     "ename": "TypeError",
     "evalue": "Invalid comparison between dtype=timedelta64[ns] and int",
     "output_type": "error",
     "traceback": [
      "\u001b[0;31m---------------------------------------------------------------------------\u001b[0m",
      "\u001b[0;31mInvalidComparison\u001b[0m                         Traceback (most recent call last)",
      "File \u001b[0;32m/opt/anaconda3/lib/python3.8/site-packages/pandas/core/arrays/datetimelike.py:1008\u001b[0m, in \u001b[0;36mDatetimeLikeArrayMixin._cmp_method\u001b[0;34m(self, other, op)\u001b[0m\n\u001b[1;32m   1007\u001b[0m \u001b[38;5;28;01mtry\u001b[39;00m:\n\u001b[0;32m-> 1008\u001b[0m     other \u001b[38;5;241m=\u001b[39m \u001b[38;5;28;43mself\u001b[39;49m\u001b[38;5;241;43m.\u001b[39;49m\u001b[43m_validate_comparison_value\u001b[49m\u001b[43m(\u001b[49m\u001b[43mother\u001b[49m\u001b[43m)\u001b[49m\n\u001b[1;32m   1009\u001b[0m \u001b[38;5;28;01mexcept\u001b[39;00m InvalidComparison:\n",
      "File \u001b[0;32m/opt/anaconda3/lib/python3.8/site-packages/pandas/core/arrays/datetimelike.py:542\u001b[0m, in \u001b[0;36mDatetimeLikeArrayMixin._validate_comparison_value\u001b[0;34m(self, other)\u001b[0m\n\u001b[1;32m    541\u001b[0m \u001b[38;5;28;01melif\u001b[39;00m \u001b[38;5;129;01mnot\u001b[39;00m is_list_like(other):\n\u001b[0;32m--> 542\u001b[0m     \u001b[38;5;28;01mraise\u001b[39;00m InvalidComparison(other)\n\u001b[1;32m    544\u001b[0m \u001b[38;5;28;01melif\u001b[39;00m \u001b[38;5;28mlen\u001b[39m(other) \u001b[38;5;241m!=\u001b[39m \u001b[38;5;28mlen\u001b[39m(\u001b[38;5;28mself\u001b[39m):\n",
      "\u001b[0;31mInvalidComparison\u001b[0m: 31",
      "\nDuring handling of the above exception, another exception occurred:\n",
      "\u001b[0;31mTypeError\u001b[0m                                 Traceback (most recent call last)",
      "Cell \u001b[0;32mIn[14], line 1\u001b[0m\n\u001b[0;32m----> 1\u001b[0m \u001b[43mmdata\u001b[49m\u001b[43m[\u001b[49m\u001b[38;5;124;43m'\u001b[39;49m\u001b[38;5;124;43mdate_diff\u001b[39;49m\u001b[38;5;124;43m'\u001b[39;49m\u001b[43m]\u001b[49m\u001b[38;5;241;43m>\u001b[39;49m\u001b[38;5;241;43m31\u001b[39;49m\n",
      "File \u001b[0;32m/opt/anaconda3/lib/python3.8/site-packages/pandas/core/ops/common.py:70\u001b[0m, in \u001b[0;36m_unpack_zerodim_and_defer.<locals>.new_method\u001b[0;34m(self, other)\u001b[0m\n\u001b[1;32m     66\u001b[0m             \u001b[38;5;28;01mreturn\u001b[39;00m \u001b[38;5;28mNotImplemented\u001b[39m\n\u001b[1;32m     68\u001b[0m other \u001b[38;5;241m=\u001b[39m item_from_zerodim(other)\n\u001b[0;32m---> 70\u001b[0m \u001b[38;5;28;01mreturn\u001b[39;00m \u001b[43mmethod\u001b[49m\u001b[43m(\u001b[49m\u001b[38;5;28;43mself\u001b[39;49m\u001b[43m,\u001b[49m\u001b[43m \u001b[49m\u001b[43mother\u001b[49m\u001b[43m)\u001b[49m\n",
      "File \u001b[0;32m/opt/anaconda3/lib/python3.8/site-packages/pandas/core/arraylike.py:56\u001b[0m, in \u001b[0;36mOpsMixin.__gt__\u001b[0;34m(self, other)\u001b[0m\n\u001b[1;32m     54\u001b[0m \u001b[38;5;129m@unpack_zerodim_and_defer\u001b[39m(\u001b[38;5;124m\"\u001b[39m\u001b[38;5;124m__gt__\u001b[39m\u001b[38;5;124m\"\u001b[39m)\n\u001b[1;32m     55\u001b[0m \u001b[38;5;28;01mdef\u001b[39;00m \u001b[38;5;21m__gt__\u001b[39m(\u001b[38;5;28mself\u001b[39m, other):\n\u001b[0;32m---> 56\u001b[0m     \u001b[38;5;28;01mreturn\u001b[39;00m \u001b[38;5;28;43mself\u001b[39;49m\u001b[38;5;241;43m.\u001b[39;49m\u001b[43m_cmp_method\u001b[49m\u001b[43m(\u001b[49m\u001b[43mother\u001b[49m\u001b[43m,\u001b[49m\u001b[43m \u001b[49m\u001b[43moperator\u001b[49m\u001b[38;5;241;43m.\u001b[39;49m\u001b[43mgt\u001b[49m\u001b[43m)\u001b[49m\n",
      "File \u001b[0;32m/opt/anaconda3/lib/python3.8/site-packages/pandas/core/series.py:5623\u001b[0m, in \u001b[0;36mSeries._cmp_method\u001b[0;34m(self, other, op)\u001b[0m\n\u001b[1;32m   5620\u001b[0m rvalues \u001b[38;5;241m=\u001b[39m extract_array(other, extract_numpy\u001b[38;5;241m=\u001b[39m\u001b[38;5;28;01mTrue\u001b[39;00m, extract_range\u001b[38;5;241m=\u001b[39m\u001b[38;5;28;01mTrue\u001b[39;00m)\n\u001b[1;32m   5622\u001b[0m \u001b[38;5;28;01mwith\u001b[39;00m np\u001b[38;5;241m.\u001b[39merrstate(\u001b[38;5;28mall\u001b[39m\u001b[38;5;241m=\u001b[39m\u001b[38;5;124m\"\u001b[39m\u001b[38;5;124mignore\u001b[39m\u001b[38;5;124m\"\u001b[39m):\n\u001b[0;32m-> 5623\u001b[0m     res_values \u001b[38;5;241m=\u001b[39m \u001b[43mops\u001b[49m\u001b[38;5;241;43m.\u001b[39;49m\u001b[43mcomparison_op\u001b[49m\u001b[43m(\u001b[49m\u001b[43mlvalues\u001b[49m\u001b[43m,\u001b[49m\u001b[43m \u001b[49m\u001b[43mrvalues\u001b[49m\u001b[43m,\u001b[49m\u001b[43m \u001b[49m\u001b[43mop\u001b[49m\u001b[43m)\u001b[49m\n\u001b[1;32m   5625\u001b[0m \u001b[38;5;28;01mreturn\u001b[39;00m \u001b[38;5;28mself\u001b[39m\u001b[38;5;241m.\u001b[39m_construct_result(res_values, name\u001b[38;5;241m=\u001b[39mres_name)\n",
      "File \u001b[0;32m/opt/anaconda3/lib/python3.8/site-packages/pandas/core/ops/array_ops.py:269\u001b[0m, in \u001b[0;36mcomparison_op\u001b[0;34m(left, right, op)\u001b[0m\n\u001b[1;32m    260\u001b[0m         \u001b[38;5;28;01mraise\u001b[39;00m \u001b[38;5;167;01mValueError\u001b[39;00m(\n\u001b[1;32m    261\u001b[0m             \u001b[38;5;124m\"\u001b[39m\u001b[38;5;124mLengths must match to compare\u001b[39m\u001b[38;5;124m\"\u001b[39m, lvalues\u001b[38;5;241m.\u001b[39mshape, rvalues\u001b[38;5;241m.\u001b[39mshape\n\u001b[1;32m    262\u001b[0m         )\n\u001b[1;32m    264\u001b[0m \u001b[38;5;28;01mif\u001b[39;00m should_extension_dispatch(lvalues, rvalues) \u001b[38;5;129;01mor\u001b[39;00m (\n\u001b[1;32m    265\u001b[0m     (\u001b[38;5;28misinstance\u001b[39m(rvalues, (Timedelta, BaseOffset, Timestamp)) \u001b[38;5;129;01mor\u001b[39;00m right \u001b[38;5;129;01mis\u001b[39;00m NaT)\n\u001b[1;32m    266\u001b[0m     \u001b[38;5;129;01mand\u001b[39;00m \u001b[38;5;129;01mnot\u001b[39;00m is_object_dtype(lvalues\u001b[38;5;241m.\u001b[39mdtype)\n\u001b[1;32m    267\u001b[0m ):\n\u001b[1;32m    268\u001b[0m     \u001b[38;5;66;03m# Call the method on lvalues\u001b[39;00m\n\u001b[0;32m--> 269\u001b[0m     res_values \u001b[38;5;241m=\u001b[39m \u001b[43mop\u001b[49m\u001b[43m(\u001b[49m\u001b[43mlvalues\u001b[49m\u001b[43m,\u001b[49m\u001b[43m \u001b[49m\u001b[43mrvalues\u001b[49m\u001b[43m)\u001b[49m\n\u001b[1;32m    271\u001b[0m \u001b[38;5;28;01melif\u001b[39;00m is_scalar(rvalues) \u001b[38;5;129;01mand\u001b[39;00m isna(rvalues):  \u001b[38;5;66;03m# TODO: but not pd.NA?\u001b[39;00m\n\u001b[1;32m    272\u001b[0m     \u001b[38;5;66;03m# numpy does not like comparisons vs None\u001b[39;00m\n\u001b[1;32m    273\u001b[0m     \u001b[38;5;28;01mif\u001b[39;00m op \u001b[38;5;129;01mis\u001b[39;00m operator\u001b[38;5;241m.\u001b[39mne:\n",
      "File \u001b[0;32m/opt/anaconda3/lib/python3.8/site-packages/pandas/core/ops/common.py:70\u001b[0m, in \u001b[0;36m_unpack_zerodim_and_defer.<locals>.new_method\u001b[0;34m(self, other)\u001b[0m\n\u001b[1;32m     66\u001b[0m             \u001b[38;5;28;01mreturn\u001b[39;00m \u001b[38;5;28mNotImplemented\u001b[39m\n\u001b[1;32m     68\u001b[0m other \u001b[38;5;241m=\u001b[39m item_from_zerodim(other)\n\u001b[0;32m---> 70\u001b[0m \u001b[38;5;28;01mreturn\u001b[39;00m \u001b[43mmethod\u001b[49m\u001b[43m(\u001b[49m\u001b[38;5;28;43mself\u001b[39;49m\u001b[43m,\u001b[49m\u001b[43m \u001b[49m\u001b[43mother\u001b[49m\u001b[43m)\u001b[49m\n",
      "File \u001b[0;32m/opt/anaconda3/lib/python3.8/site-packages/pandas/core/arraylike.py:56\u001b[0m, in \u001b[0;36mOpsMixin.__gt__\u001b[0;34m(self, other)\u001b[0m\n\u001b[1;32m     54\u001b[0m \u001b[38;5;129m@unpack_zerodim_and_defer\u001b[39m(\u001b[38;5;124m\"\u001b[39m\u001b[38;5;124m__gt__\u001b[39m\u001b[38;5;124m\"\u001b[39m)\n\u001b[1;32m     55\u001b[0m \u001b[38;5;28;01mdef\u001b[39;00m \u001b[38;5;21m__gt__\u001b[39m(\u001b[38;5;28mself\u001b[39m, other):\n\u001b[0;32m---> 56\u001b[0m     \u001b[38;5;28;01mreturn\u001b[39;00m \u001b[38;5;28;43mself\u001b[39;49m\u001b[38;5;241;43m.\u001b[39;49m\u001b[43m_cmp_method\u001b[49m\u001b[43m(\u001b[49m\u001b[43mother\u001b[49m\u001b[43m,\u001b[49m\u001b[43m \u001b[49m\u001b[43moperator\u001b[49m\u001b[38;5;241;43m.\u001b[39;49m\u001b[43mgt\u001b[49m\u001b[43m)\u001b[49m\n",
      "File \u001b[0;32m/opt/anaconda3/lib/python3.8/site-packages/pandas/core/arrays/datetimelike.py:1010\u001b[0m, in \u001b[0;36mDatetimeLikeArrayMixin._cmp_method\u001b[0;34m(self, other, op)\u001b[0m\n\u001b[1;32m   1008\u001b[0m     other \u001b[38;5;241m=\u001b[39m \u001b[38;5;28mself\u001b[39m\u001b[38;5;241m.\u001b[39m_validate_comparison_value(other)\n\u001b[1;32m   1009\u001b[0m \u001b[38;5;28;01mexcept\u001b[39;00m InvalidComparison:\n\u001b[0;32m-> 1010\u001b[0m     \u001b[38;5;28;01mreturn\u001b[39;00m \u001b[43minvalid_comparison\u001b[49m\u001b[43m(\u001b[49m\u001b[38;5;28;43mself\u001b[39;49m\u001b[43m,\u001b[49m\u001b[43m \u001b[49m\u001b[43mother\u001b[49m\u001b[43m,\u001b[49m\u001b[43m \u001b[49m\u001b[43mop\u001b[49m\u001b[43m)\u001b[49m\n\u001b[1;32m   1012\u001b[0m dtype \u001b[38;5;241m=\u001b[39m \u001b[38;5;28mgetattr\u001b[39m(other, \u001b[38;5;124m\"\u001b[39m\u001b[38;5;124mdtype\u001b[39m\u001b[38;5;124m\"\u001b[39m, \u001b[38;5;28;01mNone\u001b[39;00m)\n\u001b[1;32m   1013\u001b[0m \u001b[38;5;28;01mif\u001b[39;00m is_object_dtype(dtype):\n\u001b[1;32m   1014\u001b[0m     \u001b[38;5;66;03m# We have to use comp_method_OBJECT_ARRAY instead of numpy\u001b[39;00m\n\u001b[1;32m   1015\u001b[0m     \u001b[38;5;66;03m#  comparison otherwise it would fail to raise when\u001b[39;00m\n\u001b[1;32m   1016\u001b[0m     \u001b[38;5;66;03m#  comparing tz-aware and tz-naive\u001b[39;00m\n",
      "File \u001b[0;32m/opt/anaconda3/lib/python3.8/site-packages/pandas/core/ops/invalid.py:34\u001b[0m, in \u001b[0;36minvalid_comparison\u001b[0;34m(left, right, op)\u001b[0m\n\u001b[1;32m     32\u001b[0m \u001b[38;5;28;01melse\u001b[39;00m:\n\u001b[1;32m     33\u001b[0m     typ \u001b[38;5;241m=\u001b[39m \u001b[38;5;28mtype\u001b[39m(right)\u001b[38;5;241m.\u001b[39m\u001b[38;5;18m__name__\u001b[39m\n\u001b[0;32m---> 34\u001b[0m     \u001b[38;5;28;01mraise\u001b[39;00m \u001b[38;5;167;01mTypeError\u001b[39;00m(\u001b[38;5;124mf\u001b[39m\u001b[38;5;124m\"\u001b[39m\u001b[38;5;124mInvalid comparison between dtype=\u001b[39m\u001b[38;5;132;01m{\u001b[39;00mleft\u001b[38;5;241m.\u001b[39mdtype\u001b[38;5;132;01m}\u001b[39;00m\u001b[38;5;124m and \u001b[39m\u001b[38;5;132;01m{\u001b[39;00mtyp\u001b[38;5;132;01m}\u001b[39;00m\u001b[38;5;124m\"\u001b[39m)\n\u001b[1;32m     35\u001b[0m \u001b[38;5;28;01mreturn\u001b[39;00m res_values\n",
      "\u001b[0;31mTypeError\u001b[0m: Invalid comparison between dtype=timedelta64[ns] and int"
     ]
    }
   ],
   "source": [
    "mdata['date_diff']>31"
   ]
  },
  {
   "cell_type": "code",
   "execution_count": 15,
   "metadata": {
    "slideshow": {
     "slide_type": "subslide"
    }
   },
   "outputs": [
    {
     "data": {
      "text/plain": [
       "1          False\n",
       "2          False\n",
       "3          False\n",
       "4          False\n",
       "5          False\n",
       "           ...  \n",
       "5041556    False\n",
       "5041557    False\n",
       "5041558     True\n",
       "5041559    False\n",
       "5041560    False\n",
       "Name: date_diff, Length: 3222868, dtype: bool"
      ]
     },
     "execution_count": 15,
     "metadata": {},
     "output_type": "execute_result"
    }
   ],
   "source": [
    "# How to work with dates\n",
    "mdata['date_diff'].dt.days>31"
   ]
  },
  {
   "cell_type": "code",
   "execution_count": 16,
   "metadata": {
    "slideshow": {
     "slide_type": "subslide"
    }
   },
   "outputs": [
    {
     "data": {
      "text/html": [
       "<div>\n",
       "<style scoped>\n",
       "    .dataframe tbody tr th:only-of-type {\n",
       "        vertical-align: middle;\n",
       "    }\n",
       "\n",
       "    .dataframe tbody tr th {\n",
       "        vertical-align: top;\n",
       "    }\n",
       "\n",
       "    .dataframe thead th {\n",
       "        text-align: right;\n",
       "    }\n",
       "</style>\n",
       "<table border=\"1\" class=\"dataframe\">\n",
       "  <thead>\n",
       "    <tr style=\"text-align: right;\">\n",
       "      <th></th>\n",
       "      <th>permno</th>\n",
       "      <th>date</th>\n",
       "      <th>date_diff</th>\n",
       "      <th>exret</th>\n",
       "      <th>ret1</th>\n",
       "    </tr>\n",
       "  </thead>\n",
       "  <tbody>\n",
       "    <tr>\n",
       "      <th>9</th>\n",
       "      <td>10000</td>\n",
       "      <td>1986-09-30</td>\n",
       "      <td>32 days</td>\n",
       "      <td>-0.061926</td>\n",
       "      <td>-0.619999</td>\n",
       "    </tr>\n",
       "    <tr>\n",
       "      <th>12</th>\n",
       "      <td>10000</td>\n",
       "      <td>1986-12-31</td>\n",
       "      <td>33 days</td>\n",
       "      <td>-0.382125</td>\n",
       "      <td>0.056076</td>\n",
       "    </tr>\n",
       "    <tr>\n",
       "      <th>15</th>\n",
       "      <td>10000</td>\n",
       "      <td>1987-03-31</td>\n",
       "      <td>32 days</td>\n",
       "      <td>-0.389627</td>\n",
       "      <td>-0.004309</td>\n",
       "    </tr>\n",
       "    <tr>\n",
       "      <th>18</th>\n",
       "      <td>10000</td>\n",
       "      <td>1987-06-30</td>\n",
       "      <td>32 days</td>\n",
       "      <td>-0.005031</td>\n",
       "      <td>-0.070427</td>\n",
       "    </tr>\n",
       "    <tr>\n",
       "      <th>28</th>\n",
       "      <td>10001</td>\n",
       "      <td>1986-09-30</td>\n",
       "      <td>32 days</td>\n",
       "      <td>-0.007860</td>\n",
       "      <td>0.067551</td>\n",
       "    </tr>\n",
       "  </tbody>\n",
       "</table>\n",
       "</div>"
      ],
      "text/plain": [
       "    permno       date date_diff     exret      ret1\n",
       "9    10000 1986-09-30   32 days -0.061926 -0.619999\n",
       "12   10000 1986-12-31   33 days -0.382125  0.056076\n",
       "15   10000 1987-03-31   32 days -0.389627 -0.004309\n",
       "18   10000 1987-06-30   32 days -0.005031 -0.070427\n",
       "28   10001 1986-09-30   32 days -0.007860  0.067551"
      ]
     },
     "execution_count": 16,
     "metadata": {},
     "output_type": "execute_result"
    }
   ],
   "source": [
    "# Are those problems?\n",
    "mdata.loc[(mdata.date_diff.dt.days>31), ['permno','date', 'date_diff', 'exret','ret1']].head()"
   ]
  },
  {
   "cell_type": "code",
   "execution_count": 17,
   "metadata": {
    "slideshow": {
     "slide_type": "subslide"
    }
   },
   "outputs": [
    {
     "data": {
      "text/html": [
       "<div>\n",
       "<style scoped>\n",
       "    .dataframe tbody tr th:only-of-type {\n",
       "        vertical-align: middle;\n",
       "    }\n",
       "\n",
       "    .dataframe tbody tr th {\n",
       "        vertical-align: top;\n",
       "    }\n",
       "\n",
       "    .dataframe thead th {\n",
       "        text-align: right;\n",
       "    }\n",
       "</style>\n",
       "<table border=\"1\" class=\"dataframe\">\n",
       "  <thead>\n",
       "    <tr style=\"text-align: right;\">\n",
       "      <th></th>\n",
       "      <th>permno</th>\n",
       "      <th>date</th>\n",
       "      <th>date_diff</th>\n",
       "      <th>exret</th>\n",
       "      <th>ret1</th>\n",
       "    </tr>\n",
       "  </thead>\n",
       "  <tbody>\n",
       "    <tr>\n",
       "      <th>1656</th>\n",
       "      <td>10007</td>\n",
       "      <td>1989-02-28</td>\n",
       "      <td>456 days</td>\n",
       "      <td>NaN</td>\n",
       "      <td>-0.364477</td>\n",
       "    </tr>\n",
       "    <tr>\n",
       "      <th>2150</th>\n",
       "      <td>10012</td>\n",
       "      <td>1987-10-30</td>\n",
       "      <td>91 days</td>\n",
       "      <td>NaN</td>\n",
       "      <td>0.072865</td>\n",
       "    </tr>\n",
       "    <tr>\n",
       "      <th>5489</th>\n",
       "      <td>10028</td>\n",
       "      <td>2012-11-30</td>\n",
       "      <td>245 days</td>\n",
       "      <td>-0.246609</td>\n",
       "      <td>-0.048392</td>\n",
       "    </tr>\n",
       "    <tr>\n",
       "      <th>9081</th>\n",
       "      <td>10050</td>\n",
       "      <td>1978-09-29</td>\n",
       "      <td>60 days</td>\n",
       "      <td>NaN</td>\n",
       "      <td>NaN</td>\n",
       "    </tr>\n",
       "    <tr>\n",
       "      <th>9082</th>\n",
       "      <td>10050</td>\n",
       "      <td>1978-12-29</td>\n",
       "      <td>91 days</td>\n",
       "      <td>NaN</td>\n",
       "      <td>NaN</td>\n",
       "    </tr>\n",
       "  </tbody>\n",
       "</table>\n",
       "</div>"
      ],
      "text/plain": [
       "      permno       date date_diff     exret      ret1\n",
       "1656   10007 1989-02-28  456 days       NaN -0.364477\n",
       "2150   10012 1987-10-30   91 days       NaN  0.072865\n",
       "5489   10028 2012-11-30  245 days -0.246609 -0.048392\n",
       "9081   10050 1978-09-29   60 days       NaN       NaN\n",
       "9082   10050 1978-12-29   91 days       NaN       NaN"
      ]
     },
     "execution_count": 17,
     "metadata": {},
     "output_type": "execute_result"
    }
   ],
   "source": [
    "mdata.loc[(mdata.date_diff.dt.days>40), ['permno','date', 'date_diff', 'exret','ret1']].head()"
   ]
  },
  {
   "cell_type": "code",
   "execution_count": 18,
   "metadata": {
    "slideshow": {
     "slide_type": "subslide"
    }
   },
   "outputs": [
    {
     "data": {
      "text/html": [
       "<div>\n",
       "<style scoped>\n",
       "    .dataframe tbody tr th:only-of-type {\n",
       "        vertical-align: middle;\n",
       "    }\n",
       "\n",
       "    .dataframe tbody tr th {\n",
       "        vertical-align: top;\n",
       "    }\n",
       "\n",
       "    .dataframe thead th {\n",
       "        text-align: right;\n",
       "    }\n",
       "</style>\n",
       "<table border=\"1\" class=\"dataframe\">\n",
       "  <thead>\n",
       "    <tr style=\"text-align: right;\">\n",
       "      <th></th>\n",
       "      <th>permno</th>\n",
       "      <th>date</th>\n",
       "      <th>date_diff</th>\n",
       "      <th>exret</th>\n",
       "      <th>ret1</th>\n",
       "    </tr>\n",
       "  </thead>\n",
       "  <tbody>\n",
       "    <tr>\n",
       "      <th>5168</th>\n",
       "      <td>10028</td>\n",
       "      <td>1986-02-28</td>\n",
       "      <td>NaT</td>\n",
       "      <td>NaN</td>\n",
       "      <td>NaN</td>\n",
       "    </tr>\n",
       "    <tr>\n",
       "      <th>5169</th>\n",
       "      <td>10028</td>\n",
       "      <td>1986-03-31</td>\n",
       "      <td>31 days</td>\n",
       "      <td>0.216259</td>\n",
       "      <td>NaN</td>\n",
       "    </tr>\n",
       "    <tr>\n",
       "      <th>5170</th>\n",
       "      <td>10028</td>\n",
       "      <td>1986-04-30</td>\n",
       "      <td>30 days</td>\n",
       "      <td>0.176477</td>\n",
       "      <td>0.216259</td>\n",
       "    </tr>\n",
       "    <tr>\n",
       "      <th>5171</th>\n",
       "      <td>10028</td>\n",
       "      <td>1986-05-30</td>\n",
       "      <td>30 days</td>\n",
       "      <td>0.148912</td>\n",
       "      <td>0.176477</td>\n",
       "    </tr>\n",
       "    <tr>\n",
       "      <th>5172</th>\n",
       "      <td>10028</td>\n",
       "      <td>1986-06-30</td>\n",
       "      <td>31 days</td>\n",
       "      <td>-0.138579</td>\n",
       "      <td>0.148912</td>\n",
       "    </tr>\n",
       "    <tr>\n",
       "      <th>...</th>\n",
       "      <td>...</td>\n",
       "      <td>...</td>\n",
       "      <td>...</td>\n",
       "      <td>...</td>\n",
       "      <td>...</td>\n",
       "    </tr>\n",
       "    <tr>\n",
       "      <th>5478</th>\n",
       "      <td>10028</td>\n",
       "      <td>2011-12-30</td>\n",
       "      <td>30 days</td>\n",
       "      <td>-0.036129</td>\n",
       "      <td>-0.070747</td>\n",
       "    </tr>\n",
       "    <tr>\n",
       "      <th>5479</th>\n",
       "      <td>10028</td>\n",
       "      <td>2012-01-31</td>\n",
       "      <td>32 days</td>\n",
       "      <td>-0.026772</td>\n",
       "      <td>-0.036129</td>\n",
       "    </tr>\n",
       "    <tr>\n",
       "      <th>5480</th>\n",
       "      <td>10028</td>\n",
       "      <td>2012-02-29</td>\n",
       "      <td>29 days</td>\n",
       "      <td>0.081125</td>\n",
       "      <td>-0.026772</td>\n",
       "    </tr>\n",
       "    <tr>\n",
       "      <th>5481</th>\n",
       "      <td>10028</td>\n",
       "      <td>2012-03-30</td>\n",
       "      <td>30 days</td>\n",
       "      <td>-0.048392</td>\n",
       "      <td>0.081125</td>\n",
       "    </tr>\n",
       "    <tr>\n",
       "      <th>5489</th>\n",
       "      <td>10028</td>\n",
       "      <td>2012-11-30</td>\n",
       "      <td>245 days</td>\n",
       "      <td>-0.246609</td>\n",
       "      <td>-0.048392</td>\n",
       "    </tr>\n",
       "  </tbody>\n",
       "</table>\n",
       "<p>315 rows × 5 columns</p>\n",
       "</div>"
      ],
      "text/plain": [
       "      permno       date date_diff     exret      ret1\n",
       "5168   10028 1986-02-28       NaT       NaN       NaN\n",
       "5169   10028 1986-03-31   31 days  0.216259       NaN\n",
       "5170   10028 1986-04-30   30 days  0.176477  0.216259\n",
       "5171   10028 1986-05-30   30 days  0.148912  0.176477\n",
       "5172   10028 1986-06-30   31 days -0.138579  0.148912\n",
       "...      ...        ...       ...       ...       ...\n",
       "5478   10028 2011-12-30   30 days -0.036129 -0.070747\n",
       "5479   10028 2012-01-31   32 days -0.026772 -0.036129\n",
       "5480   10028 2012-02-29   29 days  0.081125 -0.026772\n",
       "5481   10028 2012-03-30   30 days -0.048392  0.081125\n",
       "5489   10028 2012-11-30  245 days -0.246609 -0.048392\n",
       "\n",
       "[315 rows x 5 columns]"
      ]
     },
     "execution_count": 18,
     "metadata": {},
     "output_type": "execute_result"
    }
   ],
   "source": [
    "mdata.loc[((mdata.permno==10028) & (mdata.date<'2012-12-30')), ['permno','date', 'date_diff', 'exret','ret1']]"
   ]
  },
  {
   "cell_type": "code",
   "execution_count": 19,
   "metadata": {
    "slideshow": {
     "slide_type": "subslide"
    }
   },
   "outputs": [],
   "source": [
    "mdata.loc[(mdata.date_diff.dt.days>40), 'ret1'] = np.nan"
   ]
  },
  {
   "cell_type": "code",
   "execution_count": 20,
   "metadata": {
    "code_folding": [],
    "slideshow": {
     "slide_type": "slide"
    }
   },
   "outputs": [],
   "source": [
    "# Calculate past returns \n",
    "def calculate_cumulative_returns(mdata, tt, min_periods):\n",
    "    \"\"\"\n",
    "    Calculate past returns for momentum stratagy\n",
    "\n",
    "    Parameters:\n",
    "    ------------\n",
    "    mdata: data frame\n",
    "        crsp monthly data with cols permno, date as index.\n",
    "    tt: int\n",
    "        number of periods to cumulate retuns\n",
    "    min_periods: int\n",
    "    \"\"\"\n",
    "    start_time = time.time()\n",
    "    required_cols = ['exret']\n",
    "\n",
    "    assert set(required_cols).issubset(mdata.columns), \"Required columns: {}.\".format(', '.join(required_cols))\n",
    "\n",
    "    df = mdata[required_cols].copy()\n",
    "\n",
    "    # Before applying the function calculate_cumulative_returns you need to make sure \n",
    "    # we don't have missing dates. Missing dates would lead to the wrong number of periods \n",
    "    # to cumulate returns.\n",
    "\n",
    "    # Resample data \n",
    "    # CRSP data has skipping months.\n",
    "    # Create line to missing  months to facilitate the calculation of lag/past returns\n",
    "    df.reset_index(inplace=True)\n",
    "    df['edate'] = df['date'] + MonthEnd(0)\n",
    "    df.sort_values(['permno', 'edate'], inplace=True)\n",
    "    pk_integrity(df, ['permno', 'edate'])\n",
    "    df.set_index(['edate'], inplace=True)\n",
    "    # Resample to take care of missing months\n",
    "    sdf = df[['permno', 'exret']].groupby('permno').resample('M').mean().drop(columns='permno')\n",
    "    sdf.reset_index(inplace=True)\n",
    "    print(\"Time to resample data: %s seconds\" % str(time.time() - start_time))\n",
    "    print(\"We have added %s rows to the data\" % str(sdf.shape[0] - df.shape[0]))\n",
    "\n",
    "    # Cumulative Return (adjusted) in tt months\n",
    "    sdf['gret'] = sdf['exret'].fillna(0)+1\n",
    "    sdf['ret_notnull'] = sdf['exret'].notnull()\n",
    "\n",
    "    cret = sdf.groupby(['permno']).gret.rolling(window=tt, min_periods=1).apply(np.prod, raw=True)\n",
    "    cret.reset_index(drop=True, inplace=True)\n",
    "\n",
    "    nona_count = sdf.groupby(['permno']).ret_notnull.rolling(window=tt, min_periods=1).apply(np.sum, raw=True)\n",
    "    nona_count.reset_index(drop=True, inplace=True)\n",
    "\n",
    "    cret[nona_count<min_periods] = np.nan\n",
    "    sdf['ret' + str(tt)] = cret\n",
    "\n",
    "    # Delete rows that were not in the original data set\n",
    "    df.reset_index(inplace=True)\n",
    "    fdata = pd.merge(df,\n",
    "             sdf[['edate', 'permno','ret' + str(tt)]],\n",
    "             on = ['edate', 'permno'])         \n",
    "    fdata.set_index(['permno','date'],inplace = True)\n",
    "    x = fdata['ret' + str(tt)]\n",
    "\n",
    "    print(\"Time to calculate %d months past returns: %s seconds\" % (tt, str(round(time.time() - start_time, 2))))\n",
    "\n",
    "    return x"
   ]
  },
  {
   "cell_type": "code",
   "execution_count": 21,
   "metadata": {
    "slideshow": {
     "slide_type": "subslide"
    }
   },
   "outputs": [
    {
     "ename": "KeyError",
     "evalue": "'date'",
     "output_type": "error",
     "traceback": [
      "\u001b[0;31m---------------------------------------------------------------------------\u001b[0m",
      "\u001b[0;31mKeyError\u001b[0m                                  Traceback (most recent call last)",
      "File \u001b[0;32m/opt/anaconda3/lib/python3.8/site-packages/pandas/core/indexes/base.py:3621\u001b[0m, in \u001b[0;36mIndex.get_loc\u001b[0;34m(self, key, method, tolerance)\u001b[0m\n\u001b[1;32m   3620\u001b[0m \u001b[38;5;28;01mtry\u001b[39;00m:\n\u001b[0;32m-> 3621\u001b[0m     \u001b[38;5;28;01mreturn\u001b[39;00m \u001b[38;5;28;43mself\u001b[39;49m\u001b[38;5;241;43m.\u001b[39;49m\u001b[43m_engine\u001b[49m\u001b[38;5;241;43m.\u001b[39;49m\u001b[43mget_loc\u001b[49m\u001b[43m(\u001b[49m\u001b[43mcasted_key\u001b[49m\u001b[43m)\u001b[49m\n\u001b[1;32m   3622\u001b[0m \u001b[38;5;28;01mexcept\u001b[39;00m \u001b[38;5;167;01mKeyError\u001b[39;00m \u001b[38;5;28;01mas\u001b[39;00m err:\n",
      "File \u001b[0;32m/opt/anaconda3/lib/python3.8/site-packages/pandas/_libs/index.pyx:136\u001b[0m, in \u001b[0;36mpandas._libs.index.IndexEngine.get_loc\u001b[0;34m()\u001b[0m\n",
      "File \u001b[0;32m/opt/anaconda3/lib/python3.8/site-packages/pandas/_libs/index.pyx:163\u001b[0m, in \u001b[0;36mpandas._libs.index.IndexEngine.get_loc\u001b[0;34m()\u001b[0m\n",
      "File \u001b[0;32mpandas/_libs/hashtable_class_helper.pxi:5198\u001b[0m, in \u001b[0;36mpandas._libs.hashtable.PyObjectHashTable.get_item\u001b[0;34m()\u001b[0m\n",
      "File \u001b[0;32mpandas/_libs/hashtable_class_helper.pxi:5206\u001b[0m, in \u001b[0;36mpandas._libs.hashtable.PyObjectHashTable.get_item\u001b[0;34m()\u001b[0m\n",
      "\u001b[0;31mKeyError\u001b[0m: 'date'",
      "\nThe above exception was the direct cause of the following exception:\n",
      "\u001b[0;31mKeyError\u001b[0m                                  Traceback (most recent call last)",
      "Cell \u001b[0;32mIn[21], line 2\u001b[0m\n\u001b[1;32m      1\u001b[0m \u001b[38;5;66;03m## Calculate 11 months returns\u001b[39;00m\n\u001b[0;32m----> 2\u001b[0m mdata[\u001b[38;5;124m'\u001b[39m\u001b[38;5;124mret11\u001b[39m\u001b[38;5;124m'\u001b[39m] \u001b[38;5;241m=\u001b[39m \u001b[43mcalculate_cumulative_returns\u001b[49m\u001b[43m(\u001b[49m\u001b[43mmdata\u001b[49m\u001b[43m,\u001b[49m\u001b[43m \u001b[49m\u001b[38;5;241;43m11\u001b[39;49m\u001b[43m,\u001b[49m\u001b[43m \u001b[49m\u001b[38;5;241;43m8\u001b[39;49m\u001b[43m)\u001b[49m\n",
      "Cell \u001b[0;32mIn[20], line 29\u001b[0m, in \u001b[0;36mcalculate_cumulative_returns\u001b[0;34m(mdata, tt, min_periods)\u001b[0m\n\u001b[1;32m     21\u001b[0m \u001b[38;5;66;03m# Before applying the function calculate_cumulative_returns you need to make sure \u001b[39;00m\n\u001b[1;32m     22\u001b[0m \u001b[38;5;66;03m# we don't have missing dates. Missing dates would lead to the wrong number of periods \u001b[39;00m\n\u001b[1;32m     23\u001b[0m \u001b[38;5;66;03m# to cumulate returns.\u001b[39;00m\n\u001b[0;32m   (...)\u001b[0m\n\u001b[1;32m     26\u001b[0m \u001b[38;5;66;03m# CRSP data has skipping months.\u001b[39;00m\n\u001b[1;32m     27\u001b[0m \u001b[38;5;66;03m# Create line to missing  months to facilitate the calculation of lag/past returns\u001b[39;00m\n\u001b[1;32m     28\u001b[0m df\u001b[38;5;241m.\u001b[39mreset_index(inplace\u001b[38;5;241m=\u001b[39m\u001b[38;5;28;01mTrue\u001b[39;00m)\n\u001b[0;32m---> 29\u001b[0m df[\u001b[38;5;124m'\u001b[39m\u001b[38;5;124medate\u001b[39m\u001b[38;5;124m'\u001b[39m] \u001b[38;5;241m=\u001b[39m \u001b[43mdf\u001b[49m\u001b[43m[\u001b[49m\u001b[38;5;124;43m'\u001b[39;49m\u001b[38;5;124;43mdate\u001b[39;49m\u001b[38;5;124;43m'\u001b[39;49m\u001b[43m]\u001b[49m \u001b[38;5;241m+\u001b[39m MonthEnd(\u001b[38;5;241m0\u001b[39m)\n\u001b[1;32m     30\u001b[0m df\u001b[38;5;241m.\u001b[39msort_values([\u001b[38;5;124m'\u001b[39m\u001b[38;5;124mpermno\u001b[39m\u001b[38;5;124m'\u001b[39m, \u001b[38;5;124m'\u001b[39m\u001b[38;5;124medate\u001b[39m\u001b[38;5;124m'\u001b[39m], inplace\u001b[38;5;241m=\u001b[39m\u001b[38;5;28;01mTrue\u001b[39;00m)\n\u001b[1;32m     31\u001b[0m pk_integrity(df, [\u001b[38;5;124m'\u001b[39m\u001b[38;5;124mpermno\u001b[39m\u001b[38;5;124m'\u001b[39m, \u001b[38;5;124m'\u001b[39m\u001b[38;5;124medate\u001b[39m\u001b[38;5;124m'\u001b[39m])\n",
      "File \u001b[0;32m/opt/anaconda3/lib/python3.8/site-packages/pandas/core/frame.py:3505\u001b[0m, in \u001b[0;36mDataFrame.__getitem__\u001b[0;34m(self, key)\u001b[0m\n\u001b[1;32m   3503\u001b[0m \u001b[38;5;28;01mif\u001b[39;00m \u001b[38;5;28mself\u001b[39m\u001b[38;5;241m.\u001b[39mcolumns\u001b[38;5;241m.\u001b[39mnlevels \u001b[38;5;241m>\u001b[39m \u001b[38;5;241m1\u001b[39m:\n\u001b[1;32m   3504\u001b[0m     \u001b[38;5;28;01mreturn\u001b[39;00m \u001b[38;5;28mself\u001b[39m\u001b[38;5;241m.\u001b[39m_getitem_multilevel(key)\n\u001b[0;32m-> 3505\u001b[0m indexer \u001b[38;5;241m=\u001b[39m \u001b[38;5;28;43mself\u001b[39;49m\u001b[38;5;241;43m.\u001b[39;49m\u001b[43mcolumns\u001b[49m\u001b[38;5;241;43m.\u001b[39;49m\u001b[43mget_loc\u001b[49m\u001b[43m(\u001b[49m\u001b[43mkey\u001b[49m\u001b[43m)\u001b[49m\n\u001b[1;32m   3506\u001b[0m \u001b[38;5;28;01mif\u001b[39;00m is_integer(indexer):\n\u001b[1;32m   3507\u001b[0m     indexer \u001b[38;5;241m=\u001b[39m [indexer]\n",
      "File \u001b[0;32m/opt/anaconda3/lib/python3.8/site-packages/pandas/core/indexes/base.py:3623\u001b[0m, in \u001b[0;36mIndex.get_loc\u001b[0;34m(self, key, method, tolerance)\u001b[0m\n\u001b[1;32m   3621\u001b[0m     \u001b[38;5;28;01mreturn\u001b[39;00m \u001b[38;5;28mself\u001b[39m\u001b[38;5;241m.\u001b[39m_engine\u001b[38;5;241m.\u001b[39mget_loc(casted_key)\n\u001b[1;32m   3622\u001b[0m \u001b[38;5;28;01mexcept\u001b[39;00m \u001b[38;5;167;01mKeyError\u001b[39;00m \u001b[38;5;28;01mas\u001b[39;00m err:\n\u001b[0;32m-> 3623\u001b[0m     \u001b[38;5;28;01mraise\u001b[39;00m \u001b[38;5;167;01mKeyError\u001b[39;00m(key) \u001b[38;5;28;01mfrom\u001b[39;00m \u001b[38;5;21;01merr\u001b[39;00m\n\u001b[1;32m   3624\u001b[0m \u001b[38;5;28;01mexcept\u001b[39;00m \u001b[38;5;167;01mTypeError\u001b[39;00m:\n\u001b[1;32m   3625\u001b[0m     \u001b[38;5;66;03m# If we have a listlike key, _check_indexing_error will raise\u001b[39;00m\n\u001b[1;32m   3626\u001b[0m     \u001b[38;5;66;03m#  InvalidIndexError. Otherwise we fall through and re-raise\u001b[39;00m\n\u001b[1;32m   3627\u001b[0m     \u001b[38;5;66;03m#  the TypeError.\u001b[39;00m\n\u001b[1;32m   3628\u001b[0m     \u001b[38;5;28mself\u001b[39m\u001b[38;5;241m.\u001b[39m_check_indexing_error(key)\n",
      "\u001b[0;31mKeyError\u001b[0m: 'date'"
     ]
    }
   ],
   "source": [
    "## Calculate 11 months returns\n",
    "mdata['ret11'] = calculate_cumulative_returns(mdata, 11, 8)"
   ]
  },
  {
   "cell_type": "code",
   "execution_count": 22,
   "metadata": {
    "slideshow": {
     "slide_type": "subslide"
    }
   },
   "outputs": [],
   "source": [
    "mdata.set_index(['permno','date'], inplace=True)"
   ]
  },
  {
   "cell_type": "code",
   "execution_count": 23,
   "metadata": {
    "slideshow": {
     "slide_type": "fragment"
    }
   },
   "outputs": [
    {
     "name": "stdout",
     "output_type": "stream",
     "text": [
      "Time to resample data: 88.47154593467712 seconds\n",
      "We have added 70229 rows to the data\n",
      "Time to calculate 11 months past returns: 129.77 seconds\n"
     ]
    }
   ],
   "source": [
    "## Calculate 11 months returns\n",
    "mdata['ret11'] = calculate_cumulative_returns(mdata, 11, 8)"
   ]
  },
  {
   "cell_type": "code",
   "execution_count": 24,
   "metadata": {
    "slideshow": {
     "slide_type": "fragment"
    }
   },
   "outputs": [],
   "source": [
    "# Make it investable\n",
    "mdata['ret11_1'] = mdata.groupby('permno').ret11.shift(1)"
   ]
  },
  {
   "cell_type": "code",
   "execution_count": 25,
   "metadata": {
    "slideshow": {
     "slide_type": "fragment"
    }
   },
   "outputs": [],
   "source": [
    "mdata.loc[(mdata.date_diff.dt.days>40), 'ret11_1'] = np.nan"
   ]
  },
  {
   "cell_type": "code",
   "execution_count": 26,
   "metadata": {
    "slideshow": {
     "slide_type": "subslide"
    }
   },
   "outputs": [],
   "source": [
    "## Skip a month\n",
    "mdata['ret11_2'] = mdata.groupby('permno').ret11_1.shift(1)"
   ]
  },
  {
   "cell_type": "code",
   "execution_count": 27,
   "metadata": {
    "slideshow": {
     "slide_type": "fragment"
    }
   },
   "outputs": [],
   "source": [
    "mdata.loc[(mdata.date_diff.dt.days>40), 'ret11_2'] = np.nan"
   ]
  },
  {
   "cell_type": "code",
   "execution_count": 28,
   "metadata": {
    "slideshow": {
     "slide_type": "fragment"
    }
   },
   "outputs": [],
   "source": [
    "mdata.reset_index(inplace=True)"
   ]
  },
  {
   "cell_type": "markdown",
   "metadata": {
    "slideshow": {
     "slide_type": "subslide"
    }
   },
   "source": [
    "### Delete missing returns"
   ]
  },
  {
   "cell_type": "code",
   "execution_count": 29,
   "metadata": {
    "slideshow": {
     "slide_type": "fragment"
    }
   },
   "outputs": [],
   "source": [
    "mdata = mdata[mdata['exret'].notnull()]"
   ]
  },
  {
   "cell_type": "markdown",
   "metadata": {
    "slideshow": {
     "slide_type": "subslide"
    }
   },
   "source": [
    "### Delete missing characteristics"
   ]
  },
  {
   "cell_type": "code",
   "execution_count": 30,
   "metadata": {
    "slideshow": {
     "slide_type": "fragment"
    }
   },
   "outputs": [],
   "source": [
    "mdata = mdata[mdata.ret11_1.notnull()]\n",
    "mdata = mdata[mdata.ret11_2.notnull()]\n",
    "mdata = mdata[mdata.ret1.notnull()]"
   ]
  },
  {
   "cell_type": "markdown",
   "metadata": {
    "slideshow": {
     "slide_type": "slide"
    }
   },
   "source": [
    "## Data Summary"
   ]
  },
  {
   "cell_type": "code",
   "execution_count": 31,
   "metadata": {
    "slideshow": {
     "slide_type": "subslide"
    }
   },
   "outputs": [
    {
     "data": {
      "text/html": [
       "<div>\n",
       "<style scoped>\n",
       "    .dataframe tbody tr th:only-of-type {\n",
       "        vertical-align: middle;\n",
       "    }\n",
       "\n",
       "    .dataframe tbody tr th {\n",
       "        vertical-align: top;\n",
       "    }\n",
       "\n",
       "    .dataframe thead th {\n",
       "        text-align: right;\n",
       "    }\n",
       "</style>\n",
       "<table border=\"1\" class=\"dataframe\">\n",
       "  <thead>\n",
       "    <tr style=\"text-align: right;\">\n",
       "      <th></th>\n",
       "      <th>exret</th>\n",
       "      <th>ret1</th>\n",
       "      <th>ret11_1</th>\n",
       "      <th>ret11_2</th>\n",
       "    </tr>\n",
       "  </thead>\n",
       "  <tbody>\n",
       "    <tr>\n",
       "      <th>count</th>\n",
       "      <td>2.937747e+06</td>\n",
       "      <td>2.937747e+06</td>\n",
       "      <td>2.937747e+06</td>\n",
       "      <td>2.937747e+06</td>\n",
       "    </tr>\n",
       "    <tr>\n",
       "      <th>mean</th>\n",
       "      <td>7.600908e-03</td>\n",
       "      <td>8.142094e-03</td>\n",
       "      <td>1.086385e+00</td>\n",
       "      <td>1.085981e+00</td>\n",
       "    </tr>\n",
       "    <tr>\n",
       "      <th>std</th>\n",
       "      <td>1.877103e-01</td>\n",
       "      <td>1.855183e-01</td>\n",
       "      <td>7.240067e-01</td>\n",
       "      <td>7.223607e-01</td>\n",
       "    </tr>\n",
       "    <tr>\n",
       "      <th>min</th>\n",
       "      <td>-1.014149e+00</td>\n",
       "      <td>-9.951580e-01</td>\n",
       "      <td>3.672921e-06</td>\n",
       "      <td>3.672921e-06</td>\n",
       "    </tr>\n",
       "    <tr>\n",
       "      <th>25%</th>\n",
       "      <td>-7.112950e-02</td>\n",
       "      <td>-7.118600e-02</td>\n",
       "      <td>7.424427e-01</td>\n",
       "      <td>7.425710e-01</td>\n",
       "    </tr>\n",
       "    <tr>\n",
       "      <th>50%</th>\n",
       "      <td>-3.804000e-03</td>\n",
       "      <td>-3.864000e-03</td>\n",
       "      <td>1.001387e+00</td>\n",
       "      <td>1.000512e+00</td>\n",
       "    </tr>\n",
       "    <tr>\n",
       "      <th>75%</th>\n",
       "      <td>6.856600e-02</td>\n",
       "      <td>6.885600e-02</td>\n",
       "      <td>1.275551e+00</td>\n",
       "      <td>1.274018e+00</td>\n",
       "    </tr>\n",
       "    <tr>\n",
       "      <th>max</th>\n",
       "      <td>2.399694e+01</td>\n",
       "      <td>2.399694e+01</td>\n",
       "      <td>1.066554e+02</td>\n",
       "      <td>1.066554e+02</td>\n",
       "    </tr>\n",
       "  </tbody>\n",
       "</table>\n",
       "</div>"
      ],
      "text/plain": [
       "              exret          ret1       ret11_1       ret11_2\n",
       "count  2.937747e+06  2.937747e+06  2.937747e+06  2.937747e+06\n",
       "mean   7.600908e-03  8.142094e-03  1.086385e+00  1.085981e+00\n",
       "std    1.877103e-01  1.855183e-01  7.240067e-01  7.223607e-01\n",
       "min   -1.014149e+00 -9.951580e-01  3.672921e-06  3.672921e-06\n",
       "25%   -7.112950e-02 -7.118600e-02  7.424427e-01  7.425710e-01\n",
       "50%   -3.804000e-03 -3.864000e-03  1.001387e+00  1.000512e+00\n",
       "75%    6.856600e-02  6.885600e-02  1.275551e+00  1.274018e+00\n",
       "max    2.399694e+01  2.399694e+01  1.066554e+02  1.066554e+02"
      ]
     },
     "execution_count": 31,
     "metadata": {},
     "output_type": "execute_result"
    }
   ],
   "source": [
    "mdata[['exret', 'ret1', 'ret11_1', 'ret11_2']].describe()"
   ]
  },
  {
   "cell_type": "markdown",
   "metadata": {
    "slideshow": {
     "slide_type": "slide"
    }
   },
   "source": [
    "## Forcasting Future Excess Returns"
   ]
  },
  {
   "cell_type": "code",
   "execution_count": 32,
   "metadata": {
    "slideshow": {
     "slide_type": "subslide"
    }
   },
   "outputs": [],
   "source": [
    "# FamaMacBeth regression\n",
    "def ols_coef(x,formula):\n",
    "    return smf.ols(formula,data=x).fit().params\n",
    "\n",
    "def fm_summary(p):\n",
    "    s = p.describe().T\n",
    "    s['std_error'] = s['std']/np.sqrt(s['count'])\n",
    "    s['tstat'] = s['mean']/s['std_error']\n",
    "    return s[['mean','std_error','tstat']]"
   ]
  },
  {
   "cell_type": "code",
   "execution_count": 33,
   "metadata": {
    "slideshow": {
     "slide_type": "subslide"
    }
   },
   "outputs": [
    {
     "data": {
      "text/html": [
       "<div>\n",
       "<style scoped>\n",
       "    .dataframe tbody tr th:only-of-type {\n",
       "        vertical-align: middle;\n",
       "    }\n",
       "\n",
       "    .dataframe tbody tr th {\n",
       "        vertical-align: top;\n",
       "    }\n",
       "\n",
       "    .dataframe thead th {\n",
       "        text-align: right;\n",
       "    }\n",
       "</style>\n",
       "<table border=\"1\" class=\"dataframe\">\n",
       "  <thead>\n",
       "    <tr style=\"text-align: right;\">\n",
       "      <th></th>\n",
       "      <th>Intercept</th>\n",
       "      <th>ret11_1</th>\n",
       "    </tr>\n",
       "    <tr>\n",
       "      <th>date</th>\n",
       "      <th></th>\n",
       "      <th></th>\n",
       "    </tr>\n",
       "  </thead>\n",
       "  <tbody>\n",
       "    <tr>\n",
       "      <th>1970-10-30</th>\n",
       "      <td>-0.188809</td>\n",
       "      <td>0.152010</td>\n",
       "    </tr>\n",
       "    <tr>\n",
       "      <th>1970-11-30</th>\n",
       "      <td>-0.065803</td>\n",
       "      <td>0.084473</td>\n",
       "    </tr>\n",
       "    <tr>\n",
       "      <th>1970-12-31</th>\n",
       "      <td>0.086035</td>\n",
       "      <td>-0.009531</td>\n",
       "    </tr>\n",
       "    <tr>\n",
       "      <th>1971-01-29</th>\n",
       "      <td>0.292165</td>\n",
       "      <td>-0.180847</td>\n",
       "    </tr>\n",
       "    <tr>\n",
       "      <th>1971-02-26</th>\n",
       "      <td>0.086903</td>\n",
       "      <td>-0.045724</td>\n",
       "    </tr>\n",
       "  </tbody>\n",
       "</table>\n",
       "</div>"
      ],
      "text/plain": [
       "            Intercept   ret11_1\n",
       "date                           \n",
       "1970-10-30  -0.188809  0.152010\n",
       "1970-11-30  -0.065803  0.084473\n",
       "1970-12-31   0.086035 -0.009531\n",
       "1971-01-29   0.292165 -0.180847\n",
       "1971-02-26   0.086903 -0.045724"
      ]
     },
     "execution_count": 33,
     "metadata": {},
     "output_type": "execute_result"
    }
   ],
   "source": [
    "### Does ret_11_1 forcast future returns?\n",
    "gamma_mom = (mdata[mdata.exret.notnull()].groupby('date')\n",
    "                .apply(ols_coef,'exret ~ 1 + ret11_1'))\n",
    "gamma_mom.head()"
   ]
  },
  {
   "cell_type": "code",
   "execution_count": 34,
   "metadata": {
    "slideshow": {
     "slide_type": "fragment"
    }
   },
   "outputs": [
    {
     "data": {
      "text/plain": [
       "<Axes: xlabel='date'>"
      ]
     },
     "execution_count": 34,
     "metadata": {},
     "output_type": "execute_result"
    },
    {
     "data": {
      "image/png": "[encoded data removed]",
      "text/plain": [
       "<Figure size 1000x600 with 1 Axes>"
      ]
     },
     "metadata": {},
     "output_type": "display_data"
    }
   ],
   "source": [
    "gamma_mom.ret11_1.plot()"
   ]
  },
  {
   "cell_type": "code",
   "execution_count": 35,
   "metadata": {
    "slideshow": {
     "slide_type": "subslide"
    }
   },
   "outputs": [
    {
     "data": {
      "text/html": [
       "<div>\n",
       "<style scoped>\n",
       "    .dataframe tbody tr th:only-of-type {\n",
       "        vertical-align: middle;\n",
       "    }\n",
       "\n",
       "    .dataframe tbody tr th {\n",
       "        vertical-align: top;\n",
       "    }\n",
       "\n",
       "    .dataframe thead th {\n",
       "        text-align: right;\n",
       "    }\n",
       "</style>\n",
       "<table border=\"1\" class=\"dataframe\">\n",
       "  <thead>\n",
       "    <tr style=\"text-align: right;\">\n",
       "      <th></th>\n",
       "      <th>mean</th>\n",
       "      <th>std_error</th>\n",
       "      <th>tstat</th>\n",
       "    </tr>\n",
       "  </thead>\n",
       "  <tbody>\n",
       "    <tr>\n",
       "      <th>Intercept</th>\n",
       "      <td>0.004771</td>\n",
       "      <td>0.003284</td>\n",
       "      <td>1.453035</td>\n",
       "    </tr>\n",
       "    <tr>\n",
       "      <th>ret11_1</th>\n",
       "      <td>0.001997</td>\n",
       "      <td>0.001834</td>\n",
       "      <td>1.088799</td>\n",
       "    </tr>\n",
       "  </tbody>\n",
       "</table>\n",
       "</div>"
      ],
      "text/plain": [
       "               mean  std_error     tstat\n",
       "Intercept  0.004771   0.003284  1.453035\n",
       "ret11_1    0.001997   0.001834  1.088799"
      ]
     },
     "execution_count": 35,
     "metadata": {},
     "output_type": "execute_result"
    }
   ],
   "source": [
    "# Fama-Macbeth regressions results\n",
    "fm_summary(gamma_mom)"
   ]
  },
  {
   "cell_type": "markdown",
   "metadata": {
    "slideshow": {
     "slide_type": "subslide"
    }
   },
   "source": [
    "### Does ret1 forcast future returns?"
   ]
  },
  {
   "cell_type": "code",
   "execution_count": 36,
   "metadata": {
    "slideshow": {
     "slide_type": "fragment"
    }
   },
   "outputs": [
    {
     "data": {
      "text/html": [
       "<div>\n",
       "<style scoped>\n",
       "    .dataframe tbody tr th:only-of-type {\n",
       "        vertical-align: middle;\n",
       "    }\n",
       "\n",
       "    .dataframe tbody tr th {\n",
       "        vertical-align: top;\n",
       "    }\n",
       "\n",
       "    .dataframe thead th {\n",
       "        text-align: right;\n",
       "    }\n",
       "</style>\n",
       "<table border=\"1\" class=\"dataframe\">\n",
       "  <thead>\n",
       "    <tr style=\"text-align: right;\">\n",
       "      <th></th>\n",
       "      <th>Intercept</th>\n",
       "      <th>ret1</th>\n",
       "    </tr>\n",
       "    <tr>\n",
       "      <th>date</th>\n",
       "      <th></th>\n",
       "      <th></th>\n",
       "    </tr>\n",
       "  </thead>\n",
       "  <tbody>\n",
       "    <tr>\n",
       "      <th>1970-10-30</th>\n",
       "      <td>-0.033043</td>\n",
       "      <td>-0.258334</td>\n",
       "    </tr>\n",
       "    <tr>\n",
       "      <th>1970-11-30</th>\n",
       "      <td>0.006658</td>\n",
       "      <td>0.114236</td>\n",
       "    </tr>\n",
       "    <tr>\n",
       "      <th>1970-12-31</th>\n",
       "      <td>0.078616</td>\n",
       "      <td>-0.030629</td>\n",
       "    </tr>\n",
       "    <tr>\n",
       "      <th>1971-01-29</th>\n",
       "      <td>0.152078</td>\n",
       "      <td>-0.231513</td>\n",
       "    </tr>\n",
       "    <tr>\n",
       "      <th>1971-02-26</th>\n",
       "      <td>0.043502</td>\n",
       "      <td>0.002026</td>\n",
       "    </tr>\n",
       "  </tbody>\n",
       "</table>\n",
       "</div>"
      ],
      "text/plain": [
       "            Intercept      ret1\n",
       "date                           \n",
       "1970-10-30  -0.033043 -0.258334\n",
       "1970-11-30   0.006658  0.114236\n",
       "1970-12-31   0.078616 -0.030629\n",
       "1971-01-29   0.152078 -0.231513\n",
       "1971-02-26   0.043502  0.002026"
      ]
     },
     "execution_count": 36,
     "metadata": {},
     "output_type": "execute_result"
    }
   ],
   "source": [
    "gamma_rev = (mdata[mdata.exret.notnull()].groupby('date')\n",
    "                .apply(ols_coef,'exret ~ 1 + ret1'))\n",
    "gamma_rev.head()"
   ]
  },
  {
   "cell_type": "code",
   "execution_count": 37,
   "metadata": {
    "slideshow": {
     "slide_type": "fragment"
    }
   },
   "outputs": [
    {
     "data": {
      "text/html": [
       "<div>\n",
       "<style scoped>\n",
       "    .dataframe tbody tr th:only-of-type {\n",
       "        vertical-align: middle;\n",
       "    }\n",
       "\n",
       "    .dataframe tbody tr th {\n",
       "        vertical-align: top;\n",
       "    }\n",
       "\n",
       "    .dataframe thead th {\n",
       "        text-align: right;\n",
       "    }\n",
       "</style>\n",
       "<table border=\"1\" class=\"dataframe\">\n",
       "  <thead>\n",
       "    <tr style=\"text-align: right;\">\n",
       "      <th></th>\n",
       "      <th>mean</th>\n",
       "      <th>std_error</th>\n",
       "      <th>tstat</th>\n",
       "    </tr>\n",
       "  </thead>\n",
       "  <tbody>\n",
       "    <tr>\n",
       "      <th>Intercept</th>\n",
       "      <td>0.007464</td>\n",
       "      <td>0.002291</td>\n",
       "      <td>3.258297</td>\n",
       "    </tr>\n",
       "    <tr>\n",
       "      <th>ret1</th>\n",
       "      <td>-0.040311</td>\n",
       "      <td>0.004101</td>\n",
       "      <td>-9.830612</td>\n",
       "    </tr>\n",
       "  </tbody>\n",
       "</table>\n",
       "</div>"
      ],
      "text/plain": [
       "               mean  std_error     tstat\n",
       "Intercept  0.007464   0.002291  3.258297\n",
       "ret1      -0.040311   0.004101 -9.830612"
      ]
     },
     "execution_count": 37,
     "metadata": {},
     "output_type": "execute_result"
    }
   ],
   "source": [
    "# Fama-Macbeth regressions results\n",
    "fm_summary(gamma_rev) "
   ]
  },
  {
   "cell_type": "markdown",
   "metadata": {
    "slideshow": {
     "slide_type": "subslide"
    }
   },
   "source": [
    "### Does ret11 forcast future returns?"
   ]
  },
  {
   "cell_type": "code",
   "execution_count": 38,
   "metadata": {
    "slideshow": {
     "slide_type": "fragment"
    }
   },
   "outputs": [
    {
     "data": {
      "text/html": [
       "<div>\n",
       "<style scoped>\n",
       "    .dataframe tbody tr th:only-of-type {\n",
       "        vertical-align: middle;\n",
       "    }\n",
       "\n",
       "    .dataframe tbody tr th {\n",
       "        vertical-align: top;\n",
       "    }\n",
       "\n",
       "    .dataframe thead th {\n",
       "        text-align: right;\n",
       "    }\n",
       "</style>\n",
       "<table border=\"1\" class=\"dataframe\">\n",
       "  <thead>\n",
       "    <tr style=\"text-align: right;\">\n",
       "      <th></th>\n",
       "      <th>Intercept</th>\n",
       "      <th>ret11_2</th>\n",
       "    </tr>\n",
       "    <tr>\n",
       "      <th>date</th>\n",
       "      <th></th>\n",
       "      <th></th>\n",
       "    </tr>\n",
       "  </thead>\n",
       "  <tbody>\n",
       "    <tr>\n",
       "      <th>1970-10-30</th>\n",
       "      <td>-0.207653</td>\n",
       "      <td>0.192657</td>\n",
       "    </tr>\n",
       "    <tr>\n",
       "      <th>1970-11-30</th>\n",
       "      <td>-0.074125</td>\n",
       "      <td>0.090033</td>\n",
       "    </tr>\n",
       "    <tr>\n",
       "      <th>1970-12-31</th>\n",
       "      <td>0.084399</td>\n",
       "      <td>-0.007466</td>\n",
       "    </tr>\n",
       "    <tr>\n",
       "      <th>1971-01-29</th>\n",
       "      <td>0.268664</td>\n",
       "      <td>-0.174306</td>\n",
       "    </tr>\n",
       "    <tr>\n",
       "      <th>1971-02-26</th>\n",
       "      <td>0.088120</td>\n",
       "      <td>-0.050674</td>\n",
       "    </tr>\n",
       "  </tbody>\n",
       "</table>\n",
       "</div>"
      ],
      "text/plain": [
       "            Intercept   ret11_2\n",
       "date                           \n",
       "1970-10-30  -0.207653  0.192657\n",
       "1970-11-30  -0.074125  0.090033\n",
       "1970-12-31   0.084399 -0.007466\n",
       "1971-01-29   0.268664 -0.174306\n",
       "1971-02-26   0.088120 -0.050674"
      ]
     },
     "execution_count": 38,
     "metadata": {},
     "output_type": "execute_result"
    }
   ],
   "source": [
    "gamma_mom2 = (mdata[mdata.exret.notnull()].groupby('date')\n",
    "                .apply(ols_coef,'exret ~ 1 + ret11_2'))\n",
    "gamma_mom2.head()"
   ]
  },
  {
   "cell_type": "code",
   "execution_count": 39,
   "metadata": {
    "slideshow": {
     "slide_type": "fragment"
    }
   },
   "outputs": [
    {
     "data": {
      "text/html": [
       "<div>\n",
       "<style scoped>\n",
       "    .dataframe tbody tr th:only-of-type {\n",
       "        vertical-align: middle;\n",
       "    }\n",
       "\n",
       "    .dataframe tbody tr th {\n",
       "        vertical-align: top;\n",
       "    }\n",
       "\n",
       "    .dataframe thead th {\n",
       "        text-align: right;\n",
       "    }\n",
       "</style>\n",
       "<table border=\"1\" class=\"dataframe\">\n",
       "  <thead>\n",
       "    <tr style=\"text-align: right;\">\n",
       "      <th></th>\n",
       "      <th>mean</th>\n",
       "      <th>std_error</th>\n",
       "      <th>tstat</th>\n",
       "    </tr>\n",
       "  </thead>\n",
       "  <tbody>\n",
       "    <tr>\n",
       "      <th>Intercept</th>\n",
       "      <td>0.001527</td>\n",
       "      <td>0.003128</td>\n",
       "      <td>0.488065</td>\n",
       "    </tr>\n",
       "    <tr>\n",
       "      <th>ret11_2</th>\n",
       "      <td>0.005488</td>\n",
       "      <td>0.001653</td>\n",
       "      <td>3.320728</td>\n",
       "    </tr>\n",
       "  </tbody>\n",
       "</table>\n",
       "</div>"
      ],
      "text/plain": [
       "               mean  std_error     tstat\n",
       "Intercept  0.001527   0.003128  0.488065\n",
       "ret11_2    0.005488   0.001653  3.320728"
      ]
     },
     "execution_count": 39,
     "metadata": {},
     "output_type": "execute_result"
    }
   ],
   "source": [
    "# Fama-Macbeth regressions results\n",
    "fm_summary(gamma_mom2)"
   ]
  },
  {
   "cell_type": "markdown",
   "metadata": {
    "slideshow": {
     "slide_type": "subslide"
    }
   },
   "source": [
    "### Do ret11_1 and ret1 forcast future returns?"
   ]
  },
  {
   "cell_type": "code",
   "execution_count": 40,
   "metadata": {
    "slideshow": {
     "slide_type": "fragment"
    }
   },
   "outputs": [
    {
     "data": {
      "text/html": [
       "<div>\n",
       "<style scoped>\n",
       "    .dataframe tbody tr th:only-of-type {\n",
       "        vertical-align: middle;\n",
       "    }\n",
       "\n",
       "    .dataframe tbody tr th {\n",
       "        vertical-align: top;\n",
       "    }\n",
       "\n",
       "    .dataframe thead th {\n",
       "        text-align: right;\n",
       "    }\n",
       "</style>\n",
       "<table border=\"1\" class=\"dataframe\">\n",
       "  <thead>\n",
       "    <tr style=\"text-align: right;\">\n",
       "      <th></th>\n",
       "      <th>mean</th>\n",
       "      <th>std_error</th>\n",
       "      <th>tstat</th>\n",
       "    </tr>\n",
       "  </thead>\n",
       "  <tbody>\n",
       "    <tr>\n",
       "      <th>Intercept</th>\n",
       "      <td>0.000221</td>\n",
       "      <td>0.003070</td>\n",
       "      <td>0.071902</td>\n",
       "    </tr>\n",
       "    <tr>\n",
       "      <th>ret11_1</th>\n",
       "      <td>0.006532</td>\n",
       "      <td>0.001643</td>\n",
       "      <td>3.975102</td>\n",
       "    </tr>\n",
       "    <tr>\n",
       "      <th>ret1</th>\n",
       "      <td>-0.047627</td>\n",
       "      <td>0.003541</td>\n",
       "      <td>-13.451502</td>\n",
       "    </tr>\n",
       "  </tbody>\n",
       "</table>\n",
       "</div>"
      ],
      "text/plain": [
       "               mean  std_error      tstat\n",
       "Intercept  0.000221   0.003070   0.071902\n",
       "ret11_1    0.006532   0.001643   3.975102\n",
       "ret1      -0.047627   0.003541 -13.451502"
      ]
     },
     "execution_count": 40,
     "metadata": {},
     "output_type": "execute_result"
    }
   ],
   "source": [
    "# Fama-Macbeth regressions results\n",
    "gamma = (mdata[mdata.exret.notnull()].groupby('date')\n",
    "                .apply(ols_coef,'exret ~ 1 + ret11_1 + ret1'))\n",
    "fm_summary(gamma)"
   ]
  },
  {
   "cell_type": "markdown",
   "metadata": {
    "slideshow": {
     "slide_type": "subslide"
    }
   },
   "source": [
    "### Do ret11_2 and ret1 forcast future returns?"
   ]
  },
  {
   "cell_type": "code",
   "execution_count": 41,
   "metadata": {
    "slideshow": {
     "slide_type": "fragment"
    }
   },
   "outputs": [
    {
     "data": {
      "text/html": [
       "<div>\n",
       "<style scoped>\n",
       "    .dataframe tbody tr th:only-of-type {\n",
       "        vertical-align: middle;\n",
       "    }\n",
       "\n",
       "    .dataframe tbody tr th {\n",
       "        vertical-align: top;\n",
       "    }\n",
       "\n",
       "    .dataframe thead th {\n",
       "        text-align: right;\n",
       "    }\n",
       "</style>\n",
       "<table border=\"1\" class=\"dataframe\">\n",
       "  <thead>\n",
       "    <tr style=\"text-align: right;\">\n",
       "      <th></th>\n",
       "      <th>mean</th>\n",
       "      <th>std_error</th>\n",
       "      <th>tstat</th>\n",
       "    </tr>\n",
       "  </thead>\n",
       "  <tbody>\n",
       "    <tr>\n",
       "      <th>Intercept</th>\n",
       "      <td>0.001259</td>\n",
       "      <td>0.003016</td>\n",
       "      <td>0.417479</td>\n",
       "    </tr>\n",
       "    <tr>\n",
       "      <th>ret11_2</th>\n",
       "      <td>0.005498</td>\n",
       "      <td>0.001581</td>\n",
       "      <td>3.476922</td>\n",
       "    </tr>\n",
       "    <tr>\n",
       "      <th>ret1</th>\n",
       "      <td>-0.041432</td>\n",
       "      <td>0.003864</td>\n",
       "      <td>-10.722555</td>\n",
       "    </tr>\n",
       "  </tbody>\n",
       "</table>\n",
       "</div>"
      ],
      "text/plain": [
       "               mean  std_error      tstat\n",
       "Intercept  0.001259   0.003016   0.417479\n",
       "ret11_2    0.005498   0.001581   3.476922\n",
       "ret1      -0.041432   0.003864 -10.722555"
      ]
     },
     "execution_count": 41,
     "metadata": {},
     "output_type": "execute_result"
    }
   ],
   "source": [
    "# Fama-Macbeth regressions results\n",
    "gamma = (mdata[mdata.exret.notnull()].groupby('date')\n",
    "                .apply(ols_coef,'exret ~ 1 + ret11_2 + ret1'))\n",
    "fm_summary(gamma)"
   ]
  },
  {
   "cell_type": "markdown",
   "metadata": {
    "slideshow": {
     "slide_type": "slide"
    }
   },
   "source": [
    "## Long-short portfolio"
   ]
  },
  {
   "cell_type": "markdown",
   "metadata": {
    "slideshow": {
     "slide_type": "subslide"
    }
   },
   "source": [
    "### Sort Portfolio"
   ]
  },
  {
   "cell_type": "code",
   "execution_count": 42,
   "metadata": {
    "slideshow": {
     "slide_type": "fragment"
    }
   },
   "outputs": [],
   "source": [
    "mdata['mesum'] = mdata.groupby(['date', 'permco']).me.transform(np.sum, min_count=1)"
   ]
  },
  {
   "cell_type": "code",
   "execution_count": 43,
   "metadata": {
    "slideshow": {
     "slide_type": "fragment"
    }
   },
   "outputs": [],
   "source": [
    "mdata = mdata[mdata.mesum.notnull()]"
   ]
  },
  {
   "cell_type": "code",
   "execution_count": 44,
   "metadata": {
    "slideshow": {
     "slide_type": "fragment"
    }
   },
   "outputs": [],
   "source": [
    "mdata.reset_index(inplace=True)"
   ]
  },
  {
   "cell_type": "code",
   "execution_count": 45,
   "metadata": {
    "slideshow": {
     "slide_type": "fragment"
    }
   },
   "outputs": [
    {
     "name": "stdout",
     "output_type": "stream",
     "text": [
      "NYSE breakpoints were calculated for mesum.\n",
      "Stocks were sorted according to breakpoints, starting in 1970-10-30 00:00:00\n",
      "NYSE breakpoints were calculated for ret11_2.\n",
      "Stocks were sorted according to breakpoints, starting in 1970-10-30 00:00:00\n",
      "NYSE breakpoints were calculated for ret11_1.\n",
      "Stocks were sorted according to breakpoints, starting in 1970-10-30 00:00:00\n",
      "NYSE breakpoints were calculated for ret1.\n",
      "Stocks were sorted according to breakpoints, starting in 1970-10-30 00:00:00\n"
     ]
    }
   ],
   "source": [
    "port = sort_portfolios(data = mdata,\n",
    "                       quantiles={'mesum': [0.5],\n",
    "                                  'ret11_2': [0.3, 0.7],\n",
    "                                  'ret11_1': [0.3, 0.7],\n",
    "                                  'ret1': [0.3, 0.7]},\n",
    "                       id_variables=['date', 'permno', 'exchcd'],\n",
    "                       exch_cd=[1])"
   ]
  },
  {
   "cell_type": "markdown",
   "metadata": {
    "slideshow": {
     "slide_type": "subslide"
    }
   },
   "source": [
    "Look at the data."
   ]
  },
  {
   "cell_type": "code",
   "execution_count": 46,
   "metadata": {
    "slideshow": {
     "slide_type": "fragment"
    }
   },
   "outputs": [
    {
     "data": {
      "text/html": [
       "<div>\n",
       "<style scoped>\n",
       "    .dataframe tbody tr th:only-of-type {\n",
       "        vertical-align: middle;\n",
       "    }\n",
       "\n",
       "    .dataframe tbody tr th {\n",
       "        vertical-align: top;\n",
       "    }\n",
       "\n",
       "    .dataframe thead th {\n",
       "        text-align: right;\n",
       "    }\n",
       "</style>\n",
       "<table border=\"1\" class=\"dataframe\">\n",
       "  <thead>\n",
       "    <tr style=\"text-align: right;\">\n",
       "      <th></th>\n",
       "      <th>date</th>\n",
       "      <th>permno</th>\n",
       "      <th>ret1portfolio</th>\n",
       "      <th>ret11_1portfolio</th>\n",
       "      <th>ret11_2portfolio</th>\n",
       "      <th>mesumportfolio</th>\n",
       "    </tr>\n",
       "  </thead>\n",
       "  <tbody>\n",
       "    <tr>\n",
       "      <th>0</th>\n",
       "      <td>1970-10-30</td>\n",
       "      <td>10006.0</td>\n",
       "      <td>ret12</td>\n",
       "      <td>ret11_12</td>\n",
       "      <td>ret11_22</td>\n",
       "      <td>mesum2</td>\n",
       "    </tr>\n",
       "    <tr>\n",
       "      <th>2152</th>\n",
       "      <td>1970-11-30</td>\n",
       "      <td>10006.0</td>\n",
       "      <td>ret12</td>\n",
       "      <td>ret11_12</td>\n",
       "      <td>ret11_22</td>\n",
       "      <td>mesum2</td>\n",
       "    </tr>\n",
       "    <tr>\n",
       "      <th>4320</th>\n",
       "      <td>1970-12-31</td>\n",
       "      <td>10006.0</td>\n",
       "      <td>ret13</td>\n",
       "      <td>ret11_12</td>\n",
       "      <td>ret11_22</td>\n",
       "      <td>mesum2</td>\n",
       "    </tr>\n",
       "    <tr>\n",
       "      <th>6499</th>\n",
       "      <td>1971-01-29</td>\n",
       "      <td>10006.0</td>\n",
       "      <td>ret11</td>\n",
       "      <td>ret11_12</td>\n",
       "      <td>ret11_22</td>\n",
       "      <td>mesum2</td>\n",
       "    </tr>\n",
       "    <tr>\n",
       "      <th>8687</th>\n",
       "      <td>1971-02-26</td>\n",
       "      <td>10006.0</td>\n",
       "      <td>ret12</td>\n",
       "      <td>ret11_12</td>\n",
       "      <td>ret11_22</td>\n",
       "      <td>mesum2</td>\n",
       "    </tr>\n",
       "  </tbody>\n",
       "</table>\n",
       "</div>"
      ],
      "text/plain": [
       "           date   permno ret1portfolio ret11_1portfolio ret11_2portfolio  \\\n",
       "0    1970-10-30  10006.0         ret12         ret11_12         ret11_22   \n",
       "2152 1970-11-30  10006.0         ret12         ret11_12         ret11_22   \n",
       "4320 1970-12-31  10006.0         ret13         ret11_12         ret11_22   \n",
       "6499 1971-01-29  10006.0         ret11         ret11_12         ret11_22   \n",
       "8687 1971-02-26  10006.0         ret12         ret11_12         ret11_22   \n",
       "\n",
       "     mesumportfolio  \n",
       "0            mesum2  \n",
       "2152         mesum2  \n",
       "4320         mesum2  \n",
       "6499         mesum2  \n",
       "8687         mesum2  "
      ]
     },
     "execution_count": 46,
     "metadata": {},
     "output_type": "execute_result"
    }
   ],
   "source": [
    "port[port.permno==10006].head()"
   ]
  },
  {
   "cell_type": "markdown",
   "metadata": {
    "slideshow": {
     "slide_type": "slide"
    }
   },
   "source": [
    "### Portfolio returns"
   ]
  },
  {
   "cell_type": "markdown",
   "metadata": {
    "slideshow": {
     "slide_type": "subslide"
    }
   },
   "source": [
    "#### Merge data"
   ]
  },
  {
   "cell_type": "code",
   "execution_count": 47,
   "metadata": {
    "slideshow": {
     "slide_type": "fragment"
    }
   },
   "outputs": [],
   "source": [
    "fdata = pd.merge(mdata[['permno', 'date', 'exret', 'melag_weights']], \n",
    "                port,\n",
    "                on = ['permno', 'date']) "
   ]
  },
  {
   "cell_type": "markdown",
   "metadata": {
    "slideshow": {
     "slide_type": "subslide"
    }
   },
   "source": [
    "Have a look at Apple in 2019. Which portfolio did Apple belong to?"
   ]
  },
  {
   "cell_type": "code",
   "execution_count": 48,
   "metadata": {
    "slideshow": {
     "slide_type": "fragment"
    }
   },
   "outputs": [
    {
     "data": {
      "text/html": [
       "<div>\n",
       "<style scoped>\n",
       "    .dataframe tbody tr th:only-of-type {\n",
       "        vertical-align: middle;\n",
       "    }\n",
       "\n",
       "    .dataframe tbody tr th {\n",
       "        vertical-align: top;\n",
       "    }\n",
       "\n",
       "    .dataframe thead th {\n",
       "        text-align: right;\n",
       "    }\n",
       "</style>\n",
       "<table border=\"1\" class=\"dataframe\">\n",
       "  <thead>\n",
       "    <tr style=\"text-align: right;\">\n",
       "      <th></th>\n",
       "      <th>permno</th>\n",
       "      <th>date</th>\n",
       "      <th>exret</th>\n",
       "      <th>melag_weights</th>\n",
       "      <th>ret1portfolio</th>\n",
       "      <th>ret11_1portfolio</th>\n",
       "      <th>ret11_2portfolio</th>\n",
       "      <th>mesumportfolio</th>\n",
       "    </tr>\n",
       "  </thead>\n",
       "  <tbody>\n",
       "    <tr>\n",
       "      <th>329934</th>\n",
       "      <td>14593</td>\n",
       "      <td>2023-03-31</td>\n",
       "      <td>0.115011</td>\n",
       "      <td>2.332313e+06</td>\n",
       "      <td>ret13</td>\n",
       "      <td>ret11_12</td>\n",
       "      <td>ret11_22</td>\n",
       "      <td>mesum2</td>\n",
       "    </tr>\n",
       "    <tr>\n",
       "      <th>329935</th>\n",
       "      <td>14593</td>\n",
       "      <td>2023-04-28</td>\n",
       "      <td>0.025347</td>\n",
       "      <td>2.592789e+06</td>\n",
       "      <td>ret13</td>\n",
       "      <td>ret11_12</td>\n",
       "      <td>ret11_22</td>\n",
       "      <td>mesum2</td>\n",
       "    </tr>\n",
       "    <tr>\n",
       "      <th>329936</th>\n",
       "      <td>14593</td>\n",
       "      <td>2023-05-31</td>\n",
       "      <td>0.042366</td>\n",
       "      <td>2.668846e+06</td>\n",
       "      <td>ret13</td>\n",
       "      <td>ret11_13</td>\n",
       "      <td>ret11_22</td>\n",
       "      <td>mesum2</td>\n",
       "    </tr>\n",
       "    <tr>\n",
       "      <th>329937</th>\n",
       "      <td>14593</td>\n",
       "      <td>2023-06-30</td>\n",
       "      <td>0.090252</td>\n",
       "      <td>2.787912e+06</td>\n",
       "      <td>ret13</td>\n",
       "      <td>ret11_13</td>\n",
       "      <td>ret11_23</td>\n",
       "      <td>mesum2</td>\n",
       "    </tr>\n",
       "    <tr>\n",
       "      <th>329938</th>\n",
       "      <td>14593</td>\n",
       "      <td>2023-07-31</td>\n",
       "      <td>0.008395</td>\n",
       "      <td>3.035217e+06</td>\n",
       "      <td>ret12</td>\n",
       "      <td>ret11_13</td>\n",
       "      <td>ret11_23</td>\n",
       "      <td>mesum2</td>\n",
       "    </tr>\n",
       "    <tr>\n",
       "      <th>329939</th>\n",
       "      <td>14593</td>\n",
       "      <td>2023-08-31</td>\n",
       "      <td>-0.046991</td>\n",
       "      <td>3.071345e+06</td>\n",
       "      <td>ret12</td>\n",
       "      <td>ret11_13</td>\n",
       "      <td>ret11_23</td>\n",
       "      <td>mesum2</td>\n",
       "    </tr>\n",
       "    <tr>\n",
       "      <th>329940</th>\n",
       "      <td>14593</td>\n",
       "      <td>2023-09-29</td>\n",
       "      <td>-0.092945</td>\n",
       "      <td>2.937203e+06</td>\n",
       "      <td>ret12</td>\n",
       "      <td>ret11_13</td>\n",
       "      <td>ret11_23</td>\n",
       "      <td>mesum2</td>\n",
       "    </tr>\n",
       "    <tr>\n",
       "      <th>329941</th>\n",
       "      <td>14593</td>\n",
       "      <td>2023-10-31</td>\n",
       "      <td>-0.007285</td>\n",
       "      <td>2.662326e+06</td>\n",
       "      <td>ret11</td>\n",
       "      <td>ret11_12</td>\n",
       "      <td>ret11_23</td>\n",
       "      <td>mesum2</td>\n",
       "    </tr>\n",
       "    <tr>\n",
       "      <th>329942</th>\n",
       "      <td>14593</td>\n",
       "      <td>2023-11-30</td>\n",
       "      <td>0.109296</td>\n",
       "      <td>2.655943e+06</td>\n",
       "      <td>ret13</td>\n",
       "      <td>ret11_13</td>\n",
       "      <td>ret11_22</td>\n",
       "      <td>mesum2</td>\n",
       "    </tr>\n",
       "    <tr>\n",
       "      <th>329943</th>\n",
       "      <td>14593</td>\n",
       "      <td>2023-12-29</td>\n",
       "      <td>0.009317</td>\n",
       "      <td>2.954245e+06</td>\n",
       "      <td>ret12</td>\n",
       "      <td>ret11_13</td>\n",
       "      <td>ret11_23</td>\n",
       "      <td>mesum2</td>\n",
       "    </tr>\n",
       "  </tbody>\n",
       "</table>\n",
       "</div>"
      ],
      "text/plain": [
       "        permno       date     exret  melag_weights ret1portfolio  \\\n",
       "329934   14593 2023-03-31  0.115011   2.332313e+06         ret13   \n",
       "329935   14593 2023-04-28  0.025347   2.592789e+06         ret13   \n",
       "329936   14593 2023-05-31  0.042366   2.668846e+06         ret13   \n",
       "329937   14593 2023-06-30  0.090252   2.787912e+06         ret13   \n",
       "329938   14593 2023-07-31  0.008395   3.035217e+06         ret12   \n",
       "329939   14593 2023-08-31 -0.046991   3.071345e+06         ret12   \n",
       "329940   14593 2023-09-29 -0.092945   2.937203e+06         ret12   \n",
       "329941   14593 2023-10-31 -0.007285   2.662326e+06         ret11   \n",
       "329942   14593 2023-11-30  0.109296   2.655943e+06         ret13   \n",
       "329943   14593 2023-12-29  0.009317   2.954245e+06         ret12   \n",
       "\n",
       "       ret11_1portfolio ret11_2portfolio mesumportfolio  \n",
       "329934         ret11_12         ret11_22         mesum2  \n",
       "329935         ret11_12         ret11_22         mesum2  \n",
       "329936         ret11_13         ret11_22         mesum2  \n",
       "329937         ret11_13         ret11_23         mesum2  \n",
       "329938         ret11_13         ret11_23         mesum2  \n",
       "329939         ret11_13         ret11_23         mesum2  \n",
       "329940         ret11_13         ret11_23         mesum2  \n",
       "329941         ret11_12         ret11_23         mesum2  \n",
       "329942         ret11_13         ret11_22         mesum2  \n",
       "329943         ret11_13         ret11_23         mesum2  "
      ]
     },
     "execution_count": 48,
     "metadata": {},
     "output_type": "execute_result"
    }
   ],
   "source": [
    "fdata[(fdata.permno==14593) & (fdata.date.dt.year>=2019)].tail(10)"
   ]
  },
  {
   "cell_type": "markdown",
   "metadata": {
    "slideshow": {
     "slide_type": "subslide"
    }
   },
   "source": [
    "#### Calculate returns"
   ]
  },
  {
   "cell_type": "code",
   "execution_count": 49,
   "metadata": {
    "slideshow": {
     "slide_type": "subslide"
    }
   },
   "outputs": [
    {
     "data": {
      "text/plain": [
       "date        mesumportfolio  ret1portfolio\n",
       "1970-10-30  mesum1          ret11           -0.025202\n",
       "                            ret12           -0.055249\n",
       "                            ret13           -0.101283\n",
       "            mesum2          ret11           -0.009772\n",
       "                            ret12           -0.018604\n",
       "                                               ...   \n",
       "2023-12-29  mesum1          ret12            0.125492\n",
       "                            ret13            0.132602\n",
       "            mesum2          ret11            0.030436\n",
       "                            ret12            0.038726\n",
       "                            ret13            0.075740\n",
       "Length: 3834, dtype: float64"
      ]
     },
     "metadata": {},
     "output_type": "display_data"
    }
   ],
   "source": [
    "# Reversal Returns \n",
    "rev = fdata.groupby(['date', \n",
    "                     'mesumportfolio', \n",
    "                     'ret1portfolio']).apply(lambda x: np.average(x['exret'], \n",
    "                                                                   weights = x['melag_weights']))\n",
    "display(rev)"
   ]
  },
  {
   "cell_type": "code",
   "execution_count": 50,
   "metadata": {
    "slideshow": {
     "slide_type": "fragment"
    }
   },
   "outputs": [
    {
     "data": {
      "text/html": [
       "<div>\n",
       "<style scoped>\n",
       "    .dataframe tbody tr th:only-of-type {\n",
       "        vertical-align: middle;\n",
       "    }\n",
       "\n",
       "    .dataframe tbody tr th {\n",
       "        vertical-align: top;\n",
       "    }\n",
       "\n",
       "    .dataframe thead tr th {\n",
       "        text-align: left;\n",
       "    }\n",
       "\n",
       "    .dataframe thead tr:last-of-type th {\n",
       "        text-align: right;\n",
       "    }\n",
       "</style>\n",
       "<table border=\"1\" class=\"dataframe\">\n",
       "  <thead>\n",
       "    <tr>\n",
       "      <th>mesumportfolio</th>\n",
       "      <th colspan=\"3\" halign=\"left\">mesum1</th>\n",
       "      <th colspan=\"3\" halign=\"left\">mesum2</th>\n",
       "    </tr>\n",
       "    <tr>\n",
       "      <th>ret1portfolio</th>\n",
       "      <th>ret11</th>\n",
       "      <th>ret12</th>\n",
       "      <th>ret13</th>\n",
       "      <th>ret11</th>\n",
       "      <th>ret12</th>\n",
       "      <th>ret13</th>\n",
       "    </tr>\n",
       "    <tr>\n",
       "      <th>date</th>\n",
       "      <th></th>\n",
       "      <th></th>\n",
       "      <th></th>\n",
       "      <th></th>\n",
       "      <th></th>\n",
       "      <th></th>\n",
       "    </tr>\n",
       "  </thead>\n",
       "  <tbody>\n",
       "    <tr>\n",
       "      <th>1970-10-30</th>\n",
       "      <td>-0.025202</td>\n",
       "      <td>-0.055249</td>\n",
       "      <td>-0.101283</td>\n",
       "      <td>-0.009772</td>\n",
       "      <td>-0.018604</td>\n",
       "      <td>-0.061833</td>\n",
       "    </tr>\n",
       "    <tr>\n",
       "      <th>1970-11-30</th>\n",
       "      <td>-0.007556</td>\n",
       "      <td>0.007791</td>\n",
       "      <td>0.013077</td>\n",
       "      <td>0.057785</td>\n",
       "      <td>0.055633</td>\n",
       "      <td>0.043627</td>\n",
       "    </tr>\n",
       "    <tr>\n",
       "      <th>1970-12-31</th>\n",
       "      <td>0.089769</td>\n",
       "      <td>0.073310</td>\n",
       "      <td>0.065054</td>\n",
       "      <td>0.077108</td>\n",
       "      <td>0.059134</td>\n",
       "      <td>0.045373</td>\n",
       "    </tr>\n",
       "    <tr>\n",
       "      <th>1971-01-29</th>\n",
       "      <td>0.133908</td>\n",
       "      <td>0.109467</td>\n",
       "      <td>0.076747</td>\n",
       "      <td>0.043691</td>\n",
       "      <td>0.037085</td>\n",
       "      <td>0.059520</td>\n",
       "    </tr>\n",
       "    <tr>\n",
       "      <th>1971-02-26</th>\n",
       "      <td>0.049126</td>\n",
       "      <td>0.032587</td>\n",
       "      <td>0.023697</td>\n",
       "      <td>0.017585</td>\n",
       "      <td>0.004421</td>\n",
       "      <td>0.011798</td>\n",
       "    </tr>\n",
       "    <tr>\n",
       "      <th>...</th>\n",
       "      <td>...</td>\n",
       "      <td>...</td>\n",
       "      <td>...</td>\n",
       "      <td>...</td>\n",
       "      <td>...</td>\n",
       "      <td>...</td>\n",
       "    </tr>\n",
       "    <tr>\n",
       "      <th>2023-08-31</th>\n",
       "      <td>-0.077712</td>\n",
       "      <td>-0.068958</td>\n",
       "      <td>-0.108484</td>\n",
       "      <td>-0.013378</td>\n",
       "      <td>-0.022630</td>\n",
       "      <td>-0.026758</td>\n",
       "    </tr>\n",
       "    <tr>\n",
       "      <th>2023-09-29</th>\n",
       "      <td>-0.097767</td>\n",
       "      <td>-0.074892</td>\n",
       "      <td>-0.054765</td>\n",
       "      <td>-0.057360</td>\n",
       "      <td>-0.050052</td>\n",
       "      <td>-0.051091</td>\n",
       "    </tr>\n",
       "    <tr>\n",
       "      <th>2023-10-31</th>\n",
       "      <td>-0.116882</td>\n",
       "      <td>-0.062807</td>\n",
       "      <td>-0.077564</td>\n",
       "      <td>-0.038338</td>\n",
       "      <td>-0.026281</td>\n",
       "      <td>-0.028121</td>\n",
       "    </tr>\n",
       "    <tr>\n",
       "      <th>2023-11-30</th>\n",
       "      <td>0.094538</td>\n",
       "      <td>0.079226</td>\n",
       "      <td>0.055289</td>\n",
       "      <td>0.108370</td>\n",
       "      <td>0.094073</td>\n",
       "      <td>0.080053</td>\n",
       "    </tr>\n",
       "    <tr>\n",
       "      <th>2023-12-29</th>\n",
       "      <td>0.105234</td>\n",
       "      <td>0.125492</td>\n",
       "      <td>0.132602</td>\n",
       "      <td>0.030436</td>\n",
       "      <td>0.038726</td>\n",
       "      <td>0.075740</td>\n",
       "    </tr>\n",
       "  </tbody>\n",
       "</table>\n",
       "<p>639 rows × 6 columns</p>\n",
       "</div>"
      ],
      "text/plain": [
       "mesumportfolio    mesum1                        mesum2                    \n",
       "ret1portfolio      ret11     ret12     ret13     ret11     ret12     ret13\n",
       "date                                                                      \n",
       "1970-10-30     -0.025202 -0.055249 -0.101283 -0.009772 -0.018604 -0.061833\n",
       "1970-11-30     -0.007556  0.007791  0.013077  0.057785  0.055633  0.043627\n",
       "1970-12-31      0.089769  0.073310  0.065054  0.077108  0.059134  0.045373\n",
       "1971-01-29      0.133908  0.109467  0.076747  0.043691  0.037085  0.059520\n",
       "1971-02-26      0.049126  0.032587  0.023697  0.017585  0.004421  0.011798\n",
       "...                  ...       ...       ...       ...       ...       ...\n",
       "2023-08-31     -0.077712 -0.068958 -0.108484 -0.013378 -0.022630 -0.026758\n",
       "2023-09-29     -0.097767 -0.074892 -0.054765 -0.057360 -0.050052 -0.051091\n",
       "2023-10-31     -0.116882 -0.062807 -0.077564 -0.038338 -0.026281 -0.028121\n",
       "2023-11-30      0.094538  0.079226  0.055289  0.108370  0.094073  0.080053\n",
       "2023-12-29      0.105234  0.125492  0.132602  0.030436  0.038726  0.075740\n",
       "\n",
       "[639 rows x 6 columns]"
      ]
     },
     "metadata": {},
     "output_type": "display_data"
    }
   ],
   "source": [
    "rev = rev.unstack(level=[1, 2])\n",
    "display(rev)"
   ]
  },
  {
   "cell_type": "code",
   "execution_count": 51,
   "metadata": {
    "slideshow": {
     "slide_type": "subslide"
    }
   },
   "outputs": [],
   "source": [
    "rev_ret = rev.loc[:, idx[:, 'ret13']].mean(axis=1)-rev.loc[:, idx[:, 'ret11']].mean(axis=1)\n",
    "rev_ret = rev_ret.to_frame('rev')"
   ]
  },
  {
   "cell_type": "code",
   "execution_count": 52,
   "metadata": {
    "slideshow": {
     "slide_type": "subslide"
    }
   },
   "outputs": [],
   "source": [
    "# Momentum not skipping 1-month\n",
    "rev2 = fdata.groupby(['date', \n",
    "                      'mesumportfolio', \n",
    "                      'ret1portfolio']).apply(lambda x: np.average(x['exret']))\n",
    "rev2 = rev2.unstack(level=[1, 2])\n",
    "rev2_ret = rev2.loc[:, idx[:, 'ret13']].mean(axis=1)-rev2.loc[:, idx[:, 'ret11']].mean(axis=1)\n",
    "rev2_ret = rev2_ret.to_frame('rev2')"
   ]
  },
  {
   "cell_type": "code",
   "execution_count": 53,
   "metadata": {
    "slideshow": {
     "slide_type": "subslide"
    }
   },
   "outputs": [],
   "source": [
    "# Momentum not skipping 1-month\n",
    "mom2 = fdata.groupby(['date', \n",
    "                      'mesumportfolio', \n",
    "                      'ret11_1portfolio']).apply(lambda x: np.average(x['exret'], \n",
    "                                                                weights = x['melag_weights']))\n",
    "mom2 = mom2.unstack(level=[1, 2])\n",
    "mom2_ret = mom2.loc[:, idx[:, 'ret11_13']].mean(axis=1)-mom2.loc[:, idx[:, 'ret11_11']].mean(axis=1)\n",
    "mom2_ret = mom2_ret.to_frame('mom2')"
   ]
  },
  {
   "cell_type": "code",
   "execution_count": 54,
   "metadata": {
    "slideshow": {
     "slide_type": "subslide"
    }
   },
   "outputs": [],
   "source": [
    "# Momemtum Returns\n",
    "mom = fdata.groupby(['date', \n",
    "                     'mesumportfolio', \n",
    "                     'ret11_2portfolio']).apply(lambda x: np.average(x['exret'], \n",
    "                                                                weights = x['melag_weights']))\n",
    "mom = mom.unstack(level=[1, 2])\n",
    "mom_ret = mom.loc[:, idx[:, 'ret11_23']].mean(axis=1)-mom.loc[:, idx[:, 'ret11_21']].mean(axis=1)\n",
    "mom_ret = mom_ret.to_frame('mom')"
   ]
  },
  {
   "cell_type": "code",
   "execution_count": 55,
   "metadata": {
    "slideshow": {
     "slide_type": "subslide"
    }
   },
   "outputs": [],
   "source": [
    "ret = mom_ret.join(rev_ret).join(mom2_ret).join(rev2_ret)"
   ]
  },
  {
   "cell_type": "markdown",
   "metadata": {
    "slideshow": {
     "slide_type": "subslide"
    }
   },
   "source": [
    "#### Long-short portfolio returns"
   ]
  },
  {
   "cell_type": "code",
   "execution_count": 56,
   "metadata": {
    "slideshow": {
     "slide_type": "fragment"
    }
   },
   "outputs": [
    {
     "data": {
      "text/plain": [
       "<Axes: xlabel='date'>"
      ]
     },
     "execution_count": 56,
     "metadata": {},
     "output_type": "execute_result"
    },
    {
     "data": {
      "image/png": "[encoded data removed]",
      "text/plain": [
       "<Figure size 1000x600 with 1 Axes>"
      ]
     },
     "metadata": {},
     "output_type": "display_data"
    }
   ],
   "source": [
    "np.log(1+ret).cumsum().plot()"
   ]
  },
  {
   "cell_type": "markdown",
   "metadata": {
    "slideshow": {
     "slide_type": "subslide"
    }
   },
   "source": [
    "### Compare Sharpe-ratio"
   ]
  },
  {
   "cell_type": "code",
   "execution_count": 57,
   "metadata": {
    "slideshow": {
     "slide_type": "fragment"
    }
   },
   "outputs": [
    {
     "data": {
      "text/plain": [
       "mom     0.385546\n",
       "rev    -0.497134\n",
       "mom2    0.171694\n",
       "rev2   -0.934393\n",
       "dtype: float64"
      ]
     },
     "execution_count": 57,
     "metadata": {},
     "output_type": "execute_result"
    }
   ],
   "source": [
    "(ret.mean()/ret.std())*np.sqrt(12)"
   ]
  },
  {
   "cell_type": "markdown",
   "metadata": {
    "slideshow": {
     "slide_type": "slide"
    }
   },
   "source": [
    "## Are there alphas?"
   ]
  },
  {
   "cell_type": "code",
   "execution_count": 58,
   "metadata": {
    "slideshow": {
     "slide_type": "subslide"
    }
   },
   "outputs": [],
   "source": [
    "# FF five factor\n",
    "ff = kf_factors(ff_factor_file='F-F_Research_Data_5_Factors_2x3', freq='monthly')\n",
    "ff.drop(columns=['date'], inplace=True)\n",
    "ff_ret = ff.set_index('mdate')/100\n",
    "ff_ret.rename(columns = {'Mkt-RF': 'MktRF'}, inplace=True)"
   ]
  },
  {
   "cell_type": "code",
   "execution_count": 59,
   "metadata": {
    "slideshow": {
     "slide_type": "fragment"
    }
   },
   "outputs": [
    {
     "data": {
      "text/html": [
       "<div>\n",
       "<style scoped>\n",
       "    .dataframe tbody tr th:only-of-type {\n",
       "        vertical-align: middle;\n",
       "    }\n",
       "\n",
       "    .dataframe tbody tr th {\n",
       "        vertical-align: top;\n",
       "    }\n",
       "\n",
       "    .dataframe thead th {\n",
       "        text-align: right;\n",
       "    }\n",
       "</style>\n",
       "<table border=\"1\" class=\"dataframe\">\n",
       "  <thead>\n",
       "    <tr style=\"text-align: right;\">\n",
       "      <th></th>\n",
       "      <th>Mkt-RF</th>\n",
       "      <th>SMB</th>\n",
       "      <th>HML</th>\n",
       "      <th>RMW</th>\n",
       "      <th>CMA</th>\n",
       "      <th>RF</th>\n",
       "      <th>mdate</th>\n",
       "    </tr>\n",
       "  </thead>\n",
       "  <tbody>\n",
       "    <tr>\n",
       "      <th>0</th>\n",
       "      <td>-0.39</td>\n",
       "      <td>-0.41</td>\n",
       "      <td>-0.97</td>\n",
       "      <td>0.68</td>\n",
       "      <td>-1.18</td>\n",
       "      <td>0.27</td>\n",
       "      <td>196307</td>\n",
       "    </tr>\n",
       "    <tr>\n",
       "      <th>1</th>\n",
       "      <td>5.07</td>\n",
       "      <td>-0.80</td>\n",
       "      <td>1.80</td>\n",
       "      <td>0.36</td>\n",
       "      <td>-0.35</td>\n",
       "      <td>0.25</td>\n",
       "      <td>196308</td>\n",
       "    </tr>\n",
       "    <tr>\n",
       "      <th>2</th>\n",
       "      <td>-1.57</td>\n",
       "      <td>-0.52</td>\n",
       "      <td>0.13</td>\n",
       "      <td>-0.71</td>\n",
       "      <td>0.29</td>\n",
       "      <td>0.27</td>\n",
       "      <td>196309</td>\n",
       "    </tr>\n",
       "    <tr>\n",
       "      <th>3</th>\n",
       "      <td>2.53</td>\n",
       "      <td>-1.39</td>\n",
       "      <td>-0.10</td>\n",
       "      <td>2.80</td>\n",
       "      <td>-2.01</td>\n",
       "      <td>0.29</td>\n",
       "      <td>196310</td>\n",
       "    </tr>\n",
       "    <tr>\n",
       "      <th>4</th>\n",
       "      <td>-0.85</td>\n",
       "      <td>-0.88</td>\n",
       "      <td>1.75</td>\n",
       "      <td>-0.51</td>\n",
       "      <td>2.24</td>\n",
       "      <td>0.27</td>\n",
       "      <td>196311</td>\n",
       "    </tr>\n",
       "    <tr>\n",
       "      <th>...</th>\n",
       "      <td>...</td>\n",
       "      <td>...</td>\n",
       "      <td>...</td>\n",
       "      <td>...</td>\n",
       "      <td>...</td>\n",
       "      <td>...</td>\n",
       "      <td>...</td>\n",
       "    </tr>\n",
       "    <tr>\n",
       "      <th>721</th>\n",
       "      <td>-2.39</td>\n",
       "      <td>-3.65</td>\n",
       "      <td>-1.06</td>\n",
       "      <td>3.43</td>\n",
       "      <td>-2.37</td>\n",
       "      <td>0.45</td>\n",
       "      <td>202308</td>\n",
       "    </tr>\n",
       "    <tr>\n",
       "      <th>722</th>\n",
       "      <td>-5.24</td>\n",
       "      <td>-1.80</td>\n",
       "      <td>1.52</td>\n",
       "      <td>1.86</td>\n",
       "      <td>-0.83</td>\n",
       "      <td>0.43</td>\n",
       "      <td>202309</td>\n",
       "    </tr>\n",
       "    <tr>\n",
       "      <th>723</th>\n",
       "      <td>-3.19</td>\n",
       "      <td>-4.04</td>\n",
       "      <td>0.19</td>\n",
       "      <td>2.46</td>\n",
       "      <td>-0.66</td>\n",
       "      <td>0.47</td>\n",
       "      <td>202310</td>\n",
       "    </tr>\n",
       "    <tr>\n",
       "      <th>724</th>\n",
       "      <td>8.84</td>\n",
       "      <td>-0.12</td>\n",
       "      <td>1.64</td>\n",
       "      <td>-3.91</td>\n",
       "      <td>-1.00</td>\n",
       "      <td>0.44</td>\n",
       "      <td>202311</td>\n",
       "    </tr>\n",
       "    <tr>\n",
       "      <th>725</th>\n",
       "      <td>4.85</td>\n",
       "      <td>7.32</td>\n",
       "      <td>4.94</td>\n",
       "      <td>-3.07</td>\n",
       "      <td>1.32</td>\n",
       "      <td>0.43</td>\n",
       "      <td>202312</td>\n",
       "    </tr>\n",
       "  </tbody>\n",
       "</table>\n",
       "<p>726 rows × 7 columns</p>\n",
       "</div>"
      ],
      "text/plain": [
       "     Mkt-RF   SMB   HML   RMW   CMA    RF   mdate\n",
       "0     -0.39 -0.41 -0.97  0.68 -1.18  0.27  196307\n",
       "1      5.07 -0.80  1.80  0.36 -0.35  0.25  196308\n",
       "2     -1.57 -0.52  0.13 -0.71  0.29  0.27  196309\n",
       "3      2.53 -1.39 -0.10  2.80 -2.01  0.29  196310\n",
       "4     -0.85 -0.88  1.75 -0.51  2.24  0.27  196311\n",
       "..      ...   ...   ...   ...   ...   ...     ...\n",
       "721   -2.39 -3.65 -1.06  3.43 -2.37  0.45  202308\n",
       "722   -5.24 -1.80  1.52  1.86 -0.83  0.43  202309\n",
       "723   -3.19 -4.04  0.19  2.46 -0.66  0.47  202310\n",
       "724    8.84 -0.12  1.64 -3.91 -1.00  0.44  202311\n",
       "725    4.85  7.32  4.94 -3.07  1.32  0.43  202312\n",
       "\n",
       "[726 rows x 7 columns]"
      ]
     },
     "execution_count": 59,
     "metadata": {},
     "output_type": "execute_result"
    }
   ],
   "source": [
    "ff"
   ]
  },
  {
   "cell_type": "code",
   "execution_count": 60,
   "metadata": {
    "slideshow": {
     "slide_type": "subslide"
    }
   },
   "outputs": [],
   "source": [
    "ret.reset_index(inplace=True) \n",
    "ret['mdate'] = ret.date.dt.year * 100 +  ret.date.dt.month "
   ]
  },
  {
   "cell_type": "code",
   "execution_count": 61,
   "metadata": {
    "slideshow": {
     "slide_type": "fragment"
    }
   },
   "outputs": [],
   "source": [
    "ret.set_index('mdate', inplace=True)"
   ]
  },
  {
   "cell_type": "code",
   "execution_count": 62,
   "metadata": {
    "slideshow": {
     "slide_type": "fragment"
    }
   },
   "outputs": [],
   "source": [
    "# Merge \n",
    "ret = ret.join(ff_ret)\n",
    "ret.reset_index(inplace=True)\n",
    "ret.set_index('date', inplace=True)"
   ]
  },
  {
   "cell_type": "code",
   "execution_count": 63,
   "metadata": {
    "slideshow": {
     "slide_type": "fragment"
    }
   },
   "outputs": [
    {
     "data": {
      "text/html": [
       "<div>\n",
       "<style scoped>\n",
       "    .dataframe tbody tr th:only-of-type {\n",
       "        vertical-align: middle;\n",
       "    }\n",
       "\n",
       "    .dataframe tbody tr th {\n",
       "        vertical-align: top;\n",
       "    }\n",
       "\n",
       "    .dataframe thead th {\n",
       "        text-align: right;\n",
       "    }\n",
       "</style>\n",
       "<table border=\"1\" class=\"dataframe\">\n",
       "  <thead>\n",
       "    <tr style=\"text-align: right;\">\n",
       "      <th></th>\n",
       "      <th>mdate</th>\n",
       "      <th>mom</th>\n",
       "      <th>rev</th>\n",
       "      <th>mom2</th>\n",
       "      <th>rev2</th>\n",
       "      <th>MktRF</th>\n",
       "      <th>SMB</th>\n",
       "      <th>HML</th>\n",
       "      <th>RMW</th>\n",
       "      <th>CMA</th>\n",
       "      <th>RF</th>\n",
       "    </tr>\n",
       "    <tr>\n",
       "      <th>date</th>\n",
       "      <th></th>\n",
       "      <th></th>\n",
       "      <th></th>\n",
       "      <th></th>\n",
       "      <th></th>\n",
       "      <th></th>\n",
       "      <th></th>\n",
       "      <th></th>\n",
       "      <th></th>\n",
       "      <th></th>\n",
       "      <th></th>\n",
       "    </tr>\n",
       "  </thead>\n",
       "  <tbody>\n",
       "    <tr>\n",
       "      <th>1970-10-30</th>\n",
       "      <td>197010</td>\n",
       "      <td>0.083603</td>\n",
       "      <td>-0.064071</td>\n",
       "      <td>0.073112</td>\n",
       "      <td>-0.062213</td>\n",
       "      <td>-0.0228</td>\n",
       "      <td>-0.0443</td>\n",
       "      <td>0.0022</td>\n",
       "      <td>0.0171</td>\n",
       "      <td>0.0234</td>\n",
       "      <td>0.0046</td>\n",
       "    </tr>\n",
       "    <tr>\n",
       "      <th>1970-11-30</th>\n",
       "      <td>197011</td>\n",
       "      <td>0.023131</td>\n",
       "      <td>0.003238</td>\n",
       "      <td>0.023705</td>\n",
       "      <td>0.009349</td>\n",
       "      <td>0.0460</td>\n",
       "      <td>-0.0386</td>\n",
       "      <td>0.0169</td>\n",
       "      <td>0.0157</td>\n",
       "      <td>0.0147</td>\n",
       "      <td>0.0046</td>\n",
       "    </tr>\n",
       "    <tr>\n",
       "      <th>1970-12-31</th>\n",
       "      <td>197012</td>\n",
       "      <td>-0.022009</td>\n",
       "      <td>-0.028225</td>\n",
       "      <td>-0.034313</td>\n",
       "      <td>-0.024298</td>\n",
       "      <td>0.0572</td>\n",
       "      <td>0.0294</td>\n",
       "      <td>0.0100</td>\n",
       "      <td>0.0027</td>\n",
       "      <td>0.0030</td>\n",
       "      <td>0.0042</td>\n",
       "    </tr>\n",
       "    <tr>\n",
       "      <th>1971-01-29</th>\n",
       "      <td>197101</td>\n",
       "      <td>-0.070859</td>\n",
       "      <td>-0.020666</td>\n",
       "      <td>-0.076117</td>\n",
       "      <td>-0.045204</td>\n",
       "      <td>0.0484</td>\n",
       "      <td>0.0754</td>\n",
       "      <td>0.0133</td>\n",
       "      <td>-0.0199</td>\n",
       "      <td>0.0007</td>\n",
       "      <td>0.0038</td>\n",
       "    </tr>\n",
       "    <tr>\n",
       "      <th>1971-02-26</th>\n",
       "      <td>197102</td>\n",
       "      <td>0.003639</td>\n",
       "      <td>-0.015608</td>\n",
       "      <td>-0.002177</td>\n",
       "      <td>-0.008825</td>\n",
       "      <td>0.0141</td>\n",
       "      <td>0.0204</td>\n",
       "      <td>-0.0123</td>\n",
       "      <td>0.0062</td>\n",
       "      <td>-0.0070</td>\n",
       "      <td>0.0033</td>\n",
       "    </tr>\n",
       "  </tbody>\n",
       "</table>\n",
       "</div>"
      ],
      "text/plain": [
       "             mdate       mom       rev      mom2      rev2   MktRF     SMB  \\\n",
       "date                                                                         \n",
       "1970-10-30  197010  0.083603 -0.064071  0.073112 -0.062213 -0.0228 -0.0443   \n",
       "1970-11-30  197011  0.023131  0.003238  0.023705  0.009349  0.0460 -0.0386   \n",
       "1970-12-31  197012 -0.022009 -0.028225 -0.034313 -0.024298  0.0572  0.0294   \n",
       "1971-01-29  197101 -0.070859 -0.020666 -0.076117 -0.045204  0.0484  0.0754   \n",
       "1971-02-26  197102  0.003639 -0.015608 -0.002177 -0.008825  0.0141  0.0204   \n",
       "\n",
       "               HML     RMW     CMA      RF  \n",
       "date                                        \n",
       "1970-10-30  0.0022  0.0171  0.0234  0.0046  \n",
       "1970-11-30  0.0169  0.0157  0.0147  0.0046  \n",
       "1970-12-31  0.0100  0.0027  0.0030  0.0042  \n",
       "1971-01-29  0.0133 -0.0199  0.0007  0.0038  \n",
       "1971-02-26 -0.0123  0.0062 -0.0070  0.0033  "
      ]
     },
     "execution_count": 63,
     "metadata": {},
     "output_type": "execute_result"
    }
   ],
   "source": [
    "ret.head()"
   ]
  },
  {
   "cell_type": "code",
   "execution_count": 64,
   "metadata": {
    "slideshow": {
     "slide_type": "subslide"
    }
   },
   "outputs": [
    {
     "data": {
      "text/html": [
       "<table class=\"simpletable\">\n",
       "<caption>OLS Regression Results</caption>\n",
       "<tr>\n",
       "  <th>Dep. Variable:</th>           <td>mom</td>       <th>  R-squared:         </th> <td>   0.122</td>\n",
       "</tr>\n",
       "<tr>\n",
       "  <th>Model:</th>                   <td>OLS</td>       <th>  Adj. R-squared:    </th> <td>   0.117</td>\n",
       "</tr>\n",
       "<tr>\n",
       "  <th>Method:</th>             <td>Least Squares</td>  <th>  F-statistic:       </th> <td>   23.11</td>\n",
       "</tr>\n",
       "<tr>\n",
       "  <th>Date:</th>             <td>Fri, 16 Feb 2024</td> <th>  Prob (F-statistic):</th> <td>3.41e-06</td>\n",
       "</tr>\n",
       "<tr>\n",
       "  <th>Time:</th>                 <td>07:38:07</td>     <th>  Log-Likelihood:    </th> <td>  330.51</td>\n",
       "</tr>\n",
       "<tr>\n",
       "  <th>No. Observations:</th>      <td>   168</td>      <th>  AIC:               </th> <td>  -657.0</td>\n",
       "</tr>\n",
       "<tr>\n",
       "  <th>Df Residuals:</th>          <td>   166</td>      <th>  BIC:               </th> <td>  -650.8</td>\n",
       "</tr>\n",
       "<tr>\n",
       "  <th>Df Model:</th>              <td>     1</td>      <th>                     </th>     <td> </td>   \n",
       "</tr>\n",
       "<tr>\n",
       "  <th>Covariance Type:</th>      <td>nonrobust</td>    <th>                     </th>     <td> </td>   \n",
       "</tr>\n",
       "</table>\n",
       "<table class=\"simpletable\">\n",
       "<tr>\n",
       "      <td></td>         <th>coef</th>     <th>std err</th>      <th>t</th>      <th>P>|t|</th>  <th>[0.025</th>    <th>0.975]</th>  \n",
       "</tr>\n",
       "<tr>\n",
       "  <th>Intercept</th> <td>    0.0034</td> <td>    0.003</td> <td>    1.271</td> <td> 0.206</td> <td>   -0.002</td> <td>    0.009</td>\n",
       "</tr>\n",
       "<tr>\n",
       "  <th>MktRF</th>     <td>   -0.2848</td> <td>    0.059</td> <td>   -4.807</td> <td> 0.000</td> <td>   -0.402</td> <td>   -0.168</td>\n",
       "</tr>\n",
       "</table>\n",
       "<table class=\"simpletable\">\n",
       "<tr>\n",
       "  <th>Omnibus:</th>       <td>21.988</td> <th>  Durbin-Watson:     </th> <td>   2.083</td>\n",
       "</tr>\n",
       "<tr>\n",
       "  <th>Prob(Omnibus):</th> <td> 0.000</td> <th>  Jarque-Bera (JB):  </th> <td>  36.176</td>\n",
       "</tr>\n",
       "<tr>\n",
       "  <th>Skew:</th>          <td>-0.680</td> <th>  Prob(JB):          </th> <td>1.39e-08</td>\n",
       "</tr>\n",
       "<tr>\n",
       "  <th>Kurtosis:</th>      <td> 4.821</td> <th>  Cond. No.          </th> <td>    22.6</td>\n",
       "</tr>\n",
       "</table><br/><br/>Notes:<br/>[1] Standard Errors assume that the covariance matrix of the errors is correctly specified."
      ],
      "text/latex": [
       "\\begin{center}\n",
       "\\begin{tabular}{lclc}\n",
       "\\toprule\n",
       "\\textbf{Dep. Variable:}    &       mom        & \\textbf{  R-squared:         } &     0.122   \\\\\n",
       "\\textbf{Model:}            &       OLS        & \\textbf{  Adj. R-squared:    } &     0.117   \\\\\n",
       "\\textbf{Method:}           &  Least Squares   & \\textbf{  F-statistic:       } &     23.11   \\\\\n",
       "\\textbf{Date:}             & Fri, 16 Feb 2024 & \\textbf{  Prob (F-statistic):} &  3.41e-06   \\\\\n",
       "\\textbf{Time:}             &     07:38:07     & \\textbf{  Log-Likelihood:    } &    330.51   \\\\\n",
       "\\textbf{No. Observations:} &         168      & \\textbf{  AIC:               } &    -657.0   \\\\\n",
       "\\textbf{Df Residuals:}     &         166      & \\textbf{  BIC:               } &    -650.8   \\\\\n",
       "\\textbf{Df Model:}         &           1      & \\textbf{                     } &             \\\\\n",
       "\\textbf{Covariance Type:}  &    nonrobust     & \\textbf{                     } &             \\\\\n",
       "\\bottomrule\n",
       "\\end{tabular}\n",
       "\\begin{tabular}{lcccccc}\n",
       "                   & \\textbf{coef} & \\textbf{std err} & \\textbf{t} & \\textbf{P$> |$t$|$} & \\textbf{[0.025} & \\textbf{0.975]}  \\\\\n",
       "\\midrule\n",
       "\\textbf{Intercept} &       0.0034  &        0.003     &     1.271  &         0.206        &       -0.002    &        0.009     \\\\\n",
       "\\textbf{MktRF}     &      -0.2848  &        0.059     &    -4.807  &         0.000        &       -0.402    &       -0.168     \\\\\n",
       "\\bottomrule\n",
       "\\end{tabular}\n",
       "\\begin{tabular}{lclc}\n",
       "\\textbf{Omnibus:}       & 21.988 & \\textbf{  Durbin-Watson:     } &    2.083  \\\\\n",
       "\\textbf{Prob(Omnibus):} &  0.000 & \\textbf{  Jarque-Bera (JB):  } &   36.176  \\\\\n",
       "\\textbf{Skew:}          & -0.680 & \\textbf{  Prob(JB):          } & 1.39e-08  \\\\\n",
       "\\textbf{Kurtosis:}      &  4.821 & \\textbf{  Cond. No.          } &     22.6  \\\\\n",
       "\\bottomrule\n",
       "\\end{tabular}\n",
       "%\\caption{OLS Regression Results}\n",
       "\\end{center}\n",
       "\n",
       "Notes: \\newline\n",
       " [1] Standard Errors assume that the covariance matrix of the errors is correctly specified."
      ],
      "text/plain": [
       "<class 'statsmodels.iolib.summary.Summary'>\n",
       "\"\"\"\n",
       "                            OLS Regression Results                            \n",
       "==============================================================================\n",
       "Dep. Variable:                    mom   R-squared:                       0.122\n",
       "Model:                            OLS   Adj. R-squared:                  0.117\n",
       "Method:                 Least Squares   F-statistic:                     23.11\n",
       "Date:                Fri, 16 Feb 2024   Prob (F-statistic):           3.41e-06\n",
       "Time:                        07:38:07   Log-Likelihood:                 330.51\n",
       "No. Observations:                 168   AIC:                            -657.0\n",
       "Df Residuals:                     166   BIC:                            -650.8\n",
       "Df Model:                           1                                         \n",
       "Covariance Type:            nonrobust                                         \n",
       "==============================================================================\n",
       "                 coef    std err          t      P>|t|      [0.025      0.975]\n",
       "------------------------------------------------------------------------------\n",
       "Intercept      0.0034      0.003      1.271      0.206      -0.002       0.009\n",
       "MktRF         -0.2848      0.059     -4.807      0.000      -0.402      -0.168\n",
       "==============================================================================\n",
       "Omnibus:                       21.988   Durbin-Watson:                   2.083\n",
       "Prob(Omnibus):                  0.000   Jarque-Bera (JB):               36.176\n",
       "Skew:                          -0.680   Prob(JB):                     1.39e-08\n",
       "Kurtosis:                       4.821   Cond. No.                         22.6\n",
       "==============================================================================\n",
       "\n",
       "Notes:\n",
       "[1] Standard Errors assume that the covariance matrix of the errors is correctly specified.\n",
       "\"\"\""
      ]
     },
     "execution_count": 64,
     "metadata": {},
     "output_type": "execute_result"
    }
   ],
   "source": [
    "smf.ols('mom ~ MktRF', data=ret.loc['2010-01-01':]).fit().summary()"
   ]
  },
  {
   "cell_type": "code",
   "execution_count": 65,
   "metadata": {
    "slideshow": {
     "slide_type": "subslide"
    }
   },
   "outputs": [
    {
     "data": {
      "text/html": [
       "<table class=\"simpletable\">\n",
       "<caption>OLS Regression Results</caption>\n",
       "<tr>\n",
       "  <th>Dep. Variable:</th>           <td>mom</td>       <th>  R-squared:         </th> <td>   0.042</td>\n",
       "</tr>\n",
       "<tr>\n",
       "  <th>Model:</th>                   <td>OLS</td>       <th>  Adj. R-squared:    </th> <td>   0.040</td>\n",
       "</tr>\n",
       "<tr>\n",
       "  <th>Method:</th>             <td>Least Squares</td>  <th>  F-statistic:       </th> <td>   27.90</td>\n",
       "</tr>\n",
       "<tr>\n",
       "  <th>Date:</th>             <td>Fri, 16 Feb 2024</td> <th>  Prob (F-statistic):</th> <td>1.75e-07</td>\n",
       "</tr>\n",
       "<tr>\n",
       "  <th>Time:</th>                 <td>07:38:07</td>     <th>  Log-Likelihood:    </th> <td>  1126.4</td>\n",
       "</tr>\n",
       "<tr>\n",
       "  <th>No. Observations:</th>      <td>   639</td>      <th>  AIC:               </th> <td>  -2249.</td>\n",
       "</tr>\n",
       "<tr>\n",
       "  <th>Df Residuals:</th>          <td>   637</td>      <th>  BIC:               </th> <td>  -2240.</td>\n",
       "</tr>\n",
       "<tr>\n",
       "  <th>Df Model:</th>              <td>     1</td>      <th>                     </th>     <td> </td>   \n",
       "</tr>\n",
       "<tr>\n",
       "  <th>Covariance Type:</th>      <td>nonrobust</td>    <th>                     </th>     <td> </td>   \n",
       "</tr>\n",
       "</table>\n",
       "<table class=\"simpletable\">\n",
       "<tr>\n",
       "      <td></td>         <th>coef</th>     <th>std err</th>      <th>t</th>      <th>P>|t|</th>  <th>[0.025</th>    <th>0.975]</th>  \n",
       "</tr>\n",
       "<tr>\n",
       "  <th>Intercept</th> <td>    0.0059</td> <td>    0.002</td> <td>    3.553</td> <td> 0.000</td> <td>    0.003</td> <td>    0.009</td>\n",
       "</tr>\n",
       "<tr>\n",
       "  <th>MktRF</th>     <td>   -0.1897</td> <td>    0.036</td> <td>   -5.283</td> <td> 0.000</td> <td>   -0.260</td> <td>   -0.119</td>\n",
       "</tr>\n",
       "</table>\n",
       "<table class=\"simpletable\">\n",
       "<tr>\n",
       "  <th>Omnibus:</th>       <td>225.570</td> <th>  Durbin-Watson:     </th> <td>   1.930</td>\n",
       "</tr>\n",
       "<tr>\n",
       "  <th>Prob(Omnibus):</th> <td> 0.000</td>  <th>  Jarque-Bera (JB):  </th> <td>1918.925</td>\n",
       "</tr>\n",
       "<tr>\n",
       "  <th>Skew:</th>          <td>-1.325</td>  <th>  Prob(JB):          </th> <td>    0.00</td>\n",
       "</tr>\n",
       "<tr>\n",
       "  <th>Kurtosis:</th>      <td>11.065</td>  <th>  Cond. No.          </th> <td>    21.8</td>\n",
       "</tr>\n",
       "</table><br/><br/>Notes:<br/>[1] Standard Errors assume that the covariance matrix of the errors is correctly specified."
      ],
      "text/latex": [
       "\\begin{center}\n",
       "\\begin{tabular}{lclc}\n",
       "\\toprule\n",
       "\\textbf{Dep. Variable:}    &       mom        & \\textbf{  R-squared:         } &     0.042   \\\\\n",
       "\\textbf{Model:}            &       OLS        & \\textbf{  Adj. R-squared:    } &     0.040   \\\\\n",
       "\\textbf{Method:}           &  Least Squares   & \\textbf{  F-statistic:       } &     27.90   \\\\\n",
       "\\textbf{Date:}             & Fri, 16 Feb 2024 & \\textbf{  Prob (F-statistic):} &  1.75e-07   \\\\\n",
       "\\textbf{Time:}             &     07:38:07     & \\textbf{  Log-Likelihood:    } &    1126.4   \\\\\n",
       "\\textbf{No. Observations:} &         639      & \\textbf{  AIC:               } &    -2249.   \\\\\n",
       "\\textbf{Df Residuals:}     &         637      & \\textbf{  BIC:               } &    -2240.   \\\\\n",
       "\\textbf{Df Model:}         &           1      & \\textbf{                     } &             \\\\\n",
       "\\textbf{Covariance Type:}  &    nonrobust     & \\textbf{                     } &             \\\\\n",
       "\\bottomrule\n",
       "\\end{tabular}\n",
       "\\begin{tabular}{lcccccc}\n",
       "                   & \\textbf{coef} & \\textbf{std err} & \\textbf{t} & \\textbf{P$> |$t$|$} & \\textbf{[0.025} & \\textbf{0.975]}  \\\\\n",
       "\\midrule\n",
       "\\textbf{Intercept} &       0.0059  &        0.002     &     3.553  &         0.000        &        0.003    &        0.009     \\\\\n",
       "\\textbf{MktRF}     &      -0.1897  &        0.036     &    -5.283  &         0.000        &       -0.260    &       -0.119     \\\\\n",
       "\\bottomrule\n",
       "\\end{tabular}\n",
       "\\begin{tabular}{lclc}\n",
       "\\textbf{Omnibus:}       & 225.570 & \\textbf{  Durbin-Watson:     } &    1.930  \\\\\n",
       "\\textbf{Prob(Omnibus):} &   0.000 & \\textbf{  Jarque-Bera (JB):  } & 1918.925  \\\\\n",
       "\\textbf{Skew:}          &  -1.325 & \\textbf{  Prob(JB):          } &     0.00  \\\\\n",
       "\\textbf{Kurtosis:}      &  11.065 & \\textbf{  Cond. No.          } &     21.8  \\\\\n",
       "\\bottomrule\n",
       "\\end{tabular}\n",
       "%\\caption{OLS Regression Results}\n",
       "\\end{center}\n",
       "\n",
       "Notes: \\newline\n",
       " [1] Standard Errors assume that the covariance matrix of the errors is correctly specified."
      ],
      "text/plain": [
       "<class 'statsmodels.iolib.summary.Summary'>\n",
       "\"\"\"\n",
       "                            OLS Regression Results                            \n",
       "==============================================================================\n",
       "Dep. Variable:                    mom   R-squared:                       0.042\n",
       "Model:                            OLS   Adj. R-squared:                  0.040\n",
       "Method:                 Least Squares   F-statistic:                     27.90\n",
       "Date:                Fri, 16 Feb 2024   Prob (F-statistic):           1.75e-07\n",
       "Time:                        07:38:07   Log-Likelihood:                 1126.4\n",
       "No. Observations:                 639   AIC:                            -2249.\n",
       "Df Residuals:                     637   BIC:                            -2240.\n",
       "Df Model:                           1                                         \n",
       "Covariance Type:            nonrobust                                         \n",
       "==============================================================================\n",
       "                 coef    std err          t      P>|t|      [0.025      0.975]\n",
       "------------------------------------------------------------------------------\n",
       "Intercept      0.0059      0.002      3.553      0.000       0.003       0.009\n",
       "MktRF         -0.1897      0.036     -5.283      0.000      -0.260      -0.119\n",
       "==============================================================================\n",
       "Omnibus:                      225.570   Durbin-Watson:                   1.930\n",
       "Prob(Omnibus):                  0.000   Jarque-Bera (JB):             1918.925\n",
       "Skew:                          -1.325   Prob(JB):                         0.00\n",
       "Kurtosis:                      11.065   Cond. No.                         21.8\n",
       "==============================================================================\n",
       "\n",
       "Notes:\n",
       "[1] Standard Errors assume that the covariance matrix of the errors is correctly specified.\n",
       "\"\"\""
      ]
     },
     "execution_count": 65,
     "metadata": {},
     "output_type": "execute_result"
    }
   ],
   "source": [
    "smf.ols('mom ~ MktRF', data=ret).fit().summary()"
   ]
  },
  {
   "cell_type": "code",
   "execution_count": 66,
   "metadata": {
    "slideshow": {
     "slide_type": "subslide"
    }
   },
   "outputs": [
    {
     "data": {
      "text/html": [
       "<table class=\"simpletable\">\n",
       "<caption>OLS Regression Results</caption>\n",
       "<tr>\n",
       "  <th>Dep. Variable:</th>           <td>mom</td>       <th>  R-squared:         </th> <td>   0.098</td>\n",
       "</tr>\n",
       "<tr>\n",
       "  <th>Model:</th>                   <td>OLS</td>       <th>  Adj. R-squared:    </th> <td>   0.094</td>\n",
       "</tr>\n",
       "<tr>\n",
       "  <th>Method:</th>             <td>Least Squares</td>  <th>  F-statistic:       </th> <td>   22.96</td>\n",
       "</tr>\n",
       "<tr>\n",
       "  <th>Date:</th>             <td>Fri, 16 Feb 2024</td> <th>  Prob (F-statistic):</th> <td>4.03e-14</td>\n",
       "</tr>\n",
       "<tr>\n",
       "  <th>Time:</th>                 <td>07:38:07</td>     <th>  Log-Likelihood:    </th> <td>  1145.6</td>\n",
       "</tr>\n",
       "<tr>\n",
       "  <th>No. Observations:</th>      <td>   639</td>      <th>  AIC:               </th> <td>  -2283.</td>\n",
       "</tr>\n",
       "<tr>\n",
       "  <th>Df Residuals:</th>          <td>   635</td>      <th>  BIC:               </th> <td>  -2265.</td>\n",
       "</tr>\n",
       "<tr>\n",
       "  <th>Df Model:</th>              <td>     3</td>      <th>                     </th>     <td> </td>   \n",
       "</tr>\n",
       "<tr>\n",
       "  <th>Covariance Type:</th>      <td>nonrobust</td>    <th>                     </th>     <td> </td>   \n",
       "</tr>\n",
       "</table>\n",
       "<table class=\"simpletable\">\n",
       "<tr>\n",
       "      <td></td>         <th>coef</th>     <th>std err</th>      <th>t</th>      <th>P>|t|</th>  <th>[0.025</th>    <th>0.975]</th>  \n",
       "</tr>\n",
       "<tr>\n",
       "  <th>Intercept</th> <td>    0.0071</td> <td>    0.002</td> <td>    4.373</td> <td> 0.000</td> <td>    0.004</td> <td>    0.010</td>\n",
       "</tr>\n",
       "<tr>\n",
       "  <th>MktRF</th>     <td>   -0.2223</td> <td>    0.037</td> <td>   -6.010</td> <td> 0.000</td> <td>   -0.295</td> <td>   -0.150</td>\n",
       "</tr>\n",
       "<tr>\n",
       "  <th>SMB</th>       <td>   -0.0705</td> <td>    0.055</td> <td>   -1.282</td> <td> 0.200</td> <td>   -0.178</td> <td>    0.037</td>\n",
       "</tr>\n",
       "<tr>\n",
       "  <th>HML</th>       <td>   -0.3202</td> <td>    0.053</td> <td>   -6.046</td> <td> 0.000</td> <td>   -0.424</td> <td>   -0.216</td>\n",
       "</tr>\n",
       "</table>\n",
       "<table class=\"simpletable\">\n",
       "<tr>\n",
       "  <th>Omnibus:</th>       <td>222.717</td> <th>  Durbin-Watson:     </th> <td>   1.952</td>\n",
       "</tr>\n",
       "<tr>\n",
       "  <th>Prob(Omnibus):</th> <td> 0.000</td>  <th>  Jarque-Bera (JB):  </th> <td>1849.549</td>\n",
       "</tr>\n",
       "<tr>\n",
       "  <th>Skew:</th>          <td>-1.312</td>  <th>  Prob(JB):          </th> <td>    0.00</td>\n",
       "</tr>\n",
       "<tr>\n",
       "  <th>Kurtosis:</th>      <td>10.911</td>  <th>  Cond. No.          </th> <td>    36.3</td>\n",
       "</tr>\n",
       "</table><br/><br/>Notes:<br/>[1] Standard Errors assume that the covariance matrix of the errors is correctly specified."
      ],
      "text/latex": [
       "\\begin{center}\n",
       "\\begin{tabular}{lclc}\n",
       "\\toprule\n",
       "\\textbf{Dep. Variable:}    &       mom        & \\textbf{  R-squared:         } &     0.098   \\\\\n",
       "\\textbf{Model:}            &       OLS        & \\textbf{  Adj. R-squared:    } &     0.094   \\\\\n",
       "\\textbf{Method:}           &  Least Squares   & \\textbf{  F-statistic:       } &     22.96   \\\\\n",
       "\\textbf{Date:}             & Fri, 16 Feb 2024 & \\textbf{  Prob (F-statistic):} &  4.03e-14   \\\\\n",
       "\\textbf{Time:}             &     07:38:07     & \\textbf{  Log-Likelihood:    } &    1145.6   \\\\\n",
       "\\textbf{No. Observations:} &         639      & \\textbf{  AIC:               } &    -2283.   \\\\\n",
       "\\textbf{Df Residuals:}     &         635      & \\textbf{  BIC:               } &    -2265.   \\\\\n",
       "\\textbf{Df Model:}         &           3      & \\textbf{                     } &             \\\\\n",
       "\\textbf{Covariance Type:}  &    nonrobust     & \\textbf{                     } &             \\\\\n",
       "\\bottomrule\n",
       "\\end{tabular}\n",
       "\\begin{tabular}{lcccccc}\n",
       "                   & \\textbf{coef} & \\textbf{std err} & \\textbf{t} & \\textbf{P$> |$t$|$} & \\textbf{[0.025} & \\textbf{0.975]}  \\\\\n",
       "\\midrule\n",
       "\\textbf{Intercept} &       0.0071  &        0.002     &     4.373  &         0.000        &        0.004    &        0.010     \\\\\n",
       "\\textbf{MktRF}     &      -0.2223  &        0.037     &    -6.010  &         0.000        &       -0.295    &       -0.150     \\\\\n",
       "\\textbf{SMB}       &      -0.0705  &        0.055     &    -1.282  &         0.200        &       -0.178    &        0.037     \\\\\n",
       "\\textbf{HML}       &      -0.3202  &        0.053     &    -6.046  &         0.000        &       -0.424    &       -0.216     \\\\\n",
       "\\bottomrule\n",
       "\\end{tabular}\n",
       "\\begin{tabular}{lclc}\n",
       "\\textbf{Omnibus:}       & 222.717 & \\textbf{  Durbin-Watson:     } &    1.952  \\\\\n",
       "\\textbf{Prob(Omnibus):} &   0.000 & \\textbf{  Jarque-Bera (JB):  } & 1849.549  \\\\\n",
       "\\textbf{Skew:}          &  -1.312 & \\textbf{  Prob(JB):          } &     0.00  \\\\\n",
       "\\textbf{Kurtosis:}      &  10.911 & \\textbf{  Cond. No.          } &     36.3  \\\\\n",
       "\\bottomrule\n",
       "\\end{tabular}\n",
       "%\\caption{OLS Regression Results}\n",
       "\\end{center}\n",
       "\n",
       "Notes: \\newline\n",
       " [1] Standard Errors assume that the covariance matrix of the errors is correctly specified."
      ],
      "text/plain": [
       "<class 'statsmodels.iolib.summary.Summary'>\n",
       "\"\"\"\n",
       "                            OLS Regression Results                            \n",
       "==============================================================================\n",
       "Dep. Variable:                    mom   R-squared:                       0.098\n",
       "Model:                            OLS   Adj. R-squared:                  0.094\n",
       "Method:                 Least Squares   F-statistic:                     22.96\n",
       "Date:                Fri, 16 Feb 2024   Prob (F-statistic):           4.03e-14\n",
       "Time:                        07:38:07   Log-Likelihood:                 1145.6\n",
       "No. Observations:                 639   AIC:                            -2283.\n",
       "Df Residuals:                     635   BIC:                            -2265.\n",
       "Df Model:                           3                                         \n",
       "Covariance Type:            nonrobust                                         \n",
       "==============================================================================\n",
       "                 coef    std err          t      P>|t|      [0.025      0.975]\n",
       "------------------------------------------------------------------------------\n",
       "Intercept      0.0071      0.002      4.373      0.000       0.004       0.010\n",
       "MktRF         -0.2223      0.037     -6.010      0.000      -0.295      -0.150\n",
       "SMB           -0.0705      0.055     -1.282      0.200      -0.178       0.037\n",
       "HML           -0.3202      0.053     -6.046      0.000      -0.424      -0.216\n",
       "==============================================================================\n",
       "Omnibus:                      222.717   Durbin-Watson:                   1.952\n",
       "Prob(Omnibus):                  0.000   Jarque-Bera (JB):             1849.549\n",
       "Skew:                          -1.312   Prob(JB):                         0.00\n",
       "Kurtosis:                      10.911   Cond. No.                         36.3\n",
       "==============================================================================\n",
       "\n",
       "Notes:\n",
       "[1] Standard Errors assume that the covariance matrix of the errors is correctly specified.\n",
       "\"\"\""
      ]
     },
     "execution_count": 66,
     "metadata": {},
     "output_type": "execute_result"
    }
   ],
   "source": [
    "smf.ols('mom ~ MktRF + SMB + HML', data=ret).fit().summary()"
   ]
  },
  {
   "cell_type": "code",
   "execution_count": 67,
   "metadata": {
    "slideshow": {
     "slide_type": "subslide"
    }
   },
   "outputs": [
    {
     "data": {
      "text/html": [
       "<table class=\"simpletable\">\n",
       "<caption>OLS Regression Results</caption>\n",
       "<tr>\n",
       "  <th>Dep. Variable:</th>           <td>mom</td>       <th>  R-squared:         </th> <td>   0.127</td>\n",
       "</tr>\n",
       "<tr>\n",
       "  <th>Model:</th>                   <td>OLS</td>       <th>  Adj. R-squared:    </th> <td>   0.120</td>\n",
       "</tr>\n",
       "<tr>\n",
       "  <th>Method:</th>             <td>Least Squares</td>  <th>  F-statistic:       </th> <td>   18.35</td>\n",
       "</tr>\n",
       "<tr>\n",
       "  <th>Date:</th>             <td>Fri, 16 Feb 2024</td> <th>  Prob (F-statistic):</th> <td>4.95e-17</td>\n",
       "</tr>\n",
       "<tr>\n",
       "  <th>Time:</th>                 <td>07:38:07</td>     <th>  Log-Likelihood:    </th> <td>  1156.0</td>\n",
       "</tr>\n",
       "<tr>\n",
       "  <th>No. Observations:</th>      <td>   639</td>      <th>  AIC:               </th> <td>  -2300.</td>\n",
       "</tr>\n",
       "<tr>\n",
       "  <th>Df Residuals:</th>          <td>   633</td>      <th>  BIC:               </th> <td>  -2273.</td>\n",
       "</tr>\n",
       "<tr>\n",
       "  <th>Df Model:</th>              <td>     5</td>      <th>                     </th>     <td> </td>   \n",
       "</tr>\n",
       "<tr>\n",
       "  <th>Covariance Type:</th>      <td>nonrobust</td>    <th>                     </th>     <td> </td>   \n",
       "</tr>\n",
       "</table>\n",
       "<table class=\"simpletable\">\n",
       "<tr>\n",
       "      <td></td>         <th>coef</th>     <th>std err</th>      <th>t</th>      <th>P>|t|</th>  <th>[0.025</th>    <th>0.975]</th>  \n",
       "</tr>\n",
       "<tr>\n",
       "  <th>Intercept</th> <td>    0.0054</td> <td>    0.002</td> <td>    3.264</td> <td> 0.001</td> <td>    0.002</td> <td>    0.009</td>\n",
       "</tr>\n",
       "<tr>\n",
       "  <th>MktRF</th>     <td>   -0.1682</td> <td>    0.038</td> <td>   -4.380</td> <td> 0.000</td> <td>   -0.244</td> <td>   -0.093</td>\n",
       "</tr>\n",
       "<tr>\n",
       "  <th>SMB</th>       <td>   -0.0235</td> <td>    0.058</td> <td>   -0.405</td> <td> 0.685</td> <td>   -0.138</td> <td>    0.090</td>\n",
       "</tr>\n",
       "<tr>\n",
       "  <th>HML</th>       <td>   -0.5279</td> <td>    0.071</td> <td>   -7.442</td> <td> 0.000</td> <td>   -0.667</td> <td>   -0.389</td>\n",
       "</tr>\n",
       "<tr>\n",
       "  <th>RMW</th>       <td>    0.1870</td> <td>    0.076</td> <td>    2.464</td> <td> 0.014</td> <td>    0.038</td> <td>    0.336</td>\n",
       "</tr>\n",
       "<tr>\n",
       "  <th>CMA</th>       <td>    0.4553</td> <td>    0.111</td> <td>    4.092</td> <td> 0.000</td> <td>    0.237</td> <td>    0.674</td>\n",
       "</tr>\n",
       "</table>\n",
       "<table class=\"simpletable\">\n",
       "<tr>\n",
       "  <th>Omnibus:</th>       <td>210.318</td> <th>  Durbin-Watson:     </th> <td>   1.952</td>\n",
       "</tr>\n",
       "<tr>\n",
       "  <th>Prob(Omnibus):</th> <td> 0.000</td>  <th>  Jarque-Bera (JB):  </th> <td>1670.706</td>\n",
       "</tr>\n",
       "<tr>\n",
       "  <th>Skew:</th>          <td>-1.237</td>  <th>  Prob(JB):          </th> <td>    0.00</td>\n",
       "</tr>\n",
       "<tr>\n",
       "  <th>Kurtosis:</th>      <td>10.525</td>  <th>  Cond. No.          </th> <td>    78.9</td>\n",
       "</tr>\n",
       "</table><br/><br/>Notes:<br/>[1] Standard Errors assume that the covariance matrix of the errors is correctly specified."
      ],
      "text/latex": [
       "\\begin{center}\n",
       "\\begin{tabular}{lclc}\n",
       "\\toprule\n",
       "\\textbf{Dep. Variable:}    &       mom        & \\textbf{  R-squared:         } &     0.127   \\\\\n",
       "\\textbf{Model:}            &       OLS        & \\textbf{  Adj. R-squared:    } &     0.120   \\\\\n",
       "\\textbf{Method:}           &  Least Squares   & \\textbf{  F-statistic:       } &     18.35   \\\\\n",
       "\\textbf{Date:}             & Fri, 16 Feb 2024 & \\textbf{  Prob (F-statistic):} &  4.95e-17   \\\\\n",
       "\\textbf{Time:}             &     07:38:07     & \\textbf{  Log-Likelihood:    } &    1156.0   \\\\\n",
       "\\textbf{No. Observations:} &         639      & \\textbf{  AIC:               } &    -2300.   \\\\\n",
       "\\textbf{Df Residuals:}     &         633      & \\textbf{  BIC:               } &    -2273.   \\\\\n",
       "\\textbf{Df Model:}         &           5      & \\textbf{                     } &             \\\\\n",
       "\\textbf{Covariance Type:}  &    nonrobust     & \\textbf{                     } &             \\\\\n",
       "\\bottomrule\n",
       "\\end{tabular}\n",
       "\\begin{tabular}{lcccccc}\n",
       "                   & \\textbf{coef} & \\textbf{std err} & \\textbf{t} & \\textbf{P$> |$t$|$} & \\textbf{[0.025} & \\textbf{0.975]}  \\\\\n",
       "\\midrule\n",
       "\\textbf{Intercept} &       0.0054  &        0.002     &     3.264  &         0.001        &        0.002    &        0.009     \\\\\n",
       "\\textbf{MktRF}     &      -0.1682  &        0.038     &    -4.380  &         0.000        &       -0.244    &       -0.093     \\\\\n",
       "\\textbf{SMB}       &      -0.0235  &        0.058     &    -0.405  &         0.685        &       -0.138    &        0.090     \\\\\n",
       "\\textbf{HML}       &      -0.5279  &        0.071     &    -7.442  &         0.000        &       -0.667    &       -0.389     \\\\\n",
       "\\textbf{RMW}       &       0.1870  &        0.076     &     2.464  &         0.014        &        0.038    &        0.336     \\\\\n",
       "\\textbf{CMA}       &       0.4553  &        0.111     &     4.092  &         0.000        &        0.237    &        0.674     \\\\\n",
       "\\bottomrule\n",
       "\\end{tabular}\n",
       "\\begin{tabular}{lclc}\n",
       "\\textbf{Omnibus:}       & 210.318 & \\textbf{  Durbin-Watson:     } &    1.952  \\\\\n",
       "\\textbf{Prob(Omnibus):} &   0.000 & \\textbf{  Jarque-Bera (JB):  } & 1670.706  \\\\\n",
       "\\textbf{Skew:}          &  -1.237 & \\textbf{  Prob(JB):          } &     0.00  \\\\\n",
       "\\textbf{Kurtosis:}      &  10.525 & \\textbf{  Cond. No.          } &     78.9  \\\\\n",
       "\\bottomrule\n",
       "\\end{tabular}\n",
       "%\\caption{OLS Regression Results}\n",
       "\\end{center}\n",
       "\n",
       "Notes: \\newline\n",
       " [1] Standard Errors assume that the covariance matrix of the errors is correctly specified."
      ],
      "text/plain": [
       "<class 'statsmodels.iolib.summary.Summary'>\n",
       "\"\"\"\n",
       "                            OLS Regression Results                            \n",
       "==============================================================================\n",
       "Dep. Variable:                    mom   R-squared:                       0.127\n",
       "Model:                            OLS   Adj. R-squared:                  0.120\n",
       "Method:                 Least Squares   F-statistic:                     18.35\n",
       "Date:                Fri, 16 Feb 2024   Prob (F-statistic):           4.95e-17\n",
       "Time:                        07:38:07   Log-Likelihood:                 1156.0\n",
       "No. Observations:                 639   AIC:                            -2300.\n",
       "Df Residuals:                     633   BIC:                            -2273.\n",
       "Df Model:                           5                                         \n",
       "Covariance Type:            nonrobust                                         \n",
       "==============================================================================\n",
       "                 coef    std err          t      P>|t|      [0.025      0.975]\n",
       "------------------------------------------------------------------------------\n",
       "Intercept      0.0054      0.002      3.264      0.001       0.002       0.009\n",
       "MktRF         -0.1682      0.038     -4.380      0.000      -0.244      -0.093\n",
       "SMB           -0.0235      0.058     -0.405      0.685      -0.138       0.090\n",
       "HML           -0.5279      0.071     -7.442      0.000      -0.667      -0.389\n",
       "RMW            0.1870      0.076      2.464      0.014       0.038       0.336\n",
       "CMA            0.4553      0.111      4.092      0.000       0.237       0.674\n",
       "==============================================================================\n",
       "Omnibus:                      210.318   Durbin-Watson:                   1.952\n",
       "Prob(Omnibus):                  0.000   Jarque-Bera (JB):             1670.706\n",
       "Skew:                          -1.237   Prob(JB):                         0.00\n",
       "Kurtosis:                      10.525   Cond. No.                         78.9\n",
       "==============================================================================\n",
       "\n",
       "Notes:\n",
       "[1] Standard Errors assume that the covariance matrix of the errors is correctly specified.\n",
       "\"\"\""
      ]
     },
     "execution_count": 67,
     "metadata": {},
     "output_type": "execute_result"
    }
   ],
   "source": [
    "smf.ols('mom ~ MktRF + SMB + HML + RMW + CMA', data=ret).fit().summary()"
   ]
  },
  {
   "cell_type": "markdown",
   "metadata": {
    "slideshow": {
     "slide_type": "slide"
    }
   },
   "source": [
    "## Should we add Reversal to our portfolio?"
   ]
  },
  {
   "cell_type": "code",
   "execution_count": 68,
   "metadata": {
    "slideshow": {
     "slide_type": "fragment"
    }
   },
   "outputs": [
    {
     "data": {
      "text/html": [
       "<table class=\"simpletable\">\n",
       "<caption>OLS Regression Results</caption>\n",
       "<tr>\n",
       "  <th>Dep. Variable:</th>           <td>rev</td>       <th>  R-squared:         </th> <td>   0.189</td>\n",
       "</tr>\n",
       "<tr>\n",
       "  <th>Model:</th>                   <td>OLS</td>       <th>  Adj. R-squared:    </th> <td>   0.181</td>\n",
       "</tr>\n",
       "<tr>\n",
       "  <th>Method:</th>             <td>Least Squares</td>  <th>  F-statistic:       </th> <td>   24.53</td>\n",
       "</tr>\n",
       "<tr>\n",
       "  <th>Date:</th>             <td>Fri, 16 Feb 2024</td> <th>  Prob (F-statistic):</th> <td>3.41e-26</td>\n",
       "</tr>\n",
       "<tr>\n",
       "  <th>Time:</th>                 <td>07:38:07</td>     <th>  Log-Likelihood:    </th> <td>  1346.8</td>\n",
       "</tr>\n",
       "<tr>\n",
       "  <th>No. Observations:</th>      <td>   639</td>      <th>  AIC:               </th> <td>  -2680.</td>\n",
       "</tr>\n",
       "<tr>\n",
       "  <th>Df Residuals:</th>          <td>   632</td>      <th>  BIC:               </th> <td>  -2648.</td>\n",
       "</tr>\n",
       "<tr>\n",
       "  <th>Df Model:</th>              <td>     6</td>      <th>                     </th>     <td> </td>   \n",
       "</tr>\n",
       "<tr>\n",
       "  <th>Covariance Type:</th>      <td>nonrobust</td>    <th>                     </th>     <td> </td>   \n",
       "</tr>\n",
       "</table>\n",
       "<table class=\"simpletable\">\n",
       "<tr>\n",
       "      <td></td>         <th>coef</th>     <th>std err</th>      <th>t</th>      <th>P>|t|</th>  <th>[0.025</th>    <th>0.975]</th>  \n",
       "</tr>\n",
       "<tr>\n",
       "  <th>Intercept</th> <td>   -0.0047</td> <td>    0.001</td> <td>   -3.793</td> <td> 0.000</td> <td>   -0.007</td> <td>   -0.002</td>\n",
       "</tr>\n",
       "<tr>\n",
       "  <th>MktRF</th>     <td>   -0.1594</td> <td>    0.029</td> <td>   -5.509</td> <td> 0.000</td> <td>   -0.216</td> <td>   -0.103</td>\n",
       "</tr>\n",
       "<tr>\n",
       "  <th>SMB</th>       <td>   -0.1146</td> <td>    0.043</td> <td>   -2.658</td> <td> 0.008</td> <td>   -0.199</td> <td>   -0.030</td>\n",
       "</tr>\n",
       "<tr>\n",
       "  <th>HML</th>       <td>   -0.1059</td> <td>    0.055</td> <td>   -1.929</td> <td> 0.054</td> <td>   -0.214</td> <td>    0.002</td>\n",
       "</tr>\n",
       "<tr>\n",
       "  <th>RMW</th>       <td>    0.0056</td> <td>    0.057</td> <td>    0.099</td> <td> 0.921</td> <td>   -0.106</td> <td>    0.117</td>\n",
       "</tr>\n",
       "<tr>\n",
       "  <th>CMA</th>       <td>    0.2034</td> <td>    0.084</td> <td>    2.430</td> <td> 0.015</td> <td>    0.039</td> <td>    0.368</td>\n",
       "</tr>\n",
       "<tr>\n",
       "  <th>mom</th>       <td>    0.1822</td> <td>    0.030</td> <td>    6.173</td> <td> 0.000</td> <td>    0.124</td> <td>    0.240</td>\n",
       "</tr>\n",
       "</table>\n",
       "<table class=\"simpletable\">\n",
       "<tr>\n",
       "  <th>Omnibus:</th>       <td>87.672</td> <th>  Durbin-Watson:     </th> <td>   2.048</td> \n",
       "</tr>\n",
       "<tr>\n",
       "  <th>Prob(Omnibus):</th> <td> 0.000</td> <th>  Jarque-Bera (JB):  </th> <td> 896.232</td> \n",
       "</tr>\n",
       "<tr>\n",
       "  <th>Skew:</th>          <td>-0.073</td> <th>  Prob(JB):          </th> <td>2.43e-195</td>\n",
       "</tr>\n",
       "<tr>\n",
       "  <th>Kurtosis:</th>      <td> 8.800</td> <th>  Cond. No.          </th> <td>    80.8</td> \n",
       "</tr>\n",
       "</table><br/><br/>Notes:<br/>[1] Standard Errors assume that the covariance matrix of the errors is correctly specified."
      ],
      "text/latex": [
       "\\begin{center}\n",
       "\\begin{tabular}{lclc}\n",
       "\\toprule\n",
       "\\textbf{Dep. Variable:}    &       rev        & \\textbf{  R-squared:         } &     0.189   \\\\\n",
       "\\textbf{Model:}            &       OLS        & \\textbf{  Adj. R-squared:    } &     0.181   \\\\\n",
       "\\textbf{Method:}           &  Least Squares   & \\textbf{  F-statistic:       } &     24.53   \\\\\n",
       "\\textbf{Date:}             & Fri, 16 Feb 2024 & \\textbf{  Prob (F-statistic):} &  3.41e-26   \\\\\n",
       "\\textbf{Time:}             &     07:38:07     & \\textbf{  Log-Likelihood:    } &    1346.8   \\\\\n",
       "\\textbf{No. Observations:} &         639      & \\textbf{  AIC:               } &    -2680.   \\\\\n",
       "\\textbf{Df Residuals:}     &         632      & \\textbf{  BIC:               } &    -2648.   \\\\\n",
       "\\textbf{Df Model:}         &           6      & \\textbf{                     } &             \\\\\n",
       "\\textbf{Covariance Type:}  &    nonrobust     & \\textbf{                     } &             \\\\\n",
       "\\bottomrule\n",
       "\\end{tabular}\n",
       "\\begin{tabular}{lcccccc}\n",
       "                   & \\textbf{coef} & \\textbf{std err} & \\textbf{t} & \\textbf{P$> |$t$|$} & \\textbf{[0.025} & \\textbf{0.975]}  \\\\\n",
       "\\midrule\n",
       "\\textbf{Intercept} &      -0.0047  &        0.001     &    -3.793  &         0.000        &       -0.007    &       -0.002     \\\\\n",
       "\\textbf{MktRF}     &      -0.1594  &        0.029     &    -5.509  &         0.000        &       -0.216    &       -0.103     \\\\\n",
       "\\textbf{SMB}       &      -0.1146  &        0.043     &    -2.658  &         0.008        &       -0.199    &       -0.030     \\\\\n",
       "\\textbf{HML}       &      -0.1059  &        0.055     &    -1.929  &         0.054        &       -0.214    &        0.002     \\\\\n",
       "\\textbf{RMW}       &       0.0056  &        0.057     &     0.099  &         0.921        &       -0.106    &        0.117     \\\\\n",
       "\\textbf{CMA}       &       0.2034  &        0.084     &     2.430  &         0.015        &        0.039    &        0.368     \\\\\n",
       "\\textbf{mom}       &       0.1822  &        0.030     &     6.173  &         0.000        &        0.124    &        0.240     \\\\\n",
       "\\bottomrule\n",
       "\\end{tabular}\n",
       "\\begin{tabular}{lclc}\n",
       "\\textbf{Omnibus:}       & 87.672 & \\textbf{  Durbin-Watson:     } &     2.048  \\\\\n",
       "\\textbf{Prob(Omnibus):} &  0.000 & \\textbf{  Jarque-Bera (JB):  } &   896.232  \\\\\n",
       "\\textbf{Skew:}          & -0.073 & \\textbf{  Prob(JB):          } & 2.43e-195  \\\\\n",
       "\\textbf{Kurtosis:}      &  8.800 & \\textbf{  Cond. No.          } &      80.8  \\\\\n",
       "\\bottomrule\n",
       "\\end{tabular}\n",
       "%\\caption{OLS Regression Results}\n",
       "\\end{center}\n",
       "\n",
       "Notes: \\newline\n",
       " [1] Standard Errors assume that the covariance matrix of the errors is correctly specified."
      ],
      "text/plain": [
       "<class 'statsmodels.iolib.summary.Summary'>\n",
       "\"\"\"\n",
       "                            OLS Regression Results                            \n",
       "==============================================================================\n",
       "Dep. Variable:                    rev   R-squared:                       0.189\n",
       "Model:                            OLS   Adj. R-squared:                  0.181\n",
       "Method:                 Least Squares   F-statistic:                     24.53\n",
       "Date:                Fri, 16 Feb 2024   Prob (F-statistic):           3.41e-26\n",
       "Time:                        07:38:07   Log-Likelihood:                 1346.8\n",
       "No. Observations:                 639   AIC:                            -2680.\n",
       "Df Residuals:                     632   BIC:                            -2648.\n",
       "Df Model:                           6                                         \n",
       "Covariance Type:            nonrobust                                         \n",
       "==============================================================================\n",
       "                 coef    std err          t      P>|t|      [0.025      0.975]\n",
       "------------------------------------------------------------------------------\n",
       "Intercept     -0.0047      0.001     -3.793      0.000      -0.007      -0.002\n",
       "MktRF         -0.1594      0.029     -5.509      0.000      -0.216      -0.103\n",
       "SMB           -0.1146      0.043     -2.658      0.008      -0.199      -0.030\n",
       "HML           -0.1059      0.055     -1.929      0.054      -0.214       0.002\n",
       "RMW            0.0056      0.057      0.099      0.921      -0.106       0.117\n",
       "CMA            0.2034      0.084      2.430      0.015       0.039       0.368\n",
       "mom            0.1822      0.030      6.173      0.000       0.124       0.240\n",
       "==============================================================================\n",
       "Omnibus:                       87.672   Durbin-Watson:                   2.048\n",
       "Prob(Omnibus):                  0.000   Jarque-Bera (JB):              896.232\n",
       "Skew:                          -0.073   Prob(JB):                    2.43e-195\n",
       "Kurtosis:                       8.800   Cond. No.                         80.8\n",
       "==============================================================================\n",
       "\n",
       "Notes:\n",
       "[1] Standard Errors assume that the covariance matrix of the errors is correctly specified.\n",
       "\"\"\""
      ]
     },
     "execution_count": 68,
     "metadata": {},
     "output_type": "execute_result"
    }
   ],
   "source": [
    "smf.ols('rev ~ MktRF + SMB + HML + RMW + CMA + mom', data=ret).fit().summary()"
   ]
  },
  {
   "cell_type": "code",
   "execution_count": 69,
   "metadata": {
    "slideshow": {
     "slide_type": "subslide"
    }
   },
   "outputs": [],
   "source": [
    "ret.drop(columns='mdate', inplace = True)"
   ]
  },
  {
   "cell_type": "code",
   "execution_count": 70,
   "metadata": {
    "slideshow": {
     "slide_type": "fragment"
    }
   },
   "outputs": [
    {
     "data": {
      "text/plain": [
       "<Axes: xlabel='date'>"
      ]
     },
     "execution_count": 70,
     "metadata": {},
     "output_type": "execute_result"
    },
    {
     "data": {
      "image/png": "[encoded data removed]",
      "text/plain": [
       "<Figure size 1000x600 with 1 Axes>"
      ]
     },
     "metadata": {},
     "output_type": "display_data"
    }
   ],
   "source": [
    "np.log(1+ret).cumsum().plot()"
   ]
  },
  {
   "cell_type": "markdown",
   "metadata": {
    "slideshow": {
     "slide_type": "slide"
    }
   },
   "source": [
    "## Optimal Portfolio"
   ]
  },
  {
   "cell_type": "code",
   "execution_count": 71,
   "metadata": {
    "slideshow": {
     "slide_type": "subslide"
    }
   },
   "outputs": [
    {
     "name": "stdout",
     "output_type": "stream",
     "text": [
      "Optimal portfolio weights: \n",
      " [ 5.13654911  2.79954444 -2.18195051  9.35856737 12.7281378 ]\n",
      "\n",
      "Optimal portfolio returns: \n",
      " date\n",
      "1970-10-30    0.211936\n",
      "1970-11-30    0.425377\n",
      "1970-12-31    0.417750\n",
      "1971-01-29    0.253349\n",
      "1971-02-26    0.125300\n",
      "                ...   \n",
      "2023-08-31   -0.182476\n",
      "2023-09-29   -0.284287\n",
      "2023-10-31   -0.134888\n",
      "2023-11-30   -0.078274\n",
      "2023-12-29    0.226964\n",
      "Length: 639, dtype: float64\n",
      "\n",
      "Optimal portfolio SR:  1.0743842836441742\n",
      "\n"
     ]
    }
   ],
   "source": [
    "Sigma = ret[['MktRF', 'SMB', 'HML', 'RMW', 'CMA']].cov()\n",
    "mu = ret[['MktRF', 'SMB', 'HML', 'RMW', 'CMA']].mean()\n",
    "\n",
    "w_mve = np.dot(np.linalg.inv(Sigma), mu)\n",
    "print('Optimal portfolio weights: \\n', w_mve, end='\\n\\n')\n",
    "r_mve = (ret[['MktRF', 'SMB', 'HML', 'RMW', 'CMA']]* w_mve).sum(axis=1)\n",
    "print('Optimal portfolio returns: \\n', r_mve, end='\\n\\n')\n",
    "print('Optimal portfolio SR: ', \n",
    "      np.sqrt(12) * r_mve.mean()/r_mve.std(), end='\\n\\n')"
   ]
  },
  {
   "cell_type": "code",
   "execution_count": 72,
   "metadata": {
    "slideshow": {
     "slide_type": "subslide"
    }
   },
   "outputs": [
    {
     "name": "stdout",
     "output_type": "stream",
     "text": [
      "Optimal portfolio weights: \n",
      " [ 5.71203046  2.88007974 -0.37574911  8.71874864 11.17008589  3.4218054 ]\n",
      "\n",
      "Optimal portfolio returns: \n",
      " date\n",
      "1970-10-30    0.437896\n",
      "1970-11-30    0.525466\n",
      "1970-12-31    0.389387\n",
      "1971-01-29    0.080475\n",
      "1971-02-26    0.132234\n",
      "                ...   \n",
      "2023-08-31   -0.091482\n",
      "2023-09-29   -0.293317\n",
      "2023-10-31   -0.082429\n",
      "2023-11-30    0.105594\n",
      "2023-12-29    0.112578\n",
      "Length: 639, dtype: float64\n",
      "\n",
      "Optimal portfolio SR:  1.1727775169916734\n",
      "\n"
     ]
    }
   ],
   "source": [
    "Sigma_mom = ret[['MktRF', 'SMB', 'HML', 'RMW', 'CMA', 'mom']].cov()\n",
    "mu_mom = ret[['MktRF', 'SMB', 'HML', 'RMW', 'CMA', 'mom']].mean()\n",
    "\n",
    "w_mve_mom = np.dot(np.linalg.inv(Sigma_mom), mu_mom)\n",
    "print('Optimal portfolio weights: \\n', w_mve_mom, end='\\n\\n')\n",
    "r_mve_mom = (ret[['MktRF', 'SMB', 'HML', 'RMW', 'CMA', 'mom']]* w_mve_mom).sum(axis=1)\n",
    "print('Optimal portfolio returns: \\n', r_mve_mom, end='\\n\\n')\n",
    "print('Optimal portfolio SR: ', \n",
    "      np.sqrt(12) * r_mve_mom.mean()/r_mve_mom.std(), end='\\n\\n')"
   ]
  }
 ],
 "metadata": {
  "celltoolbar": "Slideshow",
  "kernelspec": {
   "display_name": "Python 3 (ipykernel)",
   "language": "python",
   "name": "python3"
  },
  "language_info": {
   "codemirror_mode": {
    "name": "ipython",
    "version": 3
   },
   "file_extension": ".py",
   "mimetype": "text/x-python",
   "name": "python",
   "nbconvert_exporter": "python",
   "pygments_lexer": "ipython3",
   "version": "3.8.18"
  },
  "toc": {
   "base_numbering": 1,
   "nav_menu": {},
   "number_sections": true,
   "sideBar": true,
   "skip_h1_title": true,
   "title_cell": "Table of Contents",
   "title_sidebar": "Contents",
   "toc_cell": true,
   "toc_position": {},
   "toc_section_display": true,
   "toc_window_display": false
  }
 },
 "nbformat": 4,
 "nbformat_minor": 4
}
