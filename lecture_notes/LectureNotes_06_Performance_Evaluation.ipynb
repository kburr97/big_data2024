{
 "cells": [
  {
   "cell_type": "markdown",
   "metadata": {
    "slideshow": {
     "slide_type": "skip"
    },
    "toc": true
   },
   "source": [
    "<h1>Table of Contents<span class=\"tocSkip\"></span></h1>\n",
    "<div class=\"toc\"><ul class=\"toc-item\"><li><span><a href=\"#What-have-we-covered?\" data-toc-modified-id=\"What-have-we-covered?-1\"><span class=\"toc-item-num\">1&nbsp;&nbsp;</span>What have we covered?</a></span></li><li><span><a href=\"#...-and-the-and-the-Cross-Section-of-Expected-Returns\" data-toc-modified-id=\"...-and-the-and-the-Cross-Section-of-Expected-Returns-2\"><span class=\"toc-item-num\">2&nbsp;&nbsp;</span>... and the and the Cross-Section of Expected Returns</a></span></li><li><span><a href=\"#Plan-for-Today\" data-toc-modified-id=\"Plan-for-Today-3\"><span class=\"toc-item-num\">3&nbsp;&nbsp;</span>Plan for Today</a></span></li><li><span><a href=\"#Set-Up\" data-toc-modified-id=\"Set-Up-4\"><span class=\"toc-item-num\">4&nbsp;&nbsp;</span>Set Up</a></span></li><li><span><a href=\"#Download-Data\" data-toc-modified-id=\"Download-Data-5\"><span class=\"toc-item-num\">5&nbsp;&nbsp;</span>Download Data</a></span><ul class=\"toc-item\"><li><span><a href=\"#Delete-missing-returns\" data-toc-modified-id=\"Delete-missing-returns-5.1\"><span class=\"toc-item-num\">5.1&nbsp;&nbsp;</span>Delete missing returns</a></span></li><li><span><a href=\"#Delete-missing-characteristics\" data-toc-modified-id=\"Delete-missing-characteristics-5.2\"><span class=\"toc-item-num\">5.2&nbsp;&nbsp;</span>Delete missing characteristics</a></span></li></ul></li><li><span><a href=\"#Data-Summary\" data-toc-modified-id=\"Data-Summary-6\"><span class=\"toc-item-num\">6&nbsp;&nbsp;</span>Data Summary</a></span></li><li><span><a href=\"#Forcasting-Future-Excess-Returns\" data-toc-modified-id=\"Forcasting-Future-Excess-Returns-7\"><span class=\"toc-item-num\">7&nbsp;&nbsp;</span>Forcasting Future Excess Returns</a></span><ul class=\"toc-item\"><li><span><a href=\"#Does-ret1-forcast-future-returns?\" data-toc-modified-id=\"Does-ret1-forcast-future-returns?-7.1\"><span class=\"toc-item-num\">7.1&nbsp;&nbsp;</span>Does ret1 forcast future returns?</a></span></li><li><span><a href=\"#Does-ret11-forcast-future-returns?\" data-toc-modified-id=\"Does-ret11-forcast-future-returns?-7.2\"><span class=\"toc-item-num\">7.2&nbsp;&nbsp;</span>Does ret11 forcast future returns?</a></span></li><li><span><a href=\"#Do-ret11_1-and-ret1-forcast-future-returns?\" data-toc-modified-id=\"Do-ret11_1-and-ret1-forcast-future-returns?-7.3\"><span class=\"toc-item-num\">7.3&nbsp;&nbsp;</span>Do ret11_1 and ret1 forcast future returns?</a></span></li></ul></li><li><span><a href=\"#Long-short-portfolio\" data-toc-modified-id=\"Long-short-portfolio-8\"><span class=\"toc-item-num\">8&nbsp;&nbsp;</span>Long-short portfolio</a></span><ul class=\"toc-item\"><li><span><a href=\"#Sort-Portfolio\" data-toc-modified-id=\"Sort-Portfolio-8.1\"><span class=\"toc-item-num\">8.1&nbsp;&nbsp;</span>Sort Portfolio</a></span></li><li><span><a href=\"#Portfolio-returns\" data-toc-modified-id=\"Portfolio-returns-8.2\"><span class=\"toc-item-num\">8.2&nbsp;&nbsp;</span>Portfolio returns</a></span><ul class=\"toc-item\"><li><span><a href=\"#Merge-data\" data-toc-modified-id=\"Merge-data-8.2.1\"><span class=\"toc-item-num\">8.2.1&nbsp;&nbsp;</span>Merge data</a></span></li><li><span><a href=\"#Calculate-returns\" data-toc-modified-id=\"Calculate-returns-8.2.2\"><span class=\"toc-item-num\">8.2.2&nbsp;&nbsp;</span>Calculate returns</a></span></li><li><span><a href=\"#Long-short-portfolio-returns\" data-toc-modified-id=\"Long-short-portfolio-returns-8.2.3\"><span class=\"toc-item-num\">8.2.3&nbsp;&nbsp;</span>Long-short portfolio returns</a></span></li></ul></li><li><span><a href=\"#Compare-Sharpe-ratio\" data-toc-modified-id=\"Compare-Sharpe-ratio-8.3\"><span class=\"toc-item-num\">8.3&nbsp;&nbsp;</span>Compare Sharpe-ratio</a></span></li></ul></li><li><span><a href=\"#Are-there-alphas?\" data-toc-modified-id=\"Are-there-alphas?-9\"><span class=\"toc-item-num\">9&nbsp;&nbsp;</span>Are there alphas?</a></span></li><li><span><a href=\"#Should-we-add-Reversal-to-our-portfolio?\" data-toc-modified-id=\"Should-we-add-Reversal-to-our-portfolio?-10\"><span class=\"toc-item-num\">10&nbsp;&nbsp;</span>Should we add Reversal to our portfolio?</a></span></li><li><span><a href=\"#Optimal-Portfolio\" data-toc-modified-id=\"Optimal-Portfolio-11\"><span class=\"toc-item-num\">11&nbsp;&nbsp;</span>Optimal Portfolio</a></span></li></ul></div>"
   ]
  },
  {
   "cell_type": "markdown",
   "metadata": {
    "slideshow": {
     "slide_type": "slide"
    }
   },
   "source": [
    "# Big Data in Finance: Part IV <BR><BR> Lecture Notes 6: Performance Evaluation\n",
    "    \n",
    "**Instructor** <BR>\n",
    "Kirsten Burr, kburr26@gsb.columbia.edu\n",
    "    \n",
    "**TA's:** <BR>\n",
    "Meha Sadasivam, MSadasivam21@gsb.columbia.edu <BR>\n",
    "Daheng Yang, dyang22@gsb.columbia.edu\n",
    "    \n",
    "<sub> Credit: lecture notes originally developed by Lira Mota"
   ]
  },
  {
   "cell_type": "markdown",
   "metadata": {
    "slideshow": {
     "slide_type": "slide"
    }
   },
   "source": [
    "## What have we covered?\n",
    "1. Overview of CRSP\n",
    "2. Overview of Compustat\n",
    "3. Merge CRSP and Compustat\n",
    "4. The building block of factor investment: application Fama and French 5 Factors\n",
    "5. Homework: Momentum "
   ]
  },
  {
   "cell_type": "markdown",
   "metadata": {
    "slideshow": {
     "slide_type": "slide"
    }
   },
   "source": [
    "## ... and the and the Cross-Section of Expected Returns\n",
    "\n",
    "1. [Harvey, Liu and Zhu (RFS, 2016)](https://academic.oup.com/rfs/article/29/1/5/1843824)\n",
    "    1. \"Hundreds of papers and factors attempt to explain the cross-section of expected returns.\"\n",
    "    2. They [list 313 papers](http://faculty.fuqua.duke.edu/~charvey/Factor-List.xlsx) published in a selection of journals that study cross-sectional return patterns. "
   ]
  },
  {
   "cell_type": "markdown",
   "metadata": {
    "slideshow": {
     "slide_type": "subslide"
    }
   },
   "source": [
    "2. The majority of those papers goes: \n",
    "    1. We show that stocks with high value of x on average outperform stocks with low value of x.\n",
    "    2. Is it robust? Run a Fama-MacBeth regression;\n",
    "    3. Is it explained by risk? Form a long-short portfolio based on the new characteristic sort. Test if this portfolio earns an \"alpha\" with respect the benchmark model.\n",
    "3. Background: The mean-variance efficient portfolio\n",
    "    1. CML and SML\n",
    "    2. Testing the market portfolio\n",
    "    3. Traded factor portfolios"
   ]
  },
  {
   "cell_type": "markdown",
   "metadata": {
    "slideshow": {
     "slide_type": "slide"
    }
   },
   "source": [
    "## Plan for Today\n",
    "\n",
    "1. Study the mom vs. short-term reversal strategies;\n",
    "2. Fama-MacBeth regression;\n",
    "3. Alpha evaluation"
   ]
  },
  {
   "cell_type": "markdown",
   "metadata": {
    "slideshow": {
     "slide_type": "slide"
    }
   },
   "source": [
    "## Momentum and Reversal\n",
    "\n",
    "Return autocorrelations appear to be initially negative at horizons up to a month or two (short term reversal), then positive for horizons from 3 to 12 months (momentum), then possibly negative again at horizons of several years (long term reversal)."
   ]
  },
  {
   "cell_type": "markdown",
   "metadata": {
    "slideshow": {
     "slide_type": "slide"
    }
   },
   "source": [
    "## Set Up"
   ]
  },
  {
   "cell_type": "code",
   "execution_count": 1,
   "metadata": {
    "slideshow": {
     "slide_type": "fragment"
    }
   },
   "outputs": [],
   "source": [
    "#%% Packages \n",
    "import sys\n",
    "import pandas as pd\n",
    "from pandas.tseries.offsets import MonthEnd\n",
    "\n",
    "import numpy as np\n",
    "import datetime\n",
    "\n",
    "import statsmodels.api as sm\n",
    "import statsmodels.formula.api as smf\n",
    "\n",
    "import matplotlib.pyplot as plt\n",
    "\n",
    "import time\n",
    "from time import strptime, strftime\n",
    "\n",
    "# Setups\n",
    "pd.set_option(\"display.max_rows\", 100) # max number or rows to be displayed \n",
    "%matplotlib inline \n",
    "plt.rcParams['figure.figsize'] = [10, 6]\n",
    "idx = pd.IndexSlice"
   ]
  },
  {
   "cell_type": "code",
   "execution_count": 2,
   "metadata": {
    "slideshow": {
     "slide_type": "subslide"
    }
   },
   "outputs": [],
   "source": [
    "# Packages from fire_pytools\n",
    "sys.path.append(\"../fire_pytools\") \n",
    "\n",
    "\n",
    "from utils.monthly_date import *\n",
    "from portools.find_breakpoints import find_breakpoints\n",
    "from portools.sort_portfolios import sort_portfolios\n",
    "from import_kf.kf_factors import *\n",
    "from utils.post_event_nan import * "
   ]
  },
  {
   "cell_type": "markdown",
   "metadata": {
    "slideshow": {
     "slide_type": "slide"
    }
   },
   "source": [
    "## Download Data"
   ]
  },
  {
   "cell_type": "code",
   "execution_count": 3,
   "metadata": {
    "slideshow": {
     "slide_type": "subslide"
    }
   },
   "outputs": [
    {
     "data": {
      "text/plain": [
       "Index(['permno', 'date', 'dlret', 'dlretx', 'exchcd', 'naics', 'permco', 'prc',\n",
       "       'ret', 'shrcd', 'shrout', 'siccd', 'ticker', 'rankyear', 'retadj', 'me',\n",
       "       'lag_me', 'lag_dlret', 'melag_weights', 'mdate', 'rf'],\n",
       "      dtype='object')"
      ]
     },
     "execution_count": 3,
     "metadata": {},
     "output_type": "execute_result"
    }
   ],
   "source": [
    "mdata = pd.read_pickle('./stock_monthly.pkl')\n",
    "mdata.columns"
   ]
  },
  {
   "cell_type": "code",
   "execution_count": 4,
   "metadata": {
    "slideshow": {
     "slide_type": "subslide"
    }
   },
   "outputs": [],
   "source": [
    "# Clean Data\n",
    "## Data start in 2010\n",
    "mdata = mdata[mdata.date>='1970-01-01']\n",
    "## Share type - select only common stocks \n",
    "mdata = mdata[mdata.shrcd.isin([10, 11])]\n",
    "## Select stocks traded on the major stock exchanges\n",
    "mdata = mdata[mdata.exchcd.isin([1, 2, 3])]\n",
    "## Order\n",
    "mdata = mdata.sort_values(['permno','date'])"
   ]
  },
  {
   "cell_type": "code",
   "execution_count": 5,
   "metadata": {
    "slideshow": {
     "slide_type": "fragment"
    }
   },
   "outputs": [],
   "source": [
    "# Work with excess returns\n",
    "mdata['exret'] = mdata['retadj'] - mdata['rf']"
   ]
  },
  {
   "cell_type": "code",
   "execution_count": 6,
   "metadata": {
    "slideshow": {
     "slide_type": "subslide"
    }
   },
   "outputs": [
    {
     "data": {
      "text/plain": [
       "Index(['permno', 'date', 'dlret', 'dlretx', 'exchcd', 'naics', 'permco', 'prc',\n",
       "       'ret', 'shrcd', 'shrout', 'siccd', 'ticker', 'rankyear', 'retadj', 'me',\n",
       "       'lag_me', 'lag_dlret', 'melag_weights', 'mdate', 'rf', 'exret'],\n",
       "      dtype='object')"
      ]
     },
     "execution_count": 6,
     "metadata": {},
     "output_type": "execute_result"
    }
   ],
   "source": [
    "mdata.columns"
   ]
  },
  {
   "cell_type": "code",
   "execution_count": 7,
   "metadata": {
    "slideshow": {
     "slide_type": "fragment"
    }
   },
   "outputs": [],
   "source": [
    "mdata = mdata[['permno', 'date', 'exret', 'permco','me', 'melag_weights', 'siccd', 'exchcd']].copy()"
   ]
  },
  {
   "cell_type": "code",
   "execution_count": 8,
   "metadata": {
    "slideshow": {
     "slide_type": "fragment"
    }
   },
   "outputs": [
    {
     "data": {
      "text/html": [
       "<div>\n",
       "<style scoped>\n",
       "    .dataframe tbody tr th:only-of-type {\n",
       "        vertical-align: middle;\n",
       "    }\n",
       "\n",
       "    .dataframe tbody tr th {\n",
       "        vertical-align: top;\n",
       "    }\n",
       "\n",
       "    .dataframe thead th {\n",
       "        text-align: right;\n",
       "    }\n",
       "</style>\n",
       "<table border=\"1\" class=\"dataframe\">\n",
       "  <thead>\n",
       "    <tr style=\"text-align: right;\">\n",
       "      <th></th>\n",
       "      <th>permno</th>\n",
       "      <th>date</th>\n",
       "      <th>exret</th>\n",
       "      <th>permco</th>\n",
       "      <th>me</th>\n",
       "      <th>melag_weights</th>\n",
       "      <th>siccd</th>\n",
       "      <th>exchcd</th>\n",
       "    </tr>\n",
       "  </thead>\n",
       "  <tbody>\n",
       "    <tr>\n",
       "      <th>1</th>\n",
       "      <td>10000</td>\n",
       "      <td>1986-01-31</td>\n",
       "      <td>NaN</td>\n",
       "      <td>7952.0</td>\n",
       "      <td>16.100000</td>\n",
       "      <td>NaN</td>\n",
       "      <td>3990.0</td>\n",
       "      <td>3.0</td>\n",
       "    </tr>\n",
       "    <tr>\n",
       "      <th>2</th>\n",
       "      <td>10000</td>\n",
       "      <td>1986-02-28</td>\n",
       "      <td>-0.262439</td>\n",
       "      <td>7952.0</td>\n",
       "      <td>11.960000</td>\n",
       "      <td>16.100000</td>\n",
       "      <td>3990.0</td>\n",
       "      <td>3.0</td>\n",
       "    </tr>\n",
       "    <tr>\n",
       "      <th>3</th>\n",
       "      <td>10000</td>\n",
       "      <td>1986-03-31</td>\n",
       "      <td>0.359422</td>\n",
       "      <td>7952.0</td>\n",
       "      <td>16.330000</td>\n",
       "      <td>11.960000</td>\n",
       "      <td>3990.0</td>\n",
       "      <td>3.0</td>\n",
       "    </tr>\n",
       "    <tr>\n",
       "      <th>4</th>\n",
       "      <td>10000</td>\n",
       "      <td>1986-04-30</td>\n",
       "      <td>-0.103933</td>\n",
       "      <td>7952.0</td>\n",
       "      <td>15.172000</td>\n",
       "      <td>16.330000</td>\n",
       "      <td>3990.0</td>\n",
       "      <td>3.0</td>\n",
       "    </tr>\n",
       "    <tr>\n",
       "      <th>5</th>\n",
       "      <td>10000</td>\n",
       "      <td>1986-05-30</td>\n",
       "      <td>-0.227590</td>\n",
       "      <td>7952.0</td>\n",
       "      <td>11.793859</td>\n",
       "      <td>15.172000</td>\n",
       "      <td>3990.0</td>\n",
       "      <td>3.0</td>\n",
       "    </tr>\n",
       "    <tr>\n",
       "      <th>...</th>\n",
       "      <td>...</td>\n",
       "      <td>...</td>\n",
       "      <td>...</td>\n",
       "      <td>...</td>\n",
       "      <td>...</td>\n",
       "      <td>...</td>\n",
       "      <td>...</td>\n",
       "      <td>...</td>\n",
       "    </tr>\n",
       "    <tr>\n",
       "      <th>4927006</th>\n",
       "      <td>93436</td>\n",
       "      <td>2022-08-31</td>\n",
       "      <td>-0.074390</td>\n",
       "      <td>53453.0</td>\n",
       "      <td>863615.620800</td>\n",
       "      <td>931110.623250</td>\n",
       "      <td>9999.0</td>\n",
       "      <td>3.0</td>\n",
       "    </tr>\n",
       "    <tr>\n",
       "      <th>4927007</th>\n",
       "      <td>93436</td>\n",
       "      <td>2022-09-30</td>\n",
       "      <td>-0.039518</td>\n",
       "      <td>53453.0</td>\n",
       "      <td>837659.500000</td>\n",
       "      <td>863615.620800</td>\n",
       "      <td>9999.0</td>\n",
       "      <td>3.0</td>\n",
       "    </tr>\n",
       "    <tr>\n",
       "      <th>4927008</th>\n",
       "      <td>93436</td>\n",
       "      <td>2022-10-31</td>\n",
       "      <td>-0.144495</td>\n",
       "      <td>53453.0</td>\n",
       "      <td>718514.868879</td>\n",
       "      <td>837659.500000</td>\n",
       "      <td>9999.0</td>\n",
       "      <td>3.0</td>\n",
       "    </tr>\n",
       "    <tr>\n",
       "      <th>4927009</th>\n",
       "      <td>93436</td>\n",
       "      <td>2022-11-30</td>\n",
       "      <td>-0.147182</td>\n",
       "      <td>53453.0</td>\n",
       "      <td>614814.304763</td>\n",
       "      <td>718514.868879</td>\n",
       "      <td>9999.0</td>\n",
       "      <td>3.0</td>\n",
       "    </tr>\n",
       "    <tr>\n",
       "      <th>4927010</th>\n",
       "      <td>93436</td>\n",
       "      <td>2022-12-30</td>\n",
       "      <td>-0.370713</td>\n",
       "      <td>53453.0</td>\n",
       "      <td>388971.892324</td>\n",
       "      <td>614814.304763</td>\n",
       "      <td>9999.0</td>\n",
       "      <td>3.0</td>\n",
       "    </tr>\n",
       "  </tbody>\n",
       "</table>\n",
       "<p>3172747 rows × 8 columns</p>\n",
       "</div>"
      ],
      "text/plain": [
       "         permno       date     exret   permco             me  melag_weights  \\\n",
       "1         10000 1986-01-31       NaN   7952.0      16.100000            NaN   \n",
       "2         10000 1986-02-28 -0.262439   7952.0      11.960000      16.100000   \n",
       "3         10000 1986-03-31  0.359422   7952.0      16.330000      11.960000   \n",
       "4         10000 1986-04-30 -0.103933   7952.0      15.172000      16.330000   \n",
       "5         10000 1986-05-30 -0.227590   7952.0      11.793859      15.172000   \n",
       "...         ...        ...       ...      ...            ...            ...   \n",
       "4927006   93436 2022-08-31 -0.074390  53453.0  863615.620800  931110.623250   \n",
       "4927007   93436 2022-09-30 -0.039518  53453.0  837659.500000  863615.620800   \n",
       "4927008   93436 2022-10-31 -0.144495  53453.0  718514.868879  837659.500000   \n",
       "4927009   93436 2022-11-30 -0.147182  53453.0  614814.304763  718514.868879   \n",
       "4927010   93436 2022-12-30 -0.370713  53453.0  388971.892324  614814.304763   \n",
       "\n",
       "          siccd  exchcd  \n",
       "1        3990.0     3.0  \n",
       "2        3990.0     3.0  \n",
       "3        3990.0     3.0  \n",
       "4        3990.0     3.0  \n",
       "5        3990.0     3.0  \n",
       "...         ...     ...  \n",
       "4927006  9999.0     3.0  \n",
       "4927007  9999.0     3.0  \n",
       "4927008  9999.0     3.0  \n",
       "4927009  9999.0     3.0  \n",
       "4927010  9999.0     3.0  \n",
       "\n",
       "[3172747 rows x 8 columns]"
      ]
     },
     "execution_count": 8,
     "metadata": {},
     "output_type": "execute_result"
    }
   ],
   "source": [
    "mdata"
   ]
  },
  {
   "cell_type": "code",
   "execution_count": 9,
   "metadata": {
    "slideshow": {
     "slide_type": "subslide"
    }
   },
   "outputs": [],
   "source": [
    "# Create past returns\n",
    "mdata['ret1'] = mdata.groupby('permno').exret.shift(1)"
   ]
  },
  {
   "cell_type": "code",
   "execution_count": 10,
   "metadata": {
    "slideshow": {
     "slide_type": "fragment"
    }
   },
   "outputs": [
    {
     "data": {
      "text/html": [
       "<div>\n",
       "<style scoped>\n",
       "    .dataframe tbody tr th:only-of-type {\n",
       "        vertical-align: middle;\n",
       "    }\n",
       "\n",
       "    .dataframe tbody tr th {\n",
       "        vertical-align: top;\n",
       "    }\n",
       "\n",
       "    .dataframe thead th {\n",
       "        text-align: right;\n",
       "    }\n",
       "</style>\n",
       "<table border=\"1\" class=\"dataframe\">\n",
       "  <thead>\n",
       "    <tr style=\"text-align: right;\">\n",
       "      <th></th>\n",
       "      <th>permno</th>\n",
       "      <th>date</th>\n",
       "      <th>exret</th>\n",
       "      <th>ret1</th>\n",
       "    </tr>\n",
       "  </thead>\n",
       "  <tbody>\n",
       "    <tr>\n",
       "      <th>1</th>\n",
       "      <td>10000</td>\n",
       "      <td>1986-01-31</td>\n",
       "      <td>NaN</td>\n",
       "      <td>NaN</td>\n",
       "    </tr>\n",
       "    <tr>\n",
       "      <th>2</th>\n",
       "      <td>10000</td>\n",
       "      <td>1986-02-28</td>\n",
       "      <td>-0.262439</td>\n",
       "      <td>NaN</td>\n",
       "    </tr>\n",
       "    <tr>\n",
       "      <th>3</th>\n",
       "      <td>10000</td>\n",
       "      <td>1986-03-31</td>\n",
       "      <td>0.359422</td>\n",
       "      <td>-0.262439</td>\n",
       "    </tr>\n",
       "    <tr>\n",
       "      <th>4</th>\n",
       "      <td>10000</td>\n",
       "      <td>1986-04-30</td>\n",
       "      <td>-0.103933</td>\n",
       "      <td>0.359422</td>\n",
       "    </tr>\n",
       "    <tr>\n",
       "      <th>5</th>\n",
       "      <td>10000</td>\n",
       "      <td>1986-05-30</td>\n",
       "      <td>-0.227590</td>\n",
       "      <td>-0.103933</td>\n",
       "    </tr>\n",
       "  </tbody>\n",
       "</table>\n",
       "</div>"
      ],
      "text/plain": [
       "   permno       date     exret      ret1\n",
       "1   10000 1986-01-31       NaN       NaN\n",
       "2   10000 1986-02-28 -0.262439       NaN\n",
       "3   10000 1986-03-31  0.359422 -0.262439\n",
       "4   10000 1986-04-30 -0.103933  0.359422\n",
       "5   10000 1986-05-30 -0.227590 -0.103933"
      ]
     },
     "execution_count": 10,
     "metadata": {},
     "output_type": "execute_result"
    }
   ],
   "source": [
    "mdata[['permno','date','exret','ret1']].head()"
   ]
  },
  {
   "cell_type": "code",
   "execution_count": 11,
   "metadata": {
    "slideshow": {
     "slide_type": "fragment"
    }
   },
   "outputs": [
    {
     "data": {
      "text/html": [
       "<div>\n",
       "<style scoped>\n",
       "    .dataframe tbody tr th:only-of-type {\n",
       "        vertical-align: middle;\n",
       "    }\n",
       "\n",
       "    .dataframe tbody tr th {\n",
       "        vertical-align: top;\n",
       "    }\n",
       "\n",
       "    .dataframe thead th {\n",
       "        text-align: right;\n",
       "    }\n",
       "</style>\n",
       "<table border=\"1\" class=\"dataframe\">\n",
       "  <thead>\n",
       "    <tr style=\"text-align: right;\">\n",
       "      <th></th>\n",
       "      <th>permno</th>\n",
       "      <th>date</th>\n",
       "      <th>exret</th>\n",
       "      <th>permco</th>\n",
       "      <th>me</th>\n",
       "      <th>melag_weights</th>\n",
       "      <th>siccd</th>\n",
       "      <th>exchcd</th>\n",
       "      <th>ret1</th>\n",
       "    </tr>\n",
       "  </thead>\n",
       "  <tbody>\n",
       "    <tr>\n",
       "      <th>14</th>\n",
       "      <td>10000</td>\n",
       "      <td>1987-02-27</td>\n",
       "      <td>-0.004309</td>\n",
       "      <td>7952.0</td>\n",
       "      <td>1.581531</td>\n",
       "      <td>1.581531</td>\n",
       "      <td>3990.0</td>\n",
       "      <td>3.0</td>\n",
       "      <td>-0.216272</td>\n",
       "    </tr>\n",
       "    <tr>\n",
       "      <th>15</th>\n",
       "      <td>10000</td>\n",
       "      <td>1987-03-31</td>\n",
       "      <td>-0.389627</td>\n",
       "      <td>7952.0</td>\n",
       "      <td>0.973250</td>\n",
       "      <td>1.581531</td>\n",
       "      <td>3990.0</td>\n",
       "      <td>3.0</td>\n",
       "      <td>-0.004309</td>\n",
       "    </tr>\n",
       "    <tr>\n",
       "      <th>16</th>\n",
       "      <td>10000</td>\n",
       "      <td>1987-04-30</td>\n",
       "      <td>-0.066785</td>\n",
       "      <td>7952.0</td>\n",
       "      <td>0.912422</td>\n",
       "      <td>0.973250</td>\n",
       "      <td>3990.0</td>\n",
       "      <td>3.0</td>\n",
       "      <td>-0.389627</td>\n",
       "    </tr>\n",
       "    <tr>\n",
       "      <th>17</th>\n",
       "      <td>10000</td>\n",
       "      <td>1987-05-29</td>\n",
       "      <td>-0.070427</td>\n",
       "      <td>7952.0</td>\n",
       "      <td>0.851594</td>\n",
       "      <td>0.912422</td>\n",
       "      <td>3990.0</td>\n",
       "      <td>3.0</td>\n",
       "      <td>-0.066785</td>\n",
       "    </tr>\n",
       "    <tr>\n",
       "      <th>18</th>\n",
       "      <td>10000</td>\n",
       "      <td>1987-06-30</td>\n",
       "      <td>-0.005031</td>\n",
       "      <td>7952.0</td>\n",
       "      <td>NaN</td>\n",
       "      <td>0.851594</td>\n",
       "      <td>3990.0</td>\n",
       "      <td>3.0</td>\n",
       "      <td>-0.070427</td>\n",
       "    </tr>\n",
       "  </tbody>\n",
       "</table>\n",
       "</div>"
      ],
      "text/plain": [
       "    permno       date     exret  permco        me  melag_weights   siccd  \\\n",
       "14   10000 1987-02-27 -0.004309  7952.0  1.581531       1.581531  3990.0   \n",
       "15   10000 1987-03-31 -0.389627  7952.0  0.973250       1.581531  3990.0   \n",
       "16   10000 1987-04-30 -0.066785  7952.0  0.912422       0.973250  3990.0   \n",
       "17   10000 1987-05-29 -0.070427  7952.0  0.851594       0.912422  3990.0   \n",
       "18   10000 1987-06-30 -0.005031  7952.0       NaN       0.851594  3990.0   \n",
       "\n",
       "    exchcd      ret1  \n",
       "14     3.0 -0.216272  \n",
       "15     3.0 -0.004309  \n",
       "16     3.0 -0.389627  \n",
       "17     3.0 -0.066785  \n",
       "18     3.0 -0.070427  "
      ]
     },
     "execution_count": 11,
     "metadata": {},
     "output_type": "execute_result"
    }
   ],
   "source": [
    "mdata[mdata.permno==10000].tail()"
   ]
  },
  {
   "cell_type": "code",
   "execution_count": 12,
   "metadata": {
    "slideshow": {
     "slide_type": "subslide"
    }
   },
   "outputs": [],
   "source": [
    "mdata['date_diff'] = mdata.groupby('permno').date.diff()"
   ]
  },
  {
   "cell_type": "code",
   "execution_count": 13,
   "metadata": {
    "slideshow": {
     "slide_type": "fragment"
    }
   },
   "outputs": [
    {
     "data": {
      "text/plain": [
       "count                       3147495\n",
       "mean     31 days 02:40:42.282767723\n",
       "std      46 days 02:00:32.470393313\n",
       "min                28 days 00:00:00\n",
       "25%                29 days 00:00:00\n",
       "50%                31 days 00:00:00\n",
       "75%                31 days 00:00:00\n",
       "max             11961 days 00:00:00\n",
       "Name: date_diff, dtype: object"
      ]
     },
     "execution_count": 13,
     "metadata": {},
     "output_type": "execute_result"
    }
   ],
   "source": [
    "mdata.date_diff.describe()"
   ]
  },
  {
   "cell_type": "code",
   "execution_count": 14,
   "metadata": {
    "slideshow": {
     "slide_type": "subslide"
    }
   },
   "outputs": [
    {
     "ename": "TypeError",
     "evalue": "Invalid comparison between dtype=timedelta64[ns] and int",
     "output_type": "error",
     "traceback": [
      "\u001b[0;31m---------------------------------------------------------------------------\u001b[0m",
      "\u001b[0;31mInvalidComparison\u001b[0m                         Traceback (most recent call last)",
      "\u001b[0;32m/opt/anaconda3/envs/spyder-env/lib/python3.9/site-packages/pandas/core/arrays/datetimelike.py\u001b[0m in \u001b[0;36m_cmp_method\u001b[0;34m(self, other, op)\u001b[0m\n\u001b[1;32m   1007\u001b[0m         \u001b[0;32mtry\u001b[0m\u001b[0;34m:\u001b[0m\u001b[0;34m\u001b[0m\u001b[0;34m\u001b[0m\u001b[0m\n\u001b[0;32m-> 1008\u001b[0;31m             \u001b[0mother\u001b[0m \u001b[0;34m=\u001b[0m \u001b[0mself\u001b[0m\u001b[0;34m.\u001b[0m\u001b[0m_validate_comparison_value\u001b[0m\u001b[0;34m(\u001b[0m\u001b[0mother\u001b[0m\u001b[0;34m)\u001b[0m\u001b[0;34m\u001b[0m\u001b[0;34m\u001b[0m\u001b[0m\n\u001b[0m\u001b[1;32m   1009\u001b[0m         \u001b[0;32mexcept\u001b[0m \u001b[0mInvalidComparison\u001b[0m\u001b[0;34m:\u001b[0m\u001b[0;34m\u001b[0m\u001b[0;34m\u001b[0m\u001b[0m\n",
      "\u001b[0;32m/opt/anaconda3/envs/spyder-env/lib/python3.9/site-packages/pandas/core/arrays/datetimelike.py\u001b[0m in \u001b[0;36m_validate_comparison_value\u001b[0;34m(self, other)\u001b[0m\n\u001b[1;32m    541\u001b[0m         \u001b[0;32melif\u001b[0m \u001b[0;32mnot\u001b[0m \u001b[0mis_list_like\u001b[0m\u001b[0;34m(\u001b[0m\u001b[0mother\u001b[0m\u001b[0;34m)\u001b[0m\u001b[0;34m:\u001b[0m\u001b[0;34m\u001b[0m\u001b[0;34m\u001b[0m\u001b[0m\n\u001b[0;32m--> 542\u001b[0;31m             \u001b[0;32mraise\u001b[0m \u001b[0mInvalidComparison\u001b[0m\u001b[0;34m(\u001b[0m\u001b[0mother\u001b[0m\u001b[0;34m)\u001b[0m\u001b[0;34m\u001b[0m\u001b[0;34m\u001b[0m\u001b[0m\n\u001b[0m\u001b[1;32m    543\u001b[0m \u001b[0;34m\u001b[0m\u001b[0m\n",
      "\u001b[0;31mInvalidComparison\u001b[0m: 31",
      "\nDuring handling of the above exception, another exception occurred:\n",
      "\u001b[0;31mTypeError\u001b[0m                                 Traceback (most recent call last)",
      "\u001b[0;32m/var/folders/0d/y3j6q5wn2bbg73ntj4rlww480000gq/T/ipykernel_89248/4220538407.py\u001b[0m in \u001b[0;36m<cell line: 1>\u001b[0;34m()\u001b[0m\n\u001b[0;32m----> 1\u001b[0;31m \u001b[0mmdata\u001b[0m\u001b[0;34m[\u001b[0m\u001b[0;34m'date_diff'\u001b[0m\u001b[0;34m]\u001b[0m\u001b[0;34m>\u001b[0m\u001b[0;36m31\u001b[0m\u001b[0;34m\u001b[0m\u001b[0;34m\u001b[0m\u001b[0m\n\u001b[0m",
      "\u001b[0;32m/opt/anaconda3/envs/spyder-env/lib/python3.9/site-packages/pandas/core/ops/common.py\u001b[0m in \u001b[0;36mnew_method\u001b[0;34m(self, other)\u001b[0m\n\u001b[1;32m     68\u001b[0m         \u001b[0mother\u001b[0m \u001b[0;34m=\u001b[0m \u001b[0mitem_from_zerodim\u001b[0m\u001b[0;34m(\u001b[0m\u001b[0mother\u001b[0m\u001b[0;34m)\u001b[0m\u001b[0;34m\u001b[0m\u001b[0;34m\u001b[0m\u001b[0m\n\u001b[1;32m     69\u001b[0m \u001b[0;34m\u001b[0m\u001b[0m\n\u001b[0;32m---> 70\u001b[0;31m         \u001b[0;32mreturn\u001b[0m \u001b[0mmethod\u001b[0m\u001b[0;34m(\u001b[0m\u001b[0mself\u001b[0m\u001b[0;34m,\u001b[0m \u001b[0mother\u001b[0m\u001b[0;34m)\u001b[0m\u001b[0;34m\u001b[0m\u001b[0;34m\u001b[0m\u001b[0m\n\u001b[0m\u001b[1;32m     71\u001b[0m \u001b[0;34m\u001b[0m\u001b[0m\n\u001b[1;32m     72\u001b[0m     \u001b[0;32mreturn\u001b[0m \u001b[0mnew_method\u001b[0m\u001b[0;34m\u001b[0m\u001b[0;34m\u001b[0m\u001b[0m\n",
      "\u001b[0;32m/opt/anaconda3/envs/spyder-env/lib/python3.9/site-packages/pandas/core/arraylike.py\u001b[0m in \u001b[0;36m__gt__\u001b[0;34m(self, other)\u001b[0m\n\u001b[1;32m     54\u001b[0m     \u001b[0;34m@\u001b[0m\u001b[0munpack_zerodim_and_defer\u001b[0m\u001b[0;34m(\u001b[0m\u001b[0;34m\"__gt__\"\u001b[0m\u001b[0;34m)\u001b[0m\u001b[0;34m\u001b[0m\u001b[0;34m\u001b[0m\u001b[0m\n\u001b[1;32m     55\u001b[0m     \u001b[0;32mdef\u001b[0m \u001b[0m__gt__\u001b[0m\u001b[0;34m(\u001b[0m\u001b[0mself\u001b[0m\u001b[0;34m,\u001b[0m \u001b[0mother\u001b[0m\u001b[0;34m)\u001b[0m\u001b[0;34m:\u001b[0m\u001b[0;34m\u001b[0m\u001b[0;34m\u001b[0m\u001b[0m\n\u001b[0;32m---> 56\u001b[0;31m         \u001b[0;32mreturn\u001b[0m \u001b[0mself\u001b[0m\u001b[0;34m.\u001b[0m\u001b[0m_cmp_method\u001b[0m\u001b[0;34m(\u001b[0m\u001b[0mother\u001b[0m\u001b[0;34m,\u001b[0m \u001b[0moperator\u001b[0m\u001b[0;34m.\u001b[0m\u001b[0mgt\u001b[0m\u001b[0;34m)\u001b[0m\u001b[0;34m\u001b[0m\u001b[0;34m\u001b[0m\u001b[0m\n\u001b[0m\u001b[1;32m     57\u001b[0m \u001b[0;34m\u001b[0m\u001b[0m\n\u001b[1;32m     58\u001b[0m     \u001b[0;34m@\u001b[0m\u001b[0munpack_zerodim_and_defer\u001b[0m\u001b[0;34m(\u001b[0m\u001b[0;34m\"__ge__\"\u001b[0m\u001b[0;34m)\u001b[0m\u001b[0;34m\u001b[0m\u001b[0;34m\u001b[0m\u001b[0m\n",
      "\u001b[0;32m/opt/anaconda3/envs/spyder-env/lib/python3.9/site-packages/pandas/core/series.py\u001b[0m in \u001b[0;36m_cmp_method\u001b[0;34m(self, other, op)\u001b[0m\n\u001b[1;32m   5621\u001b[0m \u001b[0;34m\u001b[0m\u001b[0m\n\u001b[1;32m   5622\u001b[0m         \u001b[0;32mwith\u001b[0m \u001b[0mnp\u001b[0m\u001b[0;34m.\u001b[0m\u001b[0merrstate\u001b[0m\u001b[0;34m(\u001b[0m\u001b[0mall\u001b[0m\u001b[0;34m=\u001b[0m\u001b[0;34m\"ignore\"\u001b[0m\u001b[0;34m)\u001b[0m\u001b[0;34m:\u001b[0m\u001b[0;34m\u001b[0m\u001b[0;34m\u001b[0m\u001b[0m\n\u001b[0;32m-> 5623\u001b[0;31m             \u001b[0mres_values\u001b[0m \u001b[0;34m=\u001b[0m \u001b[0mops\u001b[0m\u001b[0;34m.\u001b[0m\u001b[0mcomparison_op\u001b[0m\u001b[0;34m(\u001b[0m\u001b[0mlvalues\u001b[0m\u001b[0;34m,\u001b[0m \u001b[0mrvalues\u001b[0m\u001b[0;34m,\u001b[0m \u001b[0mop\u001b[0m\u001b[0;34m)\u001b[0m\u001b[0;34m\u001b[0m\u001b[0;34m\u001b[0m\u001b[0m\n\u001b[0m\u001b[1;32m   5624\u001b[0m \u001b[0;34m\u001b[0m\u001b[0m\n\u001b[1;32m   5625\u001b[0m         \u001b[0;32mreturn\u001b[0m \u001b[0mself\u001b[0m\u001b[0;34m.\u001b[0m\u001b[0m_construct_result\u001b[0m\u001b[0;34m(\u001b[0m\u001b[0mres_values\u001b[0m\u001b[0;34m,\u001b[0m \u001b[0mname\u001b[0m\u001b[0;34m=\u001b[0m\u001b[0mres_name\u001b[0m\u001b[0;34m)\u001b[0m\u001b[0;34m\u001b[0m\u001b[0;34m\u001b[0m\u001b[0m\n",
      "\u001b[0;32m/opt/anaconda3/envs/spyder-env/lib/python3.9/site-packages/pandas/core/ops/array_ops.py\u001b[0m in \u001b[0;36mcomparison_op\u001b[0;34m(left, right, op)\u001b[0m\n\u001b[1;32m    267\u001b[0m     ):\n\u001b[1;32m    268\u001b[0m         \u001b[0;31m# Call the method on lvalues\u001b[0m\u001b[0;34m\u001b[0m\u001b[0;34m\u001b[0m\u001b[0m\n\u001b[0;32m--> 269\u001b[0;31m         \u001b[0mres_values\u001b[0m \u001b[0;34m=\u001b[0m \u001b[0mop\u001b[0m\u001b[0;34m(\u001b[0m\u001b[0mlvalues\u001b[0m\u001b[0;34m,\u001b[0m \u001b[0mrvalues\u001b[0m\u001b[0;34m)\u001b[0m\u001b[0;34m\u001b[0m\u001b[0;34m\u001b[0m\u001b[0m\n\u001b[0m\u001b[1;32m    270\u001b[0m \u001b[0;34m\u001b[0m\u001b[0m\n\u001b[1;32m    271\u001b[0m     \u001b[0;32melif\u001b[0m \u001b[0mis_scalar\u001b[0m\u001b[0;34m(\u001b[0m\u001b[0mrvalues\u001b[0m\u001b[0;34m)\u001b[0m \u001b[0;32mand\u001b[0m \u001b[0misna\u001b[0m\u001b[0;34m(\u001b[0m\u001b[0mrvalues\u001b[0m\u001b[0;34m)\u001b[0m\u001b[0;34m:\u001b[0m  \u001b[0;31m# TODO: but not pd.NA?\u001b[0m\u001b[0;34m\u001b[0m\u001b[0;34m\u001b[0m\u001b[0m\n",
      "\u001b[0;32m/opt/anaconda3/envs/spyder-env/lib/python3.9/site-packages/pandas/core/ops/common.py\u001b[0m in \u001b[0;36mnew_method\u001b[0;34m(self, other)\u001b[0m\n\u001b[1;32m     68\u001b[0m         \u001b[0mother\u001b[0m \u001b[0;34m=\u001b[0m \u001b[0mitem_from_zerodim\u001b[0m\u001b[0;34m(\u001b[0m\u001b[0mother\u001b[0m\u001b[0;34m)\u001b[0m\u001b[0;34m\u001b[0m\u001b[0;34m\u001b[0m\u001b[0m\n\u001b[1;32m     69\u001b[0m \u001b[0;34m\u001b[0m\u001b[0m\n\u001b[0;32m---> 70\u001b[0;31m         \u001b[0;32mreturn\u001b[0m \u001b[0mmethod\u001b[0m\u001b[0;34m(\u001b[0m\u001b[0mself\u001b[0m\u001b[0;34m,\u001b[0m \u001b[0mother\u001b[0m\u001b[0;34m)\u001b[0m\u001b[0;34m\u001b[0m\u001b[0;34m\u001b[0m\u001b[0m\n\u001b[0m\u001b[1;32m     71\u001b[0m \u001b[0;34m\u001b[0m\u001b[0m\n\u001b[1;32m     72\u001b[0m     \u001b[0;32mreturn\u001b[0m \u001b[0mnew_method\u001b[0m\u001b[0;34m\u001b[0m\u001b[0;34m\u001b[0m\u001b[0m\n",
      "\u001b[0;32m/opt/anaconda3/envs/spyder-env/lib/python3.9/site-packages/pandas/core/arraylike.py\u001b[0m in \u001b[0;36m__gt__\u001b[0;34m(self, other)\u001b[0m\n\u001b[1;32m     54\u001b[0m     \u001b[0;34m@\u001b[0m\u001b[0munpack_zerodim_and_defer\u001b[0m\u001b[0;34m(\u001b[0m\u001b[0;34m\"__gt__\"\u001b[0m\u001b[0;34m)\u001b[0m\u001b[0;34m\u001b[0m\u001b[0;34m\u001b[0m\u001b[0m\n\u001b[1;32m     55\u001b[0m     \u001b[0;32mdef\u001b[0m \u001b[0m__gt__\u001b[0m\u001b[0;34m(\u001b[0m\u001b[0mself\u001b[0m\u001b[0;34m,\u001b[0m \u001b[0mother\u001b[0m\u001b[0;34m)\u001b[0m\u001b[0;34m:\u001b[0m\u001b[0;34m\u001b[0m\u001b[0;34m\u001b[0m\u001b[0m\n\u001b[0;32m---> 56\u001b[0;31m         \u001b[0;32mreturn\u001b[0m \u001b[0mself\u001b[0m\u001b[0;34m.\u001b[0m\u001b[0m_cmp_method\u001b[0m\u001b[0;34m(\u001b[0m\u001b[0mother\u001b[0m\u001b[0;34m,\u001b[0m \u001b[0moperator\u001b[0m\u001b[0;34m.\u001b[0m\u001b[0mgt\u001b[0m\u001b[0;34m)\u001b[0m\u001b[0;34m\u001b[0m\u001b[0;34m\u001b[0m\u001b[0m\n\u001b[0m\u001b[1;32m     57\u001b[0m \u001b[0;34m\u001b[0m\u001b[0m\n\u001b[1;32m     58\u001b[0m     \u001b[0;34m@\u001b[0m\u001b[0munpack_zerodim_and_defer\u001b[0m\u001b[0;34m(\u001b[0m\u001b[0;34m\"__ge__\"\u001b[0m\u001b[0;34m)\u001b[0m\u001b[0;34m\u001b[0m\u001b[0;34m\u001b[0m\u001b[0m\n",
      "\u001b[0;32m/opt/anaconda3/envs/spyder-env/lib/python3.9/site-packages/pandas/core/arrays/datetimelike.py\u001b[0m in \u001b[0;36m_cmp_method\u001b[0;34m(self, other, op)\u001b[0m\n\u001b[1;32m   1008\u001b[0m             \u001b[0mother\u001b[0m \u001b[0;34m=\u001b[0m \u001b[0mself\u001b[0m\u001b[0;34m.\u001b[0m\u001b[0m_validate_comparison_value\u001b[0m\u001b[0;34m(\u001b[0m\u001b[0mother\u001b[0m\u001b[0;34m)\u001b[0m\u001b[0;34m\u001b[0m\u001b[0;34m\u001b[0m\u001b[0m\n\u001b[1;32m   1009\u001b[0m         \u001b[0;32mexcept\u001b[0m \u001b[0mInvalidComparison\u001b[0m\u001b[0;34m:\u001b[0m\u001b[0;34m\u001b[0m\u001b[0;34m\u001b[0m\u001b[0m\n\u001b[0;32m-> 1010\u001b[0;31m             \u001b[0;32mreturn\u001b[0m \u001b[0minvalid_comparison\u001b[0m\u001b[0;34m(\u001b[0m\u001b[0mself\u001b[0m\u001b[0;34m,\u001b[0m \u001b[0mother\u001b[0m\u001b[0;34m,\u001b[0m \u001b[0mop\u001b[0m\u001b[0;34m)\u001b[0m\u001b[0;34m\u001b[0m\u001b[0;34m\u001b[0m\u001b[0m\n\u001b[0m\u001b[1;32m   1011\u001b[0m \u001b[0;34m\u001b[0m\u001b[0m\n\u001b[1;32m   1012\u001b[0m         \u001b[0mdtype\u001b[0m \u001b[0;34m=\u001b[0m \u001b[0mgetattr\u001b[0m\u001b[0;34m(\u001b[0m\u001b[0mother\u001b[0m\u001b[0;34m,\u001b[0m \u001b[0;34m\"dtype\"\u001b[0m\u001b[0;34m,\u001b[0m \u001b[0;32mNone\u001b[0m\u001b[0;34m)\u001b[0m\u001b[0;34m\u001b[0m\u001b[0;34m\u001b[0m\u001b[0m\n",
      "\u001b[0;32m/opt/anaconda3/envs/spyder-env/lib/python3.9/site-packages/pandas/core/ops/invalid.py\u001b[0m in \u001b[0;36minvalid_comparison\u001b[0;34m(left, right, op)\u001b[0m\n\u001b[1;32m     32\u001b[0m     \u001b[0;32melse\u001b[0m\u001b[0;34m:\u001b[0m\u001b[0;34m\u001b[0m\u001b[0;34m\u001b[0m\u001b[0m\n\u001b[1;32m     33\u001b[0m         \u001b[0mtyp\u001b[0m \u001b[0;34m=\u001b[0m \u001b[0mtype\u001b[0m\u001b[0;34m(\u001b[0m\u001b[0mright\u001b[0m\u001b[0;34m)\u001b[0m\u001b[0;34m.\u001b[0m\u001b[0m__name__\u001b[0m\u001b[0;34m\u001b[0m\u001b[0;34m\u001b[0m\u001b[0m\n\u001b[0;32m---> 34\u001b[0;31m         \u001b[0;32mraise\u001b[0m \u001b[0mTypeError\u001b[0m\u001b[0;34m(\u001b[0m\u001b[0;34mf\"Invalid comparison between dtype={left.dtype} and {typ}\"\u001b[0m\u001b[0;34m)\u001b[0m\u001b[0;34m\u001b[0m\u001b[0;34m\u001b[0m\u001b[0m\n\u001b[0m\u001b[1;32m     35\u001b[0m     \u001b[0;32mreturn\u001b[0m \u001b[0mres_values\u001b[0m\u001b[0;34m\u001b[0m\u001b[0;34m\u001b[0m\u001b[0m\n\u001b[1;32m     36\u001b[0m \u001b[0;34m\u001b[0m\u001b[0m\n",
      "\u001b[0;31mTypeError\u001b[0m: Invalid comparison between dtype=timedelta64[ns] and int"
     ]
    }
   ],
   "source": [
    "mdata['date_diff']>31"
   ]
  },
  {
   "cell_type": "code",
   "execution_count": 15,
   "metadata": {
    "slideshow": {
     "slide_type": "subslide"
    }
   },
   "outputs": [
    {
     "data": {
      "text/plain": [
       "1          False\n",
       "2          False\n",
       "3          False\n",
       "4          False\n",
       "5          False\n",
       "           ...  \n",
       "4927006     True\n",
       "4927007    False\n",
       "4927008    False\n",
       "4927009    False\n",
       "4927010    False\n",
       "Name: date_diff, Length: 3172747, dtype: bool"
      ]
     },
     "execution_count": 15,
     "metadata": {},
     "output_type": "execute_result"
    }
   ],
   "source": [
    "# How to work with dates\n",
    "mdata['date_diff'].dt.days>31"
   ]
  },
  {
   "cell_type": "code",
   "execution_count": 16,
   "metadata": {
    "slideshow": {
     "slide_type": "subslide"
    }
   },
   "outputs": [
    {
     "data": {
      "text/html": [
       "<div>\n",
       "<style scoped>\n",
       "    .dataframe tbody tr th:only-of-type {\n",
       "        vertical-align: middle;\n",
       "    }\n",
       "\n",
       "    .dataframe tbody tr th {\n",
       "        vertical-align: top;\n",
       "    }\n",
       "\n",
       "    .dataframe thead th {\n",
       "        text-align: right;\n",
       "    }\n",
       "</style>\n",
       "<table border=\"1\" class=\"dataframe\">\n",
       "  <thead>\n",
       "    <tr style=\"text-align: right;\">\n",
       "      <th></th>\n",
       "      <th>permno</th>\n",
       "      <th>date</th>\n",
       "      <th>date_diff</th>\n",
       "      <th>exret</th>\n",
       "      <th>ret1</th>\n",
       "    </tr>\n",
       "  </thead>\n",
       "  <tbody>\n",
       "    <tr>\n",
       "      <th>9</th>\n",
       "      <td>10000</td>\n",
       "      <td>1986-09-30</td>\n",
       "      <td>32 days</td>\n",
       "      <td>-0.061926</td>\n",
       "      <td>-0.619999</td>\n",
       "    </tr>\n",
       "    <tr>\n",
       "      <th>12</th>\n",
       "      <td>10000</td>\n",
       "      <td>1986-12-31</td>\n",
       "      <td>33 days</td>\n",
       "      <td>-0.382125</td>\n",
       "      <td>0.056076</td>\n",
       "    </tr>\n",
       "    <tr>\n",
       "      <th>15</th>\n",
       "      <td>10000</td>\n",
       "      <td>1987-03-31</td>\n",
       "      <td>32 days</td>\n",
       "      <td>-0.389627</td>\n",
       "      <td>-0.004309</td>\n",
       "    </tr>\n",
       "    <tr>\n",
       "      <th>18</th>\n",
       "      <td>10000</td>\n",
       "      <td>1987-06-30</td>\n",
       "      <td>32 days</td>\n",
       "      <td>-0.005031</td>\n",
       "      <td>-0.070427</td>\n",
       "    </tr>\n",
       "    <tr>\n",
       "      <th>28</th>\n",
       "      <td>10001</td>\n",
       "      <td>1986-09-30</td>\n",
       "      <td>32 days</td>\n",
       "      <td>-0.007860</td>\n",
       "      <td>0.067551</td>\n",
       "    </tr>\n",
       "  </tbody>\n",
       "</table>\n",
       "</div>"
      ],
      "text/plain": [
       "    permno       date date_diff     exret      ret1\n",
       "9    10000 1986-09-30   32 days -0.061926 -0.619999\n",
       "12   10000 1986-12-31   33 days -0.382125  0.056076\n",
       "15   10000 1987-03-31   32 days -0.389627 -0.004309\n",
       "18   10000 1987-06-30   32 days -0.005031 -0.070427\n",
       "28   10001 1986-09-30   32 days -0.007860  0.067551"
      ]
     },
     "execution_count": 16,
     "metadata": {},
     "output_type": "execute_result"
    }
   ],
   "source": [
    "# Are those problems?\n",
    "mdata.loc[(mdata.date_diff.dt.days>31), ['permno','date', 'date_diff', 'exret','ret1']].head()"
   ]
  },
  {
   "cell_type": "code",
   "execution_count": 17,
   "metadata": {
    "slideshow": {
     "slide_type": "subslide"
    }
   },
   "outputs": [
    {
     "data": {
      "text/html": [
       "<div>\n",
       "<style scoped>\n",
       "    .dataframe tbody tr th:only-of-type {\n",
       "        vertical-align: middle;\n",
       "    }\n",
       "\n",
       "    .dataframe tbody tr th {\n",
       "        vertical-align: top;\n",
       "    }\n",
       "\n",
       "    .dataframe thead th {\n",
       "        text-align: right;\n",
       "    }\n",
       "</style>\n",
       "<table border=\"1\" class=\"dataframe\">\n",
       "  <thead>\n",
       "    <tr style=\"text-align: right;\">\n",
       "      <th></th>\n",
       "      <th>permno</th>\n",
       "      <th>date</th>\n",
       "      <th>date_diff</th>\n",
       "      <th>exret</th>\n",
       "      <th>ret1</th>\n",
       "    </tr>\n",
       "  </thead>\n",
       "  <tbody>\n",
       "    <tr>\n",
       "      <th>1656</th>\n",
       "      <td>10007</td>\n",
       "      <td>1989-02-28</td>\n",
       "      <td>456 days</td>\n",
       "      <td>NaN</td>\n",
       "      <td>-0.364477</td>\n",
       "    </tr>\n",
       "    <tr>\n",
       "      <th>2150</th>\n",
       "      <td>10012</td>\n",
       "      <td>1987-10-30</td>\n",
       "      <td>91 days</td>\n",
       "      <td>NaN</td>\n",
       "      <td>0.072865</td>\n",
       "    </tr>\n",
       "    <tr>\n",
       "      <th>5477</th>\n",
       "      <td>10028</td>\n",
       "      <td>2012-11-30</td>\n",
       "      <td>245 days</td>\n",
       "      <td>-0.246609</td>\n",
       "      <td>-0.048392</td>\n",
       "    </tr>\n",
       "    <tr>\n",
       "      <th>9033</th>\n",
       "      <td>10050</td>\n",
       "      <td>1978-09-29</td>\n",
       "      <td>60 days</td>\n",
       "      <td>NaN</td>\n",
       "      <td>NaN</td>\n",
       "    </tr>\n",
       "    <tr>\n",
       "      <th>9034</th>\n",
       "      <td>10050</td>\n",
       "      <td>1978-12-29</td>\n",
       "      <td>91 days</td>\n",
       "      <td>NaN</td>\n",
       "      <td>NaN</td>\n",
       "    </tr>\n",
       "  </tbody>\n",
       "</table>\n",
       "</div>"
      ],
      "text/plain": [
       "      permno       date date_diff     exret      ret1\n",
       "1656   10007 1989-02-28  456 days       NaN -0.364477\n",
       "2150   10012 1987-10-30   91 days       NaN  0.072865\n",
       "5477   10028 2012-11-30  245 days -0.246609 -0.048392\n",
       "9033   10050 1978-09-29   60 days       NaN       NaN\n",
       "9034   10050 1978-12-29   91 days       NaN       NaN"
      ]
     },
     "execution_count": 17,
     "metadata": {},
     "output_type": "execute_result"
    }
   ],
   "source": [
    "mdata.loc[(mdata.date_diff.dt.days>40), ['permno','date', 'date_diff', 'exret','ret1']].head()"
   ]
  },
  {
   "cell_type": "code",
   "execution_count": 18,
   "metadata": {
    "slideshow": {
     "slide_type": "subslide"
    }
   },
   "outputs": [
    {
     "data": {
      "text/html": [
       "<div>\n",
       "<style scoped>\n",
       "    .dataframe tbody tr th:only-of-type {\n",
       "        vertical-align: middle;\n",
       "    }\n",
       "\n",
       "    .dataframe tbody tr th {\n",
       "        vertical-align: top;\n",
       "    }\n",
       "\n",
       "    .dataframe thead th {\n",
       "        text-align: right;\n",
       "    }\n",
       "</style>\n",
       "<table border=\"1\" class=\"dataframe\">\n",
       "  <thead>\n",
       "    <tr style=\"text-align: right;\">\n",
       "      <th></th>\n",
       "      <th>permno</th>\n",
       "      <th>date</th>\n",
       "      <th>date_diff</th>\n",
       "      <th>exret</th>\n",
       "      <th>ret1</th>\n",
       "    </tr>\n",
       "  </thead>\n",
       "  <tbody>\n",
       "    <tr>\n",
       "      <th>5156</th>\n",
       "      <td>10028</td>\n",
       "      <td>1986-02-28</td>\n",
       "      <td>NaT</td>\n",
       "      <td>NaN</td>\n",
       "      <td>NaN</td>\n",
       "    </tr>\n",
       "    <tr>\n",
       "      <th>5157</th>\n",
       "      <td>10028</td>\n",
       "      <td>1986-03-31</td>\n",
       "      <td>31 days</td>\n",
       "      <td>0.216259</td>\n",
       "      <td>NaN</td>\n",
       "    </tr>\n",
       "    <tr>\n",
       "      <th>5158</th>\n",
       "      <td>10028</td>\n",
       "      <td>1986-04-30</td>\n",
       "      <td>30 days</td>\n",
       "      <td>0.176477</td>\n",
       "      <td>0.216259</td>\n",
       "    </tr>\n",
       "    <tr>\n",
       "      <th>5159</th>\n",
       "      <td>10028</td>\n",
       "      <td>1986-05-30</td>\n",
       "      <td>30 days</td>\n",
       "      <td>0.148912</td>\n",
       "      <td>0.176477</td>\n",
       "    </tr>\n",
       "    <tr>\n",
       "      <th>5160</th>\n",
       "      <td>10028</td>\n",
       "      <td>1986-06-30</td>\n",
       "      <td>31 days</td>\n",
       "      <td>-0.138579</td>\n",
       "      <td>0.148912</td>\n",
       "    </tr>\n",
       "    <tr>\n",
       "      <th>...</th>\n",
       "      <td>...</td>\n",
       "      <td>...</td>\n",
       "      <td>...</td>\n",
       "      <td>...</td>\n",
       "      <td>...</td>\n",
       "    </tr>\n",
       "    <tr>\n",
       "      <th>5466</th>\n",
       "      <td>10028</td>\n",
       "      <td>2011-12-30</td>\n",
       "      <td>30 days</td>\n",
       "      <td>-0.036129</td>\n",
       "      <td>-0.070747</td>\n",
       "    </tr>\n",
       "    <tr>\n",
       "      <th>5467</th>\n",
       "      <td>10028</td>\n",
       "      <td>2012-01-31</td>\n",
       "      <td>32 days</td>\n",
       "      <td>-0.026772</td>\n",
       "      <td>-0.036129</td>\n",
       "    </tr>\n",
       "    <tr>\n",
       "      <th>5468</th>\n",
       "      <td>10028</td>\n",
       "      <td>2012-02-29</td>\n",
       "      <td>29 days</td>\n",
       "      <td>0.081124</td>\n",
       "      <td>-0.026772</td>\n",
       "    </tr>\n",
       "    <tr>\n",
       "      <th>5469</th>\n",
       "      <td>10028</td>\n",
       "      <td>2012-03-30</td>\n",
       "      <td>30 days</td>\n",
       "      <td>-0.048392</td>\n",
       "      <td>0.081124</td>\n",
       "    </tr>\n",
       "    <tr>\n",
       "      <th>5477</th>\n",
       "      <td>10028</td>\n",
       "      <td>2012-11-30</td>\n",
       "      <td>245 days</td>\n",
       "      <td>-0.246609</td>\n",
       "      <td>-0.048392</td>\n",
       "    </tr>\n",
       "  </tbody>\n",
       "</table>\n",
       "<p>315 rows × 5 columns</p>\n",
       "</div>"
      ],
      "text/plain": [
       "      permno       date date_diff     exret      ret1\n",
       "5156   10028 1986-02-28       NaT       NaN       NaN\n",
       "5157   10028 1986-03-31   31 days  0.216259       NaN\n",
       "5158   10028 1986-04-30   30 days  0.176477  0.216259\n",
       "5159   10028 1986-05-30   30 days  0.148912  0.176477\n",
       "5160   10028 1986-06-30   31 days -0.138579  0.148912\n",
       "...      ...        ...       ...       ...       ...\n",
       "5466   10028 2011-12-30   30 days -0.036129 -0.070747\n",
       "5467   10028 2012-01-31   32 days -0.026772 -0.036129\n",
       "5468   10028 2012-02-29   29 days  0.081124 -0.026772\n",
       "5469   10028 2012-03-30   30 days -0.048392  0.081124\n",
       "5477   10028 2012-11-30  245 days -0.246609 -0.048392\n",
       "\n",
       "[315 rows x 5 columns]"
      ]
     },
     "execution_count": 18,
     "metadata": {},
     "output_type": "execute_result"
    }
   ],
   "source": [
    "mdata.loc[((mdata.permno==10028) & (mdata.date<'2012-12-30')), ['permno','date', 'date_diff', 'exret','ret1']]"
   ]
  },
  {
   "cell_type": "code",
   "execution_count": 19,
   "metadata": {
    "slideshow": {
     "slide_type": "subslide"
    }
   },
   "outputs": [],
   "source": [
    "mdata.loc[(mdata.date_diff.dt.days>40), 'ret1'] = np.nan"
   ]
  },
  {
   "cell_type": "code",
   "execution_count": 20,
   "metadata": {
    "code_folding": [],
    "slideshow": {
     "slide_type": "slide"
    }
   },
   "outputs": [],
   "source": [
    "# Calculate past returns \n",
    "def calculate_cumulative_returns(mdata, tt, min_periods):\n",
    "    \"\"\"\n",
    "    Calculate past returns for momentum stratagy\n",
    "\n",
    "    Parameters:\n",
    "    ------------\n",
    "    mdata: data frame\n",
    "        crsp monthly data with cols permno, date as index.\n",
    "    tt: int\n",
    "        number of periods to cumulate retuns\n",
    "    min_periods: int\n",
    "    \"\"\"\n",
    "    start_time = time.time()\n",
    "    required_cols = ['exret']\n",
    "\n",
    "    assert set(required_cols).issubset(mdata.columns), \"Required columns: {}.\".format(', '.join(required_cols))\n",
    "\n",
    "    df = mdata[required_cols].copy()\n",
    "\n",
    "    # Before applying the function calculate_cumulative_returns you need to make sure \n",
    "    # we don't have missing dates. Missing dates would lead to the wrong number of periods \n",
    "    # to cumulate returns.\n",
    "\n",
    "    # Resample data \n",
    "    # CRSP data has skipping months.\n",
    "    # Create line to missing  months to facilitate the calculation of lag/past returns\n",
    "    df.reset_index(inplace=True)\n",
    "    df['edate'] = df['date'] + MonthEnd(0)\n",
    "    df.sort_values(['permno', 'edate'], inplace=True)\n",
    "    pk_integrity(df, ['permno', 'edate'])\n",
    "    df.set_index(['edate'], inplace=True)\n",
    "    # Resample to take care of missing months\n",
    "    sdf = df[['permno', 'exret']].groupby('permno').resample('M').mean().drop(columns='permno')\n",
    "    sdf.reset_index(inplace=True)\n",
    "    print(\"Time to resample data: %s seconds\" % str(time.time() - start_time))\n",
    "    print(\"We have added %s rows to the data\" % str(sdf.shape[0] - df.shape[0]))\n",
    "\n",
    "    # Cumulative Return (adjusted) in tt months\n",
    "    sdf['gret'] = sdf['exret'].fillna(0)+1\n",
    "    sdf['ret_notnull'] = sdf['exret'].notnull()\n",
    "\n",
    "    cret = sdf.groupby(['permno']).gret.rolling(window=tt, min_periods=1).apply(np.prod, raw=True)\n",
    "    cret.reset_index(drop=True, inplace=True)\n",
    "\n",
    "    nona_count = sdf.groupby(['permno']).ret_notnull.rolling(window=tt, min_periods=1).apply(np.sum, raw=True)\n",
    "    nona_count.reset_index(drop=True, inplace=True)\n",
    "\n",
    "    cret[nona_count<min_periods] = np.nan\n",
    "    sdf['ret' + str(tt)] = cret\n",
    "\n",
    "    # Delete rows that were not in the original data set\n",
    "    df.reset_index(inplace=True)\n",
    "    fdata = pd.merge(df,\n",
    "             sdf[['edate', 'permno','ret' + str(tt)]],\n",
    "             on = ['edate', 'permno'])         \n",
    "    fdata.set_index(['permno','date'],inplace = True)\n",
    "    x = fdata['ret' + str(tt)]\n",
    "\n",
    "    print(\"Time to calculate %d months past returns: %s seconds\" % (tt, str(round(time.time() - start_time, 2))))\n",
    "\n",
    "    return x"
   ]
  },
  {
   "cell_type": "code",
   "execution_count": 21,
   "metadata": {
    "slideshow": {
     "slide_type": "subslide"
    }
   },
   "outputs": [
    {
     "ename": "KeyError",
     "evalue": "'date'",
     "output_type": "error",
     "traceback": [
      "\u001b[0;31m---------------------------------------------------------------------------\u001b[0m",
      "\u001b[0;31mKeyError\u001b[0m                                  Traceback (most recent call last)",
      "\u001b[0;32m/opt/anaconda3/envs/spyder-env/lib/python3.9/site-packages/pandas/core/indexes/base.py\u001b[0m in \u001b[0;36mget_loc\u001b[0;34m(self, key, method, tolerance)\u001b[0m\n\u001b[1;32m   3620\u001b[0m             \u001b[0;32mtry\u001b[0m\u001b[0;34m:\u001b[0m\u001b[0;34m\u001b[0m\u001b[0;34m\u001b[0m\u001b[0m\n\u001b[0;32m-> 3621\u001b[0;31m                 \u001b[0;32mreturn\u001b[0m \u001b[0mself\u001b[0m\u001b[0;34m.\u001b[0m\u001b[0m_engine\u001b[0m\u001b[0;34m.\u001b[0m\u001b[0mget_loc\u001b[0m\u001b[0;34m(\u001b[0m\u001b[0mcasted_key\u001b[0m\u001b[0;34m)\u001b[0m\u001b[0;34m\u001b[0m\u001b[0;34m\u001b[0m\u001b[0m\n\u001b[0m\u001b[1;32m   3622\u001b[0m             \u001b[0;32mexcept\u001b[0m \u001b[0mKeyError\u001b[0m \u001b[0;32mas\u001b[0m \u001b[0merr\u001b[0m\u001b[0;34m:\u001b[0m\u001b[0;34m\u001b[0m\u001b[0;34m\u001b[0m\u001b[0m\n",
      "\u001b[0;32m/opt/anaconda3/envs/spyder-env/lib/python3.9/site-packages/pandas/_libs/index.pyx\u001b[0m in \u001b[0;36mpandas._libs.index.IndexEngine.get_loc\u001b[0;34m()\u001b[0m\n",
      "\u001b[0;32m/opt/anaconda3/envs/spyder-env/lib/python3.9/site-packages/pandas/_libs/index.pyx\u001b[0m in \u001b[0;36mpandas._libs.index.IndexEngine.get_loc\u001b[0;34m()\u001b[0m\n",
      "\u001b[0;32mpandas/_libs/hashtable_class_helper.pxi\u001b[0m in \u001b[0;36mpandas._libs.hashtable.PyObjectHashTable.get_item\u001b[0;34m()\u001b[0m\n",
      "\u001b[0;32mpandas/_libs/hashtable_class_helper.pxi\u001b[0m in \u001b[0;36mpandas._libs.hashtable.PyObjectHashTable.get_item\u001b[0;34m()\u001b[0m\n",
      "\u001b[0;31mKeyError\u001b[0m: 'date'",
      "\nThe above exception was the direct cause of the following exception:\n",
      "\u001b[0;31mKeyError\u001b[0m                                  Traceback (most recent call last)",
      "\u001b[0;32m/var/folders/0d/y3j6q5wn2bbg73ntj4rlww480000gq/T/ipykernel_89248/2474378769.py\u001b[0m in \u001b[0;36m<cell line: 2>\u001b[0;34m()\u001b[0m\n\u001b[1;32m      1\u001b[0m \u001b[0;31m## Calculate 11 months returns\u001b[0m\u001b[0;34m\u001b[0m\u001b[0;34m\u001b[0m\u001b[0m\n\u001b[0;32m----> 2\u001b[0;31m \u001b[0mmdata\u001b[0m\u001b[0;34m[\u001b[0m\u001b[0;34m'ret11'\u001b[0m\u001b[0;34m]\u001b[0m \u001b[0;34m=\u001b[0m \u001b[0mcalculate_cumulative_returns\u001b[0m\u001b[0;34m(\u001b[0m\u001b[0mmdata\u001b[0m\u001b[0;34m,\u001b[0m \u001b[0;36m11\u001b[0m\u001b[0;34m,\u001b[0m \u001b[0;36m8\u001b[0m\u001b[0;34m)\u001b[0m\u001b[0;34m\u001b[0m\u001b[0;34m\u001b[0m\u001b[0m\n\u001b[0m",
      "\u001b[0;32m/var/folders/0d/y3j6q5wn2bbg73ntj4rlww480000gq/T/ipykernel_89248/1437633899.py\u001b[0m in \u001b[0;36mcalculate_cumulative_returns\u001b[0;34m(mdata, tt, min_periods)\u001b[0m\n\u001b[1;32m     27\u001b[0m     \u001b[0;31m# Create line to missing  months to facilitate the calculation of lag/past returns\u001b[0m\u001b[0;34m\u001b[0m\u001b[0;34m\u001b[0m\u001b[0m\n\u001b[1;32m     28\u001b[0m     \u001b[0mdf\u001b[0m\u001b[0;34m.\u001b[0m\u001b[0mreset_index\u001b[0m\u001b[0;34m(\u001b[0m\u001b[0minplace\u001b[0m\u001b[0;34m=\u001b[0m\u001b[0;32mTrue\u001b[0m\u001b[0;34m)\u001b[0m\u001b[0;34m\u001b[0m\u001b[0;34m\u001b[0m\u001b[0m\n\u001b[0;32m---> 29\u001b[0;31m     \u001b[0mdf\u001b[0m\u001b[0;34m[\u001b[0m\u001b[0;34m'edate'\u001b[0m\u001b[0;34m]\u001b[0m \u001b[0;34m=\u001b[0m \u001b[0mdf\u001b[0m\u001b[0;34m[\u001b[0m\u001b[0;34m'date'\u001b[0m\u001b[0;34m]\u001b[0m \u001b[0;34m+\u001b[0m \u001b[0mMonthEnd\u001b[0m\u001b[0;34m(\u001b[0m\u001b[0;36m0\u001b[0m\u001b[0;34m)\u001b[0m\u001b[0;34m\u001b[0m\u001b[0;34m\u001b[0m\u001b[0m\n\u001b[0m\u001b[1;32m     30\u001b[0m     \u001b[0mdf\u001b[0m\u001b[0;34m.\u001b[0m\u001b[0msort_values\u001b[0m\u001b[0;34m(\u001b[0m\u001b[0;34m[\u001b[0m\u001b[0;34m'permno'\u001b[0m\u001b[0;34m,\u001b[0m \u001b[0;34m'edate'\u001b[0m\u001b[0;34m]\u001b[0m\u001b[0;34m,\u001b[0m \u001b[0minplace\u001b[0m\u001b[0;34m=\u001b[0m\u001b[0;32mTrue\u001b[0m\u001b[0;34m)\u001b[0m\u001b[0;34m\u001b[0m\u001b[0;34m\u001b[0m\u001b[0m\n\u001b[1;32m     31\u001b[0m     \u001b[0mpk_integrity\u001b[0m\u001b[0;34m(\u001b[0m\u001b[0mdf\u001b[0m\u001b[0;34m,\u001b[0m \u001b[0;34m[\u001b[0m\u001b[0;34m'permno'\u001b[0m\u001b[0;34m,\u001b[0m \u001b[0;34m'edate'\u001b[0m\u001b[0;34m]\u001b[0m\u001b[0;34m)\u001b[0m\u001b[0;34m\u001b[0m\u001b[0;34m\u001b[0m\u001b[0m\n",
      "\u001b[0;32m/opt/anaconda3/envs/spyder-env/lib/python3.9/site-packages/pandas/core/frame.py\u001b[0m in \u001b[0;36m__getitem__\u001b[0;34m(self, key)\u001b[0m\n\u001b[1;32m   3503\u001b[0m             \u001b[0;32mif\u001b[0m \u001b[0mself\u001b[0m\u001b[0;34m.\u001b[0m\u001b[0mcolumns\u001b[0m\u001b[0;34m.\u001b[0m\u001b[0mnlevels\u001b[0m \u001b[0;34m>\u001b[0m \u001b[0;36m1\u001b[0m\u001b[0;34m:\u001b[0m\u001b[0;34m\u001b[0m\u001b[0;34m\u001b[0m\u001b[0m\n\u001b[1;32m   3504\u001b[0m                 \u001b[0;32mreturn\u001b[0m \u001b[0mself\u001b[0m\u001b[0;34m.\u001b[0m\u001b[0m_getitem_multilevel\u001b[0m\u001b[0;34m(\u001b[0m\u001b[0mkey\u001b[0m\u001b[0;34m)\u001b[0m\u001b[0;34m\u001b[0m\u001b[0;34m\u001b[0m\u001b[0m\n\u001b[0;32m-> 3505\u001b[0;31m             \u001b[0mindexer\u001b[0m \u001b[0;34m=\u001b[0m \u001b[0mself\u001b[0m\u001b[0;34m.\u001b[0m\u001b[0mcolumns\u001b[0m\u001b[0;34m.\u001b[0m\u001b[0mget_loc\u001b[0m\u001b[0;34m(\u001b[0m\u001b[0mkey\u001b[0m\u001b[0;34m)\u001b[0m\u001b[0;34m\u001b[0m\u001b[0;34m\u001b[0m\u001b[0m\n\u001b[0m\u001b[1;32m   3506\u001b[0m             \u001b[0;32mif\u001b[0m \u001b[0mis_integer\u001b[0m\u001b[0;34m(\u001b[0m\u001b[0mindexer\u001b[0m\u001b[0;34m)\u001b[0m\u001b[0;34m:\u001b[0m\u001b[0;34m\u001b[0m\u001b[0;34m\u001b[0m\u001b[0m\n\u001b[1;32m   3507\u001b[0m                 \u001b[0mindexer\u001b[0m \u001b[0;34m=\u001b[0m \u001b[0;34m[\u001b[0m\u001b[0mindexer\u001b[0m\u001b[0;34m]\u001b[0m\u001b[0;34m\u001b[0m\u001b[0;34m\u001b[0m\u001b[0m\n",
      "\u001b[0;32m/opt/anaconda3/envs/spyder-env/lib/python3.9/site-packages/pandas/core/indexes/base.py\u001b[0m in \u001b[0;36mget_loc\u001b[0;34m(self, key, method, tolerance)\u001b[0m\n\u001b[1;32m   3621\u001b[0m                 \u001b[0;32mreturn\u001b[0m \u001b[0mself\u001b[0m\u001b[0;34m.\u001b[0m\u001b[0m_engine\u001b[0m\u001b[0;34m.\u001b[0m\u001b[0mget_loc\u001b[0m\u001b[0;34m(\u001b[0m\u001b[0mcasted_key\u001b[0m\u001b[0;34m)\u001b[0m\u001b[0;34m\u001b[0m\u001b[0;34m\u001b[0m\u001b[0m\n\u001b[1;32m   3622\u001b[0m             \u001b[0;32mexcept\u001b[0m \u001b[0mKeyError\u001b[0m \u001b[0;32mas\u001b[0m \u001b[0merr\u001b[0m\u001b[0;34m:\u001b[0m\u001b[0;34m\u001b[0m\u001b[0;34m\u001b[0m\u001b[0m\n\u001b[0;32m-> 3623\u001b[0;31m                 \u001b[0;32mraise\u001b[0m \u001b[0mKeyError\u001b[0m\u001b[0;34m(\u001b[0m\u001b[0mkey\u001b[0m\u001b[0;34m)\u001b[0m \u001b[0;32mfrom\u001b[0m \u001b[0merr\u001b[0m\u001b[0;34m\u001b[0m\u001b[0;34m\u001b[0m\u001b[0m\n\u001b[0m\u001b[1;32m   3624\u001b[0m             \u001b[0;32mexcept\u001b[0m \u001b[0mTypeError\u001b[0m\u001b[0;34m:\u001b[0m\u001b[0;34m\u001b[0m\u001b[0;34m\u001b[0m\u001b[0m\n\u001b[1;32m   3625\u001b[0m                 \u001b[0;31m# If we have a listlike key, _check_indexing_error will raise\u001b[0m\u001b[0;34m\u001b[0m\u001b[0;34m\u001b[0m\u001b[0m\n",
      "\u001b[0;31mKeyError\u001b[0m: 'date'"
     ]
    }
   ],
   "source": [
    "## Calculate 11 months returns\n",
    "mdata['ret11'] = calculate_cumulative_returns(mdata, 11, 8)"
   ]
  },
  {
   "cell_type": "code",
   "execution_count": 22,
   "metadata": {
    "slideshow": {
     "slide_type": "subslide"
    }
   },
   "outputs": [],
   "source": [
    "mdata.set_index(['permno','date'], inplace=True)"
   ]
  },
  {
   "cell_type": "code",
   "execution_count": 23,
   "metadata": {
    "slideshow": {
     "slide_type": "fragment"
    }
   },
   "outputs": [
    {
     "name": "stdout",
     "output_type": "stream",
     "text": [
      "Time to resample data: 45.60673999786377 seconds\n",
      "We have added 69673 rows to the data\n",
      "Time to calculate 11 months past returns: 67.36 seconds\n"
     ]
    }
   ],
   "source": [
    "## Calculate 11 months returns\n",
    "mdata['ret11'] = calculate_cumulative_returns(mdata, 11, 8)"
   ]
  },
  {
   "cell_type": "code",
   "execution_count": 24,
   "metadata": {
    "slideshow": {
     "slide_type": "fragment"
    }
   },
   "outputs": [],
   "source": [
    "# Make it investable\n",
    "mdata['ret11_1'] = mdata.groupby('permno').ret11.shift(1)"
   ]
  },
  {
   "cell_type": "code",
   "execution_count": 25,
   "metadata": {
    "slideshow": {
     "slide_type": "fragment"
    }
   },
   "outputs": [],
   "source": [
    "mdata.loc[(mdata.date_diff.dt.days>40), 'ret11_1'] = np.nan"
   ]
  },
  {
   "cell_type": "code",
   "execution_count": 26,
   "metadata": {
    "slideshow": {
     "slide_type": "subslide"
    }
   },
   "outputs": [],
   "source": [
    "## Skip a month\n",
    "mdata['ret11_2'] = mdata.groupby('permno').ret11_1.shift(1)"
   ]
  },
  {
   "cell_type": "code",
   "execution_count": 27,
   "metadata": {
    "slideshow": {
     "slide_type": "fragment"
    }
   },
   "outputs": [],
   "source": [
    "mdata.loc[(mdata.date_diff.dt.days>40), 'ret11_2'] = np.nan"
   ]
  },
  {
   "cell_type": "code",
   "execution_count": 28,
   "metadata": {
    "slideshow": {
     "slide_type": "fragment"
    }
   },
   "outputs": [],
   "source": [
    "mdata.reset_index(inplace=True)"
   ]
  },
  {
   "cell_type": "markdown",
   "metadata": {
    "slideshow": {
     "slide_type": "subslide"
    }
   },
   "source": [
    "### Delete missing returns"
   ]
  },
  {
   "cell_type": "code",
   "execution_count": 29,
   "metadata": {
    "slideshow": {
     "slide_type": "fragment"
    }
   },
   "outputs": [],
   "source": [
    "mdata = mdata[mdata['exret'].notnull()]"
   ]
  },
  {
   "cell_type": "markdown",
   "metadata": {
    "slideshow": {
     "slide_type": "subslide"
    }
   },
   "source": [
    "### Delete missing characteristics"
   ]
  },
  {
   "cell_type": "code",
   "execution_count": 30,
   "metadata": {
    "slideshow": {
     "slide_type": "fragment"
    }
   },
   "outputs": [],
   "source": [
    "mdata = mdata[mdata.ret11_1.notnull()]\n",
    "mdata = mdata[mdata.ret11_2.notnull()]\n",
    "mdata = mdata[mdata.ret1.notnull()]"
   ]
  },
  {
   "cell_type": "markdown",
   "metadata": {
    "slideshow": {
     "slide_type": "slide"
    }
   },
   "source": [
    "## Data Summary"
   ]
  },
  {
   "cell_type": "code",
   "execution_count": 31,
   "metadata": {
    "slideshow": {
     "slide_type": "subslide"
    }
   },
   "outputs": [
    {
     "data": {
      "text/html": [
       "<div>\n",
       "<style scoped>\n",
       "    .dataframe tbody tr th:only-of-type {\n",
       "        vertical-align: middle;\n",
       "    }\n",
       "\n",
       "    .dataframe tbody tr th {\n",
       "        vertical-align: top;\n",
       "    }\n",
       "\n",
       "    .dataframe thead th {\n",
       "        text-align: right;\n",
       "    }\n",
       "</style>\n",
       "<table border=\"1\" class=\"dataframe\">\n",
       "  <thead>\n",
       "    <tr style=\"text-align: right;\">\n",
       "      <th></th>\n",
       "      <th>exret</th>\n",
       "      <th>ret1</th>\n",
       "      <th>ret11_1</th>\n",
       "      <th>ret11_2</th>\n",
       "    </tr>\n",
       "  </thead>\n",
       "  <tbody>\n",
       "    <tr>\n",
       "      <th>count</th>\n",
       "      <td>2.888987e+06</td>\n",
       "      <td>2.888987e+06</td>\n",
       "      <td>2.888987e+06</td>\n",
       "      <td>2.888987e+06</td>\n",
       "    </tr>\n",
       "    <tr>\n",
       "      <th>mean</th>\n",
       "      <td>7.632250e-03</td>\n",
       "      <td>8.410397e-03</td>\n",
       "      <td>1.089591e+00</td>\n",
       "      <td>1.089427e+00</td>\n",
       "    </tr>\n",
       "    <tr>\n",
       "      <th>std</th>\n",
       "      <td>1.863732e-01</td>\n",
       "      <td>1.845461e-01</td>\n",
       "      <td>7.258576e-01</td>\n",
       "      <td>7.243004e-01</td>\n",
       "    </tr>\n",
       "    <tr>\n",
       "      <th>min</th>\n",
       "      <td>-1.014149e+00</td>\n",
       "      <td>-9.951580e-01</td>\n",
       "      <td>3.672953e-06</td>\n",
       "      <td>3.672953e-06</td>\n",
       "    </tr>\n",
       "    <tr>\n",
       "      <th>25%</th>\n",
       "      <td>-7.084964e-02</td>\n",
       "      <td>-7.073853e-02</td>\n",
       "      <td>7.447823e-01</td>\n",
       "      <td>7.451084e-01</td>\n",
       "    </tr>\n",
       "    <tr>\n",
       "      <th>50%</th>\n",
       "      <td>-3.795966e-03</td>\n",
       "      <td>-3.794511e-03</td>\n",
       "      <td>1.003430e+00</td>\n",
       "      <td>1.002655e+00</td>\n",
       "    </tr>\n",
       "    <tr>\n",
       "      <th>75%</th>\n",
       "      <td>6.841427e-02</td>\n",
       "      <td>6.895160e-02</td>\n",
       "      <td>1.278442e+00</td>\n",
       "      <td>1.277012e+00</td>\n",
       "    </tr>\n",
       "    <tr>\n",
       "      <th>max</th>\n",
       "      <td>2.399694e+01</td>\n",
       "      <td>2.399694e+01</td>\n",
       "      <td>1.066553e+02</td>\n",
       "      <td>1.066553e+02</td>\n",
       "    </tr>\n",
       "  </tbody>\n",
       "</table>\n",
       "</div>"
      ],
      "text/plain": [
       "              exret          ret1       ret11_1       ret11_2\n",
       "count  2.888987e+06  2.888987e+06  2.888987e+06  2.888987e+06\n",
       "mean   7.632250e-03  8.410397e-03  1.089591e+00  1.089427e+00\n",
       "std    1.863732e-01  1.845461e-01  7.258576e-01  7.243004e-01\n",
       "min   -1.014149e+00 -9.951580e-01  3.672953e-06  3.672953e-06\n",
       "25%   -7.084964e-02 -7.073853e-02  7.447823e-01  7.451084e-01\n",
       "50%   -3.795966e-03 -3.794511e-03  1.003430e+00  1.002655e+00\n",
       "75%    6.841427e-02  6.895160e-02  1.278442e+00  1.277012e+00\n",
       "max    2.399694e+01  2.399694e+01  1.066553e+02  1.066553e+02"
      ]
     },
     "execution_count": 31,
     "metadata": {},
     "output_type": "execute_result"
    }
   ],
   "source": [
    "mdata[['exret', 'ret1', 'ret11_1', 'ret11_2']].describe()"
   ]
  },
  {
   "cell_type": "markdown",
   "metadata": {
    "slideshow": {
     "slide_type": "slide"
    }
   },
   "source": [
    "## Forcasting Future Excess Returns"
   ]
  },
  {
   "cell_type": "code",
   "execution_count": 32,
   "metadata": {
    "slideshow": {
     "slide_type": "subslide"
    }
   },
   "outputs": [],
   "source": [
    "# FamaMacBeth regression\n",
    "def ols_coef(x,formula):\n",
    "    return smf.ols(formula,data=x).fit().params\n",
    "\n",
    "def fm_summary(p):\n",
    "    s = p.describe().T\n",
    "    s['std_error'] = s['std']/np.sqrt(s['count'])\n",
    "    s['tstat'] = s['mean']/s['std_error']\n",
    "    return s[['mean','std_error','tstat']]"
   ]
  },
  {
   "cell_type": "code",
   "execution_count": 33,
   "metadata": {
    "slideshow": {
     "slide_type": "subslide"
    }
   },
   "outputs": [
    {
     "data": {
      "text/html": [
       "<div>\n",
       "<style scoped>\n",
       "    .dataframe tbody tr th:only-of-type {\n",
       "        vertical-align: middle;\n",
       "    }\n",
       "\n",
       "    .dataframe tbody tr th {\n",
       "        vertical-align: top;\n",
       "    }\n",
       "\n",
       "    .dataframe thead th {\n",
       "        text-align: right;\n",
       "    }\n",
       "</style>\n",
       "<table border=\"1\" class=\"dataframe\">\n",
       "  <thead>\n",
       "    <tr style=\"text-align: right;\">\n",
       "      <th></th>\n",
       "      <th>Intercept</th>\n",
       "      <th>ret11_1</th>\n",
       "    </tr>\n",
       "    <tr>\n",
       "      <th>date</th>\n",
       "      <th></th>\n",
       "      <th></th>\n",
       "    </tr>\n",
       "  </thead>\n",
       "  <tbody>\n",
       "    <tr>\n",
       "      <th>1970-10-30</th>\n",
       "      <td>-0.188809</td>\n",
       "      <td>0.152010</td>\n",
       "    </tr>\n",
       "    <tr>\n",
       "      <th>1970-11-30</th>\n",
       "      <td>-0.065803</td>\n",
       "      <td>0.084473</td>\n",
       "    </tr>\n",
       "    <tr>\n",
       "      <th>1970-12-31</th>\n",
       "      <td>0.086035</td>\n",
       "      <td>-0.009531</td>\n",
       "    </tr>\n",
       "    <tr>\n",
       "      <th>1971-01-29</th>\n",
       "      <td>0.292164</td>\n",
       "      <td>-0.180847</td>\n",
       "    </tr>\n",
       "    <tr>\n",
       "      <th>1971-02-26</th>\n",
       "      <td>0.086903</td>\n",
       "      <td>-0.045724</td>\n",
       "    </tr>\n",
       "  </tbody>\n",
       "</table>\n",
       "</div>"
      ],
      "text/plain": [
       "            Intercept   ret11_1\n",
       "date                           \n",
       "1970-10-30  -0.188809  0.152010\n",
       "1970-11-30  -0.065803  0.084473\n",
       "1970-12-31   0.086035 -0.009531\n",
       "1971-01-29   0.292164 -0.180847\n",
       "1971-02-26   0.086903 -0.045724"
      ]
     },
     "execution_count": 33,
     "metadata": {},
     "output_type": "execute_result"
    }
   ],
   "source": [
    "### Does ret_11_1 forcast future returns?\n",
    "gamma_mom = (mdata[mdata.exret.notnull()].groupby('date')\n",
    "                .apply(ols_coef,'exret ~ 1 + ret11_1'))\n",
    "gamma_mom.head()"
   ]
  },
  {
   "cell_type": "code",
   "execution_count": 34,
   "metadata": {
    "slideshow": {
     "slide_type": "fragment"
    }
   },
   "outputs": [
    {
     "data": {
      "text/plain": [
       "<AxesSubplot:xlabel='date'>"
      ]
     },
     "execution_count": 34,
     "metadata": {},
     "output_type": "execute_result"
    },
    {
     "data": {
      "image/png": "[encoded data removed]",
      "text/plain": [
       "<Figure size 720x432 with 1 Axes>"
      ]
     },
     "metadata": {
      "needs_background": "light"
     },
     "output_type": "display_data"
    }
   ],
   "source": [
    "gamma_mom.ret11_1.plot()"
   ]
  },
  {
   "cell_type": "code",
   "execution_count": 35,
   "metadata": {
    "slideshow": {
     "slide_type": "subslide"
    }
   },
   "outputs": [
    {
     "data": {
      "text/html": [
       "<div>\n",
       "<style scoped>\n",
       "    .dataframe tbody tr th:only-of-type {\n",
       "        vertical-align: middle;\n",
       "    }\n",
       "\n",
       "    .dataframe tbody tr th {\n",
       "        vertical-align: top;\n",
       "    }\n",
       "\n",
       "    .dataframe thead th {\n",
       "        text-align: right;\n",
       "    }\n",
       "</style>\n",
       "<table border=\"1\" class=\"dataframe\">\n",
       "  <thead>\n",
       "    <tr style=\"text-align: right;\">\n",
       "      <th></th>\n",
       "      <th>mean</th>\n",
       "      <th>std_error</th>\n",
       "      <th>tstat</th>\n",
       "    </tr>\n",
       "  </thead>\n",
       "  <tbody>\n",
       "    <tr>\n",
       "      <th>Intercept</th>\n",
       "      <td>0.004814</td>\n",
       "      <td>0.003276</td>\n",
       "      <td>1.469384</td>\n",
       "    </tr>\n",
       "    <tr>\n",
       "      <th>ret11_1</th>\n",
       "      <td>0.001997</td>\n",
       "      <td>0.001831</td>\n",
       "      <td>1.090414</td>\n",
       "    </tr>\n",
       "  </tbody>\n",
       "</table>\n",
       "</div>"
      ],
      "text/plain": [
       "               mean  std_error     tstat\n",
       "Intercept  0.004814   0.003276  1.469384\n",
       "ret11_1    0.001997   0.001831  1.090414"
      ]
     },
     "execution_count": 35,
     "metadata": {},
     "output_type": "execute_result"
    }
   ],
   "source": [
    "# Fama-Macbeth regressions results\n",
    "fm_summary(gamma_mom)"
   ]
  },
  {
   "cell_type": "markdown",
   "metadata": {
    "slideshow": {
     "slide_type": "subslide"
    }
   },
   "source": [
    "### Does ret1 forcast future returns?"
   ]
  },
  {
   "cell_type": "code",
   "execution_count": 36,
   "metadata": {
    "slideshow": {
     "slide_type": "fragment"
    }
   },
   "outputs": [
    {
     "data": {
      "text/html": [
       "<div>\n",
       "<style scoped>\n",
       "    .dataframe tbody tr th:only-of-type {\n",
       "        vertical-align: middle;\n",
       "    }\n",
       "\n",
       "    .dataframe tbody tr th {\n",
       "        vertical-align: top;\n",
       "    }\n",
       "\n",
       "    .dataframe thead th {\n",
       "        text-align: right;\n",
       "    }\n",
       "</style>\n",
       "<table border=\"1\" class=\"dataframe\">\n",
       "  <thead>\n",
       "    <tr style=\"text-align: right;\">\n",
       "      <th></th>\n",
       "      <th>Intercept</th>\n",
       "      <th>ret1</th>\n",
       "    </tr>\n",
       "    <tr>\n",
       "      <th>date</th>\n",
       "      <th></th>\n",
       "      <th></th>\n",
       "    </tr>\n",
       "  </thead>\n",
       "  <tbody>\n",
       "    <tr>\n",
       "      <th>1970-10-30</th>\n",
       "      <td>-0.033043</td>\n",
       "      <td>-0.258334</td>\n",
       "    </tr>\n",
       "    <tr>\n",
       "      <th>1970-11-30</th>\n",
       "      <td>0.006658</td>\n",
       "      <td>0.114236</td>\n",
       "    </tr>\n",
       "    <tr>\n",
       "      <th>1970-12-31</th>\n",
       "      <td>0.078616</td>\n",
       "      <td>-0.030629</td>\n",
       "    </tr>\n",
       "    <tr>\n",
       "      <th>1971-01-29</th>\n",
       "      <td>0.152078</td>\n",
       "      <td>-0.231514</td>\n",
       "    </tr>\n",
       "    <tr>\n",
       "      <th>1971-02-26</th>\n",
       "      <td>0.043502</td>\n",
       "      <td>0.002026</td>\n",
       "    </tr>\n",
       "  </tbody>\n",
       "</table>\n",
       "</div>"
      ],
      "text/plain": [
       "            Intercept      ret1\n",
       "date                           \n",
       "1970-10-30  -0.033043 -0.258334\n",
       "1970-11-30   0.006658  0.114236\n",
       "1970-12-31   0.078616 -0.030629\n",
       "1971-01-29   0.152078 -0.231514\n",
       "1971-02-26   0.043502  0.002026"
      ]
     },
     "execution_count": 36,
     "metadata": {},
     "output_type": "execute_result"
    }
   ],
   "source": [
    "gamma_rev = (mdata[mdata.exret.notnull()].groupby('date')\n",
    "                .apply(ols_coef,'exret ~ 1 + ret1'))\n",
    "gamma_rev.head()"
   ]
  },
  {
   "cell_type": "code",
   "execution_count": 37,
   "metadata": {
    "slideshow": {
     "slide_type": "fragment"
    }
   },
   "outputs": [
    {
     "data": {
      "text/html": [
       "<div>\n",
       "<style scoped>\n",
       "    .dataframe tbody tr th:only-of-type {\n",
       "        vertical-align: middle;\n",
       "    }\n",
       "\n",
       "    .dataframe tbody tr th {\n",
       "        vertical-align: top;\n",
       "    }\n",
       "\n",
       "    .dataframe thead th {\n",
       "        text-align: right;\n",
       "    }\n",
       "</style>\n",
       "<table border=\"1\" class=\"dataframe\">\n",
       "  <thead>\n",
       "    <tr style=\"text-align: right;\">\n",
       "      <th></th>\n",
       "      <th>mean</th>\n",
       "      <th>std_error</th>\n",
       "      <th>tstat</th>\n",
       "    </tr>\n",
       "  </thead>\n",
       "  <tbody>\n",
       "    <tr>\n",
       "      <th>Intercept</th>\n",
       "      <td>0.007489</td>\n",
       "      <td>0.002302</td>\n",
       "      <td>3.254085</td>\n",
       "    </tr>\n",
       "    <tr>\n",
       "      <th>ret1</th>\n",
       "      <td>-0.040750</td>\n",
       "      <td>0.004138</td>\n",
       "      <td>-9.847408</td>\n",
       "    </tr>\n",
       "  </tbody>\n",
       "</table>\n",
       "</div>"
      ],
      "text/plain": [
       "               mean  std_error     tstat\n",
       "Intercept  0.007489   0.002302  3.254085\n",
       "ret1      -0.040750   0.004138 -9.847408"
      ]
     },
     "execution_count": 37,
     "metadata": {},
     "output_type": "execute_result"
    }
   ],
   "source": [
    "# Fama-Macbeth regressions results\n",
    "fm_summary(gamma_rev) "
   ]
  },
  {
   "cell_type": "markdown",
   "metadata": {
    "slideshow": {
     "slide_type": "subslide"
    }
   },
   "source": [
    "### Does ret11 forcast future returns?"
   ]
  },
  {
   "cell_type": "code",
   "execution_count": 38,
   "metadata": {
    "slideshow": {
     "slide_type": "fragment"
    }
   },
   "outputs": [
    {
     "data": {
      "text/html": [
       "<div>\n",
       "<style scoped>\n",
       "    .dataframe tbody tr th:only-of-type {\n",
       "        vertical-align: middle;\n",
       "    }\n",
       "\n",
       "    .dataframe tbody tr th {\n",
       "        vertical-align: top;\n",
       "    }\n",
       "\n",
       "    .dataframe thead th {\n",
       "        text-align: right;\n",
       "    }\n",
       "</style>\n",
       "<table border=\"1\" class=\"dataframe\">\n",
       "  <thead>\n",
       "    <tr style=\"text-align: right;\">\n",
       "      <th></th>\n",
       "      <th>Intercept</th>\n",
       "      <th>ret11_2</th>\n",
       "    </tr>\n",
       "    <tr>\n",
       "      <th>date</th>\n",
       "      <th></th>\n",
       "      <th></th>\n",
       "    </tr>\n",
       "  </thead>\n",
       "  <tbody>\n",
       "    <tr>\n",
       "      <th>1970-10-30</th>\n",
       "      <td>-0.207653</td>\n",
       "      <td>0.192657</td>\n",
       "    </tr>\n",
       "    <tr>\n",
       "      <th>1970-11-30</th>\n",
       "      <td>-0.074125</td>\n",
       "      <td>0.090033</td>\n",
       "    </tr>\n",
       "    <tr>\n",
       "      <th>1970-12-31</th>\n",
       "      <td>0.084399</td>\n",
       "      <td>-0.007466</td>\n",
       "    </tr>\n",
       "    <tr>\n",
       "      <th>1971-01-29</th>\n",
       "      <td>0.268664</td>\n",
       "      <td>-0.174306</td>\n",
       "    </tr>\n",
       "    <tr>\n",
       "      <th>1971-02-26</th>\n",
       "      <td>0.088120</td>\n",
       "      <td>-0.050674</td>\n",
       "    </tr>\n",
       "  </tbody>\n",
       "</table>\n",
       "</div>"
      ],
      "text/plain": [
       "            Intercept   ret11_2\n",
       "date                           \n",
       "1970-10-30  -0.207653  0.192657\n",
       "1970-11-30  -0.074125  0.090033\n",
       "1970-12-31   0.084399 -0.007466\n",
       "1971-01-29   0.268664 -0.174306\n",
       "1971-02-26   0.088120 -0.050674"
      ]
     },
     "execution_count": 38,
     "metadata": {},
     "output_type": "execute_result"
    }
   ],
   "source": [
    "gamma_mom2 = (mdata[mdata.exret.notnull()].groupby('date')\n",
    "                .apply(ols_coef,'exret ~ 1 + ret11_2'))\n",
    "gamma_mom2.head()"
   ]
  },
  {
   "cell_type": "code",
   "execution_count": 39,
   "metadata": {
    "slideshow": {
     "slide_type": "fragment"
    }
   },
   "outputs": [
    {
     "data": {
      "text/html": [
       "<div>\n",
       "<style scoped>\n",
       "    .dataframe tbody tr th:only-of-type {\n",
       "        vertical-align: middle;\n",
       "    }\n",
       "\n",
       "    .dataframe tbody tr th {\n",
       "        vertical-align: top;\n",
       "    }\n",
       "\n",
       "    .dataframe thead th {\n",
       "        text-align: right;\n",
       "    }\n",
       "</style>\n",
       "<table border=\"1\" class=\"dataframe\">\n",
       "  <thead>\n",
       "    <tr style=\"text-align: right;\">\n",
       "      <th></th>\n",
       "      <th>mean</th>\n",
       "      <th>std_error</th>\n",
       "      <th>tstat</th>\n",
       "    </tr>\n",
       "  </thead>\n",
       "  <tbody>\n",
       "    <tr>\n",
       "      <th>Intercept</th>\n",
       "      <td>0.001518</td>\n",
       "      <td>0.003115</td>\n",
       "      <td>0.487374</td>\n",
       "    </tr>\n",
       "    <tr>\n",
       "      <th>ret11_2</th>\n",
       "      <td>0.005545</td>\n",
       "      <td>0.001644</td>\n",
       "      <td>3.373326</td>\n",
       "    </tr>\n",
       "  </tbody>\n",
       "</table>\n",
       "</div>"
      ],
      "text/plain": [
       "               mean  std_error     tstat\n",
       "Intercept  0.001518   0.003115  0.487374\n",
       "ret11_2    0.005545   0.001644  3.373326"
      ]
     },
     "execution_count": 39,
     "metadata": {},
     "output_type": "execute_result"
    }
   ],
   "source": [
    "# Fama-Macbeth regressions results\n",
    "fm_summary(gamma_mom2)"
   ]
  },
  {
   "cell_type": "markdown",
   "metadata": {
    "slideshow": {
     "slide_type": "subslide"
    }
   },
   "source": [
    "### Do ret11_1 and ret1 forcast future returns?"
   ]
  },
  {
   "cell_type": "code",
   "execution_count": 40,
   "metadata": {
    "slideshow": {
     "slide_type": "fragment"
    }
   },
   "outputs": [
    {
     "data": {
      "text/html": [
       "<div>\n",
       "<style scoped>\n",
       "    .dataframe tbody tr th:only-of-type {\n",
       "        vertical-align: middle;\n",
       "    }\n",
       "\n",
       "    .dataframe tbody tr th {\n",
       "        vertical-align: top;\n",
       "    }\n",
       "\n",
       "    .dataframe thead th {\n",
       "        text-align: right;\n",
       "    }\n",
       "</style>\n",
       "<table border=\"1\" class=\"dataframe\">\n",
       "  <thead>\n",
       "    <tr style=\"text-align: right;\">\n",
       "      <th></th>\n",
       "      <th>mean</th>\n",
       "      <th>std_error</th>\n",
       "      <th>tstat</th>\n",
       "    </tr>\n",
       "  </thead>\n",
       "  <tbody>\n",
       "    <tr>\n",
       "      <th>Intercept</th>\n",
       "      <td>0.000191</td>\n",
       "      <td>0.003065</td>\n",
       "      <td>0.062393</td>\n",
       "    </tr>\n",
       "    <tr>\n",
       "      <th>ret11_1</th>\n",
       "      <td>0.006597</td>\n",
       "      <td>0.001641</td>\n",
       "      <td>4.019036</td>\n",
       "    </tr>\n",
       "    <tr>\n",
       "      <th>ret1</th>\n",
       "      <td>-0.048151</td>\n",
       "      <td>0.003585</td>\n",
       "      <td>-13.430127</td>\n",
       "    </tr>\n",
       "  </tbody>\n",
       "</table>\n",
       "</div>"
      ],
      "text/plain": [
       "               mean  std_error      tstat\n",
       "Intercept  0.000191   0.003065   0.062393\n",
       "ret11_1    0.006597   0.001641   4.019036\n",
       "ret1      -0.048151   0.003585 -13.430127"
      ]
     },
     "execution_count": 40,
     "metadata": {},
     "output_type": "execute_result"
    }
   ],
   "source": [
    "# Fama-Macbeth regressions results\n",
    "gamma = (mdata[mdata.exret.notnull()].groupby('date')\n",
    "                .apply(ols_coef,'exret ~ 1 + ret11_1 + ret1'))\n",
    "fm_summary(gamma)"
   ]
  },
  {
   "cell_type": "markdown",
   "metadata": {
    "slideshow": {
     "slide_type": "subslide"
    }
   },
   "source": [
    "### Do ret11_2 and ret1 forcast future returns?"
   ]
  },
  {
   "cell_type": "code",
   "execution_count": 41,
   "metadata": {
    "slideshow": {
     "slide_type": "fragment"
    }
   },
   "outputs": [
    {
     "data": {
      "text/html": [
       "<div>\n",
       "<style scoped>\n",
       "    .dataframe tbody tr th:only-of-type {\n",
       "        vertical-align: middle;\n",
       "    }\n",
       "\n",
       "    .dataframe tbody tr th {\n",
       "        vertical-align: top;\n",
       "    }\n",
       "\n",
       "    .dataframe thead th {\n",
       "        text-align: right;\n",
       "    }\n",
       "</style>\n",
       "<table border=\"1\" class=\"dataframe\">\n",
       "  <thead>\n",
       "    <tr style=\"text-align: right;\">\n",
       "      <th></th>\n",
       "      <th>mean</th>\n",
       "      <th>std_error</th>\n",
       "      <th>tstat</th>\n",
       "    </tr>\n",
       "  </thead>\n",
       "  <tbody>\n",
       "    <tr>\n",
       "      <th>Intercept</th>\n",
       "      <td>0.001235</td>\n",
       "      <td>0.003008</td>\n",
       "      <td>0.410613</td>\n",
       "    </tr>\n",
       "    <tr>\n",
       "      <th>ret11_2</th>\n",
       "      <td>0.005566</td>\n",
       "      <td>0.001574</td>\n",
       "      <td>3.535359</td>\n",
       "    </tr>\n",
       "    <tr>\n",
       "      <th>ret1</th>\n",
       "      <td>-0.041921</td>\n",
       "      <td>0.003904</td>\n",
       "      <td>-10.738529</td>\n",
       "    </tr>\n",
       "  </tbody>\n",
       "</table>\n",
       "</div>"
      ],
      "text/plain": [
       "               mean  std_error      tstat\n",
       "Intercept  0.001235   0.003008   0.410613\n",
       "ret11_2    0.005566   0.001574   3.535359\n",
       "ret1      -0.041921   0.003904 -10.738529"
      ]
     },
     "execution_count": 41,
     "metadata": {},
     "output_type": "execute_result"
    }
   ],
   "source": [
    "# Fama-Macbeth regressions results\n",
    "gamma = (mdata[mdata.exret.notnull()].groupby('date')\n",
    "                .apply(ols_coef,'exret ~ 1 + ret11_2 + ret1'))\n",
    "fm_summary(gamma)"
   ]
  },
  {
   "cell_type": "markdown",
   "metadata": {
    "slideshow": {
     "slide_type": "slide"
    }
   },
   "source": [
    "## Long-short portfolio"
   ]
  },
  {
   "cell_type": "markdown",
   "metadata": {
    "slideshow": {
     "slide_type": "subslide"
    }
   },
   "source": [
    "### Sort Portfolio"
   ]
  },
  {
   "cell_type": "code",
   "execution_count": 42,
   "metadata": {
    "slideshow": {
     "slide_type": "fragment"
    }
   },
   "outputs": [],
   "source": [
    "mdata['mesum'] = mdata.groupby(['date', 'permco']).me.transform(np.sum, min_count=1)"
   ]
  },
  {
   "cell_type": "code",
   "execution_count": 43,
   "metadata": {
    "slideshow": {
     "slide_type": "fragment"
    }
   },
   "outputs": [],
   "source": [
    "mdata = mdata[mdata.mesum.notnull()]"
   ]
  },
  {
   "cell_type": "code",
   "execution_count": 44,
   "metadata": {
    "slideshow": {
     "slide_type": "fragment"
    }
   },
   "outputs": [],
   "source": [
    "mdata.reset_index(inplace=True)"
   ]
  },
  {
   "cell_type": "code",
   "execution_count": 45,
   "metadata": {
    "slideshow": {
     "slide_type": "fragment"
    }
   },
   "outputs": [
    {
     "name": "stdout",
     "output_type": "stream",
     "text": [
      "NYSE breakpoints were calculated for mesum.\n",
      "Stocks were sorted according to breakpoints, starting in 1970-10-30 00:00:00\n",
      "NYSE breakpoints were calculated for ret11_2.\n",
      "Stocks were sorted according to breakpoints, starting in 1970-10-30 00:00:00\n",
      "NYSE breakpoints were calculated for ret11_1.\n",
      "Stocks were sorted according to breakpoints, starting in 1970-10-30 00:00:00\n",
      "NYSE breakpoints were calculated for ret1.\n",
      "Stocks were sorted according to breakpoints, starting in 1970-10-30 00:00:00\n"
     ]
    }
   ],
   "source": [
    "port = sort_portfolios(data = mdata,\n",
    "                       quantiles={'mesum': [0.5],\n",
    "                                  'ret11_2': [0.3, 0.7],\n",
    "                                  'ret11_1': [0.3, 0.7],\n",
    "                                  'ret1': [0.3, 0.7]},\n",
    "                       id_variables=['date', 'permno', 'exchcd'],\n",
    "                       exch_cd=[1])"
   ]
  },
  {
   "cell_type": "markdown",
   "metadata": {
    "slideshow": {
     "slide_type": "subslide"
    }
   },
   "source": [
    "Look at the data."
   ]
  },
  {
   "cell_type": "code",
   "execution_count": 46,
   "metadata": {
    "slideshow": {
     "slide_type": "fragment"
    }
   },
   "outputs": [
    {
     "data": {
      "text/html": [
       "<div>\n",
       "<style scoped>\n",
       "    .dataframe tbody tr th:only-of-type {\n",
       "        vertical-align: middle;\n",
       "    }\n",
       "\n",
       "    .dataframe tbody tr th {\n",
       "        vertical-align: top;\n",
       "    }\n",
       "\n",
       "    .dataframe thead th {\n",
       "        text-align: right;\n",
       "    }\n",
       "</style>\n",
       "<table border=\"1\" class=\"dataframe\">\n",
       "  <thead>\n",
       "    <tr style=\"text-align: right;\">\n",
       "      <th></th>\n",
       "      <th>date</th>\n",
       "      <th>permno</th>\n",
       "      <th>ret1portfolio</th>\n",
       "      <th>ret11_1portfolio</th>\n",
       "      <th>ret11_2portfolio</th>\n",
       "      <th>mesumportfolio</th>\n",
       "    </tr>\n",
       "  </thead>\n",
       "  <tbody>\n",
       "    <tr>\n",
       "      <th>0</th>\n",
       "      <td>1970-10-30</td>\n",
       "      <td>10006.0</td>\n",
       "      <td>ret12</td>\n",
       "      <td>ret11_12</td>\n",
       "      <td>ret11_22</td>\n",
       "      <td>mesum2</td>\n",
       "    </tr>\n",
       "    <tr>\n",
       "      <th>2152</th>\n",
       "      <td>1970-11-30</td>\n",
       "      <td>10006.0</td>\n",
       "      <td>ret12</td>\n",
       "      <td>ret11_12</td>\n",
       "      <td>ret11_22</td>\n",
       "      <td>mesum2</td>\n",
       "    </tr>\n",
       "    <tr>\n",
       "      <th>4320</th>\n",
       "      <td>1970-12-31</td>\n",
       "      <td>10006.0</td>\n",
       "      <td>ret13</td>\n",
       "      <td>ret11_12</td>\n",
       "      <td>ret11_22</td>\n",
       "      <td>mesum2</td>\n",
       "    </tr>\n",
       "    <tr>\n",
       "      <th>6499</th>\n",
       "      <td>1971-01-29</td>\n",
       "      <td>10006.0</td>\n",
       "      <td>ret11</td>\n",
       "      <td>ret11_12</td>\n",
       "      <td>ret11_22</td>\n",
       "      <td>mesum2</td>\n",
       "    </tr>\n",
       "    <tr>\n",
       "      <th>8687</th>\n",
       "      <td>1971-02-26</td>\n",
       "      <td>10006.0</td>\n",
       "      <td>ret12</td>\n",
       "      <td>ret11_12</td>\n",
       "      <td>ret11_22</td>\n",
       "      <td>mesum2</td>\n",
       "    </tr>\n",
       "  </tbody>\n",
       "</table>\n",
       "</div>"
      ],
      "text/plain": [
       "           date   permno ret1portfolio ret11_1portfolio ret11_2portfolio  \\\n",
       "0    1970-10-30  10006.0         ret12         ret11_12         ret11_22   \n",
       "2152 1970-11-30  10006.0         ret12         ret11_12         ret11_22   \n",
       "4320 1970-12-31  10006.0         ret13         ret11_12         ret11_22   \n",
       "6499 1971-01-29  10006.0         ret11         ret11_12         ret11_22   \n",
       "8687 1971-02-26  10006.0         ret12         ret11_12         ret11_22   \n",
       "\n",
       "     mesumportfolio  \n",
       "0            mesum2  \n",
       "2152         mesum2  \n",
       "4320         mesum2  \n",
       "6499         mesum2  \n",
       "8687         mesum2  "
      ]
     },
     "execution_count": 46,
     "metadata": {},
     "output_type": "execute_result"
    }
   ],
   "source": [
    "port[port.permno==10006].head()"
   ]
  },
  {
   "cell_type": "markdown",
   "metadata": {
    "slideshow": {
     "slide_type": "slide"
    }
   },
   "source": [
    "### Portfolio returns"
   ]
  },
  {
   "cell_type": "markdown",
   "metadata": {
    "slideshow": {
     "slide_type": "subslide"
    }
   },
   "source": [
    "#### Merge data"
   ]
  },
  {
   "cell_type": "code",
   "execution_count": 47,
   "metadata": {
    "slideshow": {
     "slide_type": "fragment"
    }
   },
   "outputs": [],
   "source": [
    "fdata = pd.merge(mdata[['permno', 'date', 'exret', 'melag_weights']], \n",
    "                port,\n",
    "                on = ['permno', 'date']) "
   ]
  },
  {
   "cell_type": "markdown",
   "metadata": {
    "slideshow": {
     "slide_type": "subslide"
    }
   },
   "source": [
    "Have a look at Apple in 2019. Which portfolio did Apple belong to?"
   ]
  },
  {
   "cell_type": "code",
   "execution_count": 48,
   "metadata": {
    "slideshow": {
     "slide_type": "fragment"
    }
   },
   "outputs": [
    {
     "data": {
      "text/html": [
       "<div>\n",
       "<style scoped>\n",
       "    .dataframe tbody tr th:only-of-type {\n",
       "        vertical-align: middle;\n",
       "    }\n",
       "\n",
       "    .dataframe tbody tr th {\n",
       "        vertical-align: top;\n",
       "    }\n",
       "\n",
       "    .dataframe thead th {\n",
       "        text-align: right;\n",
       "    }\n",
       "</style>\n",
       "<table border=\"1\" class=\"dataframe\">\n",
       "  <thead>\n",
       "    <tr style=\"text-align: right;\">\n",
       "      <th></th>\n",
       "      <th>permno</th>\n",
       "      <th>date</th>\n",
       "      <th>exret</th>\n",
       "      <th>melag_weights</th>\n",
       "      <th>ret1portfolio</th>\n",
       "      <th>ret11_1portfolio</th>\n",
       "      <th>ret11_2portfolio</th>\n",
       "      <th>mesumportfolio</th>\n",
       "    </tr>\n",
       "  </thead>\n",
       "  <tbody>\n",
       "    <tr>\n",
       "      <th>324873</th>\n",
       "      <td>14593</td>\n",
       "      <td>2022-03-31</td>\n",
       "      <td>0.057413</td>\n",
       "      <td>2.694666e+06</td>\n",
       "      <td>ret11</td>\n",
       "      <td>ret11_13</td>\n",
       "      <td>ret11_23</td>\n",
       "      <td>mesum2</td>\n",
       "    </tr>\n",
       "    <tr>\n",
       "      <th>324874</th>\n",
       "      <td>14593</td>\n",
       "      <td>2022-04-29</td>\n",
       "      <td>-0.097168</td>\n",
       "      <td>2.830003e+06</td>\n",
       "      <td>ret12</td>\n",
       "      <td>ret11_13</td>\n",
       "      <td>ret11_23</td>\n",
       "      <td>mesum2</td>\n",
       "    </tr>\n",
       "    <tr>\n",
       "      <th>324875</th>\n",
       "      <td>14593</td>\n",
       "      <td>2022-05-31</td>\n",
       "      <td>-0.054731</td>\n",
       "      <td>2.551594e+06</td>\n",
       "      <td>ret12</td>\n",
       "      <td>ret11_13</td>\n",
       "      <td>ret11_23</td>\n",
       "      <td>mesum2</td>\n",
       "    </tr>\n",
       "    <tr>\n",
       "      <th>324876</th>\n",
       "      <td>14593</td>\n",
       "      <td>2022-06-30</td>\n",
       "      <td>-0.081997</td>\n",
       "      <td>2.409002e+06</td>\n",
       "      <td>ret11</td>\n",
       "      <td>ret11_13</td>\n",
       "      <td>ret11_23</td>\n",
       "      <td>mesum2</td>\n",
       "    </tr>\n",
       "    <tr>\n",
       "      <th>324877</th>\n",
       "      <td>14593</td>\n",
       "      <td>2022-07-29</td>\n",
       "      <td>0.187822</td>\n",
       "      <td>2.200560e+06</td>\n",
       "      <td>ret12</td>\n",
       "      <td>ret11_12</td>\n",
       "      <td>ret11_23</td>\n",
       "      <td>mesum2</td>\n",
       "    </tr>\n",
       "    <tr>\n",
       "      <th>324878</th>\n",
       "      <td>14593</td>\n",
       "      <td>2022-08-31</td>\n",
       "      <td>-0.033038</td>\n",
       "      <td>2.611658e+06</td>\n",
       "      <td>ret13</td>\n",
       "      <td>ret11_13</td>\n",
       "      <td>ret11_22</td>\n",
       "      <td>mesum2</td>\n",
       "    </tr>\n",
       "    <tr>\n",
       "      <th>324879</th>\n",
       "      <td>14593</td>\n",
       "      <td>2022-09-30</td>\n",
       "      <td>-0.122906</td>\n",
       "      <td>2.526644e+06</td>\n",
       "      <td>ret12</td>\n",
       "      <td>ret11_13</td>\n",
       "      <td>ret11_23</td>\n",
       "      <td>mesum2</td>\n",
       "    </tr>\n",
       "    <tr>\n",
       "      <th>324880</th>\n",
       "      <td>14593</td>\n",
       "      <td>2022-10-31</td>\n",
       "      <td>0.107224</td>\n",
       "      <td>2.203381e+06</td>\n",
       "      <td>ret12</td>\n",
       "      <td>ret11_12</td>\n",
       "      <td>ret11_23</td>\n",
       "      <td>mesum2</td>\n",
       "    </tr>\n",
       "    <tr>\n",
       "      <th>324881</th>\n",
       "      <td>14593</td>\n",
       "      <td>2022-11-30</td>\n",
       "      <td>-0.035985</td>\n",
       "      <td>2.439351e+06</td>\n",
       "      <td>ret12</td>\n",
       "      <td>ret11_12</td>\n",
       "      <td>ret11_22</td>\n",
       "      <td>mesum2</td>\n",
       "    </tr>\n",
       "    <tr>\n",
       "      <th>324882</th>\n",
       "      <td>14593</td>\n",
       "      <td>2022-12-30</td>\n",
       "      <td>-0.125652</td>\n",
       "      <td>2.354879e+06</td>\n",
       "      <td>ret11</td>\n",
       "      <td>ret11_12</td>\n",
       "      <td>ret11_22</td>\n",
       "      <td>mesum2</td>\n",
       "    </tr>\n",
       "  </tbody>\n",
       "</table>\n",
       "</div>"
      ],
      "text/plain": [
       "        permno       date     exret  melag_weights ret1portfolio  \\\n",
       "324873   14593 2022-03-31  0.057413   2.694666e+06         ret11   \n",
       "324874   14593 2022-04-29 -0.097168   2.830003e+06         ret12   \n",
       "324875   14593 2022-05-31 -0.054731   2.551594e+06         ret12   \n",
       "324876   14593 2022-06-30 -0.081997   2.409002e+06         ret11   \n",
       "324877   14593 2022-07-29  0.187822   2.200560e+06         ret12   \n",
       "324878   14593 2022-08-31 -0.033038   2.611658e+06         ret13   \n",
       "324879   14593 2022-09-30 -0.122906   2.526644e+06         ret12   \n",
       "324880   14593 2022-10-31  0.107224   2.203381e+06         ret12   \n",
       "324881   14593 2022-11-30 -0.035985   2.439351e+06         ret12   \n",
       "324882   14593 2022-12-30 -0.125652   2.354879e+06         ret11   \n",
       "\n",
       "       ret11_1portfolio ret11_2portfolio mesumportfolio  \n",
       "324873         ret11_13         ret11_23         mesum2  \n",
       "324874         ret11_13         ret11_23         mesum2  \n",
       "324875         ret11_13         ret11_23         mesum2  \n",
       "324876         ret11_13         ret11_23         mesum2  \n",
       "324877         ret11_12         ret11_23         mesum2  \n",
       "324878         ret11_13         ret11_22         mesum2  \n",
       "324879         ret11_13         ret11_23         mesum2  \n",
       "324880         ret11_12         ret11_23         mesum2  \n",
       "324881         ret11_12         ret11_22         mesum2  \n",
       "324882         ret11_12         ret11_22         mesum2  "
      ]
     },
     "execution_count": 48,
     "metadata": {},
     "output_type": "execute_result"
    }
   ],
   "source": [
    "fdata[(fdata.permno==14593) & (fdata.date.dt.year>=2019)].tail(10)"
   ]
  },
  {
   "cell_type": "markdown",
   "metadata": {
    "slideshow": {
     "slide_type": "subslide"
    }
   },
   "source": [
    "#### Calculate returns"
   ]
  },
  {
   "cell_type": "code",
   "execution_count": 49,
   "metadata": {
    "slideshow": {
     "slide_type": "subslide"
    }
   },
   "outputs": [
    {
     "data": {
      "text/plain": [
       "date        mesumportfolio  ret1portfolio\n",
       "1970-10-30  mesum1          ret11           -0.025202\n",
       "                            ret12           -0.055249\n",
       "                            ret13           -0.101283\n",
       "            mesum2          ret11           -0.009772\n",
       "                            ret12           -0.018604\n",
       "                                               ...   \n",
       "2022-12-30  mesum1          ret12           -0.069079\n",
       "                            ret13           -0.077785\n",
       "            mesum2          ret11           -0.115363\n",
       "                            ret12           -0.048920\n",
       "                            ret13           -0.049015\n",
       "Length: 3762, dtype: float64"
      ]
     },
     "metadata": {},
     "output_type": "display_data"
    }
   ],
   "source": [
    "# Reversal Returns \n",
    "rev = fdata.groupby(['date', \n",
    "                     'mesumportfolio', \n",
    "                     'ret1portfolio']).apply(lambda x: np.average(x['exret'], \n",
    "                                                                   weights = x['melag_weights']))\n",
    "display(rev)"
   ]
  },
  {
   "cell_type": "code",
   "execution_count": 50,
   "metadata": {
    "slideshow": {
     "slide_type": "fragment"
    }
   },
   "outputs": [
    {
     "data": {
      "text/html": [
       "<div>\n",
       "<style scoped>\n",
       "    .dataframe tbody tr th:only-of-type {\n",
       "        vertical-align: middle;\n",
       "    }\n",
       "\n",
       "    .dataframe tbody tr th {\n",
       "        vertical-align: top;\n",
       "    }\n",
       "\n",
       "    .dataframe thead tr th {\n",
       "        text-align: left;\n",
       "    }\n",
       "\n",
       "    .dataframe thead tr:last-of-type th {\n",
       "        text-align: right;\n",
       "    }\n",
       "</style>\n",
       "<table border=\"1\" class=\"dataframe\">\n",
       "  <thead>\n",
       "    <tr>\n",
       "      <th>mesumportfolio</th>\n",
       "      <th colspan=\"3\" halign=\"left\">mesum1</th>\n",
       "      <th colspan=\"3\" halign=\"left\">mesum2</th>\n",
       "    </tr>\n",
       "    <tr>\n",
       "      <th>ret1portfolio</th>\n",
       "      <th>ret11</th>\n",
       "      <th>ret12</th>\n",
       "      <th>ret13</th>\n",
       "      <th>ret11</th>\n",
       "      <th>ret12</th>\n",
       "      <th>ret13</th>\n",
       "    </tr>\n",
       "    <tr>\n",
       "      <th>date</th>\n",
       "      <th></th>\n",
       "      <th></th>\n",
       "      <th></th>\n",
       "      <th></th>\n",
       "      <th></th>\n",
       "      <th></th>\n",
       "    </tr>\n",
       "  </thead>\n",
       "  <tbody>\n",
       "    <tr>\n",
       "      <th>1970-10-30</th>\n",
       "      <td>-0.025202</td>\n",
       "      <td>-0.055249</td>\n",
       "      <td>-0.101283</td>\n",
       "      <td>-0.009772</td>\n",
       "      <td>-0.018604</td>\n",
       "      <td>-0.061833</td>\n",
       "    </tr>\n",
       "    <tr>\n",
       "      <th>1970-11-30</th>\n",
       "      <td>-0.007556</td>\n",
       "      <td>0.007791</td>\n",
       "      <td>0.013077</td>\n",
       "      <td>0.057785</td>\n",
       "      <td>0.055633</td>\n",
       "      <td>0.043627</td>\n",
       "    </tr>\n",
       "    <tr>\n",
       "      <th>1970-12-31</th>\n",
       "      <td>0.089769</td>\n",
       "      <td>0.073310</td>\n",
       "      <td>0.065054</td>\n",
       "      <td>0.077108</td>\n",
       "      <td>0.059134</td>\n",
       "      <td>0.045373</td>\n",
       "    </tr>\n",
       "    <tr>\n",
       "      <th>1971-01-29</th>\n",
       "      <td>0.133908</td>\n",
       "      <td>0.109467</td>\n",
       "      <td>0.076747</td>\n",
       "      <td>0.043691</td>\n",
       "      <td>0.037085</td>\n",
       "      <td>0.059520</td>\n",
       "    </tr>\n",
       "    <tr>\n",
       "      <th>1971-02-26</th>\n",
       "      <td>0.049126</td>\n",
       "      <td>0.032587</td>\n",
       "      <td>0.023697</td>\n",
       "      <td>0.017585</td>\n",
       "      <td>0.004421</td>\n",
       "      <td>0.011798</td>\n",
       "    </tr>\n",
       "    <tr>\n",
       "      <th>...</th>\n",
       "      <td>...</td>\n",
       "      <td>...</td>\n",
       "      <td>...</td>\n",
       "      <td>...</td>\n",
       "      <td>...</td>\n",
       "      <td>...</td>\n",
       "    </tr>\n",
       "    <tr>\n",
       "      <th>2022-08-31</th>\n",
       "      <td>-0.015751</td>\n",
       "      <td>-0.045303</td>\n",
       "      <td>-0.033005</td>\n",
       "      <td>-0.029099</td>\n",
       "      <td>-0.037440</td>\n",
       "      <td>-0.045069</td>\n",
       "    </tr>\n",
       "    <tr>\n",
       "      <th>2022-09-30</th>\n",
       "      <td>-0.134895</td>\n",
       "      <td>-0.085549</td>\n",
       "      <td>-0.109355</td>\n",
       "      <td>-0.099485</td>\n",
       "      <td>-0.092011</td>\n",
       "      <td>-0.084378</td>\n",
       "    </tr>\n",
       "    <tr>\n",
       "      <th>2022-10-31</th>\n",
       "      <td>0.083084</td>\n",
       "      <td>0.099487</td>\n",
       "      <td>0.063946</td>\n",
       "      <td>0.066819</td>\n",
       "      <td>0.082723</td>\n",
       "      <td>0.074092</td>\n",
       "    </tr>\n",
       "    <tr>\n",
       "      <th>2022-11-30</th>\n",
       "      <td>-0.029428</td>\n",
       "      <td>-0.001197</td>\n",
       "      <td>-0.007123</td>\n",
       "      <td>0.052146</td>\n",
       "      <td>0.050196</td>\n",
       "      <td>0.045779</td>\n",
       "    </tr>\n",
       "    <tr>\n",
       "      <th>2022-12-30</th>\n",
       "      <td>-0.085813</td>\n",
       "      <td>-0.069079</td>\n",
       "      <td>-0.077785</td>\n",
       "      <td>-0.115363</td>\n",
       "      <td>-0.048920</td>\n",
       "      <td>-0.049015</td>\n",
       "    </tr>\n",
       "  </tbody>\n",
       "</table>\n",
       "<p>627 rows × 6 columns</p>\n",
       "</div>"
      ],
      "text/plain": [
       "mesumportfolio    mesum1                        mesum2                    \n",
       "ret1portfolio      ret11     ret12     ret13     ret11     ret12     ret13\n",
       "date                                                                      \n",
       "1970-10-30     -0.025202 -0.055249 -0.101283 -0.009772 -0.018604 -0.061833\n",
       "1970-11-30     -0.007556  0.007791  0.013077  0.057785  0.055633  0.043627\n",
       "1970-12-31      0.089769  0.073310  0.065054  0.077108  0.059134  0.045373\n",
       "1971-01-29      0.133908  0.109467  0.076747  0.043691  0.037085  0.059520\n",
       "1971-02-26      0.049126  0.032587  0.023697  0.017585  0.004421  0.011798\n",
       "...                  ...       ...       ...       ...       ...       ...\n",
       "2022-08-31     -0.015751 -0.045303 -0.033005 -0.029099 -0.037440 -0.045069\n",
       "2022-09-30     -0.134895 -0.085549 -0.109355 -0.099485 -0.092011 -0.084378\n",
       "2022-10-31      0.083084  0.099487  0.063946  0.066819  0.082723  0.074092\n",
       "2022-11-30     -0.029428 -0.001197 -0.007123  0.052146  0.050196  0.045779\n",
       "2022-12-30     -0.085813 -0.069079 -0.077785 -0.115363 -0.048920 -0.049015\n",
       "\n",
       "[627 rows x 6 columns]"
      ]
     },
     "metadata": {},
     "output_type": "display_data"
    }
   ],
   "source": [
    "rev = rev.unstack(level=[1, 2])\n",
    "display(rev)"
   ]
  },
  {
   "cell_type": "code",
   "execution_count": 51,
   "metadata": {
    "slideshow": {
     "slide_type": "subslide"
    }
   },
   "outputs": [],
   "source": [
    "rev_ret = rev.loc[:, idx[:, 'ret13']].mean(axis=1)-rev.loc[:, idx[:, 'ret11']].mean(axis=1)\n",
    "rev_ret = rev_ret.to_frame('rev')"
   ]
  },
  {
   "cell_type": "code",
   "execution_count": 52,
   "metadata": {
    "slideshow": {
     "slide_type": "subslide"
    }
   },
   "outputs": [],
   "source": [
    "# Momentum not skipping 1-month\n",
    "rev2 = fdata.groupby(['date', \n",
    "                      'mesumportfolio', \n",
    "                      'ret1portfolio']).apply(lambda x: np.average(x['exret']))\n",
    "rev2 = rev2.unstack(level=[1, 2])\n",
    "rev2_ret = rev2.loc[:, idx[:, 'ret13']].mean(axis=1)-rev2.loc[:, idx[:, 'ret11']].mean(axis=1)\n",
    "rev2_ret = rev2_ret.to_frame('rev2')"
   ]
  },
  {
   "cell_type": "code",
   "execution_count": 53,
   "metadata": {
    "slideshow": {
     "slide_type": "subslide"
    }
   },
   "outputs": [],
   "source": [
    "# Momentum not skipping 1-month\n",
    "mom2 = fdata.groupby(['date', \n",
    "                      'mesumportfolio', \n",
    "                      'ret11_1portfolio']).apply(lambda x: np.average(x['exret'], \n",
    "                                                                weights = x['melag_weights']))\n",
    "mom2 = mom2.unstack(level=[1, 2])\n",
    "mom2_ret = mom2.loc[:, idx[:, 'ret11_13']].mean(axis=1)-mom2.loc[:, idx[:, 'ret11_11']].mean(axis=1)\n",
    "mom2_ret = mom2_ret.to_frame('mom2')"
   ]
  },
  {
   "cell_type": "code",
   "execution_count": 54,
   "metadata": {
    "slideshow": {
     "slide_type": "subslide"
    }
   },
   "outputs": [],
   "source": [
    "# Momemtum Returns\n",
    "mom = fdata.groupby(['date', \n",
    "                     'mesumportfolio', \n",
    "                     'ret11_2portfolio']).apply(lambda x: np.average(x['exret'], \n",
    "                                                                weights = x['melag_weights']))\n",
    "mom = mom.unstack(level=[1, 2])\n",
    "mom_ret = mom.loc[:, idx[:, 'ret11_23']].mean(axis=1)-mom.loc[:, idx[:, 'ret11_21']].mean(axis=1)\n",
    "mom_ret = mom_ret.to_frame('mom')"
   ]
  },
  {
   "cell_type": "code",
   "execution_count": 55,
   "metadata": {
    "slideshow": {
     "slide_type": "subslide"
    }
   },
   "outputs": [],
   "source": [
    "ret = mom_ret.join(rev_ret).join(mom2_ret).join(rev2_ret)"
   ]
  },
  {
   "cell_type": "markdown",
   "metadata": {
    "slideshow": {
     "slide_type": "subslide"
    }
   },
   "source": [
    "#### Long-short portfolio returns"
   ]
  },
  {
   "cell_type": "code",
   "execution_count": 57,
   "metadata": {
    "slideshow": {
     "slide_type": "fragment"
    }
   },
   "outputs": [
    {
     "data": {
      "text/plain": [
       "<AxesSubplot:xlabel='date'>"
      ]
     },
     "execution_count": 57,
     "metadata": {},
     "output_type": "execute_result"
    },
    {
     "data": {
      "image/png": "[encoded data removed]",
      "text/plain": [
       "<Figure size 720x432 with 1 Axes>"
      ]
     },
     "metadata": {
      "needs_background": "light"
     },
     "output_type": "display_data"
    }
   ],
   "source": [
    "np.log(1+ret).cumsum().plot()"
   ]
  },
  {
   "cell_type": "markdown",
   "metadata": {
    "slideshow": {
     "slide_type": "subslide"
    }
   },
   "source": [
    "### Compare Sharpe-ratio"
   ]
  },
  {
   "cell_type": "code",
   "execution_count": 58,
   "metadata": {
    "slideshow": {
     "slide_type": "fragment"
    }
   },
   "outputs": [
    {
     "data": {
      "text/plain": [
       "mom     0.427998\n",
       "rev    -0.497242\n",
       "mom2    0.200691\n",
       "rev2   -0.947572\n",
       "dtype: float64"
      ]
     },
     "execution_count": 58,
     "metadata": {},
     "output_type": "execute_result"
    }
   ],
   "source": [
    "(ret.mean()/ret.std())*np.sqrt(12)"
   ]
  },
  {
   "cell_type": "markdown",
   "metadata": {
    "slideshow": {
     "slide_type": "slide"
    }
   },
   "source": [
    "## Are there alphas?"
   ]
  },
  {
   "cell_type": "code",
   "execution_count": 59,
   "metadata": {
    "slideshow": {
     "slide_type": "subslide"
    }
   },
   "outputs": [],
   "source": [
    "# FF five factor\n",
    "ff = kf_factors(ff_factor_file='F-F_Research_Data_5_Factors_2x3', freq='monthly')\n",
    "ff.drop(columns=['date'], inplace=True)\n",
    "ff_ret = ff.set_index('mdate')/100\n",
    "ff_ret.rename(columns = {'Mkt-RF': 'MktRF'}, inplace=True)"
   ]
  },
  {
   "cell_type": "code",
   "execution_count": 60,
   "metadata": {
    "slideshow": {
     "slide_type": "fragment"
    }
   },
   "outputs": [
    {
     "data": {
      "text/html": [
       "<div>\n",
       "<style scoped>\n",
       "    .dataframe tbody tr th:only-of-type {\n",
       "        vertical-align: middle;\n",
       "    }\n",
       "\n",
       "    .dataframe tbody tr th {\n",
       "        vertical-align: top;\n",
       "    }\n",
       "\n",
       "    .dataframe thead th {\n",
       "        text-align: right;\n",
       "    }\n",
       "</style>\n",
       "<table border=\"1\" class=\"dataframe\">\n",
       "  <thead>\n",
       "    <tr style=\"text-align: right;\">\n",
       "      <th></th>\n",
       "      <th>Mkt-RF</th>\n",
       "      <th>SMB</th>\n",
       "      <th>HML</th>\n",
       "      <th>RMW</th>\n",
       "      <th>CMA</th>\n",
       "      <th>RF</th>\n",
       "      <th>mdate</th>\n",
       "    </tr>\n",
       "  </thead>\n",
       "  <tbody>\n",
       "    <tr>\n",
       "      <th>0</th>\n",
       "      <td>-0.39</td>\n",
       "      <td>-0.41</td>\n",
       "      <td>-0.97</td>\n",
       "      <td>0.68</td>\n",
       "      <td>-1.18</td>\n",
       "      <td>0.27</td>\n",
       "      <td>196307</td>\n",
       "    </tr>\n",
       "    <tr>\n",
       "      <th>1</th>\n",
       "      <td>5.07</td>\n",
       "      <td>-0.80</td>\n",
       "      <td>1.80</td>\n",
       "      <td>0.36</td>\n",
       "      <td>-0.35</td>\n",
       "      <td>0.25</td>\n",
       "      <td>196308</td>\n",
       "    </tr>\n",
       "    <tr>\n",
       "      <th>2</th>\n",
       "      <td>-1.57</td>\n",
       "      <td>-0.52</td>\n",
       "      <td>0.13</td>\n",
       "      <td>-0.71</td>\n",
       "      <td>0.29</td>\n",
       "      <td>0.27</td>\n",
       "      <td>196309</td>\n",
       "    </tr>\n",
       "    <tr>\n",
       "      <th>3</th>\n",
       "      <td>2.53</td>\n",
       "      <td>-1.39</td>\n",
       "      <td>-0.10</td>\n",
       "      <td>2.80</td>\n",
       "      <td>-2.01</td>\n",
       "      <td>0.29</td>\n",
       "      <td>196310</td>\n",
       "    </tr>\n",
       "    <tr>\n",
       "      <th>4</th>\n",
       "      <td>-0.85</td>\n",
       "      <td>-0.88</td>\n",
       "      <td>1.75</td>\n",
       "      <td>-0.51</td>\n",
       "      <td>2.24</td>\n",
       "      <td>0.27</td>\n",
       "      <td>196311</td>\n",
       "    </tr>\n",
       "    <tr>\n",
       "      <th>...</th>\n",
       "      <td>...</td>\n",
       "      <td>...</td>\n",
       "      <td>...</td>\n",
       "      <td>...</td>\n",
       "      <td>...</td>\n",
       "      <td>...</td>\n",
       "      <td>...</td>\n",
       "    </tr>\n",
       "    <tr>\n",
       "      <th>711</th>\n",
       "      <td>7.83</td>\n",
       "      <td>1.86</td>\n",
       "      <td>8.05</td>\n",
       "      <td>3.07</td>\n",
       "      <td>6.52</td>\n",
       "      <td>0.23</td>\n",
       "      <td>202210</td>\n",
       "    </tr>\n",
       "    <tr>\n",
       "      <th>712</th>\n",
       "      <td>4.60</td>\n",
       "      <td>-2.67</td>\n",
       "      <td>1.38</td>\n",
       "      <td>6.01</td>\n",
       "      <td>3.11</td>\n",
       "      <td>0.29</td>\n",
       "      <td>202211</td>\n",
       "    </tr>\n",
       "    <tr>\n",
       "      <th>713</th>\n",
       "      <td>-6.41</td>\n",
       "      <td>-0.16</td>\n",
       "      <td>1.32</td>\n",
       "      <td>0.09</td>\n",
       "      <td>4.19</td>\n",
       "      <td>0.33</td>\n",
       "      <td>202212</td>\n",
       "    </tr>\n",
       "    <tr>\n",
       "      <th>714</th>\n",
       "      <td>6.65</td>\n",
       "      <td>4.43</td>\n",
       "      <td>-4.05</td>\n",
       "      <td>-2.62</td>\n",
       "      <td>-4.53</td>\n",
       "      <td>0.35</td>\n",
       "      <td>202301</td>\n",
       "    </tr>\n",
       "    <tr>\n",
       "      <th>715</th>\n",
       "      <td>-2.58</td>\n",
       "      <td>0.59</td>\n",
       "      <td>-0.80</td>\n",
       "      <td>0.92</td>\n",
       "      <td>-1.53</td>\n",
       "      <td>0.34</td>\n",
       "      <td>202302</td>\n",
       "    </tr>\n",
       "  </tbody>\n",
       "</table>\n",
       "<p>716 rows × 7 columns</p>\n",
       "</div>"
      ],
      "text/plain": [
       "     Mkt-RF   SMB   HML   RMW   CMA    RF   mdate\n",
       "0     -0.39 -0.41 -0.97  0.68 -1.18  0.27  196307\n",
       "1      5.07 -0.80  1.80  0.36 -0.35  0.25  196308\n",
       "2     -1.57 -0.52  0.13 -0.71  0.29  0.27  196309\n",
       "3      2.53 -1.39 -0.10  2.80 -2.01  0.29  196310\n",
       "4     -0.85 -0.88  1.75 -0.51  2.24  0.27  196311\n",
       "..      ...   ...   ...   ...   ...   ...     ...\n",
       "711    7.83  1.86  8.05  3.07  6.52  0.23  202210\n",
       "712    4.60 -2.67  1.38  6.01  3.11  0.29  202211\n",
       "713   -6.41 -0.16  1.32  0.09  4.19  0.33  202212\n",
       "714    6.65  4.43 -4.05 -2.62 -4.53  0.35  202301\n",
       "715   -2.58  0.59 -0.80  0.92 -1.53  0.34  202302\n",
       "\n",
       "[716 rows x 7 columns]"
      ]
     },
     "execution_count": 60,
     "metadata": {},
     "output_type": "execute_result"
    }
   ],
   "source": [
    "ff"
   ]
  },
  {
   "cell_type": "code",
   "execution_count": 61,
   "metadata": {
    "slideshow": {
     "slide_type": "subslide"
    }
   },
   "outputs": [],
   "source": [
    "ret.reset_index(inplace=True) \n",
    "ret['mdate'] = ret.date.dt.year * 100 +  ret.date.dt.month "
   ]
  },
  {
   "cell_type": "code",
   "execution_count": 62,
   "metadata": {
    "slideshow": {
     "slide_type": "fragment"
    }
   },
   "outputs": [],
   "source": [
    "ret.set_index('mdate', inplace=True)"
   ]
  },
  {
   "cell_type": "code",
   "execution_count": 63,
   "metadata": {
    "slideshow": {
     "slide_type": "fragment"
    }
   },
   "outputs": [],
   "source": [
    "# Merge \n",
    "ret = ret.join(ff_ret)\n",
    "ret.reset_index(inplace=True)\n",
    "ret.set_index('date', inplace=True)"
   ]
  },
  {
   "cell_type": "code",
   "execution_count": 74,
   "metadata": {
    "slideshow": {
     "slide_type": "fragment"
    }
   },
   "outputs": [
    {
     "data": {
      "text/html": [
       "<div>\n",
       "<style scoped>\n",
       "    .dataframe tbody tr th:only-of-type {\n",
       "        vertical-align: middle;\n",
       "    }\n",
       "\n",
       "    .dataframe tbody tr th {\n",
       "        vertical-align: top;\n",
       "    }\n",
       "\n",
       "    .dataframe thead th {\n",
       "        text-align: right;\n",
       "    }\n",
       "</style>\n",
       "<table border=\"1\" class=\"dataframe\">\n",
       "  <thead>\n",
       "    <tr style=\"text-align: right;\">\n",
       "      <th></th>\n",
       "      <th>mom</th>\n",
       "      <th>rev</th>\n",
       "      <th>mom2</th>\n",
       "      <th>rev2</th>\n",
       "      <th>MktRF</th>\n",
       "      <th>SMB</th>\n",
       "      <th>HML</th>\n",
       "      <th>RMW</th>\n",
       "      <th>CMA</th>\n",
       "      <th>RF</th>\n",
       "    </tr>\n",
       "    <tr>\n",
       "      <th>date</th>\n",
       "      <th></th>\n",
       "      <th></th>\n",
       "      <th></th>\n",
       "      <th></th>\n",
       "      <th></th>\n",
       "      <th></th>\n",
       "      <th></th>\n",
       "      <th></th>\n",
       "      <th></th>\n",
       "      <th></th>\n",
       "    </tr>\n",
       "  </thead>\n",
       "  <tbody>\n",
       "    <tr>\n",
       "      <th>1970-10-30</th>\n",
       "      <td>0.083603</td>\n",
       "      <td>-0.064071</td>\n",
       "      <td>0.073112</td>\n",
       "      <td>-0.062213</td>\n",
       "      <td>-0.0228</td>\n",
       "      <td>-0.0443</td>\n",
       "      <td>0.0022</td>\n",
       "      <td>0.0171</td>\n",
       "      <td>0.0234</td>\n",
       "      <td>0.0046</td>\n",
       "    </tr>\n",
       "    <tr>\n",
       "      <th>1970-11-30</th>\n",
       "      <td>0.023131</td>\n",
       "      <td>0.003238</td>\n",
       "      <td>0.023705</td>\n",
       "      <td>0.009348</td>\n",
       "      <td>0.0460</td>\n",
       "      <td>-0.0386</td>\n",
       "      <td>0.0169</td>\n",
       "      <td>0.0157</td>\n",
       "      <td>0.0147</td>\n",
       "      <td>0.0046</td>\n",
       "    </tr>\n",
       "    <tr>\n",
       "      <th>1970-12-31</th>\n",
       "      <td>-0.022009</td>\n",
       "      <td>-0.028225</td>\n",
       "      <td>-0.034313</td>\n",
       "      <td>-0.024298</td>\n",
       "      <td>0.0572</td>\n",
       "      <td>0.0294</td>\n",
       "      <td>0.0100</td>\n",
       "      <td>0.0027</td>\n",
       "      <td>0.0030</td>\n",
       "      <td>0.0042</td>\n",
       "    </tr>\n",
       "    <tr>\n",
       "      <th>1971-01-29</th>\n",
       "      <td>-0.070859</td>\n",
       "      <td>-0.020666</td>\n",
       "      <td>-0.076117</td>\n",
       "      <td>-0.045204</td>\n",
       "      <td>0.0484</td>\n",
       "      <td>0.0754</td>\n",
       "      <td>0.0133</td>\n",
       "      <td>-0.0199</td>\n",
       "      <td>0.0007</td>\n",
       "      <td>0.0038</td>\n",
       "    </tr>\n",
       "    <tr>\n",
       "      <th>1971-02-26</th>\n",
       "      <td>0.003639</td>\n",
       "      <td>-0.015608</td>\n",
       "      <td>-0.002177</td>\n",
       "      <td>-0.008825</td>\n",
       "      <td>0.0141</td>\n",
       "      <td>0.0204</td>\n",
       "      <td>-0.0123</td>\n",
       "      <td>0.0062</td>\n",
       "      <td>-0.0070</td>\n",
       "      <td>0.0033</td>\n",
       "    </tr>\n",
       "  </tbody>\n",
       "</table>\n",
       "</div>"
      ],
      "text/plain": [
       "                 mom       rev      mom2      rev2   MktRF     SMB     HML  \\\n",
       "date                                                                         \n",
       "1970-10-30  0.083603 -0.064071  0.073112 -0.062213 -0.0228 -0.0443  0.0022   \n",
       "1970-11-30  0.023131  0.003238  0.023705  0.009348  0.0460 -0.0386  0.0169   \n",
       "1970-12-31 -0.022009 -0.028225 -0.034313 -0.024298  0.0572  0.0294  0.0100   \n",
       "1971-01-29 -0.070859 -0.020666 -0.076117 -0.045204  0.0484  0.0754  0.0133   \n",
       "1971-02-26  0.003639 -0.015608 -0.002177 -0.008825  0.0141  0.0204 -0.0123   \n",
       "\n",
       "               RMW     CMA      RF  \n",
       "date                                \n",
       "1970-10-30  0.0171  0.0234  0.0046  \n",
       "1970-11-30  0.0157  0.0147  0.0046  \n",
       "1970-12-31  0.0027  0.0030  0.0042  \n",
       "1971-01-29 -0.0199  0.0007  0.0038  \n",
       "1971-02-26  0.0062 -0.0070  0.0033  "
      ]
     },
     "execution_count": 74,
     "metadata": {},
     "output_type": "execute_result"
    }
   ],
   "source": [
    "ret.head()"
   ]
  },
  {
   "cell_type": "code",
   "execution_count": 65,
   "metadata": {
    "slideshow": {
     "slide_type": "subslide"
    }
   },
   "outputs": [
    {
     "data": {
      "text/html": [
       "<table class=\"simpletable\">\n",
       "<caption>OLS Regression Results</caption>\n",
       "<tr>\n",
       "  <th>Dep. Variable:</th>           <td>mom</td>       <th>  R-squared:         </th> <td>   0.110</td>\n",
       "</tr>\n",
       "<tr>\n",
       "  <th>Model:</th>                   <td>OLS</td>       <th>  Adj. R-squared:    </th> <td>   0.104</td>\n",
       "</tr>\n",
       "<tr>\n",
       "  <th>Method:</th>             <td>Least Squares</td>  <th>  F-statistic:       </th> <td>   19.03</td>\n",
       "</tr>\n",
       "<tr>\n",
       "  <th>Date:</th>             <td>Fri, 07 Apr 2023</td> <th>  Prob (F-statistic):</th> <td>2.35e-05</td>\n",
       "</tr>\n",
       "<tr>\n",
       "  <th>Time:</th>                 <td>08:22:37</td>     <th>  Log-Likelihood:    </th> <td>  315.07</td>\n",
       "</tr>\n",
       "<tr>\n",
       "  <th>No. Observations:</th>      <td>   156</td>      <th>  AIC:               </th> <td>  -626.1</td>\n",
       "</tr>\n",
       "<tr>\n",
       "  <th>Df Residuals:</th>          <td>   154</td>      <th>  BIC:               </th> <td>  -620.0</td>\n",
       "</tr>\n",
       "<tr>\n",
       "  <th>Df Model:</th>              <td>     1</td>      <th>                     </th>     <td> </td>   \n",
       "</tr>\n",
       "<tr>\n",
       "  <th>Covariance Type:</th>      <td>nonrobust</td>    <th>                     </th>     <td> </td>   \n",
       "</tr>\n",
       "</table>\n",
       "<table class=\"simpletable\">\n",
       "<tr>\n",
       "      <td></td>         <th>coef</th>     <th>std err</th>      <th>t</th>      <th>P>|t|</th>  <th>[0.025</th>    <th>0.975]</th>  \n",
       "</tr>\n",
       "<tr>\n",
       "  <th>Intercept</th> <td>    0.0046</td> <td>    0.003</td> <td>    1.723</td> <td> 0.087</td> <td>   -0.001</td> <td>    0.010</td>\n",
       "</tr>\n",
       "<tr>\n",
       "  <th>MktRF</th>     <td>   -0.2542</td> <td>    0.058</td> <td>   -4.362</td> <td> 0.000</td> <td>   -0.369</td> <td>   -0.139</td>\n",
       "</tr>\n",
       "</table>\n",
       "<table class=\"simpletable\">\n",
       "<tr>\n",
       "  <th>Omnibus:</th>       <td> 5.283</td> <th>  Durbin-Watson:     </th> <td>   2.006</td>\n",
       "</tr>\n",
       "<tr>\n",
       "  <th>Prob(Omnibus):</th> <td> 0.071</td> <th>  Jarque-Bera (JB):  </th> <td>   4.988</td>\n",
       "</tr>\n",
       "<tr>\n",
       "  <th>Skew:</th>          <td>-0.339</td> <th>  Prob(JB):          </th> <td>  0.0826</td>\n",
       "</tr>\n",
       "<tr>\n",
       "  <th>Kurtosis:</th>      <td> 3.555</td> <th>  Cond. No.          </th> <td>    22.5</td>\n",
       "</tr>\n",
       "</table><br/><br/>Notes:<br/>[1] Standard Errors assume that the covariance matrix of the errors is correctly specified."
      ],
      "text/plain": [
       "<class 'statsmodels.iolib.summary.Summary'>\n",
       "\"\"\"\n",
       "                            OLS Regression Results                            \n",
       "==============================================================================\n",
       "Dep. Variable:                    mom   R-squared:                       0.110\n",
       "Model:                            OLS   Adj. R-squared:                  0.104\n",
       "Method:                 Least Squares   F-statistic:                     19.03\n",
       "Date:                Fri, 07 Apr 2023   Prob (F-statistic):           2.35e-05\n",
       "Time:                        08:22:37   Log-Likelihood:                 315.07\n",
       "No. Observations:                 156   AIC:                            -626.1\n",
       "Df Residuals:                     154   BIC:                            -620.0\n",
       "Df Model:                           1                                         \n",
       "Covariance Type:            nonrobust                                         \n",
       "==============================================================================\n",
       "                 coef    std err          t      P>|t|      [0.025      0.975]\n",
       "------------------------------------------------------------------------------\n",
       "Intercept      0.0046      0.003      1.723      0.087      -0.001       0.010\n",
       "MktRF         -0.2542      0.058     -4.362      0.000      -0.369      -0.139\n",
       "==============================================================================\n",
       "Omnibus:                        5.283   Durbin-Watson:                   2.006\n",
       "Prob(Omnibus):                  0.071   Jarque-Bera (JB):                4.988\n",
       "Skew:                          -0.339   Prob(JB):                       0.0826\n",
       "Kurtosis:                       3.555   Cond. No.                         22.5\n",
       "==============================================================================\n",
       "\n",
       "Notes:\n",
       "[1] Standard Errors assume that the covariance matrix of the errors is correctly specified.\n",
       "\"\"\""
      ]
     },
     "execution_count": 65,
     "metadata": {},
     "output_type": "execute_result"
    }
   ],
   "source": [
    "smf.ols('mom ~ MktRF', data=ret.loc['2010-01-01':]).fit().summary()"
   ]
  },
  {
   "cell_type": "code",
   "execution_count": 66,
   "metadata": {
    "slideshow": {
     "slide_type": "subslide"
    }
   },
   "outputs": [
    {
     "data": {
      "text/html": [
       "<table class=\"simpletable\">\n",
       "<caption>OLS Regression Results</caption>\n",
       "<tr>\n",
       "  <th>Dep. Variable:</th>           <td>mom</td>       <th>  R-squared:         </th> <td>   0.038</td>\n",
       "</tr>\n",
       "<tr>\n",
       "  <th>Model:</th>                   <td>OLS</td>       <th>  Adj. R-squared:    </th> <td>   0.037</td>\n",
       "</tr>\n",
       "<tr>\n",
       "  <th>Method:</th>             <td>Least Squares</td>  <th>  F-statistic:       </th> <td>   24.97</td>\n",
       "</tr>\n",
       "<tr>\n",
       "  <th>Date:</th>             <td>Fri, 07 Apr 2023</td> <th>  Prob (F-statistic):</th> <td>7.55e-07</td>\n",
       "</tr>\n",
       "<tr>\n",
       "  <th>Time:</th>                 <td>08:22:37</td>     <th>  Log-Likelihood:    </th> <td>  1109.4</td>\n",
       "</tr>\n",
       "<tr>\n",
       "  <th>No. Observations:</th>      <td>   627</td>      <th>  AIC:               </th> <td>  -2215.</td>\n",
       "</tr>\n",
       "<tr>\n",
       "  <th>Df Residuals:</th>          <td>   625</td>      <th>  BIC:               </th> <td>  -2206.</td>\n",
       "</tr>\n",
       "<tr>\n",
       "  <th>Df Model:</th>              <td>     1</td>      <th>                     </th>     <td> </td>   \n",
       "</tr>\n",
       "<tr>\n",
       "  <th>Covariance Type:</th>      <td>nonrobust</td>    <th>                     </th>     <td> </td>   \n",
       "</tr>\n",
       "</table>\n",
       "<table class=\"simpletable\">\n",
       "<tr>\n",
       "      <td></td>         <th>coef</th>     <th>std err</th>      <th>t</th>      <th>P>|t|</th>  <th>[0.025</th>    <th>0.975]</th>  \n",
       "</tr>\n",
       "<tr>\n",
       "  <th>Intercept</th> <td>    0.0063</td> <td>    0.002</td> <td>    3.773</td> <td> 0.000</td> <td>    0.003</td> <td>    0.010</td>\n",
       "</tr>\n",
       "<tr>\n",
       "  <th>MktRF</th>     <td>   -0.1798</td> <td>    0.036</td> <td>   -4.997</td> <td> 0.000</td> <td>   -0.250</td> <td>   -0.109</td>\n",
       "</tr>\n",
       "</table>\n",
       "<table class=\"simpletable\">\n",
       "<tr>\n",
       "  <th>Omnibus:</th>       <td>223.397</td> <th>  Durbin-Watson:     </th> <td>   1.911</td>\n",
       "</tr>\n",
       "<tr>\n",
       "  <th>Prob(Omnibus):</th> <td> 0.000</td>  <th>  Jarque-Bera (JB):  </th> <td>2004.874</td>\n",
       "</tr>\n",
       "<tr>\n",
       "  <th>Skew:</th>          <td>-1.320</td>  <th>  Prob(JB):          </th> <td>    0.00</td>\n",
       "</tr>\n",
       "<tr>\n",
       "  <th>Kurtosis:</th>      <td>11.353</td>  <th>  Cond. No.          </th> <td>    21.8</td>\n",
       "</tr>\n",
       "</table><br/><br/>Notes:<br/>[1] Standard Errors assume that the covariance matrix of the errors is correctly specified."
      ],
      "text/plain": [
       "<class 'statsmodels.iolib.summary.Summary'>\n",
       "\"\"\"\n",
       "                            OLS Regression Results                            \n",
       "==============================================================================\n",
       "Dep. Variable:                    mom   R-squared:                       0.038\n",
       "Model:                            OLS   Adj. R-squared:                  0.037\n",
       "Method:                 Least Squares   F-statistic:                     24.97\n",
       "Date:                Fri, 07 Apr 2023   Prob (F-statistic):           7.55e-07\n",
       "Time:                        08:22:37   Log-Likelihood:                 1109.4\n",
       "No. Observations:                 627   AIC:                            -2215.\n",
       "Df Residuals:                     625   BIC:                            -2206.\n",
       "Df Model:                           1                                         \n",
       "Covariance Type:            nonrobust                                         \n",
       "==============================================================================\n",
       "                 coef    std err          t      P>|t|      [0.025      0.975]\n",
       "------------------------------------------------------------------------------\n",
       "Intercept      0.0063      0.002      3.773      0.000       0.003       0.010\n",
       "MktRF         -0.1798      0.036     -4.997      0.000      -0.250      -0.109\n",
       "==============================================================================\n",
       "Omnibus:                      223.397   Durbin-Watson:                   1.911\n",
       "Prob(Omnibus):                  0.000   Jarque-Bera (JB):             2004.874\n",
       "Skew:                          -1.320   Prob(JB):                         0.00\n",
       "Kurtosis:                      11.353   Cond. No.                         21.8\n",
       "==============================================================================\n",
       "\n",
       "Notes:\n",
       "[1] Standard Errors assume that the covariance matrix of the errors is correctly specified.\n",
       "\"\"\""
      ]
     },
     "execution_count": 66,
     "metadata": {},
     "output_type": "execute_result"
    }
   ],
   "source": [
    "smf.ols('mom ~ MktRF', data=ret).fit().summary()"
   ]
  },
  {
   "cell_type": "code",
   "execution_count": 67,
   "metadata": {
    "slideshow": {
     "slide_type": "subslide"
    }
   },
   "outputs": [
    {
     "data": {
      "text/html": [
       "<table class=\"simpletable\">\n",
       "<caption>OLS Regression Results</caption>\n",
       "<tr>\n",
       "  <th>Dep. Variable:</th>           <td>mom</td>       <th>  R-squared:         </th> <td>   0.099</td>\n",
       "</tr>\n",
       "<tr>\n",
       "  <th>Model:</th>                   <td>OLS</td>       <th>  Adj. R-squared:    </th> <td>   0.095</td>\n",
       "</tr>\n",
       "<tr>\n",
       "  <th>Method:</th>             <td>Least Squares</td>  <th>  F-statistic:       </th> <td>   22.83</td>\n",
       "</tr>\n",
       "<tr>\n",
       "  <th>Date:</th>             <td>Fri, 07 Apr 2023</td> <th>  Prob (F-statistic):</th> <td>4.91e-14</td>\n",
       "</tr>\n",
       "<tr>\n",
       "  <th>Time:</th>                 <td>08:22:37</td>     <th>  Log-Likelihood:    </th> <td>  1129.8</td>\n",
       "</tr>\n",
       "<tr>\n",
       "  <th>No. Observations:</th>      <td>   627</td>      <th>  AIC:               </th> <td>  -2252.</td>\n",
       "</tr>\n",
       "<tr>\n",
       "  <th>Df Residuals:</th>          <td>   623</td>      <th>  BIC:               </th> <td>  -2234.</td>\n",
       "</tr>\n",
       "<tr>\n",
       "  <th>Df Model:</th>              <td>     3</td>      <th>                     </th>     <td> </td>   \n",
       "</tr>\n",
       "<tr>\n",
       "  <th>Covariance Type:</th>      <td>nonrobust</td>    <th>                     </th>     <td> </td>   \n",
       "</tr>\n",
       "</table>\n",
       "<table class=\"simpletable\">\n",
       "<tr>\n",
       "      <td></td>         <th>coef</th>     <th>std err</th>      <th>t</th>      <th>P>|t|</th>  <th>[0.025</th>    <th>0.975]</th>  \n",
       "</tr>\n",
       "<tr>\n",
       "  <th>Intercept</th> <td>    0.0076</td> <td>    0.002</td> <td>    4.687</td> <td> 0.000</td> <td>    0.004</td> <td>    0.011</td>\n",
       "</tr>\n",
       "<tr>\n",
       "  <th>MktRF</th>     <td>   -0.2181</td> <td>    0.037</td> <td>   -5.904</td> <td> 0.000</td> <td>   -0.291</td> <td>   -0.146</td>\n",
       "</tr>\n",
       "<tr>\n",
       "  <th>SMB</th>       <td>   -0.0577</td> <td>    0.055</td> <td>   -1.047</td> <td> 0.296</td> <td>   -0.166</td> <td>    0.051</td>\n",
       "</tr>\n",
       "<tr>\n",
       "  <th>HML</th>       <td>   -0.3382</td> <td>    0.053</td> <td>   -6.336</td> <td> 0.000</td> <td>   -0.443</td> <td>   -0.233</td>\n",
       "</tr>\n",
       "</table>\n",
       "<table class=\"simpletable\">\n",
       "<tr>\n",
       "  <th>Omnibus:</th>       <td>220.241</td> <th>  Durbin-Watson:     </th> <td>   1.934</td>\n",
       "</tr>\n",
       "<tr>\n",
       "  <th>Prob(Omnibus):</th> <td> 0.000</td>  <th>  Jarque-Bera (JB):  </th> <td>1936.772</td>\n",
       "</tr>\n",
       "<tr>\n",
       "  <th>Skew:</th>          <td>-1.303</td>  <th>  Prob(JB):          </th> <td>    0.00</td>\n",
       "</tr>\n",
       "<tr>\n",
       "  <th>Kurtosis:</th>      <td>11.206</td>  <th>  Cond. No.          </th> <td>    36.1</td>\n",
       "</tr>\n",
       "</table><br/><br/>Notes:<br/>[1] Standard Errors assume that the covariance matrix of the errors is correctly specified."
      ],
      "text/plain": [
       "<class 'statsmodels.iolib.summary.Summary'>\n",
       "\"\"\"\n",
       "                            OLS Regression Results                            \n",
       "==============================================================================\n",
       "Dep. Variable:                    mom   R-squared:                       0.099\n",
       "Model:                            OLS   Adj. R-squared:                  0.095\n",
       "Method:                 Least Squares   F-statistic:                     22.83\n",
       "Date:                Fri, 07 Apr 2023   Prob (F-statistic):           4.91e-14\n",
       "Time:                        08:22:37   Log-Likelihood:                 1129.8\n",
       "No. Observations:                 627   AIC:                            -2252.\n",
       "Df Residuals:                     623   BIC:                            -2234.\n",
       "Df Model:                           3                                         \n",
       "Covariance Type:            nonrobust                                         \n",
       "==============================================================================\n",
       "                 coef    std err          t      P>|t|      [0.025      0.975]\n",
       "------------------------------------------------------------------------------\n",
       "Intercept      0.0076      0.002      4.687      0.000       0.004       0.011\n",
       "MktRF         -0.2181      0.037     -5.904      0.000      -0.291      -0.146\n",
       "SMB           -0.0577      0.055     -1.047      0.296      -0.166       0.051\n",
       "HML           -0.3382      0.053     -6.336      0.000      -0.443      -0.233\n",
       "==============================================================================\n",
       "Omnibus:                      220.241   Durbin-Watson:                   1.934\n",
       "Prob(Omnibus):                  0.000   Jarque-Bera (JB):             1936.772\n",
       "Skew:                          -1.303   Prob(JB):                         0.00\n",
       "Kurtosis:                      11.206   Cond. No.                         36.1\n",
       "==============================================================================\n",
       "\n",
       "Notes:\n",
       "[1] Standard Errors assume that the covariance matrix of the errors is correctly specified.\n",
       "\"\"\""
      ]
     },
     "execution_count": 67,
     "metadata": {},
     "output_type": "execute_result"
    }
   ],
   "source": [
    "smf.ols('mom ~ MktRF + SMB + HML', data=ret).fit().summary()"
   ]
  },
  {
   "cell_type": "code",
   "execution_count": 68,
   "metadata": {
    "slideshow": {
     "slide_type": "subslide"
    }
   },
   "outputs": [
    {
     "data": {
      "text/html": [
       "<table class=\"simpletable\">\n",
       "<caption>OLS Regression Results</caption>\n",
       "<tr>\n",
       "  <th>Dep. Variable:</th>           <td>mom</td>       <th>  R-squared:         </th> <td>   0.125</td>\n",
       "</tr>\n",
       "<tr>\n",
       "  <th>Model:</th>                   <td>OLS</td>       <th>  Adj. R-squared:    </th> <td>   0.118</td>\n",
       "</tr>\n",
       "<tr>\n",
       "  <th>Method:</th>             <td>Least Squares</td>  <th>  F-statistic:       </th> <td>   17.77</td>\n",
       "</tr>\n",
       "<tr>\n",
       "  <th>Date:</th>             <td>Fri, 07 Apr 2023</td> <th>  Prob (F-statistic):</th> <td>1.76e-16</td>\n",
       "</tr>\n",
       "<tr>\n",
       "  <th>Time:</th>                 <td>08:22:37</td>     <th>  Log-Likelihood:    </th> <td>  1139.1</td>\n",
       "</tr>\n",
       "<tr>\n",
       "  <th>No. Observations:</th>      <td>   627</td>      <th>  AIC:               </th> <td>  -2266.</td>\n",
       "</tr>\n",
       "<tr>\n",
       "  <th>Df Residuals:</th>          <td>   621</td>      <th>  BIC:               </th> <td>  -2239.</td>\n",
       "</tr>\n",
       "<tr>\n",
       "  <th>Df Model:</th>              <td>     5</td>      <th>                     </th>     <td> </td>   \n",
       "</tr>\n",
       "<tr>\n",
       "  <th>Covariance Type:</th>      <td>nonrobust</td>    <th>                     </th>     <td> </td>   \n",
       "</tr>\n",
       "</table>\n",
       "<table class=\"simpletable\">\n",
       "<tr>\n",
       "      <td></td>         <th>coef</th>     <th>std err</th>      <th>t</th>      <th>P>|t|</th>  <th>[0.025</th>    <th>0.975]</th>  \n",
       "</tr>\n",
       "<tr>\n",
       "  <th>Intercept</th> <td>    0.0059</td> <td>    0.002</td> <td>    3.541</td> <td> 0.000</td> <td>    0.003</td> <td>    0.009</td>\n",
       "</tr>\n",
       "<tr>\n",
       "  <th>MktRF</th>     <td>   -0.1664</td> <td>    0.038</td> <td>   -4.325</td> <td> 0.000</td> <td>   -0.242</td> <td>   -0.091</td>\n",
       "</tr>\n",
       "<tr>\n",
       "  <th>SMB</th>       <td>   -0.0131</td> <td>    0.058</td> <td>   -0.225</td> <td> 0.822</td> <td>   -0.127</td> <td>    0.101</td>\n",
       "</tr>\n",
       "<tr>\n",
       "  <th>HML</th>       <td>   -0.5333</td> <td>    0.071</td> <td>   -7.469</td> <td> 0.000</td> <td>   -0.674</td> <td>   -0.393</td>\n",
       "</tr>\n",
       "<tr>\n",
       "  <th>RMW</th>       <td>    0.1868</td> <td>    0.076</td> <td>    2.460</td> <td> 0.014</td> <td>    0.038</td> <td>    0.336</td>\n",
       "</tr>\n",
       "<tr>\n",
       "  <th>CMA</th>       <td>    0.4300</td> <td>    0.113</td> <td>    3.810</td> <td> 0.000</td> <td>    0.208</td> <td>    0.652</td>\n",
       "</tr>\n",
       "</table>\n",
       "<table class=\"simpletable\">\n",
       "<tr>\n",
       "  <th>Omnibus:</th>       <td>209.701</td> <th>  Durbin-Watson:     </th> <td>   1.937</td>\n",
       "</tr>\n",
       "<tr>\n",
       "  <th>Prob(Omnibus):</th> <td> 0.000</td>  <th>  Jarque-Bera (JB):  </th> <td>1763.616</td>\n",
       "</tr>\n",
       "<tr>\n",
       "  <th>Skew:</th>          <td>-1.240</td>  <th>  Prob(JB):          </th> <td>    0.00</td>\n",
       "</tr>\n",
       "<tr>\n",
       "  <th>Kurtosis:</th>      <td>10.833</td>  <th>  Cond. No.          </th> <td>    79.7</td>\n",
       "</tr>\n",
       "</table><br/><br/>Notes:<br/>[1] Standard Errors assume that the covariance matrix of the errors is correctly specified."
      ],
      "text/plain": [
       "<class 'statsmodels.iolib.summary.Summary'>\n",
       "\"\"\"\n",
       "                            OLS Regression Results                            \n",
       "==============================================================================\n",
       "Dep. Variable:                    mom   R-squared:                       0.125\n",
       "Model:                            OLS   Adj. R-squared:                  0.118\n",
       "Method:                 Least Squares   F-statistic:                     17.77\n",
       "Date:                Fri, 07 Apr 2023   Prob (F-statistic):           1.76e-16\n",
       "Time:                        08:22:37   Log-Likelihood:                 1139.1\n",
       "No. Observations:                 627   AIC:                            -2266.\n",
       "Df Residuals:                     621   BIC:                            -2239.\n",
       "Df Model:                           5                                         \n",
       "Covariance Type:            nonrobust                                         \n",
       "==============================================================================\n",
       "                 coef    std err          t      P>|t|      [0.025      0.975]\n",
       "------------------------------------------------------------------------------\n",
       "Intercept      0.0059      0.002      3.541      0.000       0.003       0.009\n",
       "MktRF         -0.1664      0.038     -4.325      0.000      -0.242      -0.091\n",
       "SMB           -0.0131      0.058     -0.225      0.822      -0.127       0.101\n",
       "HML           -0.5333      0.071     -7.469      0.000      -0.674      -0.393\n",
       "RMW            0.1868      0.076      2.460      0.014       0.038       0.336\n",
       "CMA            0.4300      0.113      3.810      0.000       0.208       0.652\n",
       "==============================================================================\n",
       "Omnibus:                      209.701   Durbin-Watson:                   1.937\n",
       "Prob(Omnibus):                  0.000   Jarque-Bera (JB):             1763.616\n",
       "Skew:                          -1.240   Prob(JB):                         0.00\n",
       "Kurtosis:                      10.833   Cond. No.                         79.7\n",
       "==============================================================================\n",
       "\n",
       "Notes:\n",
       "[1] Standard Errors assume that the covariance matrix of the errors is correctly specified.\n",
       "\"\"\""
      ]
     },
     "execution_count": 68,
     "metadata": {},
     "output_type": "execute_result"
    }
   ],
   "source": [
    "smf.ols('mom ~ MktRF + SMB + HML + RMW + CMA', data=ret).fit().summary()"
   ]
  },
  {
   "cell_type": "markdown",
   "metadata": {
    "slideshow": {
     "slide_type": "slide"
    }
   },
   "source": [
    "## Should we add Reversal to our portfolio?"
   ]
  },
  {
   "cell_type": "code",
   "execution_count": 69,
   "metadata": {
    "slideshow": {
     "slide_type": "fragment"
    }
   },
   "outputs": [
    {
     "data": {
      "text/html": [
       "<table class=\"simpletable\">\n",
       "<caption>OLS Regression Results</caption>\n",
       "<tr>\n",
       "  <th>Dep. Variable:</th>           <td>rev</td>       <th>  R-squared:         </th> <td>   0.188</td>\n",
       "</tr>\n",
       "<tr>\n",
       "  <th>Model:</th>                   <td>OLS</td>       <th>  Adj. R-squared:    </th> <td>   0.180</td>\n",
       "</tr>\n",
       "<tr>\n",
       "  <th>Method:</th>             <td>Least Squares</td>  <th>  F-statistic:       </th> <td>   23.87</td>\n",
       "</tr>\n",
       "<tr>\n",
       "  <th>Date:</th>             <td>Fri, 07 Apr 2023</td> <th>  Prob (F-statistic):</th> <td>1.85e-25</td>\n",
       "</tr>\n",
       "<tr>\n",
       "  <th>Time:</th>                 <td>08:22:37</td>     <th>  Log-Likelihood:    </th> <td>  1322.9</td>\n",
       "</tr>\n",
       "<tr>\n",
       "  <th>No. Observations:</th>      <td>   627</td>      <th>  AIC:               </th> <td>  -2632.</td>\n",
       "</tr>\n",
       "<tr>\n",
       "  <th>Df Residuals:</th>          <td>   620</td>      <th>  BIC:               </th> <td>  -2601.</td>\n",
       "</tr>\n",
       "<tr>\n",
       "  <th>Df Model:</th>              <td>     6</td>      <th>                     </th>     <td> </td>   \n",
       "</tr>\n",
       "<tr>\n",
       "  <th>Covariance Type:</th>      <td>nonrobust</td>    <th>                     </th>     <td> </td>   \n",
       "</tr>\n",
       "</table>\n",
       "<table class=\"simpletable\">\n",
       "<tr>\n",
       "      <td></td>         <th>coef</th>     <th>std err</th>      <th>t</th>      <th>P>|t|</th>  <th>[0.025</th>    <th>0.975]</th>  \n",
       "</tr>\n",
       "<tr>\n",
       "  <th>Intercept</th> <td>   -0.0047</td> <td>    0.001</td> <td>   -3.787</td> <td> 0.000</td> <td>   -0.007</td> <td>   -0.002</td>\n",
       "</tr>\n",
       "<tr>\n",
       "  <th>MktRF</th>     <td>   -0.1619</td> <td>    0.029</td> <td>   -5.554</td> <td> 0.000</td> <td>   -0.219</td> <td>   -0.105</td>\n",
       "</tr>\n",
       "<tr>\n",
       "  <th>SMB</th>       <td>   -0.1191</td> <td>    0.043</td> <td>   -2.741</td> <td> 0.006</td> <td>   -0.204</td> <td>   -0.034</td>\n",
       "</tr>\n",
       "<tr>\n",
       "  <th>HML</th>       <td>   -0.1107</td> <td>    0.056</td> <td>   -1.989</td> <td> 0.047</td> <td>   -0.220</td> <td>   -0.001</td>\n",
       "</tr>\n",
       "<tr>\n",
       "  <th>RMW</th>       <td>    0.0027</td> <td>    0.057</td> <td>    0.047</td> <td> 0.962</td> <td>   -0.109</td> <td>    0.115</td>\n",
       "</tr>\n",
       "<tr>\n",
       "  <th>CMA</th>       <td>    0.1893</td> <td>    0.085</td> <td>    2.222</td> <td> 0.027</td> <td>    0.022</td> <td>    0.357</td>\n",
       "</tr>\n",
       "<tr>\n",
       "  <th>mom</th>       <td>    0.1828</td> <td>    0.030</td> <td>    6.103</td> <td> 0.000</td> <td>    0.124</td> <td>    0.242</td>\n",
       "</tr>\n",
       "</table>\n",
       "<table class=\"simpletable\">\n",
       "<tr>\n",
       "  <th>Omnibus:</th>       <td>88.270</td> <th>  Durbin-Watson:     </th> <td>   2.045</td> \n",
       "</tr>\n",
       "<tr>\n",
       "  <th>Prob(Omnibus):</th> <td> 0.000</td> <th>  Jarque-Bera (JB):  </th> <td> 940.260</td> \n",
       "</tr>\n",
       "<tr>\n",
       "  <th>Skew:</th>          <td>-0.072</td> <th>  Prob(JB):          </th> <td>6.68e-205</td>\n",
       "</tr>\n",
       "<tr>\n",
       "  <th>Kurtosis:</th>      <td> 8.997</td> <th>  Cond. No.          </th> <td>    81.5</td> \n",
       "</tr>\n",
       "</table><br/><br/>Notes:<br/>[1] Standard Errors assume that the covariance matrix of the errors is correctly specified."
      ],
      "text/plain": [
       "<class 'statsmodels.iolib.summary.Summary'>\n",
       "\"\"\"\n",
       "                            OLS Regression Results                            \n",
       "==============================================================================\n",
       "Dep. Variable:                    rev   R-squared:                       0.188\n",
       "Model:                            OLS   Adj. R-squared:                  0.180\n",
       "Method:                 Least Squares   F-statistic:                     23.87\n",
       "Date:                Fri, 07 Apr 2023   Prob (F-statistic):           1.85e-25\n",
       "Time:                        08:22:37   Log-Likelihood:                 1322.9\n",
       "No. Observations:                 627   AIC:                            -2632.\n",
       "Df Residuals:                     620   BIC:                            -2601.\n",
       "Df Model:                           6                                         \n",
       "Covariance Type:            nonrobust                                         \n",
       "==============================================================================\n",
       "                 coef    std err          t      P>|t|      [0.025      0.975]\n",
       "------------------------------------------------------------------------------\n",
       "Intercept     -0.0047      0.001     -3.787      0.000      -0.007      -0.002\n",
       "MktRF         -0.1619      0.029     -5.554      0.000      -0.219      -0.105\n",
       "SMB           -0.1191      0.043     -2.741      0.006      -0.204      -0.034\n",
       "HML           -0.1107      0.056     -1.989      0.047      -0.220      -0.001\n",
       "RMW            0.0027      0.057      0.047      0.962      -0.109       0.115\n",
       "CMA            0.1893      0.085      2.222      0.027       0.022       0.357\n",
       "mom            0.1828      0.030      6.103      0.000       0.124       0.242\n",
       "==============================================================================\n",
       "Omnibus:                       88.270   Durbin-Watson:                   2.045\n",
       "Prob(Omnibus):                  0.000   Jarque-Bera (JB):              940.260\n",
       "Skew:                          -0.072   Prob(JB):                    6.68e-205\n",
       "Kurtosis:                       8.997   Cond. No.                         81.5\n",
       "==============================================================================\n",
       "\n",
       "Notes:\n",
       "[1] Standard Errors assume that the covariance matrix of the errors is correctly specified.\n",
       "\"\"\""
      ]
     },
     "execution_count": 69,
     "metadata": {},
     "output_type": "execute_result"
    }
   ],
   "source": [
    "smf.ols('rev ~ MktRF + SMB + HML + RMW + CMA + mom', data=ret).fit().summary()"
   ]
  },
  {
   "cell_type": "code",
   "execution_count": 70,
   "metadata": {
    "slideshow": {
     "slide_type": "subslide"
    }
   },
   "outputs": [],
   "source": [
    "ret.drop(columns='mdate', inplace = True)"
   ]
  },
  {
   "cell_type": "code",
   "execution_count": 71,
   "metadata": {
    "slideshow": {
     "slide_type": "fragment"
    }
   },
   "outputs": [
    {
     "data": {
      "text/plain": [
       "<AxesSubplot:xlabel='date'>"
      ]
     },
     "execution_count": 71,
     "metadata": {},
     "output_type": "execute_result"
    },
    {
     "data": {
      "image/png": "[encoded data removed]",
      "text/plain": [
       "<Figure size 720x432 with 1 Axes>"
      ]
     },
     "metadata": {
      "needs_background": "light"
     },
     "output_type": "display_data"
    }
   ],
   "source": [
    "np.log(1+ret).cumsum().plot()"
   ]
  },
  {
   "cell_type": "markdown",
   "metadata": {
    "slideshow": {
     "slide_type": "slide"
    }
   },
   "source": [
    "## Optimal Portfolio"
   ]
  },
  {
   "cell_type": "code",
   "execution_count": 72,
   "metadata": {
    "slideshow": {
     "slide_type": "subslide"
    }
   },
   "outputs": [
    {
     "name": "stdout",
     "output_type": "stream",
     "text": [
      "Optimal portfolio weights: \n",
      " [ 5.2032133   2.93663828 -2.49580946  9.42281069 14.28197612]\n",
      "\n",
      "Optimal portfolio returns: \n",
      " date\n",
      "1970-10-30    0.241111\n",
      "1970-11-30    0.441698\n",
      "1970-12-31    0.427290\n",
      "1971-01-29    0.262547\n",
      "1971-02-26    0.122419\n",
      "                ...   \n",
      "2022-08-31   -0.424637\n",
      "2022-09-30   -0.778736\n",
      "2022-10-31    1.481586\n",
      "2022-11-30    1.136978\n",
      "2022-12-30    0.235726\n",
      "Length: 627, dtype: float64\n",
      "\n",
      "Optimal portfolio SR:  1.115460586333979\n",
      "\n"
     ]
    }
   ],
   "source": [
    "Sigma = ret[['MktRF', 'SMB', 'HML', 'RMW', 'CMA']].cov()\n",
    "mu = ret[['MktRF', 'SMB', 'HML', 'RMW', 'CMA']].mean()\n",
    "\n",
    "w_mve = np.dot(np.linalg.inv(Sigma), mu)\n",
    "print('Optimal portfolio weights: \\n', w_mve, end='\\n\\n')\n",
    "r_mve = (ret[['MktRF', 'SMB', 'HML', 'RMW', 'CMA']]* w_mve).sum(axis=1)\n",
    "print('Optimal portfolio returns: \\n', r_mve, end='\\n\\n')\n",
    "print('Optimal portfolio SR: ', \n",
    "      np.sqrt(12) * r_mve.mean()/r_mve.std(), end='\\n\\n')"
   ]
  },
  {
   "cell_type": "code",
   "execution_count": 73,
   "metadata": {
    "slideshow": {
     "slide_type": "subslide"
    }
   },
   "outputs": [
    {
     "name": "stdout",
     "output_type": "stream",
     "text": [
      "Optimal portfolio weights: \n",
      " [ 5.83387838  2.98632154 -0.47487087  8.71514912 12.65274854  3.78915326]\n",
      "\n",
      "Optimal portfolio returns: \n",
      " date\n",
      "1970-10-30    0.495537\n",
      "1970-11-30    0.555531\n",
      "1970-12-31    0.394842\n",
      "1971-01-29    0.068144\n",
      "1971-02-26    0.128275\n",
      "                ...   \n",
      "2022-08-31   -0.370780\n",
      "2022-09-30   -0.671083\n",
      "2022-10-31    1.715192\n",
      "2022-11-30    1.071450\n",
      "2022-12-30    0.399377\n",
      "Length: 627, dtype: float64\n",
      "\n",
      "Optimal portfolio SR:  1.229336782396629\n",
      "\n"
     ]
    }
   ],
   "source": [
    "Sigma_mom = ret[['MktRF', 'SMB', 'HML', 'RMW', 'CMA', 'mom']].cov()\n",
    "mu_mom = ret[['MktRF', 'SMB', 'HML', 'RMW', 'CMA', 'mom']].mean()\n",
    "\n",
    "w_mve_mom = np.dot(np.linalg.inv(Sigma_mom), mu_mom)\n",
    "print('Optimal portfolio weights: \\n', w_mve_mom, end='\\n\\n')\n",
    "r_mve_mom = (ret[['MktRF', 'SMB', 'HML', 'RMW', 'CMA', 'mom']]* w_mve_mom).sum(axis=1)\n",
    "print('Optimal portfolio returns: \\n', r_mve_mom, end='\\n\\n')\n",
    "print('Optimal portfolio SR: ', \n",
    "      np.sqrt(12) * r_mve_mom.mean()/r_mve_mom.std(), end='\\n\\n')"
   ]
  }
 ],
 "metadata": {
  "celltoolbar": "Slideshow",
  "kernelspec": {
   "display_name": "Python 3 (ipykernel)",
   "language": "python",
   "name": "python3"
  },
  "language_info": {
   "codemirror_mode": {
    "name": "ipython",
    "version": 3
   },
   "file_extension": ".py",
   "mimetype": "text/x-python",
   "name": "python",
   "nbconvert_exporter": "python",
   "pygments_lexer": "ipython3",
   "version": "3.9.13"
  },
  "toc": {
   "base_numbering": 1,
   "nav_menu": {},
   "number_sections": true,
   "sideBar": true,
   "skip_h1_title": true,
   "title_cell": "Table of Contents",
   "title_sidebar": "Contents",
   "toc_cell": true,
   "toc_position": {},
   "toc_section_display": true,
   "toc_window_display": false
  }
 },
 "nbformat": 4,
 "nbformat_minor": 4
}
