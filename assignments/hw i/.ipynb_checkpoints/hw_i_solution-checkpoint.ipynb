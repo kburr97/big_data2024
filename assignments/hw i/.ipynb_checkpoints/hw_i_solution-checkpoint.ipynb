{
 "cells": [
  {
   "cell_type": "markdown",
   "metadata": {},
   "source": [
    "# Big Data in Finance: Part II <BR><BR> Homework 1: CRSP and Compustat\n",
    "    \n",
    "**Instructor** <BR>\n",
    "Kirsten Burr, kburr26@gsb.columbia.edu\n",
    "    \n",
    "**TA's:** <BR>\n",
    "Meha Sadasivam, MSadasivam21@gsb.columbia.edu <BR>\n",
    "Daheng Yang, dyang22@gsb.columbia.edu"
   ]
  },
  {
   "cell_type": "markdown",
   "metadata": {},
   "source": [
    "**Due:** Feb 15, 2024, by 11:59 pm. Late submission will not be accepted.\n",
    "\n",
    "**Goal**: Explore the information CRSP and Compustat\n",
    "\n",
    "**Delivery**: Please, upload on canvas a .zip file with your .ipynb and .html notebook. "
   ]
  },
  {
   "cell_type": "markdown",
   "metadata": {},
   "source": [
    "# Description\n",
    "\n",
    "US stock exchanges finished 2023 with their best performances in years. The S&P 500-stock index posted its ninth consecutive weekly gain -- its longest winning streak since 2004 -- as it jumped more than 24 percent for the year. The blue-chip Dow Jones industrial average gained 13.7 percent for the year, and the tech-heavy Nasdaq soared 43.4 percent -- its highest annual gain since 2020.\n",
    "\n",
    "Let's look at what happened with stock returns using the data downloaded from CRSP and Compustat."
   ]
  },
  {
   "cell_type": "markdown",
   "metadata": {},
   "source": [
    "## Part I: CRSP stock returns\n",
    "1. What was the cumulative average returns (market-cap weighted and equal-weighted) of CRSP stocks in 2023? (i.e. how much would an investor have by the end of 2023 had she invested $1 in CRSP stocks at the beginning of 2023?)\n",
    "2. Plot the market-cap weighted and equal-weighted cumulative average returns of CRSP stocks from the beginning of the year. \n",
    "3. How much would the same investor have had she entered the market at the end of June, during which stock volatility was relatively lower? \n",
    "4. What were the 10 top performing stocks in 2023? \n",
    "\n",
    "Note: You should only consider ordinary common stocks (i.e., shrcd equal to 10 or 11) that are listed in one of the three main stock exchanges (i.e., exchcd equal to 1 (NYSE), 2 (NYSE MKT) or 3 (NASDAQ)). Remember to use the prior month's market-cap when market-weighting returns."
   ]
  },
  {
   "cell_type": "markdown",
   "metadata": {},
   "source": [
    "## Part II: Tech stock returns\n",
    "1. How much would an investor have by the end of 2023 had she invested $1 in a TECH portfolio (market-cap weighted and equal-weighted) at the beginning of 2023? \n",
    "2. Plot the market-cap weighted and equal-weighted cumulative average returns of the Tech portfolio from the beginning of the year. \n",
    "3. How much would the same investor have had she entered the market at the end of June? \n",
    "4. What are the 10 top performing Tech stocks in the year of 2023? \n",
    "\n",
    "Note: The closest definition of Tech firms according to Fama and French is Business Equipment industry, which includes Computers, Software, and Electronic Equipment. These are firms with SIC codes in the following ranges:\n",
    "\n",
    "        3570-3579\n",
    "        3660-3692\n",
    "        3694-3699\n",
    "        3810-3829\n",
    "        7370-7379"
   ]
  },
  {
   "cell_type": "markdown",
   "metadata": {},
   "source": [
    "## Part III: High profitability stock returns\n",
    "1. Given the fundamental data available to investors as of December 31, 2022, what are the 10 most profitable companies in 2022? Use operating profitability normalized by book-equity (OPBE) from the lecture notes as a measure of profitability.\n",
    "2. How much an investor would have by the end of 2023 had she invested instead in a portfolio (market-cap weighted and equal-weighted) of these 10 most profitable firms' stocks at the beginning of 2023? \n",
    "3. Compare your results to those from Part II. Which portfolio performed better? Why do you think this is the case?\n",
    "4. Plot the market-cap weighted and equal-weighted cumulative average returns from the beginning of the year.\n",
    "5. How much would the same investor have had she invested in these same 10 firms at the end of June? \n",
    "\n",
    "Note: Publicly-listed companies must report their financials within 91 days after the end of the fiscal period. Most companies report on the deadline. Consider this when merging financial results to stock performance."
   ]
  },
  {
   "cell_type": "markdown",
   "metadata": {},
   "source": [
    "# Code \n",
    "\n",
    "## Packages\n",
    "\n",
    "Below is some code that will help you get started. Make sure you have installed all required packages. Use \"conda install\" or \"pip install\" if you you are missing any of the packages."
   ]
  },
  {
   "cell_type": "code",
   "execution_count": 1,
   "metadata": {
    "pycharm": {
     "is_executing": false
    }
   },
   "outputs": [],
   "source": [
    "# Packages\n",
    "%matplotlib inline\n",
    "import matplotlib.pyplot as plt\n",
    "import numpy as np\n",
    "import pandas as pd\n",
    "import wrds\n",
    "from datetime import datetime, timedelta\n",
    "from pandas.tseries.offsets import MonthEnd\n",
    "\n",
    "# Setups\n",
    "pd.set_option(\"display.max_rows\", 100)"
   ]
  },
  {
   "cell_type": "markdown",
   "metadata": {},
   "source": [
    "## WRDS Data Download"
   ]
  },
  {
   "cell_type": "markdown",
   "metadata": {},
   "source": [
    "### WRDS Connection\n",
    "Make sure you can connect to WRDS server. You should configure wrds connector before hand. Please check the syllabus for details.\n"
   ]
  },
  {
   "cell_type": "code",
   "execution_count": 2,
   "metadata": {
    "pycharm": {
     "is_executing": false
    }
   },
   "outputs": [
    {
     "name": "stdout",
     "output_type": "stream",
     "text": [
      "Loading library list...\n",
      "Done\n"
     ]
    }
   ],
   "source": [
    "# Set Up WRDS connection\n",
    "db = wrds.Connection(wrds_username='khardnett') # make sure to change the username. "
   ]
  },
  {
   "cell_type": "markdown",
   "metadata": {},
   "source": [
    "### Download MSF"
   ]
  },
  {
   "cell_type": "code",
   "execution_count": 3,
   "metadata": {},
   "outputs": [],
   "source": [
    "sfvars = ['prc','vol','ret', 'retx','cfacpr','cfacshr']\n",
    "query = \"\"\"SELECT date, permno, permco, {} \n",
    "           FROM crsp.msf\n",
    "           WHERE date>='2022-01-01'\"\"\".format(', '.join(sfvars))\n",
    "msf_data = db.raw_sql(query, date_cols=['date'])\n",
    "\n",
    "# check PK\n",
    "assert msf_data.duplicated(subset=['date','permno']).sum() == 0"
   ]
  },
  {
   "cell_type": "markdown",
   "metadata": {},
   "source": [
    "### Download MSEALL"
   ]
  },
  {
   "cell_type": "code",
   "execution_count": 4,
   "metadata": {},
   "outputs": [],
   "source": [
    "msevars = ['comnam', 'dlret', 'dlretx', 'exchcd','naics', 'cusip', 'ncusip', 'shrcd', 'shrout', \n",
    "           'siccd', 'ticker']\n",
    "query = \"\"\"SELECT date, permno, permco, {} \n",
    "           FROM crspq.mseall\n",
    "           WHERE date>='2022-01-01'\"\"\".format(', '.join(msevars))\n",
    "mse_data = db.raw_sql(query, date_cols=['date'])\n",
    "\n",
    "# drop duplicates\n",
    "mse_data = mse_data[~mse_data.duplicated()].copy()\n",
    "\n",
    "# check PK\n",
    "assert mse_data.duplicated(subset=['date','permno']).sum() == 0"
   ]
  },
  {
   "cell_type": "markdown",
   "metadata": {},
   "source": [
    "### Merge MSF and MSEALL"
   ]
  },
  {
   "cell_type": "code",
   "execution_count": 5,
   "metadata": {},
   "outputs": [],
   "source": [
    "# sort\n",
    "msf_data.sort_values(['date', 'permno'], inplace=True)\n",
    "mse_data.sort_values(['date', 'permno'], inplace=True)\n",
    "\n",
    "# Check of coverage\n",
    "x = pd.Series(msf_data.permno.unique())\n",
    "y = pd.Series(mse_data.permno.unique())\n",
    "# assert len(x[~x.isin(y)]) == 0\n",
    "\n",
    "# Check if delisting happens only once per security\n",
    "assert mse_data[mse_data.dlret.notnull()].groupby(['permno']).date.value_counts().max() == 1\n",
    "\n",
    "# Check if delisting returns only appears after the firm is not longer covered by msf\n",
    "test = mse_data[mse_data.dlret.notnull()]\n",
    "test = pd.merge(msf_data, test[['permno', 'dlret', 'date']], on=['permno'])\n",
    "assert len(test[test.date_x>test.date_y]) == 0"
   ]
  },
  {
   "cell_type": "code",
   "execution_count": 6,
   "metadata": {},
   "outputs": [],
   "source": [
    "msf_data.permno = msf_data.permno.astype('int64')\n",
    "msf_data.permco = msf_data.permco.astype('int64')\n",
    "\n",
    "mse_data.permno = mse_data.permno.astype('int64')\n",
    "mse_data.permco = mse_data.permco.astype('int64')\n",
    "\n",
    "crsp = pd.merge_asof(msf_data, \n",
    "                     mse_data, \n",
    "                     on='date', \n",
    "                     by=['permno','permco'], \n",
    "                     direction='backward')\n",
    "\n",
    "crsp.date = crsp.date + MonthEnd(0)\n",
    "\n",
    "# Check Primary Key\n",
    "assert crsp.duplicated(subset=['permno','date']).sum() == 0"
   ]
  },
  {
   "cell_type": "code",
   "execution_count": 7,
   "metadata": {},
   "outputs": [
    {
     "data": {
      "text/html": [
       "<div>\n",
       "<style scoped>\n",
       "    .dataframe tbody tr th:only-of-type {\n",
       "        vertical-align: middle;\n",
       "    }\n",
       "\n",
       "    .dataframe tbody tr th {\n",
       "        vertical-align: top;\n",
       "    }\n",
       "\n",
       "    .dataframe thead th {\n",
       "        text-align: right;\n",
       "    }\n",
       "</style>\n",
       "<table border=\"1\" class=\"dataframe\">\n",
       "  <thead>\n",
       "    <tr style=\"text-align: right;\">\n",
       "      <th></th>\n",
       "      <th>date</th>\n",
       "      <th>permno</th>\n",
       "      <th>permco</th>\n",
       "      <th>prc</th>\n",
       "      <th>vol</th>\n",
       "      <th>ret</th>\n",
       "      <th>retx</th>\n",
       "      <th>cfacpr</th>\n",
       "      <th>cfacshr</th>\n",
       "      <th>comnam</th>\n",
       "      <th>dlret</th>\n",
       "      <th>dlretx</th>\n",
       "      <th>exchcd</th>\n",
       "      <th>naics</th>\n",
       "      <th>cusip</th>\n",
       "      <th>ncusip</th>\n",
       "      <th>shrcd</th>\n",
       "      <th>shrout</th>\n",
       "      <th>siccd</th>\n",
       "      <th>ticker</th>\n",
       "    </tr>\n",
       "  </thead>\n",
       "  <tbody>\n",
       "    <tr>\n",
       "      <th>0</th>\n",
       "      <td>2022-01-31</td>\n",
       "      <td>10026</td>\n",
       "      <td>7976</td>\n",
       "      <td>151.690</td>\n",
       "      <td>14878.0</td>\n",
       "      <td>-0.039694</td>\n",
       "      <td>-0.039694</td>\n",
       "      <td>1.0</td>\n",
       "      <td>1.0</td>\n",
       "      <td>J &amp; J SNACK FOODS CORP</td>\n",
       "      <td>NaN</td>\n",
       "      <td>NaN</td>\n",
       "      <td>3.0</td>\n",
       "      <td>311930</td>\n",
       "      <td>46603210</td>\n",
       "      <td>46603210</td>\n",
       "      <td>11.0</td>\n",
       "      <td>19110.0</td>\n",
       "      <td>2052.0</td>\n",
       "      <td>JJSF</td>\n",
       "    </tr>\n",
       "    <tr>\n",
       "      <th>1</th>\n",
       "      <td>2022-01-31</td>\n",
       "      <td>10028</td>\n",
       "      <td>7978</td>\n",
       "      <td>3.970</td>\n",
       "      <td>5821.0</td>\n",
       "      <td>-0.024570</td>\n",
       "      <td>-0.024570</td>\n",
       "      <td>1.0</td>\n",
       "      <td>1.0</td>\n",
       "      <td>ENVELA CORP</td>\n",
       "      <td>NaN</td>\n",
       "      <td>NaN</td>\n",
       "      <td>2.0</td>\n",
       "      <td>423940</td>\n",
       "      <td>29402E10</td>\n",
       "      <td>29402E10</td>\n",
       "      <td>11.0</td>\n",
       "      <td>26925.0</td>\n",
       "      <td>5094.0</td>\n",
       "      <td>ELA</td>\n",
       "    </tr>\n",
       "    <tr>\n",
       "      <th>2</th>\n",
       "      <td>2022-01-31</td>\n",
       "      <td>10032</td>\n",
       "      <td>7980</td>\n",
       "      <td>77.520</td>\n",
       "      <td>28512.0</td>\n",
       "      <td>-0.191574</td>\n",
       "      <td>-0.191574</td>\n",
       "      <td>1.0</td>\n",
       "      <td>1.0</td>\n",
       "      <td>PLEXUS CORP</td>\n",
       "      <td>NaN</td>\n",
       "      <td>NaN</td>\n",
       "      <td>3.0</td>\n",
       "      <td>334418</td>\n",
       "      <td>72913210</td>\n",
       "      <td>72913210</td>\n",
       "      <td>11.0</td>\n",
       "      <td>27997.0</td>\n",
       "      <td>3670.0</td>\n",
       "      <td>PLXS</td>\n",
       "    </tr>\n",
       "    <tr>\n",
       "      <th>3</th>\n",
       "      <td>2022-01-31</td>\n",
       "      <td>10044</td>\n",
       "      <td>7992</td>\n",
       "      <td>7.912</td>\n",
       "      <td>3664.0</td>\n",
       "      <td>0.007898</td>\n",
       "      <td>0.007898</td>\n",
       "      <td>1.0</td>\n",
       "      <td>1.0</td>\n",
       "      <td>ROCKY MOUNTAIN CHOC FAC INC NEW</td>\n",
       "      <td>NaN</td>\n",
       "      <td>NaN</td>\n",
       "      <td>3.0</td>\n",
       "      <td>445292</td>\n",
       "      <td>77467X10</td>\n",
       "      <td>77467X10</td>\n",
       "      <td>11.0</td>\n",
       "      <td>6180.0</td>\n",
       "      <td>2060.0</td>\n",
       "      <td>RMCF</td>\n",
       "    </tr>\n",
       "    <tr>\n",
       "      <th>4</th>\n",
       "      <td>2022-01-31</td>\n",
       "      <td>10051</td>\n",
       "      <td>7999</td>\n",
       "      <td>18.130</td>\n",
       "      <td>20676.0</td>\n",
       "      <td>0.000000</td>\n",
       "      <td>0.000000</td>\n",
       "      <td>1.0</td>\n",
       "      <td>1.0</td>\n",
       "      <td>HANGER INC</td>\n",
       "      <td>NaN</td>\n",
       "      <td>NaN</td>\n",
       "      <td>1.0</td>\n",
       "      <td>621498</td>\n",
       "      <td>41043F20</td>\n",
       "      <td>41043F20</td>\n",
       "      <td>11.0</td>\n",
       "      <td>38709.0</td>\n",
       "      <td>4813.0</td>\n",
       "      <td>HNGR</td>\n",
       "    </tr>\n",
       "  </tbody>\n",
       "</table>\n",
       "</div>"
      ],
      "text/plain": [
       "        date  permno  permco      prc      vol       ret      retx  cfacpr  \\\n",
       "0 2022-01-31   10026    7976  151.690  14878.0 -0.039694 -0.039694     1.0   \n",
       "1 2022-01-31   10028    7978    3.970   5821.0 -0.024570 -0.024570     1.0   \n",
       "2 2022-01-31   10032    7980   77.520  28512.0 -0.191574 -0.191574     1.0   \n",
       "3 2022-01-31   10044    7992    7.912   3664.0  0.007898  0.007898     1.0   \n",
       "4 2022-01-31   10051    7999   18.130  20676.0  0.000000  0.000000     1.0   \n",
       "\n",
       "   cfacshr                           comnam  dlret  dlretx  exchcd   naics  \\\n",
       "0      1.0           J & J SNACK FOODS CORP    NaN     NaN     3.0  311930   \n",
       "1      1.0                      ENVELA CORP    NaN     NaN     2.0  423940   \n",
       "2      1.0                      PLEXUS CORP    NaN     NaN     3.0  334418   \n",
       "3      1.0  ROCKY MOUNTAIN CHOC FAC INC NEW    NaN     NaN     3.0  445292   \n",
       "4      1.0                       HANGER INC    NaN     NaN     1.0  621498   \n",
       "\n",
       "      cusip    ncusip  shrcd   shrout   siccd ticker  \n",
       "0  46603210  46603210   11.0  19110.0  2052.0   JJSF  \n",
       "1  29402E10  29402E10   11.0  26925.0  5094.0    ELA  \n",
       "2  72913210  72913210   11.0  27997.0  3670.0   PLXS  \n",
       "3  77467X10  77467X10   11.0   6180.0  2060.0   RMCF  \n",
       "4  41043F20  41043F20   11.0  38709.0  4813.0   HNGR  "
      ]
     },
     "execution_count": 7,
     "metadata": {},
     "output_type": "execute_result"
    }
   ],
   "source": [
    "crsp.head()"
   ]
  },
  {
   "cell_type": "markdown",
   "metadata": {
    "tags": []
   },
   "source": [
    "## Preparing the Data"
   ]
  },
  {
   "cell_type": "markdown",
   "metadata": {},
   "source": [
    "### Adjust returns for stock delisting"
   ]
  },
  {
   "cell_type": "code",
   "execution_count": 8,
   "metadata": {},
   "outputs": [],
   "source": [
    "crsp['retadj'] = ((1+crsp['ret'].fillna(0))*(1+crsp['dlret'].fillna(0))-1)\n",
    "crsp.loc[crsp[['ret', 'dlret']].isnull().all(axis=1), 'retadj'] = np.nan"
   ]
  },
  {
   "cell_type": "markdown",
   "metadata": {},
   "source": [
    "### Calculate market value of equity (ME) and one-month lagged ME"
   ]
  },
  {
   "cell_type": "code",
   "execution_count": 9,
   "metadata": {},
   "outputs": [],
   "source": [
    "# SHROUT is the number of publicly held shares, recorded in thousands. ME will be reported in 1,000,000 ($10^6$),\n",
    "# Like on Ken French's website. \n",
    "crsp['me'] = abs(crsp['prc']) * (crsp['shrout']/1000)\n",
    "# If the stock is delisted, we set ME to NaN.\n",
    "crsp.loc[crsp.dlret.notnull(), 'me'] = np.nan\n",
    "\n",
    "# lag one month for value weighting\n",
    "crsp.sort_values(['permno','date'], inplace=True)\n",
    "crsp['melag_nt']=crsp.groupby(['permno']).me.shift(1)\n",
    "# What to do if ME is missing? We pad for the lattest available info\n",
    "crsp['melag'] = crsp.groupby('permno').melag_nt.fillna(method='pad')"
   ]
  },
  {
   "cell_type": "markdown",
   "metadata": {},
   "source": [
    "### Apply Share Type and Exchange Code Filters"
   ]
  },
  {
   "cell_type": "code",
   "execution_count": 10,
   "metadata": {},
   "outputs": [],
   "source": [
    "crsp = crsp.loc[(crsp['shrcd'] == 11) | (crsp['shrcd'] == 10)].copy()\n",
    "crsp = crsp.loc[(crsp['exchcd'] == 1) | (crsp['exchcd'] == 2) | (crsp['exchcd'] == 3)].copy()"
   ]
  },
  {
   "cell_type": "code",
   "execution_count": 11,
   "metadata": {},
   "outputs": [],
   "source": [
    "crsp.sort_values(by=['permno', 'date'], ascending=True, inplace=True)\n",
    "crsp = crsp[crsp.melag.notnull()]\n",
    "crsp = crsp[crsp.retadj.notnull()]"
   ]
  },
  {
   "cell_type": "markdown",
   "metadata": {},
   "source": [
    "## Part I -- CRSP Stock Returns"
   ]
  },
  {
   "cell_type": "code",
   "execution_count": 12,
   "metadata": {},
   "outputs": [],
   "source": [
    "# keep 2023 data\n",
    "crsp = crsp[crsp.date >= '2022-12-31']\n",
    "crsp.loc[crsp.date == '2022-12-31','retadj'] = 0"
   ]
  },
  {
   "cell_type": "markdown",
   "metadata": {},
   "source": [
    "### Calculate CRSP value weighted returns"
   ]
  },
  {
   "cell_type": "code",
   "execution_count": 13,
   "metadata": {
    "scrolled": true
   },
   "outputs": [],
   "source": [
    "crsp_ret = crsp.groupby('date').apply(lambda x: np.average(x['retadj'], weights = x['melag']))\n",
    "crsp_ret = pd.DataFrame(crsp_ret, index=crsp_ret.index, columns=['ret_w'])\n",
    "crsp_ret['cum_w'] = (1 + crsp_ret['ret_w']).cumprod()"
   ]
  },
  {
   "cell_type": "markdown",
   "metadata": {},
   "source": [
    "### Calculate CRSP equal weighted returns"
   ]
  },
  {
   "cell_type": "code",
   "execution_count": 14,
   "metadata": {},
   "outputs": [],
   "source": [
    "crsp_ret['ret_e'] = crsp.groupby('date')['retadj'].mean()\n",
    "crsp_ret['cum_e'] = (1 + crsp_ret['ret_e']).cumprod()"
   ]
  },
  {
   "cell_type": "markdown",
   "metadata": {},
   "source": [
    "### Plot cumulative average returns"
   ]
  },
  {
   "cell_type": "code",
   "execution_count": 15,
   "metadata": {},
   "outputs": [
    {
     "data": {
      "text/plain": [
       "<Axes: xlabel='date'>"
      ]
     },
     "execution_count": 15,
     "metadata": {},
     "output_type": "execute_result"
    },
    {
     "data": {
      "image/png": "[encoded data removed]",
      "text/plain": [
       "<Figure size 640x480 with 1 Axes>"
      ]
     },
     "metadata": {},
     "output_type": "display_data"
    }
   ],
   "source": [
    "crsp_ret[['cum_w','cum_e']].plot()"
   ]
  },
  {
   "cell_type": "markdown",
   "metadata": {},
   "source": [
    "### Report cumulative average returns"
   ]
  },
  {
   "cell_type": "code",
   "execution_count": 16,
   "metadata": {},
   "outputs": [
    {
     "data": {
      "text/html": [
       "<div>\n",
       "<style scoped>\n",
       "    .dataframe tbody tr th:only-of-type {\n",
       "        vertical-align: middle;\n",
       "    }\n",
       "\n",
       "    .dataframe tbody tr th {\n",
       "        vertical-align: top;\n",
       "    }\n",
       "\n",
       "    .dataframe thead th {\n",
       "        text-align: right;\n",
       "    }\n",
       "</style>\n",
       "<table border=\"1\" class=\"dataframe\">\n",
       "  <thead>\n",
       "    <tr style=\"text-align: right;\">\n",
       "      <th></th>\n",
       "      <th>cum_w</th>\n",
       "      <th>cum_e</th>\n",
       "    </tr>\n",
       "    <tr>\n",
       "      <th>date</th>\n",
       "      <th></th>\n",
       "      <th></th>\n",
       "    </tr>\n",
       "  </thead>\n",
       "  <tbody>\n",
       "    <tr>\n",
       "      <th>2023-12-31</th>\n",
       "      <td>1.26589</td>\n",
       "      <td>1.073608</td>\n",
       "    </tr>\n",
       "  </tbody>\n",
       "</table>\n",
       "</div>"
      ],
      "text/plain": [
       "              cum_w     cum_e\n",
       "date                         \n",
       "2023-12-31  1.26589  1.073608"
      ]
     },
     "execution_count": 16,
     "metadata": {},
     "output_type": "execute_result"
    }
   ],
   "source": [
    "# Returns since the beginning of the year\n",
    "crsp_ret.loc[crsp_ret.index=='2023-12-31',['cum_w','cum_e']]"
   ]
  },
  {
   "cell_type": "code",
   "execution_count": 17,
   "metadata": {},
   "outputs": [
    {
     "data": {
      "text/html": [
       "<div>\n",
       "<style scoped>\n",
       "    .dataframe tbody tr th:only-of-type {\n",
       "        vertical-align: middle;\n",
       "    }\n",
       "\n",
       "    .dataframe tbody tr th {\n",
       "        vertical-align: top;\n",
       "    }\n",
       "\n",
       "    .dataframe thead th {\n",
       "        text-align: right;\n",
       "    }\n",
       "</style>\n",
       "<table border=\"1\" class=\"dataframe\">\n",
       "  <thead>\n",
       "    <tr style=\"text-align: right;\">\n",
       "      <th></th>\n",
       "      <th>cum_w</th>\n",
       "      <th>cum_e</th>\n",
       "    </tr>\n",
       "    <tr>\n",
       "      <th>date</th>\n",
       "      <th></th>\n",
       "      <th></th>\n",
       "    </tr>\n",
       "  </thead>\n",
       "  <tbody>\n",
       "    <tr>\n",
       "      <th>2023-12-31</th>\n",
       "      <td>1.083375</td>\n",
       "      <td>1.003844</td>\n",
       "    </tr>\n",
       "  </tbody>\n",
       "</table>\n",
       "</div>"
      ],
      "text/plain": [
       "               cum_w     cum_e\n",
       "date                          \n",
       "2023-12-31  1.083375  1.003844"
      ]
     },
     "execution_count": 17,
     "metadata": {},
     "output_type": "execute_result"
    }
   ],
   "source": [
    "# Returns since June\n",
    "(crsp_ret[crsp_ret.index >'2023-06-30'][['cum_w','cum_e']] / crsp_ret.loc[crsp_ret.index=='2023-06-30',['cum_w','cum_e']].values)[-1:]"
   ]
  },
  {
   "cell_type": "markdown",
   "metadata": {},
   "source": [
    "### Calculate cumulative returns"
   ]
  },
  {
   "cell_type": "code",
   "execution_count": 18,
   "metadata": {},
   "outputs": [],
   "source": [
    "crsp['cum_ret'] = crsp.groupby('permno')['retadj'].apply(lambda x: (1 + x).cumprod())"
   ]
  },
  {
   "cell_type": "markdown",
   "metadata": {},
   "source": [
    "### Top 10 Stocks -- CRSP"
   ]
  },
  {
   "cell_type": "code",
   "execution_count": 19,
   "metadata": {},
   "outputs": [
    {
     "data": {
      "text/html": [
       "<div>\n",
       "<style scoped>\n",
       "    .dataframe tbody tr th:only-of-type {\n",
       "        vertical-align: middle;\n",
       "    }\n",
       "\n",
       "    .dataframe tbody tr th {\n",
       "        vertical-align: top;\n",
       "    }\n",
       "\n",
       "    .dataframe thead th {\n",
       "        text-align: right;\n",
       "    }\n",
       "</style>\n",
       "<table border=\"1\" class=\"dataframe\">\n",
       "  <thead>\n",
       "    <tr style=\"text-align: right;\">\n",
       "      <th></th>\n",
       "      <th>comnam</th>\n",
       "      <th>permno</th>\n",
       "      <th>cum_ret</th>\n",
       "    </tr>\n",
       "  </thead>\n",
       "  <tbody>\n",
       "    <tr>\n",
       "      <th>221729</th>\n",
       "      <td>SOLENO THERAPEUTICS INC</td>\n",
       "      <td>15058</td>\n",
       "      <td>20.328271</td>\n",
       "    </tr>\n",
       "    <tr>\n",
       "      <th>222324</th>\n",
       "      <td>CARVANA CO</td>\n",
       "      <td>16655</td>\n",
       "      <td>11.168779</td>\n",
       "    </tr>\n",
       "    <tr>\n",
       "      <th>221352</th>\n",
       "      <td>APPLIED OPTOELECTRONICS INC</td>\n",
       "      <td>14145</td>\n",
       "      <td>10.222216</td>\n",
       "    </tr>\n",
       "    <tr>\n",
       "      <th>222379</th>\n",
       "      <td>MYOMO INC</td>\n",
       "      <td>16765</td>\n",
       "      <td>9.796642</td>\n",
       "    </tr>\n",
       "    <tr>\n",
       "      <th>221180</th>\n",
       "      <td>AMERICAN COASTAL INSURANCE CORP</td>\n",
       "      <td>13712</td>\n",
       "      <td>8.924541</td>\n",
       "    </tr>\n",
       "    <tr>\n",
       "      <th>224200</th>\n",
       "      <td>CIPHER MINING INC</td>\n",
       "      <td>20295</td>\n",
       "      <td>7.374999</td>\n",
       "    </tr>\n",
       "    <tr>\n",
       "      <th>224598</th>\n",
       "      <td>NEUROPACE INC</td>\n",
       "      <td>21081</td>\n",
       "      <td>6.919466</td>\n",
       "    </tr>\n",
       "    <tr>\n",
       "      <th>221634</th>\n",
       "      <td>MARATHON DIGITAL HOLDINGS INC</td>\n",
       "      <td>14813</td>\n",
       "      <td>6.868411</td>\n",
       "    </tr>\n",
       "    <tr>\n",
       "      <th>229127</th>\n",
       "      <td>EYEPOINT PHARMACEUTICALS INC</td>\n",
       "      <td>90542</td>\n",
       "      <td>6.602860</td>\n",
       "    </tr>\n",
       "    <tr>\n",
       "      <th>225568</th>\n",
       "      <td>DIRECT DIGITAL HOLDINGS INC</td>\n",
       "      <td>22772</td>\n",
       "      <td>6.136089</td>\n",
       "    </tr>\n",
       "  </tbody>\n",
       "</table>\n",
       "</div>"
      ],
      "text/plain": [
       "                                 comnam  permno    cum_ret\n",
       "221729          SOLENO THERAPEUTICS INC   15058  20.328271\n",
       "222324                       CARVANA CO   16655  11.168779\n",
       "221352      APPLIED OPTOELECTRONICS INC   14145  10.222216\n",
       "222379                        MYOMO INC   16765   9.796642\n",
       "221180  AMERICAN COASTAL INSURANCE CORP   13712   8.924541\n",
       "224200                CIPHER MINING INC   20295   7.374999\n",
       "224598                    NEUROPACE INC   21081   6.919466\n",
       "221634    MARATHON DIGITAL HOLDINGS INC   14813   6.868411\n",
       "229127     EYEPOINT PHARMACEUTICALS INC   90542   6.602860\n",
       "225568      DIRECT DIGITAL HOLDINGS INC   22772   6.136089"
      ]
     },
     "execution_count": 19,
     "metadata": {},
     "output_type": "execute_result"
    }
   ],
   "source": [
    "# Top performing stocks\n",
    "crsp.loc[crsp['date'] == '2023-12-31', ['comnam', 'permno','cum_ret']].sort_values(by='cum_ret', ascending=False).head(10)"
   ]
  },
  {
   "cell_type": "markdown",
   "metadata": {},
   "source": [
    "## Part II -- Tech Stock Returns"
   ]
  },
  {
   "cell_type": "code",
   "execution_count": 20,
   "metadata": {},
   "outputs": [],
   "source": [
    "tech = crsp.loc[((crsp['siccd'] >= 3570) & (crsp['siccd'] <= 3579)) |\n",
    "                ((crsp['siccd'] >= 3660) & (crsp['siccd'] <= 3692)) |\n",
    "                ((crsp['siccd'] >= 3694) & (crsp['siccd'] <= 3699)) |\n",
    "                ((crsp['siccd'] >= 3810) & (crsp['siccd'] <= 3829)) |\n",
    "                ((crsp['siccd'] >= 7370) & (crsp['siccd'] <= 7379))&\n",
    "                (crsp['date'].dt.year==2023)].copy()"
   ]
  },
  {
   "cell_type": "markdown",
   "metadata": {},
   "source": [
    "### Calculate TECH value weighted returns"
   ]
  },
  {
   "cell_type": "code",
   "execution_count": 21,
   "metadata": {
    "scrolled": true
   },
   "outputs": [],
   "source": [
    "tech_ret = tech.groupby('date').apply(lambda x:\n",
    "                                       np.average(x['retadj'], \n",
    "                                                  weights = x['melag']))\n",
    "tech_ret = pd.DataFrame(tech_ret, index=tech_ret.index, columns=['ret_w'])\n",
    "tech_ret['cum_w'] = (1 + tech_ret['ret_w']).cumprod()"
   ]
  },
  {
   "cell_type": "markdown",
   "metadata": {},
   "source": [
    "### Calculate TECH equal weighted returns"
   ]
  },
  {
   "cell_type": "code",
   "execution_count": 22,
   "metadata": {},
   "outputs": [],
   "source": [
    "tech_ret['ret_e'] = tech.groupby('date')['retadj'].mean()\n",
    "tech_ret['cum_e'] = (1 + tech_ret['ret_e']).cumprod()"
   ]
  },
  {
   "cell_type": "markdown",
   "metadata": {},
   "source": [
    "### Plot cumulative portfolio returns"
   ]
  },
  {
   "cell_type": "code",
   "execution_count": 23,
   "metadata": {},
   "outputs": [
    {
     "data": {
      "text/plain": [
       "<Axes: xlabel='date'>"
      ]
     },
     "execution_count": 23,
     "metadata": {},
     "output_type": "execute_result"
    },
    {
     "data": {
      "image/png": "[encoded data removed]",
      "text/plain": [
       "<Figure size 640x480 with 1 Axes>"
      ]
     },
     "metadata": {},
     "output_type": "display_data"
    }
   ],
   "source": [
    "tech_ret[['cum_w','cum_e']].plot()"
   ]
  },
  {
   "cell_type": "markdown",
   "metadata": {},
   "source": [
    "### Report cumulative portfolio returns"
   ]
  },
  {
   "cell_type": "code",
   "execution_count": 24,
   "metadata": {
    "scrolled": true
   },
   "outputs": [
    {
     "data": {
      "text/html": [
       "<div>\n",
       "<style scoped>\n",
       "    .dataframe tbody tr th:only-of-type {\n",
       "        vertical-align: middle;\n",
       "    }\n",
       "\n",
       "    .dataframe tbody tr th {\n",
       "        vertical-align: top;\n",
       "    }\n",
       "\n",
       "    .dataframe thead th {\n",
       "        text-align: right;\n",
       "    }\n",
       "</style>\n",
       "<table border=\"1\" class=\"dataframe\">\n",
       "  <thead>\n",
       "    <tr style=\"text-align: right;\">\n",
       "      <th></th>\n",
       "      <th>cum_w</th>\n",
       "      <th>cum_e</th>\n",
       "    </tr>\n",
       "    <tr>\n",
       "      <th>date</th>\n",
       "      <th></th>\n",
       "      <th></th>\n",
       "    </tr>\n",
       "  </thead>\n",
       "  <tbody>\n",
       "    <tr>\n",
       "      <th>2023-12-31</th>\n",
       "      <td>1.580472</td>\n",
       "      <td>1.193498</td>\n",
       "    </tr>\n",
       "  </tbody>\n",
       "</table>\n",
       "</div>"
      ],
      "text/plain": [
       "               cum_w     cum_e\n",
       "date                          \n",
       "2023-12-31  1.580472  1.193498"
      ]
     },
     "execution_count": 24,
     "metadata": {},
     "output_type": "execute_result"
    }
   ],
   "source": [
    "# Return from beginning of the year\n",
    "tech_ret.loc[tech_ret.index=='2023-12-31',['cum_w','cum_e']]"
   ]
  },
  {
   "cell_type": "code",
   "execution_count": 25,
   "metadata": {
    "scrolled": true
   },
   "outputs": [
    {
     "data": {
      "text/html": [
       "<div>\n",
       "<style scoped>\n",
       "    .dataframe tbody tr th:only-of-type {\n",
       "        vertical-align: middle;\n",
       "    }\n",
       "\n",
       "    .dataframe tbody tr th {\n",
       "        vertical-align: top;\n",
       "    }\n",
       "\n",
       "    .dataframe thead th {\n",
       "        text-align: right;\n",
       "    }\n",
       "</style>\n",
       "<table border=\"1\" class=\"dataframe\">\n",
       "  <thead>\n",
       "    <tr style=\"text-align: right;\">\n",
       "      <th></th>\n",
       "      <th>cum_w</th>\n",
       "      <th>cum_e</th>\n",
       "    </tr>\n",
       "    <tr>\n",
       "      <th>date</th>\n",
       "      <th></th>\n",
       "      <th></th>\n",
       "    </tr>\n",
       "  </thead>\n",
       "  <tbody>\n",
       "    <tr>\n",
       "      <th>2023-12-31</th>\n",
       "      <td>1.110651</td>\n",
       "      <td>0.999106</td>\n",
       "    </tr>\n",
       "  </tbody>\n",
       "</table>\n",
       "</div>"
      ],
      "text/plain": [
       "               cum_w     cum_e\n",
       "date                          \n",
       "2023-12-31  1.110651  0.999106"
      ]
     },
     "execution_count": 25,
     "metadata": {},
     "output_type": "execute_result"
    }
   ],
   "source": [
    "# Return from the end of June\n",
    "(tech_ret[tech_ret.index >'2023-06-30'][['cum_w','cum_e']] / tech_ret.loc[tech_ret.index=='2023-06-30',['cum_w','cum_e']].values)[-1:]"
   ]
  },
  {
   "cell_type": "markdown",
   "metadata": {},
   "source": [
    "### Top 10 Stocks -- TECH"
   ]
  },
  {
   "cell_type": "code",
   "execution_count": 26,
   "metadata": {},
   "outputs": [
    {
     "data": {
      "text/html": [
       "<div>\n",
       "<style scoped>\n",
       "    .dataframe tbody tr th:only-of-type {\n",
       "        vertical-align: middle;\n",
       "    }\n",
       "\n",
       "    .dataframe tbody tr th {\n",
       "        vertical-align: top;\n",
       "    }\n",
       "\n",
       "    .dataframe thead th {\n",
       "        text-align: right;\n",
       "    }\n",
       "</style>\n",
       "<table border=\"1\" class=\"dataframe\">\n",
       "  <thead>\n",
       "    <tr style=\"text-align: right;\">\n",
       "      <th></th>\n",
       "      <th>comnam</th>\n",
       "      <th>permno</th>\n",
       "      <th>cum_ret</th>\n",
       "    </tr>\n",
       "  </thead>\n",
       "  <tbody>\n",
       "    <tr>\n",
       "      <th>228420</th>\n",
       "      <td>MICROSTRATEGY INC</td>\n",
       "      <td>86211</td>\n",
       "      <td>4.461536</td>\n",
       "    </tr>\n",
       "    <tr>\n",
       "      <th>226015</th>\n",
       "      <td>M TRON INDUSTRIES INC</td>\n",
       "      <td>23381</td>\n",
       "      <td>4.080002</td>\n",
       "    </tr>\n",
       "    <tr>\n",
       "      <th>228977</th>\n",
       "      <td>APPLIED DIGITAL CORP</td>\n",
       "      <td>89986</td>\n",
       "      <td>3.663044</td>\n",
       "    </tr>\n",
       "    <tr>\n",
       "      <th>222971</th>\n",
       "      <td>VERTIV HOLDINGS CO</td>\n",
       "      <td>17987</td>\n",
       "      <td>3.517938</td>\n",
       "    </tr>\n",
       "    <tr>\n",
       "      <th>229567</th>\n",
       "      <td>SUPER MICRO COMPUTER INC</td>\n",
       "      <td>91907</td>\n",
       "      <td>3.462362</td>\n",
       "    </tr>\n",
       "    <tr>\n",
       "      <th>228459</th>\n",
       "      <td>NVIDIA CORP</td>\n",
       "      <td>86580</td>\n",
       "      <td>3.390064</td>\n",
       "    </tr>\n",
       "    <tr>\n",
       "      <th>224582</th>\n",
       "      <td>BIGBEAR AI HOLDINGS INC</td>\n",
       "      <td>21053</td>\n",
       "      <td>3.176492</td>\n",
       "    </tr>\n",
       "    <tr>\n",
       "      <th>228342</th>\n",
       "      <td>GEOSPACE TECHNOLOGIES CORP</td>\n",
       "      <td>85567</td>\n",
       "      <td>3.071087</td>\n",
       "    </tr>\n",
       "    <tr>\n",
       "      <th>227683</th>\n",
       "      <td>AMERICAN SUPERCONDUCTOR CORP</td>\n",
       "      <td>77175</td>\n",
       "      <td>3.027175</td>\n",
       "    </tr>\n",
       "    <tr>\n",
       "      <th>221090</th>\n",
       "      <td>META PLATFORMS INC</td>\n",
       "      <td>13407</td>\n",
       "      <td>2.941330</td>\n",
       "    </tr>\n",
       "  </tbody>\n",
       "</table>\n",
       "</div>"
      ],
      "text/plain": [
       "                              comnam  permno   cum_ret\n",
       "228420             MICROSTRATEGY INC   86211  4.461536\n",
       "226015         M TRON INDUSTRIES INC   23381  4.080002\n",
       "228977          APPLIED DIGITAL CORP   89986  3.663044\n",
       "222971            VERTIV HOLDINGS CO   17987  3.517938\n",
       "229567      SUPER MICRO COMPUTER INC   91907  3.462362\n",
       "228459                   NVIDIA CORP   86580  3.390064\n",
       "224582       BIGBEAR AI HOLDINGS INC   21053  3.176492\n",
       "228342    GEOSPACE TECHNOLOGIES CORP   85567  3.071087\n",
       "227683  AMERICAN SUPERCONDUCTOR CORP   77175  3.027175\n",
       "221090            META PLATFORMS INC   13407  2.941330"
      ]
     },
     "execution_count": 26,
     "metadata": {},
     "output_type": "execute_result"
    }
   ],
   "source": [
    "tech.loc[tech['date'] == '2023-12-31', ['comnam', 'permno', 'cum_ret']].sort_values(by='cum_ret', ascending=False).head(10)"
   ]
  },
  {
   "cell_type": "markdown",
   "metadata": {},
   "source": [
    "## Part III -- OPBE Sorts"
   ]
  },
  {
   "cell_type": "markdown",
   "metadata": {},
   "source": [
    "### Merge CRSP and Compustat to Calculate OPBE"
   ]
  },
  {
   "cell_type": "markdown",
   "metadata": {},
   "source": [
    "#### Download Compustat data from 2022"
   ]
  },
  {
   "cell_type": "code",
   "execution_count": 27,
   "metadata": {},
   "outputs": [],
   "source": [
    "fund_table = 'funda'\n",
    "\n",
    "varlist = ['conm', 'tic', 'cusip','fyear', 'fyr', 'at','capx', 'ceq', 'cogs', 'csho', 'dlc', 'dlcch','dltt', 'dp', 'ib', 'itcb', \n",
    "           'lt', 'mib', 'naicsh', 'ni', 'prstkcc', 'pstk', 'pstkl', 'pstkrv', 're', 'revt', 'sale', \n",
    "           'seq', 'sich', 'txdb', 'txdi', 'txditc', 'wcapch', 'xint', 'xlr', 'xrd', 'xsga']\n",
    "\n",
    "\n",
    "query = \"\"\"SELECT gvkey, datadate, {}\n",
    "           FROM comp.{}\n",
    "           WHERE datafmt = 'STD'\n",
    "           AND popsrc = 'D'\n",
    "           AND indfmt = 'INDL'\n",
    "           AND consol = 'C'\n",
    "           AND fyear>=2021;\"\"\".format(\", \".join(varlist), fund_table)\n",
    "\n",
    "compa = db.raw_sql(query, date_cols=['datadate'])\n",
    "# Reporting date\n",
    "compa['report_date'] = compa['datadate'] + timedelta(days=91)"
   ]
  },
  {
   "cell_type": "markdown",
   "metadata": {},
   "source": [
    "#### Keep the latest (datadate) obervation if there are duplicates"
   ]
  },
  {
   "cell_type": "code",
   "execution_count": 28,
   "metadata": {},
   "outputs": [],
   "source": [
    "# How to deal with duplicates? Keep last available entry (datadate)\n",
    "compa.dropna(subset=['fyear'], inplace=True)\n",
    "compa.sort_values(['gvkey','fyear','at'], inplace=True)\n",
    "compa = compa[~compa.duplicated(['gvkey', 'fyear'], keep='first')]\n",
    "assert compa.duplicated(['gvkey', 'fyear']).sum() == 0"
   ]
  },
  {
   "cell_type": "markdown",
   "metadata": {},
   "source": [
    "#### Calculate OPBE"
   ]
  },
  {
   "cell_type": "code",
   "execution_count": 29,
   "metadata": {},
   "outputs": [],
   "source": [
    "# Calculating BE\n",
    "\n",
    "# Shareholder Equity\n",
    "compa['se'] = compa['seq']\n",
    "\n",
    "# Uses Common Equity (ceq) + Preferred Stock (pstk) if SEQ is missing:\n",
    "compa['se'].fillna((compa['ceq'] + compa['pstk']), inplace=True)\n",
    "\n",
    "# Uses Total Assets (at) - Liabilities (lt) + Minority Interest (mib, if available), if others are missing\n",
    "compa['se'].fillna((compa['at'] - compa['lt'] + compa['mib'].fillna(0)), inplace=True)\n",
    "\n",
    "# Preferred Stock\n",
    "# Preferred Stock (Redemption Value)\n",
    "compa['ps'] = compa['pstkrv']\n",
    "# Uses Preferred Stock (Liquidating Value (pstkl)) if Preferred Stock (Redemption Value) is missing\n",
    "compa['ps'].fillna(compa['pstkl'], inplace=True)\n",
    "# Uses Preferred Stock (Carrying Value (pstk)) if others are missing\n",
    "compa['ps'].fillna(compa['pstk'], inplace=True)\n",
    "\n",
    "# Deferred Taxes\n",
    "# Uses Deferred Taxes and Investment Tax Credit (txditc)\n",
    "compa['dt'] = compa['txditc']\n",
    "\n",
    "# This was Novy-Marx old legacy code. We drop this part to be in accordance with Ken French.\n",
    "# Uses Deferred Taxes and Investment Tax Credit(txdb) + Investment Tax Credit (Balance Sheet) (itcb) if txditc is missing\n",
    "compa['dt'].fillna((compa['txdb'].fillna(0) + compa['itcb'].fillna(0)), inplace=True)\n",
    "# If all measures are missing, set n  to missing\n",
    "compa.loc[pd.isnull(compa['txditc']) & pd.isnull(compa['txdb']) & pd.isnull(compa['itcb']), 'dt'] = np.nan\n",
    "\n",
    "compa.loc[compa['fyear'] >= 1993, 'dt'] = 0\n",
    "\n",
    "# Book Equity\n",
    "# Book Equity (BE) = Share Equity (se) - Prefered Stocks (ps) + Deferred Taxes (dt)\n",
    "compa['be'] = (compa['se']  # shareholder equity must be available, otherwise BE is missing\n",
    "               - compa['ps']  # preferred stock must be available, otherwise BE is missing\n",
    "               + compa['dt'].fillna(0))  # add deferred taxes if available\n",
    "               #- compa['prba'].fillna(0))  # subtract postretirement benefit assets if available"
   ]
  },
  {
   "cell_type": "code",
   "execution_count": 30,
   "metadata": {},
   "outputs": [],
   "source": [
    "# Calculating OP\n",
    "\n",
    "# COST = COGS + XSGA + XINT \n",
    "compa['cost'] = compa[['cogs', 'xsga', 'xint']].sum(axis=1, skipna=True)\n",
    "compa.loc[compa[['cogs', 'xsga', 'xint']].isnull().all(axis=1), 'cost'] = np.nan\n",
    "\n",
    "# OP = SALE -COST    \n",
    "compa['op'] = compa['sale']-compa['cost']"
   ]
  },
  {
   "cell_type": "code",
   "execution_count": 31,
   "metadata": {},
   "outputs": [],
   "source": [
    "# Calculating OPBE\n",
    "compa.loc[(compa.be > 0), 'opbe'] = compa['op']/compa['be']"
   ]
  },
  {
   "cell_type": "markdown",
   "metadata": {},
   "source": [
    "#### Merge CRSP and Compustat data"
   ]
  },
  {
   "cell_type": "code",
   "execution_count": 32,
   "metadata": {},
   "outputs": [],
   "source": [
    "sql = '''SELECT gvkey, lpermno as permno, lpermco as permco, linktype, linkdt, linkenddt\n",
    "         FROM crsp.ccmxpf_lnkhist\n",
    "         WHERE linktype IN ('LC', 'LU', 'LS') \n",
    "      ''' \n",
    "\n",
    "link_table = db.raw_sql(sql, date_cols=['linkdt', 'linkenddt'])"
   ]
  },
  {
   "cell_type": "code",
   "execution_count": 33,
   "metadata": {},
   "outputs": [
    {
     "data": {
      "text/html": [
       "<div>\n",
       "<style scoped>\n",
       "    .dataframe tbody tr th:only-of-type {\n",
       "        vertical-align: middle;\n",
       "    }\n",
       "\n",
       "    .dataframe tbody tr th {\n",
       "        vertical-align: top;\n",
       "    }\n",
       "\n",
       "    .dataframe thead th {\n",
       "        text-align: right;\n",
       "    }\n",
       "</style>\n",
       "<table border=\"1\" class=\"dataframe\">\n",
       "  <thead>\n",
       "    <tr style=\"text-align: right;\">\n",
       "      <th></th>\n",
       "      <th>gvkey</th>\n",
       "      <th>datadate</th>\n",
       "      <th>conm</th>\n",
       "      <th>tic</th>\n",
       "      <th>cusip</th>\n",
       "      <th>fyear</th>\n",
       "      <th>fyr</th>\n",
       "      <th>at</th>\n",
       "      <th>capx</th>\n",
       "      <th>ceq</th>\n",
       "      <th>...</th>\n",
       "      <th>dt</th>\n",
       "      <th>be</th>\n",
       "      <th>cost</th>\n",
       "      <th>op</th>\n",
       "      <th>opbe</th>\n",
       "      <th>permno</th>\n",
       "      <th>permco</th>\n",
       "      <th>linktype</th>\n",
       "      <th>linkdt</th>\n",
       "      <th>linkenddt</th>\n",
       "    </tr>\n",
       "  </thead>\n",
       "  <tbody>\n",
       "    <tr>\n",
       "      <th>0</th>\n",
       "      <td>001004</td>\n",
       "      <td>2022-05-31</td>\n",
       "      <td>AAR CORP</td>\n",
       "      <td>AIR</td>\n",
       "      <td>000361105</td>\n",
       "      <td>2021</td>\n",
       "      <td>5</td>\n",
       "      <td>1573.9</td>\n",
       "      <td>17.3</td>\n",
       "      <td>1034.5</td>\n",
       "      <td>...</td>\n",
       "      <td>0.0</td>\n",
       "      <td>1034.5</td>\n",
       "      <td>1670.2</td>\n",
       "      <td>146.9</td>\n",
       "      <td>0.142001</td>\n",
       "      <td>54594.0</td>\n",
       "      <td>20000.0</td>\n",
       "      <td>LU</td>\n",
       "      <td>1972-04-24</td>\n",
       "      <td>NaT</td>\n",
       "    </tr>\n",
       "    <tr>\n",
       "      <th>1</th>\n",
       "      <td>001004</td>\n",
       "      <td>2023-05-31</td>\n",
       "      <td>AAR CORP</td>\n",
       "      <td>AIR</td>\n",
       "      <td>000361105</td>\n",
       "      <td>2022</td>\n",
       "      <td>5</td>\n",
       "      <td>1833.1</td>\n",
       "      <td>29.5</td>\n",
       "      <td>1099.1</td>\n",
       "      <td>...</td>\n",
       "      <td>0.0</td>\n",
       "      <td>1099.1</td>\n",
       "      <td>1823.5</td>\n",
       "      <td>167.1</td>\n",
       "      <td>0.152033</td>\n",
       "      <td>54594.0</td>\n",
       "      <td>20000.0</td>\n",
       "      <td>LU</td>\n",
       "      <td>1972-04-24</td>\n",
       "      <td>NaT</td>\n",
       "    </tr>\n",
       "    <tr>\n",
       "      <th>4</th>\n",
       "      <td>001045</td>\n",
       "      <td>2021-12-31</td>\n",
       "      <td>AMERICAN AIRLINES GROUP INC</td>\n",
       "      <td>AAL</td>\n",
       "      <td>02376R102</td>\n",
       "      <td>2021</td>\n",
       "      <td>12</td>\n",
       "      <td>66467.0</td>\n",
       "      <td>412.0</td>\n",
       "      <td>-7340.0</td>\n",
       "      <td>...</td>\n",
       "      <td>0.0</td>\n",
       "      <td>-7340.0</td>\n",
       "      <td>34861.0</td>\n",
       "      <td>-4979.0</td>\n",
       "      <td>NaN</td>\n",
       "      <td>21020.0</td>\n",
       "      <td>20010.0</td>\n",
       "      <td>LC</td>\n",
       "      <td>2013-12-09</td>\n",
       "      <td>NaT</td>\n",
       "    </tr>\n",
       "    <tr>\n",
       "      <th>7</th>\n",
       "      <td>001045</td>\n",
       "      <td>2022-12-31</td>\n",
       "      <td>AMERICAN AIRLINES GROUP INC</td>\n",
       "      <td>AAL</td>\n",
       "      <td>02376R102</td>\n",
       "      <td>2022</td>\n",
       "      <td>12</td>\n",
       "      <td>64716.0</td>\n",
       "      <td>2906.0</td>\n",
       "      <td>-5799.0</td>\n",
       "      <td>...</td>\n",
       "      <td>0.0</td>\n",
       "      <td>-5799.0</td>\n",
       "      <td>46830.0</td>\n",
       "      <td>2141.0</td>\n",
       "      <td>NaN</td>\n",
       "      <td>21020.0</td>\n",
       "      <td>20010.0</td>\n",
       "      <td>LC</td>\n",
       "      <td>2013-12-09</td>\n",
       "      <td>NaT</td>\n",
       "    </tr>\n",
       "    <tr>\n",
       "      <th>10</th>\n",
       "      <td>001045</td>\n",
       "      <td>2023-12-31</td>\n",
       "      <td>AMERICAN AIRLINES GROUP INC</td>\n",
       "      <td>AAL</td>\n",
       "      <td>02376R102</td>\n",
       "      <td>2023</td>\n",
       "      <td>12</td>\n",
       "      <td>63058.0</td>\n",
       "      <td>2596.0</td>\n",
       "      <td>-5202.0</td>\n",
       "      <td>...</td>\n",
       "      <td>0.0</td>\n",
       "      <td>-5202.0</td>\n",
       "      <td>48666.0</td>\n",
       "      <td>4122.0</td>\n",
       "      <td>NaN</td>\n",
       "      <td>21020.0</td>\n",
       "      <td>20010.0</td>\n",
       "      <td>LC</td>\n",
       "      <td>2013-12-09</td>\n",
       "      <td>NaT</td>\n",
       "    </tr>\n",
       "  </tbody>\n",
       "</table>\n",
       "<p>5 rows × 52 columns</p>\n",
       "</div>"
      ],
      "text/plain": [
       "     gvkey   datadate                         conm  tic      cusip  fyear  \\\n",
       "0   001004 2022-05-31                     AAR CORP  AIR  000361105   2021   \n",
       "1   001004 2023-05-31                     AAR CORP  AIR  000361105   2022   \n",
       "4   001045 2021-12-31  AMERICAN AIRLINES GROUP INC  AAL  02376R102   2021   \n",
       "7   001045 2022-12-31  AMERICAN AIRLINES GROUP INC  AAL  02376R102   2022   \n",
       "10  001045 2023-12-31  AMERICAN AIRLINES GROUP INC  AAL  02376R102   2023   \n",
       "\n",
       "    fyr       at    capx     ceq  ...   dt      be     cost      op      opbe  \\\n",
       "0     5   1573.9    17.3  1034.5  ...  0.0  1034.5   1670.2   146.9  0.142001   \n",
       "1     5   1833.1    29.5  1099.1  ...  0.0  1099.1   1823.5   167.1  0.152033   \n",
       "4    12  66467.0   412.0 -7340.0  ...  0.0 -7340.0  34861.0 -4979.0       NaN   \n",
       "7    12  64716.0  2906.0 -5799.0  ...  0.0 -5799.0  46830.0  2141.0       NaN   \n",
       "10   12  63058.0  2596.0 -5202.0  ...  0.0 -5202.0  48666.0  4122.0       NaN   \n",
       "\n",
       "     permno   permco  linktype     linkdt  linkenddt  \n",
       "0   54594.0  20000.0        LU 1972-04-24        NaT  \n",
       "1   54594.0  20000.0        LU 1972-04-24        NaT  \n",
       "4   21020.0  20010.0        LC 2013-12-09        NaT  \n",
       "7   21020.0  20010.0        LC 2013-12-09        NaT  \n",
       "10  21020.0  20010.0        LC 2013-12-09        NaT  \n",
       "\n",
       "[5 rows x 52 columns]"
      ]
     },
     "execution_count": 33,
     "metadata": {},
     "output_type": "execute_result"
    }
   ],
   "source": [
    "df = pd.merge(compa, link_table, on=['gvkey'], how='inner') \n",
    "df = df[(df.datadate >= df.linkdt) | (df.linkdt.isnull())]\n",
    "df = df[(df.datadate <= df.linkenddt) | (df.linkenddt.isnull())]\n",
    "df.head()"
   ]
  },
  {
   "cell_type": "code",
   "execution_count": 34,
   "metadata": {},
   "outputs": [],
   "source": [
    "df['permno']=df['permno'].astype('int')\n",
    "df.sort_values(['report_date', 'permno'], inplace=True)\n",
    "\n",
    "crsp['permno']=crsp['permno'].astype('int')\n",
    "crsp['report_date'] = crsp['date'].copy()\n",
    "crsp.sort_values(['report_date', 'permno'], inplace=True)"
   ]
  },
  {
   "cell_type": "code",
   "execution_count": 35,
   "metadata": {},
   "outputs": [
    {
     "data": {
      "text/html": [
       "<div>\n",
       "<style scoped>\n",
       "    .dataframe tbody tr th:only-of-type {\n",
       "        vertical-align: middle;\n",
       "    }\n",
       "\n",
       "    .dataframe tbody tr th {\n",
       "        vertical-align: top;\n",
       "    }\n",
       "\n",
       "    .dataframe thead th {\n",
       "        text-align: right;\n",
       "    }\n",
       "</style>\n",
       "<table border=\"1\" class=\"dataframe\">\n",
       "  <thead>\n",
       "    <tr style=\"text-align: right;\">\n",
       "      <th></th>\n",
       "      <th>date</th>\n",
       "      <th>permno</th>\n",
       "      <th>permco</th>\n",
       "      <th>prc</th>\n",
       "      <th>vol</th>\n",
       "      <th>ret</th>\n",
       "      <th>retx</th>\n",
       "      <th>cfacpr</th>\n",
       "      <th>cfacshr</th>\n",
       "      <th>comnam</th>\n",
       "      <th>...</th>\n",
       "      <th>siccd</th>\n",
       "      <th>ticker</th>\n",
       "      <th>retadj</th>\n",
       "      <th>me</th>\n",
       "      <th>melag_nt</th>\n",
       "      <th>melag</th>\n",
       "      <th>cum_ret</th>\n",
       "      <th>report_date</th>\n",
       "      <th>opbe</th>\n",
       "      <th>datadate</th>\n",
       "    </tr>\n",
       "  </thead>\n",
       "  <tbody>\n",
       "    <tr>\n",
       "      <th>0</th>\n",
       "      <td>2022-12-31</td>\n",
       "      <td>10026</td>\n",
       "      <td>7976</td>\n",
       "      <td>149.71001</td>\n",
       "      <td>18855.0</td>\n",
       "      <td>-0.082978</td>\n",
       "      <td>-0.087245</td>\n",
       "      <td>1.0</td>\n",
       "      <td>1.0</td>\n",
       "      <td>J &amp; J SNACK FOODS CORP</td>\n",
       "      <td>...</td>\n",
       "      <td>2052.0</td>\n",
       "      <td>JJSF</td>\n",
       "      <td>0.0</td>\n",
       "      <td>2878.773782</td>\n",
       "      <td>3152.628420</td>\n",
       "      <td>3152.628420</td>\n",
       "      <td>1.0</td>\n",
       "      <td>2022-12-31</td>\n",
       "      <td>0.137887</td>\n",
       "      <td>2022-09-30</td>\n",
       "    </tr>\n",
       "    <tr>\n",
       "      <th>1</th>\n",
       "      <td>2022-12-31</td>\n",
       "      <td>10028</td>\n",
       "      <td>7978</td>\n",
       "      <td>5.26000</td>\n",
       "      <td>11497.0</td>\n",
       "      <td>0.017408</td>\n",
       "      <td>0.017408</td>\n",
       "      <td>1.0</td>\n",
       "      <td>1.0</td>\n",
       "      <td>ENVELA CORP</td>\n",
       "      <td>...</td>\n",
       "      <td>5094.0</td>\n",
       "      <td>ELA</td>\n",
       "      <td>0.0</td>\n",
       "      <td>141.625500</td>\n",
       "      <td>139.202250</td>\n",
       "      <td>139.202250</td>\n",
       "      <td>1.0</td>\n",
       "      <td>2022-12-31</td>\n",
       "      <td>0.351794</td>\n",
       "      <td>2021-12-31</td>\n",
       "    </tr>\n",
       "    <tr>\n",
       "      <th>2</th>\n",
       "      <td>2022-12-31</td>\n",
       "      <td>10032</td>\n",
       "      <td>7980</td>\n",
       "      <td>102.93000</td>\n",
       "      <td>33620.0</td>\n",
       "      <td>-0.066141</td>\n",
       "      <td>-0.066141</td>\n",
       "      <td>1.0</td>\n",
       "      <td>1.0</td>\n",
       "      <td>PLEXUS CORP</td>\n",
       "      <td>...</td>\n",
       "      <td>3670.0</td>\n",
       "      <td>PLXS</td>\n",
       "      <td>0.0</td>\n",
       "      <td>2851.366860</td>\n",
       "      <td>3045.047940</td>\n",
       "      <td>3045.047940</td>\n",
       "      <td>1.0</td>\n",
       "      <td>2022-12-31</td>\n",
       "      <td>0.206119</td>\n",
       "      <td>2022-09-30</td>\n",
       "    </tr>\n",
       "    <tr>\n",
       "      <th>3</th>\n",
       "      <td>2022-12-31</td>\n",
       "      <td>10044</td>\n",
       "      <td>7992</td>\n",
       "      <td>5.70000</td>\n",
       "      <td>1036.0</td>\n",
       "      <td>-0.061728</td>\n",
       "      <td>-0.061728</td>\n",
       "      <td>1.0</td>\n",
       "      <td>1.0</td>\n",
       "      <td>ROCKY MOUNTAIN CHOC FAC INC NEW</td>\n",
       "      <td>...</td>\n",
       "      <td>2060.0</td>\n",
       "      <td>RMCF</td>\n",
       "      <td>0.0</td>\n",
       "      <td>35.562300</td>\n",
       "      <td>37.901925</td>\n",
       "      <td>37.901925</td>\n",
       "      <td>1.0</td>\n",
       "      <td>2022-12-31</td>\n",
       "      <td>0.221495</td>\n",
       "      <td>2022-02-28</td>\n",
       "    </tr>\n",
       "    <tr>\n",
       "      <th>4</th>\n",
       "      <td>2022-12-31</td>\n",
       "      <td>10066</td>\n",
       "      <td>6331</td>\n",
       "      <td>4.46000</td>\n",
       "      <td>3427.0</td>\n",
       "      <td>0.311765</td>\n",
       "      <td>0.311765</td>\n",
       "      <td>1.0</td>\n",
       "      <td>1.0</td>\n",
       "      <td>FRANKLIN WIRELESS CORP</td>\n",
       "      <td>...</td>\n",
       "      <td>7373.0</td>\n",
       "      <td>FKWL</td>\n",
       "      <td>0.0</td>\n",
       "      <td>52.556640</td>\n",
       "      <td>39.725600</td>\n",
       "      <td>39.725600</td>\n",
       "      <td>1.0</td>\n",
       "      <td>2022-12-31</td>\n",
       "      <td>-0.104964</td>\n",
       "      <td>2022-06-30</td>\n",
       "    </tr>\n",
       "  </tbody>\n",
       "</table>\n",
       "<p>5 rows × 28 columns</p>\n",
       "</div>"
      ],
      "text/plain": [
       "        date  permno  permco        prc      vol       ret      retx  cfacpr  \\\n",
       "0 2022-12-31   10026    7976  149.71001  18855.0 -0.082978 -0.087245     1.0   \n",
       "1 2022-12-31   10028    7978    5.26000  11497.0  0.017408  0.017408     1.0   \n",
       "2 2022-12-31   10032    7980  102.93000  33620.0 -0.066141 -0.066141     1.0   \n",
       "3 2022-12-31   10044    7992    5.70000   1036.0 -0.061728 -0.061728     1.0   \n",
       "4 2022-12-31   10066    6331    4.46000   3427.0  0.311765  0.311765     1.0   \n",
       "\n",
       "   cfacshr                           comnam  ...   siccd  ticker  retadj  \\\n",
       "0      1.0           J & J SNACK FOODS CORP  ...  2052.0    JJSF     0.0   \n",
       "1      1.0                      ENVELA CORP  ...  5094.0     ELA     0.0   \n",
       "2      1.0                      PLEXUS CORP  ...  3670.0    PLXS     0.0   \n",
       "3      1.0  ROCKY MOUNTAIN CHOC FAC INC NEW  ...  2060.0    RMCF     0.0   \n",
       "4      1.0           FRANKLIN WIRELESS CORP  ...  7373.0    FKWL     0.0   \n",
       "\n",
       "            me     melag_nt        melag  cum_ret  report_date      opbe  \\\n",
       "0  2878.773782  3152.628420  3152.628420      1.0   2022-12-31  0.137887   \n",
       "1   141.625500   139.202250   139.202250      1.0   2022-12-31  0.351794   \n",
       "2  2851.366860  3045.047940  3045.047940      1.0   2022-12-31  0.206119   \n",
       "3    35.562300    37.901925    37.901925      1.0   2022-12-31  0.221495   \n",
       "4    52.556640    39.725600    39.725600      1.0   2022-12-31 -0.104964   \n",
       "\n",
       "    datadate  \n",
       "0 2022-09-30  \n",
       "1 2021-12-31  \n",
       "2 2022-09-30  \n",
       "3 2022-02-28  \n",
       "4 2022-06-30  \n",
       "\n",
       "[5 rows x 28 columns]"
      ]
     },
     "execution_count": 35,
     "metadata": {},
     "output_type": "execute_result"
    }
   ],
   "source": [
    "# Merge asof to match appropriate financials date\n",
    "crsp2 = pd.merge_asof(crsp, \n",
    "                     df[['permno','opbe','report_date','datadate']], \n",
    "                     on='report_date',\n",
    "                     by='permno', \n",
    "                     direction='backward')\n",
    "crsp2.head()"
   ]
  },
  {
   "cell_type": "code",
   "execution_count": 36,
   "metadata": {},
   "outputs": [
    {
     "name": "stdout",
     "output_type": "stream",
     "text": [
      "0.8562296223028172 of stocks matched to Compustat\n"
     ]
    }
   ],
   "source": [
    "print('{} of stocks matched to Compustat'.format(1 - (crsp2['opbe'].isna().sum() / len(crsp2))))"
   ]
  },
  {
   "cell_type": "markdown",
   "metadata": {},
   "source": [
    "### Top 10 most profitable stocks of 2022"
   ]
  },
  {
   "cell_type": "code",
   "execution_count": 37,
   "metadata": {},
   "outputs": [
    {
     "data": {
      "text/html": [
       "<div>\n",
       "<style scoped>\n",
       "    .dataframe tbody tr th:only-of-type {\n",
       "        vertical-align: middle;\n",
       "    }\n",
       "\n",
       "    .dataframe tbody tr th {\n",
       "        vertical-align: top;\n",
       "    }\n",
       "\n",
       "    .dataframe thead th {\n",
       "        text-align: right;\n",
       "    }\n",
       "</style>\n",
       "<table border=\"1\" class=\"dataframe\">\n",
       "  <thead>\n",
       "    <tr style=\"text-align: right;\">\n",
       "      <th></th>\n",
       "      <th>permno</th>\n",
       "      <th>opbe</th>\n",
       "      <th>comnam</th>\n",
       "    </tr>\n",
       "  </thead>\n",
       "  <tbody>\n",
       "    <tr>\n",
       "      <th>1130</th>\n",
       "      <td>18064</td>\n",
       "      <td>118.000000</td>\n",
       "      <td>FRONTDOOR INC</td>\n",
       "    </tr>\n",
       "    <tr>\n",
       "      <th>4145</th>\n",
       "      <td>91090</td>\n",
       "      <td>49.691450</td>\n",
       "      <td>CROCS INC</td>\n",
       "    </tr>\n",
       "    <tr>\n",
       "      <th>4378</th>\n",
       "      <td>93373</td>\n",
       "      <td>39.435780</td>\n",
       "      <td>EXPRESS INC</td>\n",
       "    </tr>\n",
       "    <tr>\n",
       "      <th>1039</th>\n",
       "      <td>17672</td>\n",
       "      <td>25.268353</td>\n",
       "      <td>GRAFTECH INTERNATIONAL LTD NEW</td>\n",
       "    </tr>\n",
       "    <tr>\n",
       "      <th>2259</th>\n",
       "      <td>21951</td>\n",
       "      <td>17.806507</td>\n",
       "      <td>PACIFICO ACQUISITION CORP</td>\n",
       "    </tr>\n",
       "    <tr>\n",
       "      <th>1687</th>\n",
       "      <td>20347</td>\n",
       "      <td>13.489028</td>\n",
       "      <td>SHOALS TECHNOLOGIES GROUP INC</td>\n",
       "    </tr>\n",
       "    <tr>\n",
       "      <th>1401</th>\n",
       "      <td>19312</td>\n",
       "      <td>11.179057</td>\n",
       "      <td>U W M HOLDINGS CORP</td>\n",
       "    </tr>\n",
       "    <tr>\n",
       "      <th>725</th>\n",
       "      <td>16019</td>\n",
       "      <td>10.330526</td>\n",
       "      <td>RED ROCK RESORTS INC</td>\n",
       "    </tr>\n",
       "    <tr>\n",
       "      <th>1479</th>\n",
       "      <td>19577</td>\n",
       "      <td>9.406537</td>\n",
       "      <td>ROCKET COMPANIES INC</td>\n",
       "    </tr>\n",
       "    <tr>\n",
       "      <th>1268</th>\n",
       "      <td>18729</td>\n",
       "      <td>7.085386</td>\n",
       "      <td>COLGATE PALMOLIVE CO</td>\n",
       "    </tr>\n",
       "  </tbody>\n",
       "</table>\n",
       "</div>"
      ],
      "text/plain": [
       "      permno        opbe                          comnam\n",
       "1130   18064  118.000000                   FRONTDOOR INC\n",
       "4145   91090   49.691450                       CROCS INC\n",
       "4378   93373   39.435780                     EXPRESS INC\n",
       "1039   17672   25.268353  GRAFTECH INTERNATIONAL LTD NEW\n",
       "2259   21951   17.806507       PACIFICO ACQUISITION CORP\n",
       "1687   20347   13.489028   SHOALS TECHNOLOGIES GROUP INC\n",
       "1401   19312   11.179057             U W M HOLDINGS CORP\n",
       "725    16019   10.330526            RED ROCK RESORTS INC\n",
       "1479   19577    9.406537            ROCKET COMPANIES INC\n",
       "1268   18729    7.085386            COLGATE PALMOLIVE CO"
      ]
     },
     "execution_count": 37,
     "metadata": {},
     "output_type": "execute_result"
    }
   ],
   "source": [
    "# Identify 10 most profitable stocks\n",
    "top10_opbe_permnos = crsp2.loc[(crsp2['date'] == '2022-12-31') & (crsp2['opbe'].notna())].groupby('permno').opbe.last().sort_values(ascending=False).head(10).index\n",
    "crsp2.loc[(crsp2['permno'].isin(top10_opbe_permnos))&(crsp2['date'] == '2022-12-31'), \n",
    "          ['permno','opbe', 'comnam']].drop_duplicates().sort_values('opbe', ascending=False).head(10)"
   ]
  },
  {
   "cell_type": "markdown",
   "metadata": {},
   "source": [
    "### Performance of top 10 most profitable stocks"
   ]
  },
  {
   "cell_type": "code",
   "execution_count": 38,
   "metadata": {},
   "outputs": [],
   "source": [
    "top10_opbe = crsp2[(crsp2['permno'].isin(top10_opbe_permnos)) & (crsp2.date>='2022-12-31')]"
   ]
  },
  {
   "cell_type": "markdown",
   "metadata": {},
   "source": [
    "#### Calculate market-cap weighted returns"
   ]
  },
  {
   "cell_type": "code",
   "execution_count": 39,
   "metadata": {
    "scrolled": true
   },
   "outputs": [],
   "source": [
    "opbe_ret = top10_opbe.groupby('date').apply(lambda x:\n",
    "                                            np.average(x['retadj'], \n",
    "                                                       weights = x['melag']))\n",
    "opbe_ret = pd.DataFrame(opbe_ret, index=opbe_ret.index, columns=['ret_w'])\n",
    "opbe_ret['cum_w'] = (1 + opbe_ret['ret_w']).cumprod()"
   ]
  },
  {
   "cell_type": "markdown",
   "metadata": {},
   "source": [
    "#### Calculate equal weighted returns"
   ]
  },
  {
   "cell_type": "code",
   "execution_count": 40,
   "metadata": {},
   "outputs": [],
   "source": [
    "opbe_ret['ret_e'] = top10_opbe.groupby('date')['retadj'].mean()\n",
    "opbe_ret['cum_e'] = (1 + opbe_ret['ret_e']).cumprod()"
   ]
  },
  {
   "cell_type": "markdown",
   "metadata": {},
   "source": [
    "### Report cumulative portfolio returns"
   ]
  },
  {
   "cell_type": "code",
   "execution_count": 41,
   "metadata": {
    "scrolled": true
   },
   "outputs": [
    {
     "data": {
      "text/html": [
       "<div>\n",
       "<style scoped>\n",
       "    .dataframe tbody tr th:only-of-type {\n",
       "        vertical-align: middle;\n",
       "    }\n",
       "\n",
       "    .dataframe tbody tr th {\n",
       "        vertical-align: top;\n",
       "    }\n",
       "\n",
       "    .dataframe thead th {\n",
       "        text-align: right;\n",
       "    }\n",
       "</style>\n",
       "<table border=\"1\" class=\"dataframe\">\n",
       "  <thead>\n",
       "    <tr style=\"text-align: right;\">\n",
       "      <th></th>\n",
       "      <th>cum_w</th>\n",
       "      <th>cum_e</th>\n",
       "    </tr>\n",
       "    <tr>\n",
       "      <th>date</th>\n",
       "      <th></th>\n",
       "      <th></th>\n",
       "    </tr>\n",
       "  </thead>\n",
       "  <tbody>\n",
       "    <tr>\n",
       "      <th>2023-12-31</th>\n",
       "      <td>1.031752</td>\n",
       "      <td>1.104776</td>\n",
       "    </tr>\n",
       "  </tbody>\n",
       "</table>\n",
       "</div>"
      ],
      "text/plain": [
       "               cum_w     cum_e\n",
       "date                          \n",
       "2023-12-31  1.031752  1.104776"
      ]
     },
     "execution_count": 41,
     "metadata": {},
     "output_type": "execute_result"
    }
   ],
   "source": [
    "# Return from beginning of the year\n",
    "opbe_ret.loc[opbe_ret.index=='2023-12-31',['cum_w','cum_e']]"
   ]
  },
  {
   "cell_type": "code",
   "execution_count": 42,
   "metadata": {
    "scrolled": true
   },
   "outputs": [
    {
     "data": {
      "text/html": [
       "<div>\n",
       "<style scoped>\n",
       "    .dataframe tbody tr th:only-of-type {\n",
       "        vertical-align: middle;\n",
       "    }\n",
       "\n",
       "    .dataframe tbody tr th {\n",
       "        vertical-align: top;\n",
       "    }\n",
       "\n",
       "    .dataframe thead th {\n",
       "        text-align: right;\n",
       "    }\n",
       "</style>\n",
       "<table border=\"1\" class=\"dataframe\">\n",
       "  <thead>\n",
       "    <tr style=\"text-align: right;\">\n",
       "      <th></th>\n",
       "      <th>cum_w</th>\n",
       "      <th>cum_e</th>\n",
       "    </tr>\n",
       "    <tr>\n",
       "      <th>date</th>\n",
       "      <th></th>\n",
       "      <th></th>\n",
       "    </tr>\n",
       "  </thead>\n",
       "  <tbody>\n",
       "    <tr>\n",
       "      <th>2023-12-31</th>\n",
       "      <td>1.011983</td>\n",
       "      <td>0.960427</td>\n",
       "    </tr>\n",
       "  </tbody>\n",
       "</table>\n",
       "</div>"
      ],
      "text/plain": [
       "               cum_w     cum_e\n",
       "date                          \n",
       "2023-12-31  1.011983  0.960427"
      ]
     },
     "execution_count": 42,
     "metadata": {},
     "output_type": "execute_result"
    }
   ],
   "source": [
    "# Return from the end of June\n",
    "(opbe_ret[opbe_ret.index >'2023-06-30'][['cum_w','cum_e']] / opbe_ret.loc[opbe_ret.index=='2023-06-30',['cum_w','cum_e']].values)[-1:]"
   ]
  },
  {
   "cell_type": "markdown",
   "metadata": {},
   "source": [
    "### Compare results"
   ]
  },
  {
   "cell_type": "markdown",
   "metadata": {},
   "source": [
    "The \"tech portfolio\" performed better than \"profitable portfolio\" in 2023. The gap in performance was driven by the strong rebound from tech stocks after a heavy down year in 2022. "
   ]
  },
  {
   "cell_type": "markdown",
   "metadata": {},
   "source": [
    "### Plot cumulative portfolio returns"
   ]
  },
  {
   "cell_type": "code",
   "execution_count": 43,
   "metadata": {},
   "outputs": [
    {
     "data": {
      "text/plain": [
       "<Axes: xlabel='date'>"
      ]
     },
     "execution_count": 43,
     "metadata": {},
     "output_type": "execute_result"
    },
    {
     "data": {
      "image/png": "[encoded data removed]",
      "text/plain": [
       "<Figure size 640x480 with 1 Axes>"
      ]
     },
     "metadata": {},
     "output_type": "display_data"
    }
   ],
   "source": [
    "opbe_ret[['cum_w','cum_e']].plot()"
   ]
  }
 ],
 "metadata": {
  "kernelspec": {
   "display_name": "Python 3 (ipykernel)",
   "language": "python",
   "name": "python3"
  },
  "language_info": {
   "codemirror_mode": {
    "name": "ipython",
    "version": 3
   },
   "file_extension": ".py",
   "mimetype": "text/x-python",
   "name": "python",
   "nbconvert_exporter": "python",
   "pygments_lexer": "ipython3",
   "version": "3.8.18"
  },
  "pycharm": {
   "stem_cell": {
    "cell_type": "raw",
    "metadata": {
     "collapsed": false
    },
    "source": []
   }
  },
  "toc": {
   "base_numbering": 1,
   "nav_menu": {},
   "number_sections": true,
   "sideBar": true,
   "skip_h1_title": true,
   "title_cell": "Table of Contents",
   "title_sidebar": "Contents",
   "toc_cell": true,
   "toc_position": {},
   "toc_section_display": true,
   "toc_window_display": true
  },
  "toc-autonumbering": false,
  "toc-showtags": false
 },
 "nbformat": 4,
 "nbformat_minor": 4
}
