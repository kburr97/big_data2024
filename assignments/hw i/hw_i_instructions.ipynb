{
 "cells": [
  {
   "cell_type": "markdown",
   "metadata": {
    "editable": true,
    "slideshow": {
     "slide_type": ""
    },
    "tags": []
   },
   "source": [
    "# Big Data in Finance: Part II <BR><BR> Homework 1: CRSP and Compustat\n",
    "    \n",
    "**Instructor** <BR>\n",
    "Kirsten Burr, kburr26@gsb.columbia.edu\n",
    "    \n",
    "**TA's:** <BR>\n",
    "Meha Sadasivam, MSadasivam21@gsb.columbia.edu <BR>\n",
    "Daheng Yang, dyang22@gsb.columbia.edu"
   ]
  },
  {
   "cell_type": "markdown",
   "metadata": {
    "editable": true,
    "slideshow": {
     "slide_type": ""
    },
    "tags": []
   },
   "source": [
    "**Due:** Feb 15, 2024, by 11:59 pm. Late submission will not be accepted.\n",
    "\n",
    "**Goal**: Explore the information CRSP and Compustat"
   ]
  },
  {
   "cell_type": "markdown",
   "metadata": {
    "editable": true,
    "slideshow": {
     "slide_type": ""
    },
    "tags": []
   },
   "source": [
    "# Description\n",
    "\n",
    "US stock exchanges finished 2023 with their best performances in years. The S&P 500-stock index posted its ninth consecutive weekly gain -- its longest winning streak since 2004 -- as it jumped more than 24 percent for the year. The blue-chip Dow Jones industrial average gained 13.7 percent for the year, and the tech-heavy Nasdaq soared 43.4 percent -- its highest annual gain since 2020.\n",
    "\n",
    "Let's look at what happened with stock returns using the data downloaded from CRSP and Compustat."
   ]
  },
  {
   "cell_type": "markdown",
   "metadata": {},
   "source": [
    "## Part I: CRSP stock returns\n",
    "1. What was the cumulative average returns (market-cap weighted and equal-weighted) of CRSP stocks in 2023? (i.e. how much would an investor have by the end of 2023 had she invested $1 in CRSP stocks at the beginning of 2023?)\n",
    "2. Plot the market-cap weighted and equal-weighted cumulative average returns of CRSP stocks from the beginning of the year. \n",
    "3. How much would the same investor have had she entered the market at the end of June, during which stock volatility was relatively lower? \n",
    "4. What were the 10 top performing stocks in 2023? \n",
    "\n",
    "Note: You should only consider ordinary common stocks (i.e., shrcd equal to 10 or 11) that are listed in one of the three main stock exchanges (i.e., exchcd equal to 1 (NYSE), 2 (NYSE MKT) or 3 (NASDAQ)). Remember to use the prior month's market-cap when market-weighting returns."
   ]
  },
  {
   "cell_type": "markdown",
   "metadata": {},
   "source": [
    "## Part II: Tech stock returns\n",
    "1. How much would an investor have by the end of 2023 had she invested $1 in a TECH portfolio (market-cap weighted and equal-weighted) at the beginning of 2023? \n",
    "2. Plot the market-cap weighted and equal-weighted cumulative average returns of the Tech portfolio from the beginning of the year. \n",
    "3. How much would the same investor have had she entered the market at the end of June? \n",
    "4. What are the 10 top performing Tech stocks in the year of 2023? \n",
    "\n",
    "Note: The closest definition of Tech firms according to Fama and French is Business Equipment industry, which includes Computers, Software, and Electronic Equipment. These are firms with SIC codes in the following ranges:\n",
    "\n",
    "        3570-3579\n",
    "        3660-3692\n",
    "        3694-3699\n",
    "        3810-3829\n",
    "        7370-7379"
   ]
  },
  {
   "cell_type": "markdown",
   "metadata": {},
   "source": [
    "## Part III: High profitability stock returns\n",
    "1. Given the fundamental data available to investors as of December 31, 2022, what are the 10 most profitable companies in 2022? Use operating profitability normalized by book-equity (OPBE) from the lecture notes as a measure of profitability.\n",
    "2. How much an investor would have by the end of 2023 had she invested instead in a portfolio (market-cap weighted and equal-weighted) of these 10 most profitable firms' stocks at the beginning of 2023? \n",
    "3. Compare your results to those from Part II. Which portfolio performed better? Why do you think this is the case?\n",
    "4. Plot the market-cap weighted and equal-weighted cumulative average returns from the beginning of the year.\n",
    "5. How much would the same investor have had she invested in these same 10 firms at the end of June? \n",
    "\n",
    "Note: Publicly-listed companies must report their financials within 91 days after the end of the fiscal period. Most companies report on the deadline. Consider this when merging financial results to stock performance."
   ]
  },
  {
   "cell_type": "markdown",
   "metadata": {},
   "source": [
    "# Code \n",
    "\n",
    "## Packages\n",
    "\n",
    "Below is some code that will help you get started. Make sure you have installed all required packages. Use \"conda install\" or \"pip install\" if you you are missing any of the packages."
   ]
  },
  {
   "cell_type": "code",
   "execution_count": null,
   "metadata": {
    "pycharm": {
     "is_executing": false
    }
   },
   "outputs": [],
   "source": [
    "# Packages\n",
    "%matplotlib inline\n",
    "import matplotlib.pyplot as plt\n",
    "import numpy as np\n",
    "import pandas as pd\n",
    "import wrds\n",
    "from datetime import datetime, timedelta\n",
    "from pandas.tseries.offsets import MonthEnd\n",
    "\n",
    "# Setups\n",
    "pd.set_option(\"display.max_rows\", 100)"
   ]
  },
  {
   "cell_type": "markdown",
   "metadata": {},
   "source": [
    "## WRDS Data Download"
   ]
  },
  {
   "cell_type": "markdown",
   "metadata": {},
   "source": [
    "### WRDS Connection\n",
    "Make sure you can connect to WRDS server. You should configure wrds connector before hand. Please check the syllabus for details.\n"
   ]
  },
  {
   "cell_type": "code",
   "execution_count": null,
   "metadata": {
    "pycharm": {
     "is_executing": false
    }
   },
   "outputs": [],
   "source": [
    "# Set Up WRDS connection\n",
    "db = wrds.Connection(wrds_username='username_here') # make sure to change the username. "
   ]
  },
  {
   "cell_type": "markdown",
   "metadata": {},
   "source": [
    "### Download MSF"
   ]
  },
  {
   "cell_type": "code",
   "execution_count": null,
   "metadata": {},
   "outputs": [],
   "source": [
    "sfvars = ['prc','vol','ret', 'retx','cfacpr','cfacshr']\n",
    "query = \"\"\"SELECT date, permno, permco, {} \n",
    "           FROM crsp.msf\n",
    "           WHERE date>='2022-01-01'\"\"\".format(', '.join(sfvars))\n",
    "msf_data = db.raw_sql(query, date_cols=['date'])\n",
    "\n",
    "# check PK\n",
    "assert msf_data.duplicated(subset=['date','permno']).sum() == 0"
   ]
  },
  {
   "cell_type": "markdown",
   "metadata": {},
   "source": [
    "### Download MSEALL"
   ]
  },
  {
   "cell_type": "code",
   "execution_count": null,
   "metadata": {},
   "outputs": [],
   "source": [
    "msevars = ['comnam', 'dlret', 'dlretx', 'exchcd','naics', 'cusip', 'ncusip', 'shrcd', 'shrout', \n",
    "           'siccd', 'ticker']\n",
    "query = \"\"\"SELECT date, permno, permco, {} \n",
    "           FROM crspq.mseall\n",
    "           WHERE date>='2022-01-01'\"\"\".format(', '.join(msevars))\n",
    "mse_data = db.raw_sql(query, date_cols=['date'])\n",
    "\n",
    "# drop duplicates\n",
    "mse_data = mse_data[~mse_data.duplicated()].copy()\n",
    "\n",
    "# check PK\n",
    "assert mse_data.duplicated(subset=['date','permno']).sum() == 0"
   ]
  },
  {
   "cell_type": "markdown",
   "metadata": {},
   "source": [
    "### Merge MSF and MSEALL"
   ]
  },
  {
   "cell_type": "code",
   "execution_count": null,
   "metadata": {},
   "outputs": [],
   "source": [
    "# sort\n",
    "msf_data.sort_values(['date', 'permno'], inplace=True)\n",
    "mse_data.sort_values(['date', 'permno'], inplace=True)\n",
    "\n",
    "# Check of coverage\n",
    "x = pd.Series(msf_data.permno.unique())\n",
    "y = pd.Series(mse_data.permno.unique())\n",
    "# assert len(x[~x.isin(y)]) == 0\n",
    "\n",
    "# Check if delisting happens only once per security\n",
    "assert mse_data[mse_data.dlret.notnull()].groupby(['permno']).date.value_counts().max() == 1\n",
    "\n",
    "# Check if delisting returns only appears after the firm is not longer covered by msf\n",
    "test = mse_data[mse_data.dlret.notnull()]\n",
    "test = pd.merge(msf_data, test[['permno', 'dlret', 'date']], on=['permno'])\n",
    "assert len(test[test.date_x>test.date_y]) == 0"
   ]
  },
  {
   "cell_type": "code",
   "execution_count": null,
   "metadata": {},
   "outputs": [],
   "source": [
    "msf_data.permno = msf_data.permno.astype('int64')\n",
    "msf_data.permco = msf_data.permco.astype('int64')\n",
    "\n",
    "mse_data.permno = mse_data.permno.astype('int64')\n",
    "mse_data.permco = mse_data.permco.astype('int64')\n",
    "\n",
    "crsp = pd.merge_asof(msf_data, \n",
    "                     mse_data, \n",
    "                     on='date', \n",
    "                     by=['permno','permco'], \n",
    "                     direction='backward')\n",
    "\n",
    "crsp.date = crsp.date + MonthEnd(0)\n",
    "\n",
    "# Check Primary Key\n",
    "assert crsp.duplicated(subset=['permno','date']).sum() == 0"
   ]
  },
  {
   "cell_type": "code",
   "execution_count": null,
   "metadata": {},
   "outputs": [],
   "source": [
    "crsp.head()"
   ]
  },
  {
   "cell_type": "markdown",
   "metadata": {
    "tags": []
   },
   "source": [
    "## Preparing the Data"
   ]
  },
  {
   "cell_type": "markdown",
   "metadata": {},
   "source": [
    "### Adjust returns for stock delisting"
   ]
  },
  {
   "cell_type": "code",
   "execution_count": null,
   "metadata": {},
   "outputs": [],
   "source": []
  },
  {
   "cell_type": "markdown",
   "metadata": {},
   "source": [
    "### Calculate market value of equity (ME) and one-month lagged ME"
   ]
  },
  {
   "cell_type": "code",
   "execution_count": null,
   "metadata": {},
   "outputs": [],
   "source": []
  },
  {
   "cell_type": "markdown",
   "metadata": {},
   "source": [
    "### Apply Share Type and Exchange Code Filters"
   ]
  },
  {
   "cell_type": "code",
   "execution_count": null,
   "metadata": {},
   "outputs": [],
   "source": []
  },
  {
   "cell_type": "markdown",
   "metadata": {},
   "source": [
    "## Part I -- CRSP Stock Returns"
   ]
  },
  {
   "cell_type": "markdown",
   "metadata": {},
   "source": [
    "### Calculate CRSP value weighted returns"
   ]
  },
  {
   "cell_type": "code",
   "execution_count": null,
   "metadata": {
    "scrolled": true
   },
   "outputs": [],
   "source": []
  },
  {
   "cell_type": "markdown",
   "metadata": {},
   "source": [
    "### Calculate CRSP equal weighted returns"
   ]
  },
  {
   "cell_type": "code",
   "execution_count": null,
   "metadata": {},
   "outputs": [],
   "source": []
  },
  {
   "cell_type": "markdown",
   "metadata": {},
   "source": [
    "### Plot cumulative average returns"
   ]
  },
  {
   "cell_type": "code",
   "execution_count": null,
   "metadata": {},
   "outputs": [],
   "source": []
  },
  {
   "cell_type": "markdown",
   "metadata": {},
   "source": [
    "### Report cumulative average returns"
   ]
  },
  {
   "cell_type": "code",
   "execution_count": null,
   "metadata": {},
   "outputs": [],
   "source": []
  },
  {
   "cell_type": "markdown",
   "metadata": {},
   "source": [
    "### Calculate cumulative returns"
   ]
  },
  {
   "cell_type": "code",
   "execution_count": null,
   "metadata": {},
   "outputs": [],
   "source": []
  },
  {
   "cell_type": "markdown",
   "metadata": {},
   "source": [
    "### Top 10 Stocks -- CRSP"
   ]
  },
  {
   "cell_type": "code",
   "execution_count": null,
   "metadata": {},
   "outputs": [],
   "source": []
  },
  {
   "cell_type": "markdown",
   "metadata": {},
   "source": [
    "## Part II -- Tech Stock Returns"
   ]
  },
  {
   "cell_type": "markdown",
   "metadata": {},
   "source": [
    "### Calculate TECH value weighted returns"
   ]
  },
  {
   "cell_type": "code",
   "execution_count": null,
   "metadata": {
    "scrolled": true
   },
   "outputs": [],
   "source": []
  },
  {
   "cell_type": "markdown",
   "metadata": {},
   "source": [
    "### Calculate TECH equal weighted returns"
   ]
  },
  {
   "cell_type": "code",
   "execution_count": null,
   "metadata": {},
   "outputs": [],
   "source": []
  },
  {
   "cell_type": "markdown",
   "metadata": {},
   "source": [
    "### Plot cumulative portfolio returns"
   ]
  },
  {
   "cell_type": "code",
   "execution_count": null,
   "metadata": {},
   "outputs": [],
   "source": []
  },
  {
   "cell_type": "markdown",
   "metadata": {},
   "source": [
    "### Report cumulative portfolio returns"
   ]
  },
  {
   "cell_type": "code",
   "execution_count": null,
   "metadata": {
    "scrolled": true
   },
   "outputs": [],
   "source": []
  },
  {
   "cell_type": "markdown",
   "metadata": {},
   "source": [
    "### Top 10 Stocks -- TECH"
   ]
  },
  {
   "cell_type": "code",
   "execution_count": null,
   "metadata": {},
   "outputs": [],
   "source": []
  },
  {
   "cell_type": "markdown",
   "metadata": {},
   "source": [
    "## Part III -- OPBE Sorts"
   ]
  },
  {
   "cell_type": "markdown",
   "metadata": {},
   "source": [
    "### Merge CRSP and Compustat to Calculate OPBE"
   ]
  },
  {
   "cell_type": "markdown",
   "metadata": {},
   "source": [
    "#### Download Compustat data from 2022"
   ]
  },
  {
   "cell_type": "code",
   "execution_count": null,
   "metadata": {},
   "outputs": [],
   "source": [
    "fund_table = 'funda'\n",
    "\n",
    "varlist = ['conm', 'tic', 'cusip','fyear', 'fyr', 'at','capx', 'ceq', 'cogs', 'csho', 'dlc', 'dlcch','dltt', 'dp', 'ib', 'itcb', \n",
    "           'lt', 'mib', 'naicsh', 'ni', 'prstkcc', 'pstk', 'pstkl', 'pstkrv', 're', 'revt', 'sale', \n",
    "           'seq', 'sich', 'txdb', 'txdi', 'txditc', 'wcapch', 'xint', 'xlr', 'xrd', 'xsga']\n",
    "\n",
    "\n",
    "query = \"\"\"SELECT gvkey, datadate, {}\n",
    "           FROM comp.{}\n",
    "           WHERE datafmt = 'STD'\n",
    "           AND popsrc = 'D'\n",
    "           AND indfmt = 'INDL'\n",
    "           AND consol = 'C'\n",
    "           AND fyear>=2021;\"\"\".format(\", \".join(varlist), fund_table)\n",
    "\n",
    "compa = db.raw_sql(query, date_cols=['datadate'])\n",
    "# Reporting date\n",
    "compa['report_date'] = compa['datadate'] + timedelta(days=91)"
   ]
  },
  {
   "cell_type": "markdown",
   "metadata": {},
   "source": [
    "#### Keep the latest (datadate) obervation if there are duplicates"
   ]
  },
  {
   "cell_type": "code",
   "execution_count": null,
   "metadata": {},
   "outputs": [],
   "source": []
  },
  {
   "cell_type": "markdown",
   "metadata": {},
   "source": [
    "#### Calculate OPBE"
   ]
  },
  {
   "cell_type": "code",
   "execution_count": null,
   "metadata": {},
   "outputs": [],
   "source": []
  },
  {
   "cell_type": "markdown",
   "metadata": {},
   "source": [
    "#### Merge CRSP and Compustat data"
   ]
  },
  {
   "cell_type": "code",
   "execution_count": null,
   "metadata": {},
   "outputs": [],
   "source": [
    "sql = '''SELECT gvkey, lpermno as permno, lpermco as permco, linktype, linkdt, linkenddt\n",
    "         FROM crsp.ccmxpf_lnkhist\n",
    "         WHERE linktype IN ('LC', 'LU', 'LS') \n",
    "      ''' \n",
    "\n",
    "link_table = db.raw_sql(sql, date_cols=['linkdt', 'linkenddt'])"
   ]
  },
  {
   "cell_type": "code",
   "execution_count": null,
   "metadata": {},
   "outputs": [],
   "source": []
  },
  {
   "cell_type": "markdown",
   "metadata": {},
   "source": [
    "### Top 10 most profitable stocks of 2022"
   ]
  },
  {
   "cell_type": "code",
   "execution_count": null,
   "metadata": {},
   "outputs": [],
   "source": []
  },
  {
   "cell_type": "markdown",
   "metadata": {},
   "source": [
    "### Performance of top 10 most profitable stocks"
   ]
  },
  {
   "cell_type": "markdown",
   "metadata": {},
   "source": [
    "#### Calculate market-cap weighted returns"
   ]
  },
  {
   "cell_type": "code",
   "execution_count": null,
   "metadata": {
    "scrolled": true
   },
   "outputs": [],
   "source": []
  },
  {
   "cell_type": "markdown",
   "metadata": {},
   "source": [
    "#### Calculate equal weighted returns"
   ]
  },
  {
   "cell_type": "code",
   "execution_count": null,
   "metadata": {},
   "outputs": [],
   "source": []
  },
  {
   "cell_type": "markdown",
   "metadata": {},
   "source": [
    "### Report cumulative portfolio returns"
   ]
  },
  {
   "cell_type": "code",
   "execution_count": null,
   "metadata": {
    "scrolled": true
   },
   "outputs": [],
   "source": []
  },
  {
   "cell_type": "markdown",
   "metadata": {},
   "source": [
    "### Compare results"
   ]
  },
  {
   "cell_type": "markdown",
   "metadata": {},
   "source": [
    "[Insert answer here]"
   ]
  },
  {
   "cell_type": "markdown",
   "metadata": {},
   "source": [
    "### Plot cumulative portfolio returns"
   ]
  },
  {
   "cell_type": "code",
   "execution_count": null,
   "metadata": {},
   "outputs": [],
   "source": []
  }
 ],
 "metadata": {
  "kernelspec": {
   "display_name": "Python 3 (ipykernel)",
   "language": "python",
   "name": "python3"
  },
  "language_info": {
   "codemirror_mode": {
    "name": "ipython",
    "version": 3
   },
   "file_extension": ".py",
   "mimetype": "text/x-python",
   "name": "python",
   "nbconvert_exporter": "python",
   "pygments_lexer": "ipython3",
   "version": "3.9.13"
  },
  "pycharm": {
   "stem_cell": {
    "cell_type": "raw",
    "metadata": {
     "collapsed": false
    },
    "source": []
   }
  },
  "toc": {
   "base_numbering": 1,
   "nav_menu": {},
   "number_sections": true,
   "sideBar": true,
   "skip_h1_title": true,
   "title_cell": "Table of Contents",
   "title_sidebar": "Contents",
   "toc_cell": true,
   "toc_position": {},
   "toc_section_display": true,
   "toc_window_display": true
  },
  "toc-autonumbering": false,
  "toc-showtags": false
 },
 "nbformat": 4,
 "nbformat_minor": 4
}
