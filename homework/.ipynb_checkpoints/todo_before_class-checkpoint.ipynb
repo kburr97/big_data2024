{
 "cells": [
  {
   "cell_type": "markdown",
   "id": "24fafa1a-77b9-4750-a7bb-b12f2a8264b5",
   "metadata": {},
   "source": [
    "# Big Data in Finance: Part IV <BR><BR> To-do check list before class\n",
    "    \n",
    "**Instructor** <BR>\n",
    "Kirsten Burr, kburr26@gsb.columbia.edu\n",
    "    \n",
    "**TA's:** <BR>\n",
    "Meha Sadasivam, MSadasivam21@gsb.columbia.edu <BR>\n",
    "Daheng Yang, dyang22@gsb.columbia.edu\n",
    "\n",
    "<sub> Credit: lecture notes originally developed by Lira Mota"
   ]
  },
  {
   "cell_type": "markdown",
   "id": "f38af32f-ca84-4c6b-a044-3a7124162367",
   "metadata": {},
   "source": [
    "## 1. Make sure you can open your terminal \n",
    "    \n",
    "* MAC users: have a look [here](https://support.apple.com/guide/terminal/open-or-quit-terminal-apd5265185d-f365-44cb-8b09-71a064a42125/mac#:~:text=Open%20Terminal,%2C%20then%20double%2Dclick%20Terminal).\n",
    "\n",
    "* PC users: have a look [here](https://www.makeuseof.com/tag/a-beginners-guide-to-the-windows-command-line/)."
   ]
  },
  {
   "cell_type": "markdown",
   "id": "280d08ae-3d99-4eb9-b7b5-2ec5964b87c6",
   "metadata": {},
   "source": [
    "## 2. Install Anaconda\n",
    "\n",
    "Before installing a new version of Anaconda, make sure you have uninstalled any previous installations. \n",
    "\n",
    "- Make sure to remove all traces of the configuration files and directories from Anaconda and its programs. \n",
    "- This step avoids configuration conflicts down the road. <BR><BR>\n",
    "\n",
    "**TO-DO 1:**\n",
    "    \n",
    "In MAC, Check if you have anaconda installed by typing in your terminal: \n",
    "```\n",
    "anaconda --version\n",
    "```\n",
    " If you get somethink like\n",
    "```\n",
    ">>> anaconda Command line client (version 1.8.0)\n",
    "```\n",
    "You have anaconda installed. In the case you want a new installation, follow next step. \n",
    "\n",
    "If you get anaconda command not found, you do not have anaconda installed and can jump TO-DO 2.\n",
    "    \n",
    "Uninstall previous Anaconda version: follow the [link]( https://docs.anaconda.com/anaconda/install/uninstall/). <BR><BR>\n",
    "\n",
    "--------\n",
    "    \n",
    "In PC, you can check your Anaconda installation by following the [link](https://docs.anaconda.com/anaconda/install/verify-install/).\n",
    "    \n",
    "If you find a version installed and in the case you want a new installation, follow next step. \n",
    "\n",
    "If you get anaconda command not found, you do not have anaconda installed and can jump TO-DO 2.\n",
    "    \n",
    "Uninstall previous Anaconda version: follow the [link]( https://docs.anaconda.com/anaconda/install/uninstall/). <BR><BR>\n",
    "\n",
    "    \n",
    "**TO-DO 2:**\n",
    "\n",
    "Follow this link to install Anaconda. Make sure you choose the correct operating system.\n"
   ]
  },
  {
   "cell_type": "markdown",
   "id": "29e42ced-0c8c-4bed-a895-8fbd614cc101",
   "metadata": {},
   "source": [
    "## 3. Make sure your Anaconda is up-to-date"
   ]
  },
  {
   "cell_type": "markdown",
   "id": "602a5164-b813-4f1c-9e8a-5c2bd44cfc51",
   "metadata": {},
   "source": [
    "**Note:** from now on, for PC users,  \"terminal\" means Anaconda Prompt. Learn how to open it [here](https://docs.anaconda.com/anaconda/user-guide/getting-started/). "
   ]
  },
  {
   "cell_type": "markdown",
   "id": "c9c93a97-bed4-4d08-8902-e2477434b6ed",
   "metadata": {},
   "source": [
    "In your terminal run:\n",
    "\n",
    "1. Update conda\n",
    "```\n",
    "conda update conda\n",
    "```\n",
    "2. Update anaconda\n",
    "```\n",
    "conda update anaconda\n",
    "```    "
   ]
  },
  {
   "cell_type": "markdown",
   "id": "45398082-0f9d-4377-a2cb-8dc3b0c432ce",
   "metadata": {},
   "source": [
    "Check your python installation. \n",
    "```\n",
    "python --version\n",
    "```\n",
    "\n",
    "The lecture notes are written using Python 3.9.13"
   ]
  },
  {
   "cell_type": "markdown",
   "id": "3240d673-e1ed-44a6-8caa-3542b8c1ab38",
   "metadata": {},
   "source": [
    "## 4. Run a test python code."
   ]
  },
  {
   "cell_type": "markdown",
   "id": "dc25d689-e350-406f-9b20-05c26084ae9a",
   "metadata": {},
   "source": [
    "This document you are reading is ipython notebook. Your task is to open this document in Jupter Lab and run all the notebook. <BR><BR>\n",
    "\n",
    "**TO-DO**\n",
    "1. Download and save todo_before_class.ipynb in your machine,\n",
    "2. Open Anaconda Naviagator, find JupyterLab and click lauch,\n",
    "3. Locate todo_before_class.ipynb and open it.\n",
    "4. On the top press the run command.\n",
    "5. After the run was successfull, go to File -> Export Notebook As -> HTML\n",
    "6. Submit your HTML on Canvas by Thursday 03/23 at 11:59PM EST. \n",
    "7. If you have problems in any of the steps of this to-do, feel free to send me an email or attend Meha and Dayeng's office hours.\n",
    "8. Check the syllabus for extra settings and for lecture notes. \n",
    "    "
   ]
  },
  {
   "cell_type": "markdown",
   "id": "b03a4d75-0d0c-451d-9856-4b609f49d0b7",
   "metadata": {},
   "source": [
    "### Your test code starts here"
   ]
  },
  {
   "cell_type": "code",
   "execution_count": null,
   "id": "2514dad9-4413-4940-b872-b720b2821542",
   "metadata": {},
   "outputs": [],
   "source": [
    "# Let's first check your python installation\n",
    "import sys\n",
    "print(sys.executable)\n",
    "print(sys.version)\n",
    "print(sys.version_info)"
   ]
  },
  {
   "cell_type": "code",
   "execution_count": null,
   "id": "e49deea7-f874-45ab-91c8-d33aee2655b5",
   "metadata": {},
   "outputs": [],
   "source": [
    "# Let's see if you have all modules we are going to use in class\n",
    "import time\n",
    "import wrds\n",
    "import datetime\n",
    "import numpy as np\n",
    "import pandas as pd\n",
    "import matplotlib.pyplot as plt\n",
    "from time import strptime, strftime\n",
    "\n",
    "print('All packages were loaded successfully')"
   ]
  },
  {
   "cell_type": "code",
   "execution_count": null,
   "id": "25150506-2067-4841-98c4-b96491fdb449",
   "metadata": {},
   "outputs": [],
   "source": [
    "# Last thing\n",
    "val = input(\"Enter your name: \")\n",
    "print(val+\"'s computer is ready for Big Data in Finance!\")"
   ]
  },
  {
   "cell_type": "code",
   "execution_count": null,
   "id": "bef71eb6",
   "metadata": {},
   "outputs": [],
   "source": [
    "# Set WRDS Connection (enter your username)\n",
    "db = wrds.Connection(wrds_username='username_here') "
   ]
  }
 ],
 "metadata": {
  "kernelspec": {
   "display_name": "Python 3 (ipykernel)",
   "language": "python",
   "name": "python3"
  },
  "language_info": {
   "codemirror_mode": {
    "name": "ipython",
    "version": 3
   },
   "file_extension": ".py",
   "mimetype": "text/x-python",
   "name": "python",
   "nbconvert_exporter": "python",
   "pygments_lexer": "ipython3",
   "version": "3.9.13"
  }
 },
 "nbformat": 4,
 "nbformat_minor": 5
}
