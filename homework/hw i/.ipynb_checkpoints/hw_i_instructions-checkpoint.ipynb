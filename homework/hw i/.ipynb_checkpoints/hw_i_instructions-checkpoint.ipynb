{
 "cells": [
  {
   "cell_type": "markdown",
   "metadata": {},
   "source": [
    "# Big Data in Finance\n",
    "## Part IV: CRSP and Compustat\n",
    "### Homework I: Due April 6, 2022, by 11:59 pm.\n",
    "\n",
    "**Due:** Thursday, April 6, 2022, by 11:59 pm. Late submission will *not* be accepted. \n",
    "\n",
    "**Goal**: Explore the information CRSP and Compustat\n",
    "\n",
    "**Delivery**: Please, upload on canvas a .zip file with your .ipynb and .html notebook. \n"
   ]
  },
  {
   "cell_type": "markdown",
   "metadata": {},
   "source": [
    "# Description\n",
    "\n",
    "The year 2020 was remarkable for U.S. stock market investors. The S&P 500-stock index, the most widely watched gauge, finished the year up more than 16 percent. The Dow Jones industrial average and the tech-heavy Nasdaq gained 7.25 percent and 43.6 percent, respectively. The Dow and S&P 500 finished at record levels despite the public health and economic crises.\n",
    "\n",
    "Let's look at what happened with stock returns using the data downloaded from CRSP and Compustat.\n",
    "\n",
    "1. What was the cumulative average (market-cap weighted and equal-weighted) returns of CRSP stocks in 2020? Plot the cumulative monthly returns and report how much an investor would have the by the end of 2020 had she invested $1 in the CRSP stocks at the beginning of 2020. How much would the same investor have had she entered the market at the end of March, during which stock volatility was the highest? What were the 10 top performing stocks in 2020? Somethings to be aware:\n",
    "\n",
    "    a. You should only consider ordinary common stocks, i.e., shrcd equal to 10 or 11.\n",
    "    \n",
    "    b. You should only consider stocks listed in one of the three main stock exchanges, i.e., exchcd equal to 1 (NYSE), 2 (NYSE MKT) or 3 (NASDAQ).\n",
    "    \n",
    "    c. Think about what market-cap you should use when calculating your weight.\n",
    "\n",
    "\n",
    "2. How much an investor would have by the end of 2020 had he invested $1 in a TECH portfolio (market-cap weighted and equal-weighted) at the beginning of 2020? How much would the same investor have had she entered the market at the end of March? Plot the cumulative returns from the beginning of the year. What are the 10 top performing tech stocks in the year of 2020? Some things to be aware:\n",
    "\n",
    "    a. The closest definition of Tech firms according to Fama and French is Business Equipment industry, which includes Computers, Software, and Electronic Equipment. These are firms with SIC codes in the following ranges:\n",
    "          3570-3579\n",
    "          3660-3692\n",
    "          3694-3699\n",
    "          3810-3829\n",
    "          7370-7379\n",
    "\n",
    "\n",
    "3. How much an investor would have by the end of 2020 had he invested instead in a portfolio (market-cap weighted and equal-weighted) of stocks of the 10 most profitable companies at the beginning of 2020? Use operating profitability normalized by book-equity (OPBE) from the lecture notes as a measure of profitability. How much would the same investor have had she entered the market at the end of March? Plot the cumulative returns from the beginning of the year. What are the 10 most profitable companies in the year of 2020? Some things to be aware:\n",
    "\n",
    "    a. Publicly-listed companies must report their financials within 91 days after the end of the fiscal period. Most companies report on the deadline. Consider this when merging financial results to stock performance.\n",
    "\n",
    "\n",
    "4. Compare your results from (2) and (3). Which portfolio performed better? Do the results make sense?"
   ]
  },
  {
   "cell_type": "markdown",
   "metadata": {},
   "source": [
    "# Code \n",
    "\n",
    "## Packages\n",
    "\n",
    "Below you have some code that should help you to get started. Make sure you have installed all required packages. Use \"conda install\"  or \"pip install\" if you you are missing any of the packages."
   ]
  },
  {
   "cell_type": "code",
   "execution_count": null,
   "metadata": {
    "pycharm": {
     "is_executing": false
    }
   },
   "outputs": [],
   "source": [
    "# Packages\n",
    "%matplotlib inline\n",
    "import matplotlib.pyplot as plt\n",
    "import numpy as np\n",
    "import pandas as pd\n",
    "import wrds\n",
    "from datetime import datetime, timedelta\n",
    "\n",
    "# Setups\n",
    "pd.set_option(\"display.max_rows\", None)"
   ]
  },
  {
   "cell_type": "markdown",
   "metadata": {},
   "source": [
    "##   WRDS Connection\n",
    "\n",
    "Make sure you can connect to WRDS server. You should configure wrds connector before hand. Please check the syllabus for details.\n"
   ]
  },
  {
   "cell_type": "code",
   "execution_count": null,
   "metadata": {
    "pycharm": {
     "is_executing": false
    }
   },
   "outputs": [],
   "source": [
    "# Set Up WRDS connection\n",
    "db = wrds.Connection(wrds_username='khardnett') # make sure to change the username. "
   ]
  },
  {
   "cell_type": "markdown",
   "metadata": {},
   "source": [
    "## Determine the libraries available at WRDS"
   ]
  },
  {
   "cell_type": "code",
   "execution_count": null,
   "metadata": {
    "pycharm": {
     "is_executing": false
    }
   },
   "outputs": [],
   "source": [
    "# List all libraries in WRDS\n",
    "libs = db.list_libraries()\n",
    "libs.__class__ # Notice that libs is a list. \n",
    "pd.DataFrame({'libraries':libs}).sort_values('libraries') # Transform libs to a Pandas data frame to have a better display."
   ]
  },
  {
   "cell_type": "markdown",
   "metadata": {},
   "source": [
    " ## Determine the datasets within a given library"
   ]
  },
  {
   "cell_type": "code",
   "execution_count": null,
   "metadata": {},
   "outputs": [],
   "source": [
    "compd_tables = db.list_tables(library=\"comp\") # compd: Compustat daily update\n",
    "pd.DataFrame({'tables':compd_tables}) # Transform libs to a Pandas data frame to have a better display."
   ]
  },
  {
   "cell_type": "markdown",
   "metadata": {},
   "source": [
    " ## Determine the column headers (variables) within a given dataset"
   ]
  },
  {
   "cell_type": "code",
   "execution_count": null,
   "metadata": {},
   "outputs": [],
   "source": [
    "db.describe_table(library=\"comp\", table=\"funda\")"
   ]
  },
  {
   "cell_type": "markdown",
   "metadata": {},
   "source": [
    "## Example of submitting a SQL query to import data"
   ]
  },
  {
   "cell_type": "code",
   "execution_count": null,
   "metadata": {},
   "outputs": [],
   "source": [
    "comp = db.raw_sql('SELECT datadate, fyear, gvkey, conm, at, ebit, che FROM compm.funda LIMIT 10;', date_cols=['datadate'])\n",
    "comp"
   ]
  }
 ],
 "metadata": {
  "kernelspec": {
   "display_name": "Python 3 (ipykernel)",
   "language": "python",
   "name": "python3"
  },
  "language_info": {
   "codemirror_mode": {
    "name": "ipython",
    "version": 3
   },
   "file_extension": ".py",
   "mimetype": "text/x-python",
   "name": "python",
   "nbconvert_exporter": "python",
   "pygments_lexer": "ipython3",
   "version": "3.9.13"
  },
  "pycharm": {
   "stem_cell": {
    "cell_type": "raw",
    "metadata": {
     "collapsed": false
    },
    "source": []
   }
  },
  "toc": {
   "base_numbering": 1,
   "nav_menu": {},
   "number_sections": true,
   "sideBar": true,
   "skip_h1_title": false,
   "title_cell": "Table of Contents",
   "title_sidebar": "Contents",
   "toc_cell": false,
   "toc_position": {},
   "toc_section_display": true,
   "toc_window_display": true
  }
 },
 "nbformat": 4,
 "nbformat_minor": 2
}
